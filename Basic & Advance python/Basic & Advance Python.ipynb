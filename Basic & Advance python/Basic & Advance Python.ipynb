{
 "cells": [
  {
   "cell_type": "markdown",
   "id": "d7540af8",
   "metadata": {
    "id": "d7540af8"
   },
   "source": [
    "# Print\n"
   ]
  },
  {
   "cell_type": "code",
   "execution_count": null,
   "id": "465fde8b",
   "metadata": {
    "id": "465fde8b",
    "outputId": "f47224fa-20f2-41b7-8f10-957760c23685"
   },
   "outputs": [
    {
     "name": "stdout",
     "output_type": "stream",
     "text": [
      "Hello words\n"
     ]
    }
   ],
   "source": [
    "# python 3.9 global select jj\n",
    "print(\"Hello words\")"
   ]
  },
  {
   "cell_type": "code",
   "execution_count": 8,
   "id": "8cb00fc0",
   "metadata": {
    "id": "8cb00fc0",
    "outputId": "80d176a9-2731-4318-ce37-e9bbf12c09ef"
   },
   "outputs": [
    {
     "name": "stdout",
     "output_type": "stream",
     "text": [
      "my name is sagar 4444 899.877 True\n"
     ]
    }
   ],
   "source": [
    "print(\"my name is sagar\",4444,899.877,True)"
   ]
  },
  {
   "cell_type": "code",
   "execution_count": 9,
   "id": "4156039a",
   "metadata": {
    "id": "4156039a",
    "outputId": "f0e07dc4-74a7-477f-ab05-41fce4ba50f9"
   },
   "outputs": [
    {
     "name": "stdout",
     "output_type": "stream",
     "text": [
      "my name is sagar/4444/899.877/True\n"
     ]
    }
   ],
   "source": [
    "print(\"my name is sagar\",4444,899.877,True,sep=\"/\")"
   ]
  },
  {
   "cell_type": "code",
   "execution_count": 10,
   "id": "9fd93272",
   "metadata": {},
   "outputs": [
    {
     "name": "stdout",
     "output_type": "stream",
     "text": [
      " bharat mata ki jay?234?4554\n"
     ]
    }
   ],
   "source": [
    "print( \" bharat mata ki jay\",234,4554, sep = \"?\")\n"
   ]
  },
  {
   "cell_type": "code",
   "execution_count": 11,
   "id": "c7bcd69f",
   "metadata": {
    "id": "c7bcd69f",
    "outputId": "7785f9c7-e753-4d92-bbfe-a2d86ae0514f"
   },
   "outputs": [
    {
     "name": "stdout",
     "output_type": "stream",
     "text": [
      "my name is sagar+4444+899.877+True\n"
     ]
    }
   ],
   "source": [
    "print(\"my name is sagar\",4444,899.877,True,sep=\"+\")  #b, in connect both connect +"
   ]
  },
  {
   "cell_type": "code",
   "execution_count": 12,
   "id": "71067922",
   "metadata": {
    "id": "71067922",
    "outputId": "119d9bcd-a6fa-41cb-f312-3cd4b6042038"
   },
   "outputs": [
    {
     "name": "stdout",
     "output_type": "stream",
     "text": [
      "my name is sagar 4444 899.877 True. sachin dhoni kohali\n"
     ]
    }
   ],
   "source": [
    "print(\"my name is sagar\",4444,899.877,True, end=\". \")  # both sentence in joind end =new line add\n",
    "print(\"sachin\",\"dhoni\",\"kohali\")"
   ]
  },
  {
   "cell_type": "code",
   "execution_count": 13,
   "id": "c9b5c611",
   "metadata": {
    "id": "c9b5c611",
    "outputId": "ff7e36ee-fcac-4cc4-cfae-a38c18a6ac1b"
   },
   "outputs": [
    {
     "name": "stdout",
     "output_type": "stream",
     "text": [
      "my name is sagar 4444 899.877 True +++ sachin dhoni kohali\n"
     ]
    }
   ],
   "source": [
    "print(\"my name is sagar\", 4444,899.877,True, end=\" +++ \")  #end = new line add\n",
    "print(\"sachin\",\"dhoni\",\"kohali\")"
   ]
  },
  {
   "cell_type": "code",
   "execution_count": 14,
   "id": "Ril_OY6OxOGj",
   "metadata": {
    "colab": {
     "base_uri": "https://localhost:8080/"
    },
    "executionInfo": {
     "elapsed": 95,
     "status": "ok",
     "timestamp": 1746873889359,
     "user": {
      "displayName": "sagar abhang",
      "userId": "01023003160266096565"
     },
     "user_tz": -330
    },
    "id": "Ril_OY6OxOGj",
    "outputId": "97c0faa1-dbf2-477a-c1a5-17544bbb5278"
   },
   "outputs": [
    {
     "name": "stdout",
     "output_type": "stream",
     "text": [
      " 1 the boy is\n",
      "  playing cricket\n",
      " playing cricket\n",
      "21 the boy is\f playing cricket\n"
     ]
    }
   ],
   "source": [
    "# new line sentence satrt\n",
    "\"\"\"\n",
    "\\n\n",
    "\\r # new full sentence\n",
    "\\\\\n",
    "\\f\n",
    "\\v\n",
    "\"\"\"\n",
    "\n",
    "print(\" 1 the boy is\\n  playing cricket\")\n",
    "print(\"21 the boy is\\r playing cricket\")\n",
    "print(\"21 the boy is\\f playing cricket\")\n",
    "\n"
   ]
  },
  {
   "cell_type": "markdown",
   "id": "49d6f005",
   "metadata": {
    "id": "49d6f005"
   },
   "source": [
    "# Data Type"
   ]
  },
  {
   "cell_type": "markdown",
   "id": "e69718de",
   "metadata": {
    "id": "e69718de"
   },
   "source": [
    "# basic type = ( integer, float,complex, boolen and string)\n",
    "# container type =  ( list, tupels, set, dictionary )\n",
    "# user defined = class"
   ]
  },
  {
   "cell_type": "code",
   "execution_count": 15,
   "id": "c4c404c9",
   "metadata": {
    "id": "c4c404c9",
    "outputId": "b30c1d96-0bc0-452a-911e-4990c69fd2fe"
   },
   "outputs": [
    {
     "name": "stdout",
     "output_type": "stream",
     "text": [
      "1647634638627 326767846584375834758 35848438\n"
     ]
    }
   ],
   "source": [
    "# integer\n",
    "print(1647634638627,326767846584375834758,35848438)"
   ]
  },
  {
   "cell_type": "code",
   "execution_count": 16,
   "id": "3658b977",
   "metadata": {
    "id": "3658b977",
    "outputId": "818671d1-252a-4ad3-8bd8-5a839d339e31"
   },
   "outputs": [
    {
     "name": "stdout",
     "output_type": "stream",
     "text": [
      "3232.232 1.0 0.23232\n"
     ]
    }
   ],
   "source": [
    "#float\n",
    "print(3232.232,  1.000, 0.23232)"
   ]
  },
  {
   "cell_type": "code",
   "execution_count": 17,
   "id": "480903ee",
   "metadata": {
    "id": "480903ee",
    "outputId": "b768f1f4-18a4-488f-b1eb-835a8481efec"
   },
   "outputs": [
    {
     "name": "stdout",
     "output_type": "stream",
     "text": [
      "(5+5j)\n"
     ]
    }
   ],
   "source": [
    "# complex\n",
    "print(5+5j)"
   ]
  },
  {
   "cell_type": "code",
   "execution_count": 18,
   "id": "e50a3ba0",
   "metadata": {
    "id": "e50a3ba0",
    "outputId": "4fdee3ad-0a2f-4647-af40-e6d4cc641264"
   },
   "outputs": [
    {
     "name": "stdout",
     "output_type": "stream",
     "text": [
      "True\n",
      "False\n"
     ]
    }
   ],
   "source": [
    "# boolen\n",
    "print(True)\n",
    "print(False)"
   ]
  },
  {
   "cell_type": "code",
   "execution_count": 19,
   "id": "u7ot6Pzsz17U",
   "metadata": {
    "colab": {
     "base_uri": "https://localhost:8080/"
    },
    "executionInfo": {
     "elapsed": 130,
     "status": "ok",
     "timestamp": 1746874247811,
     "user": {
      "displayName": "sagar abhang",
      "userId": "01023003160266096565"
     },
     "user_tz": -330
    },
    "id": "u7ot6Pzsz17U",
    "outputId": "07901919-5268-45e0-8f65-4335d613f4b5"
   },
   "outputs": [
    {
     "name": "stdout",
     "output_type": "stream",
     "text": [
      "ram  \n",
      "ram  \n",
      "ram  \n",
      "ram  \n",
      "\n",
      "<class 'str'>\n"
     ]
    }
   ],
   "source": [
    "var = \"ram  \\n\"\n",
    "print(var * 4)\n",
    "print(type(var))"
   ]
  },
  {
   "cell_type": "code",
   "execution_count": 21,
   "id": "e9317ff7",
   "metadata": {
    "id": "e9317ff7",
    "outputId": "8b716c72-39c0-4231-b895-6f436acb2609"
   },
   "outputs": [
    {
     "name": "stdout",
     "output_type": "stream",
     "text": [
      "nashik\n",
      "pune   4343543#45454.76868#4+2j#True\n"
     ]
    }
   ],
   "source": [
    "# string\n",
    "print(\"nashik\")\n",
    "print('pune', end=\"   \")  # both sentence in connect . space\n",
    "print(\"4343543\",\"45454.76868\",\"4+2j\",\"True\", sep = \"#\")"
   ]
  },
  {
   "cell_type": "code",
   "execution_count": 25,
   "id": "e97e19c7",
   "metadata": {
    "id": "e97e19c7",
    "outputId": "2c922966-adbd-44c4-9c65-074b6de4d1ac"
   },
   "outputs": [
    {
     "data": {
      "text/plain": [
       "[11, 22, 33, 44, 5.999, 'India']"
      ]
     },
     "execution_count": 25,
     "metadata": {},
     "output_type": "execute_result"
    }
   ],
   "source": [
    "# list [] means array\n",
    "[11,22,33,44,5.999,\"India\"]"
   ]
  },
  {
   "cell_type": "code",
   "execution_count": null,
   "id": "524389ba",
   "metadata": {
    "id": "524389ba",
    "outputId": "befaa75c-67a2-46e3-d38f-a56fd25d139a"
   },
   "outputs": [
    {
     "data": {
      "text/plain": [
       "(22, 45, 666, 32.1111, 'jay shree ram')"
      ]
     },
     "execution_count": 25,
     "metadata": {},
     "output_type": "execute_result"
    }
   ],
   "source": [
    "# tupels\n",
    "(22,45,666,32.1111,\"jay shree ram\")"
   ]
  },
  {
   "cell_type": "code",
   "execution_count": null,
   "id": "e4408f90",
   "metadata": {
    "id": "e4408f90",
    "outputId": "ae618218-f363-4ff4-f039-f3e86c180bb3"
   },
   "outputs": [
    {
     "data": {
      "text/plain": [
       "{22, 989, 'mahabharat', 'ramayan'}"
      ]
     },
     "execution_count": 22,
     "metadata": {},
     "output_type": "execute_result"
    }
   ],
   "source": [
    "# set\n",
    "{22,989,\"mahabharat\", \"ramayan\"}"
   ]
  },
  {
   "cell_type": "code",
   "execution_count": null,
   "id": "6cd847c4",
   "metadata": {
    "id": "6cd847c4",
    "outputId": "08fad6d6-362b-4431-f6c4-d0c9d5175e76"
   },
   "outputs": [
    {
     "data": {
      "text/plain": [
       "{'sachin': 10, 'kohali': 18, 'rohit': 45, 'dhoni': 7, 'gender': 'male'}"
      ]
     },
     "execution_count": 28,
     "metadata": {},
     "output_type": "execute_result"
    }
   ],
   "source": [
    "# dictionary\n",
    "{\"sachin\":10, \"kohali\":18, \"rohit\":45, \"dhoni\":7, \"gender\":\"male\"}"
   ]
  },
  {
   "cell_type": "markdown",
   "id": "2e898545",
   "metadata": {
    "id": "2e898545"
   },
   "source": [
    "# comments"
   ]
  },
  {
   "cell_type": "code",
   "execution_count": null,
   "id": "ae842938",
   "metadata": {
    "id": "ae842938"
   },
   "outputs": [],
   "source": [
    "# comments\n",
    "# basic code"
   ]
  },
  {
   "cell_type": "markdown",
   "id": "eb4474bb",
   "metadata": {
    "id": "eb4474bb"
   },
   "source": [
    "# Varibles"
   ]
  },
  {
   "cell_type": "code",
   "execution_count": null,
   "id": "9cd9f9cd",
   "metadata": {
    "id": "9cd9f9cd"
   },
   "outputs": [],
   "source": [
    "# varibles mean temprary store data\n",
    "# container fucture use\n",
    "# no vaible decilaration same feactures use PHP\n",
    "# not data type denoted means dynamic type but other language in data type denoted means static type\n",
    "# one varible multiple data type store means dynamic binding"
   ]
  },
  {
   "cell_type": "code",
   "execution_count": null,
   "id": "5679cf3c",
   "metadata": {
    "id": "5679cf3c",
    "outputId": "aa56ef7f-1c26-4dfa-b547-b86a71603063"
   },
   "outputs": [
    {
     "name": "stdout",
     "output_type": "stream",
     "text": [
      "('sachin', 'dhoni', 'kohali', 'rohit', 234, 23.009, (55-55j))\n"
     ]
    }
   ],
   "source": [
    "names = \"sachin\",\"dhoni\", \"kohali\", \"rohit\",234,23.009,55-55j\n",
    "print(names)"
   ]
  },
  {
   "cell_type": "code",
   "execution_count": null,
   "id": "3e57a38c",
   "metadata": {
    "id": "3e57a38c",
    "outputId": "4d0062b4-33f5-4c3a-9ff3-a66a0f373024"
   },
   "outputs": [
    {
     "name": "stdout",
     "output_type": "stream",
     "text": [
      "Orange\n",
      "Banana\n",
      "Cherry\n"
     ]
    }
   ],
   "source": [
    "x, y, z = \"Orange\", \"Banana\", \"Cherry\"\n",
    "print(x)\n",
    "print(y)\n",
    "print(z)"
   ]
  },
  {
   "cell_type": "code",
   "execution_count": null,
   "id": "999fe04a",
   "metadata": {
    "id": "999fe04a",
    "outputId": "6e289fc3-3b72-4384-8c53-bbb4ae6051ec"
   },
   "outputs": [
    {
     "name": "stdout",
     "output_type": "stream",
     "text": [
      "apple\n",
      "banana\n",
      "cherry\n"
     ]
    }
   ],
   "source": [
    "fruits = [\"apple\", \"banana\", \"cherry\"]\n",
    "x, y, z = fruits\n",
    "print(x)\n",
    "print(y)\n",
    "print(z)"
   ]
  },
  {
   "cell_type": "code",
   "execution_count": 25,
   "id": "8b911ac8",
   "metadata": {},
   "outputs": [
    {
     "name": "stdout",
     "output_type": "stream",
     "text": [
      "sagar\n",
      "abhang\n"
     ]
    }
   ],
   "source": [
    "name = \"sagar\", \"abhang\"\n",
    "a,b  = name \n",
    "print(a)\n",
    "print(b)"
   ]
  },
  {
   "cell_type": "code",
   "execution_count": null,
   "id": "116be9e9",
   "metadata": {
    "id": "116be9e9",
    "outputId": "35f626b9-6db2-484b-f112-a347bcb71111"
   },
   "outputs": [
    {
     "name": "stdout",
     "output_type": "stream",
     "text": [
      "Orange\n",
      "Orange\n",
      "Orange\n"
     ]
    }
   ],
   "source": [
    "x = y = z = \"Orange\"\n",
    "print(x)\n",
    "print(y)\n",
    "print(z)"
   ]
  },
  {
   "cell_type": "code",
   "execution_count": null,
   "id": "63ab49d5",
   "metadata": {
    "id": "63ab49d5",
    "outputId": "d2a436b2-332f-428c-b676-22e9f6eeaaeb"
   },
   "outputs": [
    {
     "name": "stdout",
     "output_type": "stream",
     "text": [
      "Python is awesome\n"
     ]
    }
   ],
   "source": [
    "x = \"Python\"\n",
    "y = \"is\"\n",
    "z = \"awesome\"\n",
    "print(x, y, z)"
   ]
  },
  {
   "cell_type": "code",
   "execution_count": null,
   "id": "84e4294b",
   "metadata": {
    "id": "84e4294b",
    "outputId": "81e6b9f0-3939-439b-c501-7cb86808bfef"
   },
   "outputs": [
    {
     "name": "stdout",
     "output_type": "stream",
     "text": [
      "Python is awesome\n"
     ]
    }
   ],
   "source": [
    "x = \"Python \"\n",
    "y = \"is \"\n",
    "z = \"awesome\"\n",
    "print(x + y + z)  # concadination"
   ]
  },
  {
   "cell_type": "code",
   "execution_count": null,
   "id": "bebf56d7",
   "metadata": {
    "id": "bebf56d7",
    "outputId": "8ec79f83-b4d3-47fe-8460-da262c292539"
   },
   "outputs": [
    {
     "name": "stdout",
     "output_type": "stream",
     "text": [
      "15\n"
     ]
    }
   ],
   "source": [
    "x = 5\n",
    "y = 10\n",
    "print(x + y)"
   ]
  },
  {
   "cell_type": "code",
   "execution_count": null,
   "id": "e5aa958c",
   "metadata": {
    "id": "e5aa958c",
    "outputId": "d44946eb-75aa-4671-e691-c427ae441bf7"
   },
   "outputs": [
    {
     "name": "stdout",
     "output_type": "stream",
     "text": [
      "Python is awesome\n"
     ]
    }
   ],
   "source": [
    "x = \"awesome\"\n",
    "\n",
    "def myfunc():\n",
    "    print(\"Python is \" + x)\n",
    "\n",
    "myfunc()"
   ]
  },
  {
   "cell_type": "code",
   "execution_count": null,
   "id": "c09bb8d9",
   "metadata": {
    "id": "c09bb8d9",
    "outputId": "2e126064-01d3-49dc-9eb3-b29af4fcc3a2"
   },
   "outputs": [
    {
     "name": "stdout",
     "output_type": "stream",
     "text": [
      "Python is fantastic\n",
      "Python is awesome\n"
     ]
    }
   ],
   "source": [
    "x = \"awesome\"\n",
    "\n",
    "def myfunc():\n",
    "    x = \"fantastic\"\n",
    "    print(\"Python is \" + x)\n",
    "\n",
    "myfunc()\n",
    "\n",
    "print(\"Python is \" + x)"
   ]
  },
  {
   "cell_type": "code",
   "execution_count": null,
   "id": "1bc854ac-b7f8-4c1f-abfd-a3a7665d6b79",
   "metadata": {
    "id": "1bc854ac-b7f8-4c1f-abfd-a3a7665d6b79",
    "outputId": "38155a03-456d-48b0-de7e-6a6acad6a674"
   },
   "outputs": [
    {
     "name": "stdout",
     "output_type": "stream",
     "text": [
      "raj is great compare pappu\n",
      "rahul is great complare ram\n"
     ]
    }
   ],
   "source": [
    "x = \"ram\"\n",
    "def cdsw():\n",
    "    x = \"pappu\"\n",
    "    print(\"raj is great compare \"   + x)\n",
    "cdsw()\n",
    "print(\"rahul is great compare \"  + x)"
   ]
  },
  {
   "cell_type": "code",
   "execution_count": null,
   "id": "7b8aadde",
   "metadata": {
    "id": "7b8aadde",
    "outputId": "fb9db8c6-c632-4468-a20e-8f5785dcb9ee"
   },
   "outputs": [
    {
     "name": "stdout",
     "output_type": "stream",
     "text": [
      "Python is fantastic\n"
     ]
    }
   ],
   "source": [
    "def myfunc():\n",
    "    global x # golab x local varible\n",
    "    x = \"fantastic\"\n",
    "\n",
    "myfunc()\n",
    "\n",
    "print(\"Python is \" + x)"
   ]
  },
  {
   "cell_type": "code",
   "execution_count": null,
   "id": "c6a1287f",
   "metadata": {
    "id": "c6a1287f",
    "outputId": "cabffb94-44c0-4bca-fa8e-e6c2627c30f8"
   },
   "outputs": [
    {
     "name": "stdout",
     "output_type": "stream",
     "text": [
      "Python is fantastic\n"
     ]
    }
   ],
   "source": [
    "x = \"awesome\"\n",
    "\n",
    "def myfunc():\n",
    "  global x\n",
    "  x = \"fantastic\"\n",
    "\n",
    "myfunc()\n",
    "\n",
    "print(\"Python is \" + x)"
   ]
  },
  {
   "cell_type": "code",
   "execution_count": null,
   "id": "67e1017f",
   "metadata": {
    "id": "67e1017f",
    "outputId": "91b8d6d6-b8d0-40d9-b594-c2afdf127863"
   },
   "outputs": [
    {
     "name": "stdout",
     "output_type": "stream",
     "text": [
      "[1, 2, 3, 'ram', 'seeta', 'laxman', 100, 95, 80]\n"
     ]
    }
   ],
   "source": [
    "# problem\n",
    "import pandas as pd\n",
    "list2= [[1,2,3],[\"ram\",\"seeta\", \"laxman\"], [100,95,80]]\n",
    "list_1 = []\n",
    "for abb in list2:\n",
    "    for char in abb:\n",
    "        list_1.append(char)\n",
    "\n",
    "print(list_1)"
   ]
  },
  {
   "cell_type": "code",
   "execution_count": 28,
   "id": "e7fddad7",
   "metadata": {},
   "outputs": [
    {
     "name": "stdout",
     "output_type": "stream",
     "text": [
      "[1, 2, 3, 'ram', 'seeta', 'laxman', 100, 95, 80]\n"
     ]
    }
   ],
   "source": [
    "\n",
    "aa = [[1,2,3],[\"ram\",\"seeta\", \"laxman\"], [100,95,80]]\n",
    "ff = []\n",
    "for i in aa:\n",
    "    for j in i:\n",
    "        ff.append (j)\n",
    "print(ff)"
   ]
  },
  {
   "cell_type": "code",
   "execution_count": null,
   "id": "nk1VuILL2vs3",
   "metadata": {
    "colab": {
     "base_uri": "https://localhost:8080/"
    },
    "executionInfo": {
     "elapsed": 8,
     "status": "ok",
     "timestamp": 1742814963246,
     "user": {
      "displayName": "sagar abhang",
      "userId": "01023003160266096565"
     },
     "user_tz": -330
    },
    "id": "nk1VuILL2vs3",
    "outputId": "6aac5edc-3216-4dbf-f5c3-6c2b4ed357be"
   },
   "outputs": [
    {
     "name": "stdout",
     "output_type": "stream",
     "text": [
      "[1, 2, 3, 'ram', 'seeta', 'laxman', 100, 95, 80]\n"
     ]
    }
   ],
   "source": [
    "import pandas as pd\n",
    "list1 = [[1,2,3],[\"ram\",\"seeta\", \"laxman\"], [100,95,80]]\n",
    "list2 = []\n",
    "\n",
    "for i in list1:\n",
    "  for j in i:\n",
    "    list2.append(j)\n",
    "print(list2)\n"
   ]
  },
  {
   "cell_type": "code",
   "execution_count": null,
   "id": "b9b341e4-1ba7-4583-9838-1074a62984a4",
   "metadata": {
    "id": "b9b341e4-1ba7-4583-9838-1074a62984a4",
    "outputId": "b53f97c4-8d6d-45cc-b1f0-948c73701412"
   },
   "outputs": [
    {
     "name": "stdout",
     "output_type": "stream",
     "text": [
      "[1, 2, 3]\n",
      "['ram', 'seeta', 'laxman']\n",
      "[100, 95, 80]\n",
      "None\n"
     ]
    }
   ],
   "source": [
    "list2= [[1,2,3],[\"ram\",\"seeta\", \"laxman\"], [100,95,80]]\n",
    "list_1 = []\n",
    "for abb in list2:\n",
    "    print(abb)\n",
    "    list_1= abb + list_1\n",
    "l = list_1.reverse()\n",
    "print(l)"
   ]
  },
  {
   "cell_type": "code",
   "execution_count": null,
   "id": "2d182ce7-4f97-4d3e-8d29-ca665712f083",
   "metadata": {
    "id": "2d182ce7-4f97-4d3e-8d29-ca665712f083",
    "outputId": "51bce7cb-e728-4008-b995-a8d074754814"
   },
   "outputs": [
    {
     "name": "stdout",
     "output_type": "stream",
     "text": [
      "76\n"
     ]
    }
   ],
   "source": [
    "aa=[11,44,77,890,543,76,45]\n",
    "m=max(aa)\n",
    "i=1\n",
    "while i<=3:\n",
    "    i+=1\n",
    "\n",
    "    aa.remove(m)\n",
    "    m=max(aa)\n",
    "\n",
    "print(m)\n"
   ]
  },
  {
   "cell_type": "code",
   "execution_count": 34,
   "id": "b1f44197",
   "metadata": {},
   "outputs": [
    {
     "name": "stdout",
     "output_type": "stream",
     "text": [
      "[890, 543, 77, 76, 45, 44, 11]\n",
      "76\n"
     ]
    }
   ],
   "source": [
    "aa=[11,44,77,890,543,76,45]\n",
    "bb = sorted(aa, reverse=True)\n",
    "print(bb)\n",
    "print(bb[3])"
   ]
  },
  {
   "cell_type": "code",
   "execution_count": 31,
   "id": "3XZ3a-K-380a",
   "metadata": {
    "colab": {
     "base_uri": "https://localhost:8080/"
    },
    "executionInfo": {
     "elapsed": 64,
     "status": "ok",
     "timestamp": 1742815210749,
     "user": {
      "displayName": "sagar abhang",
      "userId": "01023003160266096565"
     },
     "user_tz": -330
    },
    "id": "3XZ3a-K-380a",
    "outputId": "ae2aeac7-d549-429e-d2f7-60c64789b910"
   },
   "outputs": [
    {
     "data": {
      "text/plain": [
       "890"
      ]
     },
     "execution_count": 31,
     "metadata": {},
     "output_type": "execute_result"
    }
   ],
   "source": [
    "aa=[11,44,77,890,543,76,45]\n",
    "bb = sorted(aa,reverse=True)\n",
    "bb[0]"
   ]
  },
  {
   "cell_type": "code",
   "execution_count": null,
   "id": "91f6524c-2341-409f-a557-6e9c3081bcde",
   "metadata": {
    "id": "91f6524c-2341-409f-a557-6e9c3081bcde",
    "outputId": "744ac3af-1f4b-400b-fd67-68b3dc8534c7"
   },
   "outputs": [
    {
     "data": {
      "text/plain": [
       "77"
      ]
     },
     "execution_count": 27,
     "metadata": {},
     "output_type": "execute_result"
    }
   ],
   "source": [
    "aa=[11,44,77,890,543,76,45]\n",
    "\n",
    "vv = sorted(aa, reverse=True)\n",
    "bb = vv[2]\n",
    "bb"
   ]
  },
  {
   "cell_type": "code",
   "execution_count": null,
   "id": "7b086ec3-54d1-473f-b683-940bd2debd45",
   "metadata": {
    "id": "7b086ec3-54d1-473f-b683-940bd2debd45",
    "outputId": "4dd76f03-ab6a-47b3-a7c5-a51794d665a1"
   },
   "outputs": [
    {
     "name": "stdout",
     "output_type": "stream",
     "text": [
      "[1, 2, 3, 44, 'ram', 'sham', 'my name is khan']\n"
     ]
    }
   ],
   "source": [
    "aa = [[1,2,3,44],[\"ram\",\"sham\"],[\"my name is khan\"]]\n",
    "bb = []\n",
    "for hh in aa:\n",
    "    for cc in hh:\n",
    "        bb.append(cc)\n",
    "print(bb)\n"
   ]
  },
  {
   "cell_type": "code",
   "execution_count": null,
   "id": "a31840f4",
   "metadata": {
    "id": "a31840f4",
    "outputId": "dd56af2d-d0ac-47fb-aee2-54e568f0596e"
   },
   "outputs": [
    {
     "name": "stdout",
     "output_type": "stream",
     "text": [
      "[1, 2, 3, 44, 'ram', 'sham', 'my name is khan']\n"
     ]
    }
   ],
   "source": [
    "aa = [[1,2,3,44],[\"ram\",\"sham\"],[\"my name is khan\"]]\n",
    "bb = []\n",
    "\n",
    "for i in aa:\n",
    "    for cc in i:\n",
    "        bb.append(cc)\n",
    "print(bb)"
   ]
  },
  {
   "cell_type": "code",
   "execution_count": null,
   "id": "fe4e3ac9-e337-43ec-aa95-2031aa986800",
   "metadata": {
    "colab": {
     "base_uri": "https://localhost:8080/"
    },
    "executionInfo": {
     "elapsed": 9,
     "status": "ok",
     "timestamp": 1742815936394,
     "user": {
      "displayName": "sagar abhang",
      "userId": "01023003160266096565"
     },
     "user_tz": -330
    },
    "id": "fe4e3ac9-e337-43ec-aa95-2031aa986800",
    "outputId": "d6a585e8-3a06-4238-9070-90ac2f917d50"
   },
   "outputs": [
    {
     "name": "stdout",
     "output_type": "stream",
     "text": [
      "[1, 2, 3, 44, 'ram', 'sham', 'my name is khan']\n"
     ]
    }
   ],
   "source": [
    "aa = [[1,2,3,44],[\"ram\",\"sham\"],[\"my name is khan\"]]\n",
    "bb= []\n",
    "for i in aa:\n",
    "  for j in i:\n",
    "    bb.append(j)\n",
    "print(bb)\n"
   ]
  },
  {
   "cell_type": "code",
   "execution_count": 44,
   "id": "72ad6127",
   "metadata": {},
   "outputs": [
    {
     "name": "stdout",
     "output_type": "stream",
     "text": [
      "[11, 22, 33, 66, 87, 44, 88]\n"
     ]
    }
   ],
   "source": [
    "aa = [11,22,33,33,66,66,87,87,44,88]\n",
    "bb = []\n",
    "\n",
    "for i in aa:\n",
    "    if i not in bb:\n",
    "       bb.append(i)\n",
    "print(bb)      "
   ]
  },
  {
   "cell_type": "code",
   "execution_count": null,
   "id": "25ec2fb3-ce5a-4b6b-a712-78781b2c2c67",
   "metadata": {
    "colab": {
     "base_uri": "https://localhost:8080/"
    },
    "executionInfo": {
     "elapsed": 37,
     "status": "ok",
     "timestamp": 1742815974778,
     "user": {
      "displayName": "sagar abhang",
      "userId": "01023003160266096565"
     },
     "user_tz": -330
    },
    "id": "25ec2fb3-ce5a-4b6b-a712-78781b2c2c67",
    "outputId": "c2412935-ee79-4a5b-fe90-2e73a8849bd7"
   },
   "outputs": [
    {
     "data": {
      "text/plain": [
       "[33, 66, 11, 44, 22, 87, 88]"
      ]
     },
     "execution_count": 14,
     "metadata": {},
     "output_type": "execute_result"
    }
   ],
   "source": [
    "# remove dublicate\n",
    "aa = [11,22,33,33,66,66,87,87,44,88]\n",
    "cc = set(aa)\n",
    "\n",
    "vv = list(cc)\n",
    "vv"
   ]
  },
  {
   "cell_type": "code",
   "execution_count": null,
   "id": "38249b22",
   "metadata": {
    "id": "38249b22",
    "outputId": "3ce9170c-0f28-4461-c733-fa04d99f05f1"
   },
   "outputs": [
    {
     "name": "stdout",
     "output_type": "stream",
     "text": [
      " om namo hanumate, rudraavtray, vishav_rupay, amit vikrmay, prakat_parakramay, maha_balay, sury_koti_samprabhay, ram_dutay_swaha|\n"
     ]
    }
   ],
   "source": [
    "hanuman_mantra = \" om namo hanumate, rudraavtray, vishav_rupay, amit vikrmay, prakat_parakramay, maha_balay, sury_koti_samprabhay, ram_dutay_swaha|\"\n",
    "print(hanuman_mantra)"
   ]
  },
  {
   "cell_type": "code",
   "execution_count": null,
   "id": "f73cab1c",
   "metadata": {
    "id": "f73cab1c",
    "outputId": "b70b33a6-e456-4ed3-c0fd-1651a1db8dcf"
   },
   "outputs": [
    {
     "name": "stdout",
     "output_type": "stream",
     "text": [
      "100\n",
      "200\n",
      "300\n"
     ]
    }
   ],
   "source": [
    "a=100; b=200; c=300\n",
    "print(a)\n",
    "print(b)\n",
    "print(c)"
   ]
  },
  {
   "cell_type": "code",
   "execution_count": null,
   "id": "291e2d39",
   "metadata": {
    "id": "291e2d39",
    "outputId": "8a8deccd-4324-498f-9bbe-aa91caad2c6e"
   },
   "outputs": [
    {
     "name": "stdout",
     "output_type": "stream",
     "text": [
      "1000\n",
      "2000\n",
      "3000\n"
     ]
    }
   ],
   "source": [
    "a,b,c = 1000, 2000, 3000\n",
    "print(a)\n",
    "print(b)\n",
    "print(c)"
   ]
  },
  {
   "cell_type": "code",
   "execution_count": null,
   "id": "47faf2d3",
   "metadata": {
    "id": "47faf2d3",
    "outputId": "68871e59-4e3f-41ad-d555-6db9231e43ed"
   },
   "outputs": [
    {
     "name": "stdout",
     "output_type": "stream",
     "text": [
      "300\n"
     ]
    }
   ],
   "source": [
    "# first call add integer\n",
    "x =100\n",
    "y= 1.34\n",
    "y = 200\n",
    "z = x + y\n",
    "print(z)"
   ]
  },
  {
   "cell_type": "code",
   "execution_count": null,
   "id": "ac57488a",
   "metadata": {
    "id": "ac57488a",
    "outputId": "371ec5e4-0eb7-4f10-908e-b4c614299ee0"
   },
   "outputs": [
    {
     "name": "stdout",
     "output_type": "stream",
     "text": [
      "2000 1000 3000\n"
     ]
    }
   ],
   "source": [
    "a,b,c = 1000, 2000, 3000\n",
    "print(b,a,c)\n"
   ]
  },
  {
   "cell_type": "markdown",
   "id": "AO0dghDk3U3b",
   "metadata": {
    "id": "AO0dghDk3U3b"
   },
   "source": []
  },
  {
   "cell_type": "markdown",
   "id": "WNy0U1rI28Fg",
   "metadata": {
    "id": "WNy0U1rI28Fg"
   },
   "source": [
    "String\n",
    "\n",
    "\n",
    "# **String**"
   ]
  },
  {
   "cell_type": "code",
   "execution_count": null,
   "id": "828beade",
   "metadata": {
    "colab": {
     "base_uri": "https://localhost:8080/"
    },
    "executionInfo": {
     "elapsed": 23,
     "status": "ok",
     "timestamp": 1742816507704,
     "user": {
      "displayName": "sagar abhang",
      "userId": "01023003160266096565"
     },
     "user_tz": -330
    },
    "id": "828beade",
    "outputId": "97d34969-8251-4f21-b7b5-95a603ae571c"
   },
   "outputs": [
    {
     "name": "stdout",
     "output_type": "stream",
     "text": [
      "['programming', 'keywords', 'is', 'a', 'word', 'that', 'is', 'revserved', 'by', 'a', 'program', 'because', 'the', 'word', 'has', 'a', 'special', 'mean']\n"
     ]
    }
   ],
   "source": [
    "# strin in min less character word\n",
    "string = \"programming keywords is a word that is revserved by a program because the word has a special mean\"\n",
    "str = string.split(\" \")  # each word convert in string.\n",
    "print(str)"
   ]
  },
  {
   "cell_type": "code",
   "execution_count": 13,
   "id": "bOxTfGT84aJD",
   "metadata": {
    "colab": {
     "base_uri": "https://localhost:8080/"
    },
    "executionInfo": {
     "elapsed": 55,
     "status": "ok",
     "timestamp": 1746875373519,
     "user": {
      "displayName": "sagar abhang",
      "userId": "01023003160266096565"
     },
     "user_tz": -330
    },
    "id": "bOxTfGT84aJD",
    "outputId": "be0cb3a3-39c4-470b-bd98-223395966d74"
   },
   "outputs": [
    {
     "name": "stdout",
     "output_type": "stream",
     "text": [
      "e\n",
      "sagar\n"
     ]
    }
   ],
   "source": [
    "str = \"my name is sagar\"\n",
    "print(str[6])\n",
    "print(str[11:16])"
   ]
  },
  {
   "cell_type": "code",
   "execution_count": null,
   "id": "be694e6f",
   "metadata": {
    "colab": {
     "base_uri": "https://localhost:8080/"
    },
    "executionInfo": {
     "elapsed": 7,
     "status": "ok",
     "timestamp": 1742816508851,
     "user": {
      "displayName": "sagar abhang",
      "userId": "01023003160266096565"
     },
     "user_tz": -330
    },
    "id": "be694e6f",
    "outputId": "09517a11-d618-4713-f1a0-32cb6dc67489"
   },
   "outputs": [
    {
     "name": "stdout",
     "output_type": "stream",
     "text": [
      "is\n",
      "a\n",
      "word\n",
      "that\n",
      "is\n",
      "by\n",
      "a\n",
      "the\n",
      "word\n",
      "has\n",
      "a\n",
      "mean\n"
     ]
    }
   ],
   "source": [
    "for i in range(len(str)):  #range(start, stop, step)\n",
    "    if len(str[i]) <=5:\n",
    "        print(str[i])"
   ]
  },
  {
   "cell_type": "code",
   "execution_count": null,
   "id": "o_V5dKw38D6f",
   "metadata": {
    "colab": {
     "base_uri": "https://localhost:8080/"
    },
    "executionInfo": {
     "elapsed": 69,
     "status": "ok",
     "timestamp": 1742816535706,
     "user": {
      "displayName": "sagar abhang",
      "userId": "01023003160266096565"
     },
     "user_tz": -330
    },
    "id": "o_V5dKw38D6f",
    "outputId": "f8eb8b0e-6653-4b87-e881-5bf71d011560"
   },
   "outputs": [
    {
     "name": "stdout",
     "output_type": "stream",
     "text": [
      "is\n",
      "a\n",
      "word\n",
      "that\n",
      "is\n",
      "by\n",
      "a\n",
      "the\n",
      "word\n",
      "has\n",
      "a\n",
      "mean\n"
     ]
    }
   ],
   "source": [
    "for i in range (len(str)):\n",
    "   if len(str[i]) <=5:\n",
    "    print(str[i])\n",
    "\n"
   ]
  },
  {
   "cell_type": "code",
   "execution_count": null,
   "id": "22e950b3",
   "metadata": {
    "colab": {
     "base_uri": "https://localhost:8080/"
    },
    "executionInfo": {
     "elapsed": 8,
     "status": "ok",
     "timestamp": 1742816571700,
     "user": {
      "displayName": "sagar abhang",
      "userId": "01023003160266096565"
     },
     "user_tz": -330
    },
    "id": "22e950b3",
    "outputId": "630a76ab-14e1-4929-bed7-7af0fc52bed9"
   },
   "outputs": [
    {
     "name": "stdout",
     "output_type": "stream",
     "text": [
      "[False, False, True, True, True, True, True, False, True, True, False, False, True, True, True, True, False, True]\n"
     ]
    }
   ],
   "source": [
    "# <=5 True othe false\n",
    "list = []\n",
    "for i in range (len(str)):\n",
    "    list.append(len(str[i]) <= 5)\n",
    "print(list)"
   ]
  },
  {
   "cell_type": "code",
   "execution_count": null,
   "id": "28gU78on7--E",
   "metadata": {
    "colab": {
     "base_uri": "https://localhost:8080/"
    },
    "executionInfo": {
     "elapsed": 40,
     "status": "ok",
     "timestamp": 1742818288260,
     "user": {
      "displayName": "sagar abhang",
      "userId": "01023003160266096565"
     },
     "user_tz": -330
    },
    "id": "28gU78on7--E",
    "outputId": "15c8f09f-81c4-4959-ca3f-6363c358d165"
   },
   "outputs": [
    {
     "name": "stdout",
     "output_type": "stream",
     "text": [
      "[False, False, True, True, True, True, True, False, True, True, False, False, True, True, True, True, False, True]\n"
     ]
    }
   ],
   "source": [
    "list = []\n",
    "for i in range (len(str)):\n",
    "  list.append (len(str[i]) <= 5)\n",
    "print(list)"
   ]
  },
  {
   "cell_type": "code",
   "execution_count": 2,
   "id": "9b84ae9a",
   "metadata": {
    "colab": {
     "base_uri": "https://localhost:8080/",
     "height": 106
    },
    "executionInfo": {
     "elapsed": 43,
     "status": "error",
     "timestamp": 1742816890096,
     "user": {
      "displayName": "sagar abhang",
      "userId": "01023003160266096565"
     },
     "user_tz": -330
    },
    "id": "9b84ae9a",
    "outputId": "f0f4f60e-347d-4f4e-9a96-eb2c230d22d8"
   },
   "outputs": [
    {
     "name": "stdout",
     "output_type": "stream",
     "text": [
      "2255\n"
     ]
    }
   ],
   "source": [
    "\n",
    "df = \"my name is khan 22,55 pune bikkad msi\"\n",
    "\n",
    "integer_values = \"\"\n",
    "for char in df:\n",
    "    if char.isdigit():\n",
    "        integer_values += char\n",
    "\n",
    "print(\" \".join([integer_values]))\n"
   ]
  },
  {
   "cell_type": "code",
   "execution_count": null,
   "id": "Z7XmjEdX_Xlw",
   "metadata": {
    "colab": {
     "base_uri": "https://localhost:8080/"
    },
    "executionInfo": {
     "elapsed": 65,
     "status": "ok",
     "timestamp": 1742817289170,
     "user": {
      "displayName": "sagar abhang",
      "userId": "01023003160266096565"
     },
     "user_tz": -330
    },
    "id": "Z7XmjEdX_Xlw",
    "outputId": "06e65b39-bcf8-424c-bb2a-2f194a03cc68"
   },
   "outputs": [
    {
     "name": "stdout",
     "output_type": "stream",
     "text": [
      "22 55\n"
     ]
    }
   ],
   "source": [
    "\n",
    "import re\n",
    "\n",
    "df = \"my name is khan 22,55 pune bikkad msi\"\n",
    "numbers = re.findall(r'\\d+', df)  # Extracts full numbers\n",
    "print(\" \".join(numbers))\n"
   ]
  },
  {
   "cell_type": "code",
   "execution_count": null,
   "id": "SX2MhKPo_2Vo",
   "metadata": {
    "colab": {
     "base_uri": "https://localhost:8080/"
    },
    "executionInfo": {
     "elapsed": 9,
     "status": "ok",
     "timestamp": 1742817165511,
     "user": {
      "displayName": "sagar abhang",
      "userId": "01023003160266096565"
     },
     "user_tz": -330
    },
    "id": "SX2MhKPo_2Vo",
    "outputId": "e23d6158-6c67-49ae-e1f9-a12c6c1a1f7a"
   },
   "outputs": [
    {
     "name": "stdout",
     "output_type": "stream",
     "text": [
      "22 55\n"
     ]
    }
   ],
   "source": [
    "df = \"my name is khan 22,55 pune bikkad msi\"\n",
    "\n",
    "values = \"\"\n",
    "result = []\n",
    "\n",
    "for char in df:\n",
    "    if char.isdigit():\n",
    "        values += char\n",
    "    else:\n",
    "        if values:\n",
    "            result.append(values)\n",
    "            values = \"\"\n",
    "\n",
    "if values:\n",
    "    result.append(values)  # Append the last collected number if any\n",
    "\n",
    "print(\" \".join(result))\n"
   ]
  },
  {
   "cell_type": "markdown",
   "id": "5ea98e62",
   "metadata": {
    "id": "5ea98e62"
   },
   "source": [
    "# identifiers & keywords"
   ]
  },
  {
   "cell_type": "markdown",
   "id": "0467fd41",
   "metadata": {
    "id": "0467fd41"
   },
   "source": [
    "# keywords =  use lower case upper case not use interchangebly.\n",
    "# identifiers = a python identifier is aname used  to identify a varible,                        function,class,module or other object.\n",
    "# python is sensitive programming language"
   ]
  },
  {
   "cell_type": "code",
   "execution_count": null,
   "id": "ab5cd5b4",
   "metadata": {
    "id": "ab5cd5b4"
   },
   "outputs": [],
   "source": [
    "# programming keywords is a word that is revserved by a program because the word has a special meaning , keywords can be\n",
    "# commonds or parameters. every programming language has a set of keywords that cannot  be used as varible names."
   ]
  },
  {
   "cell_type": "code",
   "execution_count": null,
   "id": "57b6ee46",
   "metadata": {
    "id": "57b6ee46",
    "outputId": "d1090542-0ee4-41ab-f831-cd08b7cabe59"
   },
   "outputs": [
    {
     "name": "stdout",
     "output_type": "stream",
     "text": [
      "['False', 'None', 'True', 'and', 'as', 'assert', 'async', 'await', 'break', 'class', 'continue', 'def', 'del', 'elif', 'else', 'except', 'finally', 'for', 'from', 'global', 'if', 'import', 'in', 'is', 'lambda', 'nonlocal', 'not', 'or', 'pass', 'raise', 'return', 'try', 'while', 'with', 'yield']\n"
     ]
    }
   ],
   "source": [
    "# python has 33 keywords\n",
    "import keyword\n",
    "print(keyword.kwlist)"
   ]
  },
  {
   "cell_type": "code",
   "execution_count": null,
   "id": "e6b0badb",
   "metadata": {
    "id": "e6b0badb"
   },
   "outputs": [],
   "source": [
    "# identifierrs\n",
    "# rules and setting identifiers\n",
    "# can only  start with an alphabet or\n",
    "# followed by 0 or more better_and digits\n",
    "# keywords cannot  be used  as an identifier"
   ]
  },
  {
   "cell_type": "code",
   "execution_count": null,
   "id": "5a45752f",
   "metadata": {
    "id": "5a45752f",
    "outputId": "93d54a4f-4a9f-4b9f-d8c4-069328773a8e"
   },
   "outputs": [
    {
     "name": "stdout",
     "output_type": "stream",
     "text": [
      "raj\n"
     ]
    }
   ],
   "source": [
    "__= \"raj\"\n",
    "print(__)"
   ]
  },
  {
   "cell_type": "markdown",
   "id": "1977dece",
   "metadata": {
    "id": "1977dece"
   },
   "source": [
    "# input function\n",
    "# taking user_input & type conversion"
   ]
  },
  {
   "cell_type": "code",
   "execution_count": null,
   "id": "a1e326f6",
   "metadata": {
    "id": "a1e326f6",
    "outputId": "81b8f1fd-7c24-4487-ce5c-fa7b0f0c50ad"
   },
   "outputs": [
    {
     "name": "stdout",
     "output_type": "stream",
     "text": [
      "67\n"
     ]
    },
    {
     "data": {
      "text/plain": [
       "'67'"
      ]
     },
     "execution_count": 1,
     "metadata": {},
     "output_type": "execute_result"
    }
   ],
   "source": [
    "#  direct input is inistionally string input type\n",
    "input()"
   ]
  },
  {
   "cell_type": "code",
   "execution_count": null,
   "id": "6ecf85ef",
   "metadata": {
    "id": "6ecf85ef",
    "outputId": "bce0e93d-17cb-41fb-ec12-567a3ba51442"
   },
   "outputs": [
    {
     "name": "stdout",
     "output_type": "stream",
     "text": [
      "enter the character  = sagar abhang\n"
     ]
    }
   ],
   "source": [
    "aa = input(\"enter the character  = \")"
   ]
  },
  {
   "cell_type": "code",
   "execution_count": null,
   "id": "01577fe6",
   "metadata": {
    "id": "01577fe6",
    "outputId": "5583f8a8-5f8f-4771-d2fc-d69b944a1fe7"
   },
   "outputs": [
    {
     "data": {
      "text/plain": [
       "str"
      ]
     },
     "execution_count": 22,
     "metadata": {},
     "output_type": "execute_result"
    }
   ],
   "source": [
    "type(aa)"
   ]
  },
  {
   "cell_type": "code",
   "execution_count": null,
   "id": "8e8d8087",
   "metadata": {
    "id": "8e8d8087",
    "outputId": "912d24ee-fc65-4ec4-88b2-f4d1dd53123a"
   },
   "outputs": [
    {
     "name": "stdout",
     "output_type": "stream",
     "text": [
      "enter the number33.43543543\n"
     ]
    }
   ],
   "source": [
    "bb = float(input(\"enter the number\"))"
   ]
  },
  {
   "cell_type": "code",
   "execution_count": null,
   "id": "c742a92c",
   "metadata": {
    "id": "c742a92c",
    "outputId": "dd1f4516-e53e-40a6-a203-25ec2a83384b"
   },
   "outputs": [
    {
     "data": {
      "text/plain": [
       "float"
      ]
     },
     "execution_count": 24,
     "metadata": {},
     "output_type": "execute_result"
    }
   ],
   "source": [
    "type(bb)"
   ]
  },
  {
   "cell_type": "code",
   "execution_count": null,
   "id": "1a2a3d0e",
   "metadata": {
    "id": "1a2a3d0e",
    "outputId": "66889fbf-cd5c-403e-bef8-0f63bf171b89"
   },
   "outputs": [
    {
     "name": "stdout",
     "output_type": "stream",
     "text": [
      " text first name   sagar\n"
     ]
    },
    {
     "data": {
      "text/plain": [
       "'sagar'"
      ]
     },
     "execution_count": 3,
     "metadata": {},
     "output_type": "execute_result"
    }
   ],
   "source": [
    "input(prompt=\" text first name   \")"
   ]
  },
  {
   "cell_type": "code",
   "execution_count": null,
   "id": "839d9107",
   "metadata": {
    "id": "839d9107",
    "outputId": "fe55b6f9-6db9-4cd3-a1f9-855ceef56088"
   },
   "outputs": [
    {
     "name": "stdout",
     "output_type": "stream",
     "text": [
      "enter the radius4\n",
      "50.24\n"
     ]
    }
   ],
   "source": [
    "radius = float(input(\"enter the radius\"))\n",
    "circule = 3.14*radius*radius\n",
    "print(circule)"
   ]
  },
  {
   "cell_type": "code",
   "execution_count": null,
   "id": "8a0c2264",
   "metadata": {
    "id": "8a0c2264",
    "outputId": "bb509ea7-4466-4712-8af7-5340aee4a5b8"
   },
   "outputs": [
    {
     "name": "stdout",
     "output_type": "stream",
     "text": [
      "enter number  797\n",
      "enter number  4545\n"
     ]
    },
    {
     "name": "stdout",
     "output_type": "stream",
     "text": [
      "797 +++ 4545\n"
     ]
    }
   ],
   "source": [
    "# enter sep chracter output show time\n",
    "x =input(\"enter number \")\n",
    "y =input(\"enter number \")\n",
    "\n",
    "z = x+y\n",
    "print(x,y,sep=\" +++ \")"
   ]
  },
  {
   "cell_type": "code",
   "execution_count": null,
   "id": "25705b4d",
   "metadata": {
    "colab": {
     "base_uri": "https://localhost:8080/"
    },
    "executionInfo": {
     "elapsed": 5187,
     "status": "ok",
     "timestamp": 1742817645645,
     "user": {
      "displayName": "sagar abhang",
      "userId": "01023003160266096565"
     },
     "user_tz": -330
    },
    "id": "25705b4d",
    "outputId": "02a6e6fb-6967-467a-a99c-5b3f10a7fa47"
   },
   "outputs": [
    {
     "name": "stdout",
     "output_type": "stream",
     "text": [
      "enter number11\n",
      "enter number22\n",
      "  1122\n",
      "11right22\n"
     ]
    }
   ],
   "source": [
    "x =input(\"enter number\")\n",
    "y =input(\"enter number\")\n",
    "\n",
    "print(end= \"  \")# increese distsnce both in character  end = \\n new line start\n",
    "z = x+y\n",
    "print(z)\n",
    "print(x,y,sep=\"right\")"
   ]
  },
  {
   "cell_type": "code",
   "execution_count": null,
   "id": "8e2ae86f",
   "metadata": {
    "id": "8e2ae86f",
    "outputId": "975c2bec-7ab6-4644-cdff-f3ec7e33492f"
   },
   "outputs": [
    {
     "name": "stdout",
     "output_type": "stream",
     "text": [
      "enter the first number = 343\n",
      "enter the second number = 434\n"
     ]
    }
   ],
   "source": [
    "# input databse type user taking data\n",
    "first_number = int(input(\"enter the first number = \"))\n",
    "second_number = float(input(\"enter the second number = \"))"
   ]
  },
  {
   "cell_type": "code",
   "execution_count": null,
   "id": "c8c2f11d",
   "metadata": {
    "id": "c8c2f11d",
    "outputId": "b1ae8358-ae01-4730-b986-dbf235c7c304"
   },
   "outputs": [
    {
     "name": "stdout",
     "output_type": "stream",
     "text": [
      "343\n",
      "434.0\n"
     ]
    }
   ],
   "source": [
    "print(first_number)\n",
    "print(second_number)"
   ]
  },
  {
   "cell_type": "code",
   "execution_count": null,
   "id": "c8adb313",
   "metadata": {
    "id": "c8adb313",
    "outputId": "30092e4c-c3b4-413b-b9d9-bb8b8ff2931d"
   },
   "outputs": [
    {
     "data": {
      "text/plain": [
       "777.0"
      ]
     },
     "execution_count": 29,
     "metadata": {},
     "output_type": "execute_result"
    }
   ],
   "source": [
    "sum = first_number + second_number\n",
    "sum"
   ]
  },
  {
   "cell_type": "code",
   "execution_count": null,
   "id": "def5b1ab",
   "metadata": {
    "id": "def5b1ab",
    "outputId": "020f68ce-1105-40e8-9844-5054b89aee69"
   },
   "outputs": [
    {
     "data": {
      "text/plain": [
       "list"
      ]
     },
     "execution_count": 30,
     "metadata": {},
     "output_type": "execute_result"
    }
   ],
   "source": [
    "# check the type\n",
    "type([22,55,\"bala\"])"
   ]
  },
  {
   "cell_type": "code",
   "execution_count": null,
   "id": "1e8a8c7c",
   "metadata": {
    "id": "1e8a8c7c",
    "outputId": "e00ccbab-5aac-4395-a824-c85dad179894"
   },
   "outputs": [
    {
     "data": {
      "text/plain": [
       "float"
      ]
     },
     "execution_count": 25,
     "metadata": {},
     "output_type": "execute_result"
    }
   ],
   "source": [
    "type(sum)"
   ]
  },
  {
   "cell_type": "code",
   "execution_count": null,
   "id": "683c5ec0",
   "metadata": {
    "id": "683c5ec0",
    "outputId": "470aac3b-0e70-4ff6-f166-0b4972a3c6b2"
   },
   "outputs": [
    {
     "data": {
      "text/plain": [
       "(['s', 'a', 'g', 'a', 'r'], 33.0)"
      ]
     },
     "execution_count": 36,
     "metadata": {},
     "output_type": "execute_result"
    }
   ],
   "source": [
    "# convert database type\n",
    "a = list(\"sagar\")\n",
    "b = float(33)\n",
    "a,b"
   ]
  },
  {
   "cell_type": "code",
   "execution_count": null,
   "id": "0f68d72b",
   "metadata": {
    "id": "0f68d72b",
    "outputId": "1063dbaa-7036-4697-bf69-346ff2d8effe"
   },
   "outputs": [
    {
     "name": "stdout",
     "output_type": "stream",
     "text": [
      "enter the first number = 44\n",
      "enter the second number = 77\n"
     ]
    },
    {
     "data": {
      "text/plain": [
       "121.0"
      ]
     },
     "execution_count": 37,
     "metadata": {},
     "output_type": "execute_result"
    }
   ],
   "source": [
    "first_number = input(\"enter the first number = \")\n",
    "second_number = input(\"enter the second number = \")\n",
    "sum = int(first_number) + float(second_number)\n",
    "sum"
   ]
  },
  {
   "cell_type": "code",
   "execution_count": null,
   "id": "029fb897",
   "metadata": {
    "id": "029fb897",
    "outputId": "0756c002-c3d9-4f00-f0bb-5876194d4e7e"
   },
   "outputs": [
    {
     "name": "stdout",
     "output_type": "stream",
     "text": [
      "enter the first number = 2\n",
      "enter the second number = 9\n",
      "11.0\n",
      "0.2222222222222222\n",
      "18.0\n"
     ]
    }
   ],
   "source": [
    "first_number = input(\"enter the first number = \")\n",
    "second_number = input(\"enter the second number = \")\n",
    "sum = int(first_number) + float(second_number)\n",
    "div = int(first_number) / float(second_number)\n",
    "mul = int(first_number) * float(second_number)\n",
    "\n",
    "print(sum)\n",
    "print(div)\n",
    "print(mul)"
   ]
  },
  {
   "cell_type": "markdown",
   "id": "8a4b4584",
   "metadata": {
    "id": "8a4b4584"
   },
   "source": [
    "# literals"
   ]
  },
  {
   "cell_type": "code",
   "execution_count": null,
   "id": "ee607249",
   "metadata": {
    "id": "ee607249"
   },
   "outputs": [],
   "source": [
    "# literal is a raw data in python there are various type of literals they are as follows. means veriable in data.\n",
    "# numerical literals\n",
    "# string literals\n",
    "# boolen literals\n",
    "# special literals"
   ]
  },
  {
   "cell_type": "code",
   "execution_count": null,
   "id": "03bd057f",
   "metadata": {
    "id": "03bd057f",
    "outputId": "b14ebfa8-397b-4fe0-eac8-7bdaf5adf84a"
   },
   "outputs": [
    {
     "name": "stdout",
     "output_type": "stream",
     "text": [
      "10 100 200 300\n",
      "10.5 150.0 0.0015\n",
      "3.14j 3.14 0.0\n"
     ]
    }
   ],
   "source": [
    "# numerical literals\n",
    "a = 0b1010  # binary literals\n",
    "b = 100 # decimal literals\n",
    "c = 0o310 # octal literals\n",
    "d = 0x12c # hexadecimal literals\n",
    "\n",
    "# float literal\n",
    "float_1 = 10.5\n",
    "float_2 = 1.5e2\n",
    "float_3 = 1.5e-3\n",
    "\n",
    "# complex literal\n",
    "x = 3.14j\n",
    "\n",
    "print(a,b,c,d)\n",
    "print(float_1,float_2,float_3)\n",
    "print(x, x.imag, x.real)\n"
   ]
  },
  {
   "cell_type": "code",
   "execution_count": null,
   "id": "cd6e6114",
   "metadata": {
    "id": "cd6e6114",
    "outputId": "dc9fca5f-5fde-48c1-b5f3-7c4dc9ece5b0"
   },
   "outputs": [
    {
     "name": "stdout",
     "output_type": "stream",
     "text": [
      "0b110110011\n",
      "0o663\n",
      "0x1b3\n"
     ]
    }
   ],
   "source": [
    "x =435\n",
    "print(bin(x))\n",
    "print(oct(x))\n",
    "print(hex(x))"
   ]
  },
  {
   "cell_type": "code",
   "execution_count": null,
   "id": "a5bae5b9",
   "metadata": {
    "id": "a5bae5b9",
    "outputId": "8a9f0bc7-a5f0-4099-b79e-48057be78714"
   },
   "outputs": [
    {
     "name": "stdout",
     "output_type": "stream",
     "text": [
      "435\n"
     ]
    }
   ],
   "source": [
    " x = 0b110110011\n",
    "print(x)   # normal number output"
   ]
  },
  {
   "cell_type": "code",
   "execution_count": null,
   "id": "73e86508",
   "metadata": {
    "id": "73e86508"
   },
   "outputs": [],
   "source": []
  },
  {
   "cell_type": "code",
   "execution_count": null,
   "id": "2c59ff0a",
   "metadata": {
    "id": "2c59ff0a"
   },
   "outputs": [],
   "source": []
  },
  {
   "cell_type": "code",
   "execution_count": null,
   "id": "3153be95",
   "metadata": {
    "id": "3153be95",
    "outputId": "c04753b8-4eea-49aa-d3ba-a2c215a5407f"
   },
   "outputs": [
    {
     "name": "stdout",
     "output_type": "stream",
     "text": [
      " this is python\n",
      " this is python \n",
      "c\n",
      " this is multipleline string with more than one line code\n",
      "😀😆🤣\n",
      "raw \\ n string\n"
     ]
    }
   ],
   "source": [
    "# string literals\n",
    "string = ' this is python'\n",
    "strings = \" this is python \"\n",
    "char = \"c\"\n",
    "multiline_str = \"\"\" this is multipleline string with more than one line code\"\"\"\n",
    "unicode = u\"\\U0001f600\\U0001F606\\U0001F923\"\n",
    "raw_str = r\"raw \\ n string\"\n",
    "\n",
    "print(string)\n",
    "print(strings)\n",
    "print(char)\n",
    "print(multiline_str)\n",
    "print(unicode)\n",
    "print(raw_str)"
   ]
  },
  {
   "cell_type": "code",
   "execution_count": null,
   "id": "37b3e7bc",
   "metadata": {
    "id": "37b3e7bc",
    "outputId": "940a4202-e086-4825-8c79-c93328a525e6"
   },
   "outputs": [
    {
     "name": "stdout",
     "output_type": "stream",
     "text": [
      "a 7\n",
      "B 20\n"
     ]
    }
   ],
   "source": [
    "# BOOLEAN literal\n",
    "a = True + 6  # one digit extra adding\n",
    "b = False + 20\n",
    "\n",
    "print(\"a\", a)\n",
    "print('B', b)"
   ]
  },
  {
   "cell_type": "code",
   "execution_count": null,
   "id": "144c7b4d",
   "metadata": {
    "id": "144c7b4d",
    "outputId": "d74a10d9-e6bd-420e-e7f5-d2eceddec1d7"
   },
   "outputs": [
    {
     "name": "stdout",
     "output_type": "stream",
     "text": [
      "None\n"
     ]
    }
   ],
   "source": [
    "# special literal\n",
    "a = None\n",
    "print(a)"
   ]
  },
  {
   "cell_type": "markdown",
   "id": "700e94f2",
   "metadata": {
    "id": "700e94f2"
   },
   "source": [
    "# operators"
   ]
  },
  {
   "cell_type": "code",
   "execution_count": null,
   "id": "e0570e9c",
   "metadata": {
    "id": "e0570e9c"
   },
   "outputs": [],
   "source": [
    "# oprator are use to python operations on varibles are values.\n",
    "# arithmatic operators\n",
    "# comparision operators\n",
    "# logical operators\n",
    "# bitwise operators\n",
    "# assigment operators\n",
    "# identity operators\n",
    "# membership operators"
   ]
  },
  {
   "cell_type": "code",
   "execution_count": null,
   "id": "37b56579",
   "metadata": {
    "id": "37b56579",
    "outputId": "a504eb0f-8b86-413d-80bc-b5a2147b48bb"
   },
   "outputs": [
    {
     "name": "stdout",
     "output_type": "stream",
     "text": [
      "300\n",
      "-100\n",
      "20000\n",
      "0.5\n",
      "100\n",
      "10000000000000000000000000000000000000000000000000000000000000000000000000000000000000000000000000000000000000000000000000000000000000000000000000000000000000000000000000000000000000000000000000000000000000000000000000000000000000000000000000000000000000000000000000000000000000000000000000000000000000000000000000000000000000000000000000000000000000000000000000000000000000000000000000000000000000000\n",
      "50\n"
     ]
    }
   ],
   "source": [
    "# arithmatic operators\n",
    "a = 100\n",
    "b = 200\n",
    "\n",
    "print(a+b)\n",
    "print(a-b)\n",
    "print(a*b)\n",
    "print(a/b)\n",
    "print(a%b)\n",
    "print(a**b)   # power of mode , true division\n",
    "print(a//2)  # integir division"
   ]
  },
  {
   "cell_type": "code",
   "execution_count": null,
   "id": "fd09b024",
   "metadata": {
    "id": "fd09b024",
    "outputId": "b9744298-0bb5-4169-ce21-7ac3e3b4638d"
   },
   "outputs": [
    {
     "name": "stdout",
     "output_type": "stream",
     "text": [
      "True\n",
      "False\n",
      "False\n",
      "True\n",
      "True\n",
      "False\n"
     ]
    }
   ],
   "source": [
    " # comparision operators , relation operator\n",
    "a = 100\n",
    "b = 200\n",
    "\n",
    "print(a<b)\n",
    "print(a>b)\n",
    "print(a==b)\n",
    "print(a!=b)\n",
    "print(a<=b)\n",
    "print(a>=b)"
   ]
  },
  {
   "cell_type": "code",
   "execution_count": null,
   "id": "76eff4b1",
   "metadata": {
    "id": "76eff4b1",
    "outputId": "97055484-34ff-4f67-cf7a-2e52b4a9ad77"
   },
   "outputs": [
    {
     "name": "stdout",
     "output_type": "stream",
     "text": [
      "True\n",
      "False\n",
      "False\n"
     ]
    }
   ],
   "source": [
    "# logical operators\n",
    "x = True\n",
    "y = False\n",
    "\n",
    "print(x or y)  # both in atlist one need is True, difference\n",
    "print(x and y)  # both is True othervise show the false\n",
    "print(not x)  # x current value True"
   ]
  },
  {
   "cell_type": "code",
   "execution_count": null,
   "id": "69a88f71",
   "metadata": {
    "id": "69a88f71",
    "outputId": "6c337327-01d4-4f4f-e22a-8e233afc00ae"
   },
   "outputs": [
    {
     "name": "stdout",
     "output_type": "stream",
     "text": [
      "64\n",
      "236\n",
      "0\n",
      "321387608851798055108392418468232520504440598756558567060275200\n"
     ]
    }
   ],
   "source": [
    "# bitwise operators\n",
    "# its binary pattern through solve\n",
    "            # 1 = 001\n",
    "            # 2 = 010\n",
    "a = 100\n",
    "b = 200\n",
    "\n",
    "print(a&b) # and\n",
    "print(a|b) # or\n",
    "print(a>>b)\n",
    "print(b<<b)"
   ]
  },
  {
   "cell_type": "code",
   "execution_count": null,
   "id": "4679a817",
   "metadata": {
    "id": "4679a817",
    "outputId": "c986bcd3-aae6-4d6c-bd4a-52d80e7a3f1d"
   },
   "outputs": [
    {
     "name": "stdout",
     "output_type": "stream",
     "text": [
      "3\n"
     ]
    }
   ],
   "source": [
    "# assigment operators\n",
    "a = 3\n",
    "print(a)"
   ]
  },
  {
   "cell_type": "code",
   "execution_count": null,
   "id": "2521516f",
   "metadata": {
    "id": "2521516f",
    "outputId": "504692e9-5a27-4475-b9c2-b3d9921bd582"
   },
   "outputs": [
    {
     "name": "stdout",
     "output_type": "stream",
     "text": [
      "6\n"
     ]
    }
   ],
   "source": [
    "a += 3  # a= a+3\n",
    "print(a)"
   ]
  },
  {
   "cell_type": "code",
   "execution_count": null,
   "id": "20fce13a",
   "metadata": {
    "id": "20fce13a"
   },
   "outputs": [],
   "source": [
    "a -= 3\n",
    "a *= 3\n",
    "a &= 3"
   ]
  },
  {
   "cell_type": "code",
   "execution_count": null,
   "id": "9776d9d1",
   "metadata": {
    "id": "9776d9d1",
    "outputId": "a8aefbdb-a19d-4671-9be3-f0308e97c6cc"
   },
   "outputs": [
    {
     "name": "stdout",
     "output_type": "stream",
     "text": [
      "True\n"
     ]
    }
   ],
   "source": [
    "# identity operators\n",
    "a=3\n",
    "b=3\n",
    "print(a is b) # is means show the identical memrey location"
   ]
  },
  {
   "cell_type": "code",
   "execution_count": null,
   "id": "c26d4e1a",
   "metadata": {
    "colab": {
     "base_uri": "https://localhost:8080/"
    },
    "executionInfo": {
     "elapsed": 63,
     "status": "ok",
     "timestamp": 1742818591337,
     "user": {
      "displayName": "sagar abhang",
      "userId": "01023003160266096565"
     },
     "user_tz": -330
    },
    "id": "c26d4e1a",
    "outputId": "83dc0482-d57a-4e3d-d6e3-dc2e63f660fb"
   },
   "outputs": [
    {
     "name": "stdout",
     "output_type": "stream",
     "text": [
      "False\n"
     ]
    }
   ],
   "source": [
    "x =\"hello\"  # check two different  varible in  but same  memray data\n",
    "y =\"hello\"\n",
    "\n",
    "\n",
    "print(y is x)"
   ]
  },
  {
   "cell_type": "code",
   "execution_count": null,
   "id": "24e03d34",
   "metadata": {
    "id": "24e03d34",
    "outputId": "66ab50f7-f270-4283-bf64-3625ef680191"
   },
   "outputs": [
    {
     "name": "stdout",
     "output_type": "stream",
     "text": [
      "False\n"
     ]
    }
   ],
   "source": [
    "a = [1,2,3]\n",
    "b = [1,2,3]\n",
    "\n",
    "print(a is b)\n"
   ]
  },
  {
   "cell_type": "code",
   "execution_count": null,
   "id": "b5ce5e23",
   "metadata": {
    "id": "b5ce5e23",
    "outputId": "e37daf3b-97c9-48c4-d210-74562e8bbd8c"
   },
   "outputs": [
    {
     "name": "stdout",
     "output_type": "stream",
     "text": [
      "True\n",
      "True\n",
      "False\n",
      "True\n"
     ]
    },
    {
     "name": "stderr",
     "output_type": "stream",
     "text": [
      "<>:8: SyntaxWarning: \"is not\" with a literal. Did you mean \"!=\"?\n",
      "<>:8: SyntaxWarning: \"is not\" with a literal. Did you mean \"!=\"?\n",
      "C:\\Users\\nweta\\AppData\\Local\\Temp\\ipykernel_16308\\4085756681.py:8: SyntaxWarning: \"is not\" with a literal. Did you mean \"!=\"?\n",
      "  print(\"mahabhart\" is not x)\n"
     ]
    }
   ],
   "source": [
    "# membership operators\n",
    "# check the data in call in varible\n",
    "\n",
    "x = \"jay shree ram\"\n",
    "print(\"j\" in x)\n",
    "print(\"jay shree ram\" in x)\n",
    "print(\"sagar\" in x)\n",
    "print(\"mahabhart\" is not x)\n"
   ]
  },
  {
   "cell_type": "code",
   "execution_count": null,
   "id": "c0121293",
   "metadata": {
    "id": "c0121293",
    "outputId": "6b3714f5-faa3-4c3e-dbd9-093dbaea6551"
   },
   "outputs": [
    {
     "name": "stdout",
     "output_type": "stream",
     "text": [
      "True\n",
      "False\n"
     ]
    }
   ],
   "source": [
    "a = [11,22,33,44,55]\n",
    "print(44 in a)\n",
    "print(777 in a)"
   ]
  },
  {
   "cell_type": "markdown",
   "id": "0eede26a",
   "metadata": {
    "id": "0eede26a"
   },
   "source": [
    "# regular expression"
   ]
  },
  {
   "cell_type": "code",
   "execution_count": null,
   "id": "7e2aa051",
   "metadata": {
    "id": "7e2aa051",
    "outputId": "55cb1bcc-106c-4aef-ac97-b8f5f184cb0a"
   },
   "outputs": [
    {
     "name": "stdout",
     "output_type": "stream",
     "text": [
      "enter a string   fan\n"
     ]
    },
    {
     "data": {
      "text/plain": [
       "<re.Match object; span=(0, 1), match='f'>"
      ]
     },
     "execution_count": 14,
     "metadata": {},
     "output_type": "execute_result"
    }
   ],
   "source": [
    "import re\n",
    "pattern=\"^f\"\n",
    "from_string=input(\"enter a string   \")\n",
    "\n",
    "re.match(pattern,from_string)  # only sentence in start f show in output position use od number time\n"
   ]
  },
  {
   "cell_type": "code",
   "execution_count": null,
   "id": "64eb12f8",
   "metadata": {
    "id": "64eb12f8",
    "outputId": "1d1d0a95-d856-485a-8734-e2216008e9e6"
   },
   "outputs": [
    {
     "name": "stdout",
     "output_type": "stream",
     "text": [
      "Enter the string apple\n"
     ]
    },
    {
     "data": {
      "text/plain": [
       "<re.Match object; span=(0, 1), match='a'>"
      ]
     },
     "execution_count": 15,
     "metadata": {},
     "output_type": "execute_result"
    }
   ],
   "source": [
    "aaa=\"^a\"\n",
    "from_string = input(\"Enter the string \")\n",
    "re.match(aaa,from_string)"
   ]
  },
  {
   "cell_type": "code",
   "execution_count": null,
   "id": "7edf11e1",
   "metadata": {
    "id": "7edf11e1",
    "outputId": "fc8001ec-42fc-46ff-a07f-c0be694510f2"
   },
   "outputs": [
    {
     "data": {
      "text/plain": [
       "<re.Match object; span=(0, 1), match='c'>"
      ]
     },
     "execution_count": 16,
     "metadata": {},
     "output_type": "execute_result"
    }
   ],
   "source": [
    "re.match(\"^c\",\"cat\") # short c in present star in cat"
   ]
  },
  {
   "cell_type": "code",
   "execution_count": null,
   "id": "6f8efa9d",
   "metadata": {
    "id": "6f8efa9d"
   },
   "outputs": [],
   "source": [
    "# re.match(ending, from_string)"
   ]
  },
  {
   "cell_type": "code",
   "execution_count": null,
   "id": "6cf42843",
   "metadata": {
    "id": "6cf42843",
    "outputId": "fcdd1116-63a3-4b44-9acc-77ba79e4488d"
   },
   "outputs": [
    {
     "name": "stdout",
     "output_type": "stream",
     "text": [
      "enter string Daaae\n"
     ]
    },
    {
     "data": {
      "text/plain": [
       "<re.Match object; span=(0, 5), match='Daaae'>"
      ]
     },
     "execution_count": 18,
     "metadata": {},
     "output_type": "execute_result"
    }
   ],
   "source": [
    "pattern = \"[A-z]*e$\"  # e only e match last  posion, ex in 5 position\n",
    "\n",
    "re.match(pattern,input(\"enter string \"))"
   ]
  },
  {
   "cell_type": "code",
   "execution_count": null,
   "id": "e92e7885",
   "metadata": {
    "id": "e92e7885",
    "outputId": "6b9a73ed-bf25-4428-af70-c304baeccdb5"
   },
   "outputs": [
    {
     "name": "stdout",
     "output_type": "stream",
     "text": [
      "Enter the 1234\n"
     ]
    },
    {
     "data": {
      "text/plain": [
       "<re.Match object; span=(0, 4), match='1234'>"
      ]
     },
     "execution_count": 4,
     "metadata": {},
     "output_type": "execute_result"
    }
   ],
   "source": [
    "import re\n",
    "pattern = \"[0-9]{4}$\"  # $ last f0ur list interger\n",
    "password = input(\"Enter the \")\n",
    "re.match(pattern,password )\n"
   ]
  },
  {
   "cell_type": "code",
   "execution_count": null,
   "id": "8c67ad1f",
   "metadata": {
    "id": "8c67ad1f",
    "outputId": "bc2e6907-d104-4f88-960d-32772c8f6c89"
   },
   "outputs": [
    {
     "name": "stdout",
     "output_type": "stream",
     "text": [
      "String 22e3\n"
     ]
    }
   ],
   "source": [
    "pt = \"^[A-Z][a-z]*e$\"\n",
    "re.match(pt,input(\"String \"))"
   ]
  },
  {
   "cell_type": "code",
   "execution_count": null,
   "id": "e079a1af",
   "metadata": {
    "id": "e079a1af",
    "outputId": "c5f9f59a-d7b0-4ed7-ac23-c48419b585f4"
   },
   "outputs": [
    {
     "name": "stdout",
     "output_type": "stream",
     "text": [
      "Enter the string SDSAKDSAKsdsde\n"
     ]
    },
    {
     "data": {
      "text/plain": [
       "<re.Match object; span=(0, 14), match='SDSAKDSAKsdsde'>"
      ]
     },
     "execution_count": 27,
     "metadata": {},
     "output_type": "execute_result"
    }
   ],
   "source": [
    "# ending\n",
    "ending=\"[A-Z,a-z]*e$\"\n",
    "from_string = input(\"Enter the string \")\n",
    "re.match(ending, from_string)"
   ]
  },
  {
   "cell_type": "code",
   "execution_count": null,
   "id": "8d6c83fc",
   "metadata": {
    "id": "8d6c83fc",
    "outputId": "40b83fac-55dc-443f-9338-8cd3dc1b763c"
   },
   "outputs": [
    {
     "name": "stdout",
     "output_type": "stream",
     "text": [
      "Enter the string ABe\n"
     ]
    },
    {
     "data": {
      "text/plain": [
       "<re.Match object; span=(0, 3), match='ABe'>"
      ]
     },
     "execution_count": 29,
     "metadata": {},
     "output_type": "execute_result"
    }
   ],
   "source": [
    "ending=\"[A-F]*e$\"  # last e small in use\n",
    "from_string = input(\"Enter the string \")\n",
    "re.match(ending, from_string)"
   ]
  },
  {
   "cell_type": "code",
   "execution_count": null,
   "id": "0fa30e1a",
   "metadata": {
    "id": "0fa30e1a",
    "outputId": "e55e7a93-53fd-40c5-9908-ac1a3474f822"
   },
   "outputs": [
    {
     "name": "stdout",
     "output_type": "stream",
     "text": [
      "Enter the string abhas\n"
     ]
    },
    {
     "data": {
      "text/plain": [
       "<re.Match object; span=(0, 5), match='abhas'>"
      ]
     },
     "execution_count": 30,
     "metadata": {},
     "output_type": "execute_result"
    }
   ],
   "source": [
    "#  starting and ending with particular letter and having fix length\n",
    "\n",
    "pattern = \"^a...s$\"  # start a end=s\n",
    "from_string = input(\"Enter the string \")\n",
    "re.match(pattern, from_string)"
   ]
  },
  {
   "cell_type": "code",
   "execution_count": null,
   "id": "a8503231",
   "metadata": {
    "id": "a8503231",
    "outputId": "df8bdb4d-9d75-4a29-e3dd-b789660b780b"
   },
   "outputs": [
    {
     "name": "stdout",
     "output_type": "stream",
     "text": [
      "Enter the string apple.frutes\n"
     ]
    },
    {
     "data": {
      "text/plain": [
       "<re.Match object; span=(0, 12), match='apple.frutes'>"
      ]
     },
     "execution_count": 34,
     "metadata": {},
     "output_type": "execute_result"
    }
   ],
   "source": [
    "pattern = \"^a.*s$\"  # start a end = s but both in . show\n",
    "from_string = input(\"Enter the string \")\n",
    "re.match(pattern, from_string)"
   ]
  },
  {
   "cell_type": "code",
   "execution_count": null,
   "id": "c5e23010",
   "metadata": {
    "id": "c5e23010",
    "outputId": "55783328-c684-48aa-ef9f-3590f20f7329"
   },
   "outputs": [
    {
     "name": "stdout",
     "output_type": "stream",
     "text": [
      "actives\n"
     ]
    },
    {
     "data": {
      "text/plain": [
       "<re.Match object; span=(0, 7), match='actives'>"
      ]
     },
     "execution_count": 39,
     "metadata": {},
     "output_type": "execute_result"
    }
   ],
   "source": [
    "pattern = \"^a[a-z]*s$\"\n",
    "from_str = input()\n",
    "re.match(pattern, from_str)"
   ]
  },
  {
   "cell_type": "code",
   "execution_count": null,
   "id": "4eda3b24",
   "metadata": {
    "id": "4eda3b24"
   },
   "outputs": [],
   "source": [
    "# Metacharacter\n",
    "[] - specifies the set of characters\n",
    "\n",
    "e.g.\n",
    "[a-j] is used to create set of a,b,c,d,f,g,h,i,j"
   ]
  },
  {
   "cell_type": "code",
   "execution_count": null,
   "id": "afe498c2",
   "metadata": {
    "id": "afe498c2",
    "outputId": "66eaa645-01e3-4c41-fcf8-11e45617d37d"
   },
   "outputs": [
    {
     "name": "stdout",
     "output_type": "stream",
     "text": [
      "Enter the string BA\n"
     ]
    },
    {
     "data": {
      "text/plain": [
       "<re.Match object; span=(0, 1), match='B'>"
      ]
     },
     "execution_count": 41,
     "metadata": {},
     "output_type": "execute_result"
    }
   ],
   "source": [
    "pattern = \"^[A-B]\"\n",
    "re.match(pattern, from_string)"
   ]
  },
  {
   "cell_type": "code",
   "execution_count": null,
   "id": "7971ac62",
   "metadata": {
    "id": "7971ac62",
    "outputId": "fb63d480-f312-42a6-efa4-addc8365caae"
   },
   "outputs": [
    {
     "data": {
      "text/plain": [
       "'\\nJanice is 22. \\nand Theon is 12 \\nGabriel is 49 and \\nJoey is 21 \\n'"
      ]
     },
     "execution_count": 47,
     "metadata": {},
     "output_type": "execute_result"
    }
   ],
   "source": [
    "# findall\n",
    "Nameage = '''\n",
    "Janice is 22.\n",
    "and Theon is 12\n",
    "Gabriel is 49 and\n",
    "Joey is 21\n",
    "'''\n",
    "Nameage"
   ]
  },
  {
   "cell_type": "code",
   "execution_count": null,
   "id": "13bfe0d5",
   "metadata": {
    "id": "13bfe0d5",
    "outputId": "feac0b5f-9b5d-427c-e5ec-38e99f09bc96"
   },
   "outputs": [
    {
     "data": {
      "text/plain": [
       "['22', '12', '49', '21']"
      ]
     },
     "execution_count": 48,
     "metadata": {},
     "output_type": "execute_result"
    }
   ],
   "source": [
    "re.findall('\\d{1,10}', Nameage)"
   ]
  },
  {
   "cell_type": "code",
   "execution_count": null,
   "id": "b60d5e04",
   "metadata": {
    "id": "b60d5e04",
    "outputId": "1693b686-967c-486c-e472-2356d70cfe6b"
   },
   "outputs": [
    {
     "data": {
      "text/plain": [
       "['Janice', 'Theon', 'Gabriel', 'Joey']"
      ]
     },
     "execution_count": 49,
     "metadata": {},
     "output_type": "execute_result"
    }
   ],
   "source": [
    "re.findall(r'[A-Z][a-z]*',Nameage)\n",
    "# new line \\n to use r"
   ]
  },
  {
   "cell_type": "code",
   "execution_count": null,
   "id": "ea99cc99",
   "metadata": {
    "id": "ea99cc99",
    "outputId": "6f0d1b0a-0327-42b9-c453-5fab914291c4"
   },
   "outputs": [
    {
     "data": {
      "text/plain": [
       "['Ja', 'T', 'Gab', 'J']"
      ]
     },
     "execution_count": 50,
     "metadata": {},
     "output_type": "execute_result"
    }
   ],
   "source": [
    "re.findall('[A-Z][a,b]*',Nameage)"
   ]
  },
  {
   "cell_type": "code",
   "execution_count": null,
   "id": "100882c3",
   "metadata": {
    "id": "100882c3"
   },
   "outputs": [],
   "source": [
    "ages = re.findall(r'\\d{1,10}', Nameage)\n",
    "names = re.findall(r'[A-Z][a-z]*',Nameage)"
   ]
  },
  {
   "cell_type": "code",
   "execution_count": null,
   "id": "7208859a",
   "metadata": {
    "id": "7208859a",
    "outputId": "1b17610d-b7d2-4bbb-e8ef-b8a514276504"
   },
   "outputs": [
    {
     "data": {
      "text/plain": [
       "['22', '12', '49', '21']"
      ]
     },
     "execution_count": 52,
     "metadata": {},
     "output_type": "execute_result"
    }
   ],
   "source": [
    "ages"
   ]
  },
  {
   "cell_type": "code",
   "execution_count": null,
   "id": "357e86dd",
   "metadata": {
    "id": "357e86dd",
    "outputId": "db3a50c1-6a73-40d8-8f29-c6a9332174a0"
   },
   "outputs": [
    {
     "data": {
      "text/plain": [
       "['Janice', 'Theon', 'Gabriel', 'Joey']"
      ]
     },
     "execution_count": 53,
     "metadata": {},
     "output_type": "execute_result"
    }
   ],
   "source": [
    "names"
   ]
  },
  {
   "cell_type": "code",
   "execution_count": null,
   "id": "04bcfcc8",
   "metadata": {
    "id": "04bcfcc8",
    "outputId": "96e054e2-c886-45db-9c0d-917a52600e45"
   },
   "outputs": [
    {
     "data": {
      "text/plain": [
       "{'Janice': '22', 'Theon': '12', 'Gabriel': '49', 'Joey': '21'}"
      ]
     },
     "execution_count": 56,
     "metadata": {},
     "output_type": "execute_result"
    }
   ],
   "source": [
    "dict(zip(names, ages))"
   ]
  },
  {
   "cell_type": "code",
   "execution_count": null,
   "id": "8f028402",
   "metadata": {
    "id": "8f028402",
    "outputId": "7c20b1f4-31ea-41ae-f19f-40c5cb5a490b"
   },
   "outputs": [
    {
     "data": {
      "text/plain": [
       "22     Janice\n",
       "12      Theon\n",
       "49    Gabriel\n",
       "21       Joey\n",
       "dtype: object"
      ]
     },
     "execution_count": 61,
     "metadata": {},
     "output_type": "execute_result"
    }
   ],
   "source": [
    "import pandas as pd\n",
    "pd.Series(names, ages)"
   ]
  },
  {
   "cell_type": "code",
   "execution_count": null,
   "id": "26c16076",
   "metadata": {
    "id": "26c16076",
    "outputId": "1e07a2a7-7a34-4df7-e6b3-159c9054f3a0"
   },
   "outputs": [
    {
     "name": "stdout",
     "output_type": "stream",
     "text": [
      "{'Janice': '22', 'Theon': '12', 'Gabriel': '49', 'Joey': '21'}\n"
     ]
    }
   ],
   "source": [
    "x = 0\n",
    "for eachname in names:\n",
    "    ageDict[eachname] = ages[x]\n",
    "    x+=1\n",
    "print(ageDict)"
   ]
  },
  {
   "cell_type": "code",
   "execution_count": null,
   "id": "163139a8",
   "metadata": {
    "id": "163139a8",
    "outputId": "e7edeef5-d5cb-4bfe-f2e2-a65fe0cd0ce4"
   },
   "outputs": [
    {
     "data": {
      "text/plain": [
       "Janice     22\n",
       "Theon      12\n",
       "Gabriel    49\n",
       "Joey       21\n",
       "dtype: object"
      ]
     },
     "execution_count": 59,
     "metadata": {},
     "output_type": "execute_result"
    }
   ],
   "source": [
    "import pandas as pd\n",
    "pd.Series(ageDict)"
   ]
  },
  {
   "cell_type": "code",
   "execution_count": null,
   "id": "97eb2e9e",
   "metadata": {
    "id": "97eb2e9e",
    "outputId": "760e8335-9ee5-4f7a-b66c-1fcd713d2a55"
   },
   "outputs": [
    {
     "name": "stdout",
     "output_type": "stream",
     "text": [
      "['23', '23']\n",
      "23\n",
      "23\n"
     ]
    }
   ],
   "source": [
    "string= \"We too need to 23  to inform him 123 with the latest information!\"\n",
    "\n",
    "allinform = re.findall(\"23\",string)\n",
    "#allinform = re.findall(\"inform\",string)\n",
    "print(allinform)\n",
    "for i in allinform:\n",
    "    print(i)"
   ]
  },
  {
   "cell_type": "code",
   "execution_count": null,
   "id": "e66a4545",
   "metadata": {
    "id": "e66a4545",
    "outputId": "c96820e8-28ca-462d-8afb-0dd24aeddb3a"
   },
   "outputs": [
    {
     "name": "stdout",
     "output_type": "stream",
     "text": [
      "hellow\n",
      "hellow\n",
      "hellow\n",
      "hellow\n",
      "hellow\n"
     ]
    }
   ],
   "source": [
    "x = \"sagar\"\n",
    "for i in x:\n",
    "    print(\"hellow\")  # sagar is 5 chara so is 5 time shiw"
   ]
  },
  {
   "cell_type": "code",
   "execution_count": null,
   "id": "dba527d3",
   "metadata": {
    "id": "dba527d3",
    "outputId": "525492fd-c935-4955-cf0b-f87f6c5e831c"
   },
   "outputs": [
    {
     "name": "stdout",
     "output_type": "stream",
     "text": [
      "SHREE SWAMI SAMARTH\n",
      "SHREE SWAMI SAMARTH\n",
      "SHREE SWAMI SAMARTH\n",
      "SHREE SWAMI SAMARTH\n",
      "SHREE SWAMI SAMARTH\n",
      "SHREE SWAMI SAMARTH\n",
      "SHREE SWAMI SAMARTH\n",
      "SHREE SWAMI SAMARTH\n",
      "SHREE SWAMI SAMARTH\n",
      "SHREE SWAMI SAMARTH\n",
      "SHREE SWAMI SAMARTH\n",
      "SHREE SWAMI SAMARTH\n"
     ]
    }
   ],
   "source": [
    "for i in range (12):\n",
    "    print(\"SHREE SWAMI SAMARTH\")"
   ]
  },
  {
   "cell_type": "code",
   "execution_count": null,
   "id": "ef6d3617-3686-428c-bd47-815c2fe85c8d",
   "metadata": {
    "id": "ef6d3617-3686-428c-bd47-815c2fe85c8d",
    "outputId": "165fea29-1fe7-4bc7-a7e4-b7ef5ccd75af"
   },
   "outputs": [
    {
     "name": "stdout",
     "output_type": "stream",
     "text": [
      "sagar 0\n",
      "sagar 3\n",
      "sagar 6\n",
      "sagar 9\n",
      "sagar 12\n",
      "sagar 15\n",
      "sagar 18\n",
      "sagar 21\n",
      "sagar 24\n",
      "sagar 27\n",
      "sagar 30\n"
     ]
    }
   ],
   "source": [
    "for i in range(0,31,3):\n",
    "    print(\"sagar\", i)"
   ]
  },
  {
   "cell_type": "code",
   "execution_count": null,
   "id": "0d47d011",
   "metadata": {
    "id": "0d47d011",
    "outputId": "33819a4b-b464-4886-a6a5-87a8116375c9"
   },
   "outputs": [
    {
     "name": "stdout",
     "output_type": "stream",
     "text": [
      "0\n",
      "5\n",
      "10\n",
      "15\n",
      "20\n",
      "25\n",
      "30\n",
      "35\n",
      "40\n",
      "45\n",
      "50\n"
     ]
    }
   ],
   "source": [
    "for i in range(0,51,5): #5 = step\n",
    "    print(i)"
   ]
  },
  {
   "cell_type": "code",
   "execution_count": null,
   "id": "360917ee",
   "metadata": {
    "id": "360917ee",
    "outputId": "7b53984a-d1d7-427a-ffec-0ae46ae6f48b"
   },
   "outputs": [
    {
     "name": "stdout",
     "output_type": "stream",
     "text": [
      "enter the number 23232\n"
     ]
    },
    {
     "name": "stdout",
     "output_type": "stream",
     "text": [
      "11\n",
      "22\n",
      "33\n",
      "44\n",
      "55\n",
      "66\n",
      "77\n",
      "88\n",
      "99\n"
     ]
    }
   ],
   "source": [
    "x = input(\"enter the number\")\n",
    "x = [11,22,33,44,55,66,77,88,99]\n",
    "for i in [11,22,33,44,55,66,77,88,99]:\n",
    "    print(i)"
   ]
  },
  {
   "cell_type": "code",
   "execution_count": null,
   "id": "52948ef1",
   "metadata": {
    "id": "52948ef1",
    "outputId": "4d45a292-3c7a-4086-b2a2-fa452b9bbff9"
   },
   "outputs": [
    {
     "name": "stdout",
     "output_type": "stream",
     "text": [
      "shree\n",
      "shree\n",
      "shree\n",
      "shree\n",
      "shree\n",
      "ram\n"
     ]
    }
   ],
   "source": [
    "x =5\n",
    "while x>=1:\n",
    "    print(\"shree\")\n",
    "    x = x-1\n",
    "print(\"ram\")"
   ]
  },
  {
   "cell_type": "code",
   "execution_count": null,
   "id": "476862d4",
   "metadata": {
    "id": "476862d4",
    "outputId": "249506fd-9e18-498d-ad08-a0ffd83c04a2"
   },
   "outputs": [
    {
     "name": "stdout",
     "output_type": "stream",
     "text": [
      "0\n",
      "1\n",
      "2\n",
      "3\n",
      "4\n"
     ]
    }
   ],
   "source": [
    "x=0\n",
    "while x<5:\n",
    "    print(x)\n",
    "    x = x+1"
   ]
  },
  {
   "cell_type": "code",
   "execution_count": null,
   "id": "0a086f03",
   "metadata": {
    "id": "0a086f03",
    "outputId": "3406a6e2-6a7c-4473-c087-6c5e1f3e5686"
   },
   "outputs": [
    {
     "data": {
      "text/plain": [
       "<re.Match object; span=(0, 10), match='ZEAAA1234N'>"
      ]
     },
     "execution_count": 64,
     "metadata": {},
     "output_type": "execute_result"
    }
   ],
   "source": [
    "# 1-5 letter 4 digits 1 letter\n",
    "a= \"ZEAAA1234N\"\n",
    "#re.fullmatch(a,\"ZZAAA1234B\")\n",
    "re.fullmatch(\"[A-Z]{5}[0-9]{4}[A-Z]{1}\",a)"
   ]
  },
  {
   "cell_type": "code",
   "execution_count": null,
   "id": "68c4b6c8",
   "metadata": {
    "id": "68c4b6c8",
    "outputId": "49372753-d88b-443a-98ac-76e1fee469d1"
   },
   "outputs": [
    {
     "name": "stdout",
     "output_type": "stream",
     "text": [
      "There is inform\n"
     ]
    }
   ],
   "source": [
    "if re.search(\"inform\",\"we need to inform him with the latest information\"):\n",
    "    print(\"There is inform\")\n",
    "else:\n",
    "    print(\"NO inform\")"
   ]
  },
  {
   "cell_type": "code",
   "execution_count": null,
   "id": "bb378501",
   "metadata": {
    "id": "bb378501",
    "outputId": "f2763d34-fb42-41e3-ff88-a6047ac4c651"
   },
   "outputs": [
    {
     "data": {
      "text/plain": [
       "<re.Match object; span=(13, 19), match='inform'>"
      ]
     },
     "execution_count": 71,
     "metadata": {},
     "output_type": "execute_result"
    }
   ],
   "source": [
    "Str = re.search(\"inform\",\"we needed to inform him with the latest need information\")\n",
    "Str"
   ]
  },
  {
   "cell_type": "code",
   "execution_count": null,
   "id": "c564456e",
   "metadata": {
    "id": "c564456e",
    "outputId": "5e54a4d4-eca3-4d33-8dac-ac86bee2dd10"
   },
   "outputs": [
    {
     "data": {
      "text/plain": [
       "[<re.Match object; span=(11, 17), match='inform'>,\n",
       " <re.Match object; span=(38, 44), match='inform'>]"
      ]
     },
     "execution_count": 75,
     "metadata": {},
     "output_type": "execute_result"
    }
   ],
   "source": [
    "# finditer\n",
    "Str = \"we need to inform him with the latest information\"\n",
    "list(re.finditer(\"inform\", Str))"
   ]
  },
  {
   "cell_type": "code",
   "execution_count": null,
   "id": "8e38b8f4",
   "metadata": {
    "id": "8e38b8f4",
    "outputId": "cbe2b741-1a2c-42cb-a0d5-955bf6086fd4"
   },
   "outputs": [
    {
     "data": {
      "text/plain": [
       "['we', 'need', 'to', 'inform', 'him', 'with', 'the', 'latest', 'information']"
      ]
     },
     "execution_count": 76,
     "metadata": {},
     "output_type": "execute_result"
    }
   ],
   "source": [
    "Str.split()"
   ]
  },
  {
   "cell_type": "code",
   "execution_count": null,
   "id": "ed120626",
   "metadata": {
    "id": "ed120626",
    "outputId": "a494841e-be0e-4be1-9777-e434074e2fad"
   },
   "outputs": [
    {
     "name": "stdout",
     "output_type": "stream",
     "text": [
      "<re.Match object; span=(11, 17), match='inform'>\n",
      "(11, 17)\n",
      "<re.Match object; span=(38, 44), match='inform'>\n",
      "(38, 44)\n"
     ]
    }
   ],
   "source": [
    "import re\n",
    "Str = \"we need to inform him with the latest information\"\n",
    "#pa=list(re.finditer(\"inform\", Str))\n",
    "#print(pa)\n",
    "\n",
    "for i in re.finditer(\"inform\", Str):\n",
    "    print(i)\n",
    "    locTuple = i.span()\n",
    "    print(locTuple)\n"
   ]
  },
  {
   "cell_type": "code",
   "execution_count": null,
   "id": "a907f41e",
   "metadata": {
    "id": "a907f41e",
    "outputId": "ef24ff60-9504-452a-d4d3-81d1decb4e88"
   },
   "outputs": [
    {
     "name": "stdout",
     "output_type": "stream",
     "text": [
      "['Sat', 'Aat', 'hat', '12at', 'mat', 'pat', 'fat', 'at', 'at']\n"
     ]
    }
   ],
   "source": [
    "Str = \"Sat, Aat, KAapa hat 12at mat pat lot socket fat, at, atlas\"\n",
    "\n",
    "allStr = re.findall(\"[A-Z,a-z,0-9]*at\", Str)\n",
    "##,a-z,0-9\n",
    "#allStr = re.findall(\"at*\", Str)\n",
    "print(allStr)\n",
    "#for i in allStr:\n",
    " #   print(i)"
   ]
  },
  {
   "cell_type": "code",
   "execution_count": null,
   "id": "5645b010",
   "metadata": {
    "id": "5645b010",
    "outputId": "db07a2f7-5a29-4402-f747-b9a69d5c9d3c"
   },
   "outputs": [
    {
     "data": {
      "text/plain": [
       "'a'"
      ]
     },
     "execution_count": 4,
     "metadata": {},
     "output_type": "execute_result"
    }
   ],
   "source": [
    "Str[1]"
   ]
  },
  {
   "cell_type": "code",
   "execution_count": null,
   "id": "5c816f1a",
   "metadata": {
    "id": "5c816f1a",
    "outputId": "91a57749-becd-416f-d0e6-d62775c5c788"
   },
   "outputs": [
    {
     "name": "stdout",
     "output_type": "stream",
     "text": [
      "Sat\n",
      "Sat, Aat\n",
      "Sat, Aat, KAapa hat\n",
      "Sat, Aat, KAapa hat 12at\n",
      "Sat, Aat, KAapa hat 12at mat\n",
      "Sat, Aat, KAapa hat 12at mat pat\n",
      "Sat, Aat, KAapa hat 12at mat pat lot socket fat\n",
      "Sat, Aat, KAapa hat 12at mat pat lot socket fat, at\n",
      "Sat, Aat, KAapa hat 12at mat pat lot socket fat, at, at\n"
     ]
    }
   ],
   "source": [
    "for i in list(re.finditer(\"at\",Str)):\n",
    "    #print(i.span())\n",
    "    #print(type(i.span()[0]), type(i.span()[1]))\n",
    "    #ll, ul =i.span()[0], i.span()[1]\n",
    "    print(Str[: i.span()[1]])"
   ]
  },
  {
   "cell_type": "code",
   "execution_count": null,
   "id": "6b4b392f",
   "metadata": {
    "id": "6b4b392f",
    "outputId": "f58ae3ad-68a2-4370-e860-bcfdb8146bfb"
   },
   "outputs": [
    {
     "name": "stdout",
     "output_type": "stream",
     "text": [
      "Sat\n",
      "Aat\n",
      "hat\n",
      "12at\n",
      "mat\n",
      "pat\n",
      "fat\n",
      "at\n",
      "at\n"
     ]
    }
   ],
   "source": [
    "Str = \"Sat, Aat, KAapa hat 12at mat pat lot socket fat, at, atlas\"\n",
    "\n",
    "allStr = re.finditer(\"^[A-Z,a-z,0-9]*at\", Str)\n",
    "##,a-z,0-9\n",
    "#allStr = re.findall(\"at*\", Str)\n",
    "for all_val in re.finditer(\"[A-Z,a-z,0-9]*at\", Str):\n",
    "    val = all_val.span()\n",
    "    #print(val[0], val[1])\n",
    "    print(Str[val[0]:val[1]])\n",
    "#for i in allStr:\n",
    " #   print(i)"
   ]
  },
  {
   "cell_type": "code",
   "execution_count": null,
   "id": "26385ce7",
   "metadata": {
    "id": "26385ce7",
    "outputId": "2ce6c681-4774-439e-e513-8598e98846ff"
   },
   "outputs": [
    {
     "data": {
      "text/plain": [
       "'C'"
      ]
     },
     "execution_count": 7,
     "metadata": {},
     "output_type": "execute_result"
    }
   ],
   "source": [
    "a= \"ABCD\"\n",
    "a[2]"
   ]
  },
  {
   "cell_type": "code",
   "execution_count": null,
   "id": "60a0045a",
   "metadata": {
    "id": "60a0045a",
    "outputId": "e04625cf-3d74-4837-9c52-05a1110a2bf3"
   },
   "outputs": [
    {
     "name": "stdout",
     "output_type": "stream",
     "text": [
      "['Sat']\n",
      "['hat', 'mat', 'pat']\n",
      "['Sat', 'hat', 'mat', 'pat']\n"
     ]
    }
   ],
   "source": [
    "Str = \"Sat, hat, mat, pat, at,Kafka, atleast, atlas\"\n",
    "\n",
    "#someStr = re.findall(\"[a-z]at\", Str)\n",
    "someStr = re.findall(\"[A-Z]at\", Str)\n",
    "some2 = re.findall(\"[a-z]at\", Str)\n",
    "print(someStr)\n",
    "print(some2)\n",
    "final=someStr+some2\n",
    "print(final)"
   ]
  },
  {
   "cell_type": "code",
   "execution_count": null,
   "id": "ad26c2e2",
   "metadata": {
    "id": "ad26c2e2",
    "outputId": "1a15a566-02aa-4bfa-c15f-9a9d80246763"
   },
   "outputs": [
    {
     "data": {
      "text/plain": [
       "['Sat', 'hat', 'mat', 'pat']"
      ]
     },
     "execution_count": 9,
     "metadata": {},
     "output_type": "execute_result"
    }
   ],
   "source": [
    "someStr = re.findall(\"[A-z]at\", Str)\n",
    "someStr"
   ]
  },
  {
   "cell_type": "code",
   "execution_count": null,
   "id": "45ce33ee",
   "metadata": {
    "id": "45ce33ee",
    "outputId": "f7121938-1043-4d45-b325-e2a3704662e7"
   },
   "outputs": [
    {
     "name": "stdout",
     "output_type": "stream",
     "text": [
      "<re.Match object; span=(13, 17), match='prog'>\n"
     ]
    }
   ],
   "source": [
    "randstr = \"Enjoying the programming with python\"\n",
    "\n",
    "print(re.search(r\"prog\", randstr))"
   ]
  },
  {
   "cell_type": "code",
   "execution_count": null,
   "id": "4063f0a7",
   "metadata": {
    "id": "4063f0a7",
    "outputId": "adbb0c52-dfe9-45c6-fa76-eacd0fffc9fb"
   },
   "outputs": [
    {
     "name": "stdout",
     "output_type": "stream",
     "text": [
      "sachin score 76 and kohali score 40 and rohit score 50 and dhoni score 100\n"
     ]
    }
   ],
   "source": [
    "import re\n",
    "cricket_score = \"\"\"Sachin score 76 and Kohali score 40 and Rohit score 50 and Dhoni score 100\"\"\"\n",
    "print(cricket_score)\n",
    "# finding name and score"
   ]
  },
  {
   "cell_type": "code",
   "execution_count": null,
   "id": "68344d16",
   "metadata": {
    "id": "68344d16"
   },
   "outputs": [],
   "source": [
    "import re\n",
    "\n",
    "def validate_pan(pan):\n",
    "    pattern = r'^[A-Z]{5}[0-9]{4}[A-Z]{1}$'\n",
    "    if re.match(pattern, pan):\n",
    "        return True\n",
    "    else:\n",
    "        return False\n",
    "\n",
    "# Example usage\n",
    "pan_number = \"ABCDE1234Z\"\n",
    "\n",
    "if validate_pan(pan_number):\n",
    "    print(\"Valid PAN card number\")\n",
    "else:\n",
    "    print(\"Invalid PAN card number\")\n"
   ]
  },
  {
   "cell_type": "code",
   "execution_count": null,
   "id": "acfa3cbb",
   "metadata": {
    "id": "acfa3cbb",
    "outputId": "b58a836e-91cc-48d9-96fd-98478cf0505a"
   },
   "outputs": [
    {
     "name": "stdout",
     "output_type": "stream",
     "text": [
      "enter pan number      ASDDF2345T\n"
     ]
    },
    {
     "name": "stdout",
     "output_type": "stream",
     "text": [
      "wrong number\n"
     ]
    }
   ],
   "source": [
    "import re\n",
    "pan = input(\"enter pan number     \")\n",
    "pattern = '^[A-Z]{5}[0-9]{4}[A-Z]{1}$'\n",
    "ll = re.match(pattern, pan)\n",
    "\n",
    "\n",
    "if ll==pattern:\n",
    "    print(\"correct pan number\")\n",
    "else:\n",
    "    print(\"wrong number\")"
   ]
  },
  {
   "cell_type": "code",
   "execution_count": null,
   "id": "824e5863",
   "metadata": {
    "id": "824e5863",
    "outputId": "1590e545-a4c2-4b66-e8d5-1be239a82913"
   },
   "outputs": [
    {
     "name": "stdout",
     "output_type": "stream",
     "text": [
      "enter pan number      SFHGJ9874E\n"
     ]
    },
    {
     "ename": "NameError",
     "evalue": "name 're' is not defined",
     "output_type": "error",
     "traceback": [
      "\u001b[1;31m---------------------------------------------------------------------------\u001b[0m",
      "\u001b[1;31mNameError\u001b[0m                                 Traceback (most recent call last)",
      "Cell \u001b[1;32mIn[9], line 2\u001b[0m\n\u001b[0;32m      1\u001b[0m pan \u001b[38;5;241m=\u001b[39m \u001b[38;5;28minput\u001b[39m(\u001b[38;5;124m\"\u001b[39m\u001b[38;5;124menter pan number     \u001b[39m\u001b[38;5;124m\"\u001b[39m)\n\u001b[1;32m----> 2\u001b[0m \u001b[38;5;28;01mif\u001b[39;00m re\u001b[38;5;241m.\u001b[39mmatch(\u001b[38;5;124m'\u001b[39m\u001b[38;5;124m[A-Z]\u001b[39m\u001b[38;5;132;01m{5}\u001b[39;00m\u001b[38;5;124m[0-9]\u001b[39m\u001b[38;5;132;01m{4}\u001b[39;00m\u001b[38;5;124m[A-Z]\u001b[39m\u001b[38;5;132;01m{1}\u001b[39;00m\u001b[38;5;124m'\u001b[39m, pan):\n\u001b[0;32m      3\u001b[0m             \u001b[38;5;28mprint\u001b[39m(\u001b[38;5;124m'\u001b[39m\u001b[38;5;124mvalidating pan card\u001b[39m\u001b[38;5;124m'\u001b[39m)\n\u001b[0;32m      4\u001b[0m \u001b[38;5;28;01melse\u001b[39;00m:\n",
      "\u001b[1;31mNameError\u001b[0m: name 're' is not defined"
     ]
    }
   ],
   "source": [
    "pan = input(\"enter pan number     \")\n",
    "if re.match('[A-Z]{5}[0-9]{4}[A-Z]{1}', pan):\n",
    "            print('validating pan card')\n",
    "else:\n",
    "    print(\"Error in pan card\")"
   ]
  },
  {
   "cell_type": "code",
   "execution_count": null,
   "id": "61cc97b1",
   "metadata": {
    "id": "61cc97b1"
   },
   "outputs": [],
   "source": []
  },
  {
   "cell_type": "code",
   "execution_count": null,
   "id": "2c65e9d0",
   "metadata": {
    "id": "2c65e9d0"
   },
   "outputs": [],
   "source": []
  },
  {
   "cell_type": "markdown",
   "id": "a73f37be",
   "metadata": {
    "id": "a73f37be"
   },
   "source": [
    "# if else statment"
   ]
  },
  {
   "cell_type": "code",
   "execution_count": 45,
   "id": "7db3ba4a",
   "metadata": {
    "colab": {
     "base_uri": "https://localhost:8080/"
    },
    "executionInfo": {
     "elapsed": 7430,
     "status": "ok",
     "timestamp": 1742972238808,
     "user": {
      "displayName": "sagar abhang",
      "userId": "01023003160266096565"
     },
     "user_tz": -330
    },
    "id": "7db3ba4a",
    "outputId": "4aa8b8d4-2856-4756-c565-b3e8305cce1c"
   },
   "outputs": [
    {
     "name": "stdout",
     "output_type": "stream",
     "text": [
      "welcome to HDFC ATM\n",
      " 1. set pin code\n",
      " 2. withdraw\n",
      " 3. deposite\n",
      " 4. balance\n",
      " 5. exit\n",
      " wrong set pin try again \n"
     ]
    }
   ],
   "source": [
    "# ATM Machine 20/12/2023\n",
    "print(\"welcome to HDFC ATM\\n 1. set pin code\\n 2. withdraw\\n 3. deposite\\n 4. balance\\n 5. exit\")\n",
    "\n",
    "\n",
    "enter = int(input(\"welcome to HDFC ATM:   \"))\n",
    "\n",
    "deposite = 45670\n",
    "balance = deposite\n",
    "exit = \"exit\"\n",
    "\n",
    "import re\n",
    "if enter == 1:\n",
    "    set_pin_code = input(\"set pin code:    \")\n",
    "\n",
    "    if re.match('[0-9]{4}$', set_pin_code):\n",
    "        print('succesfully set pin code')\n",
    "    else:\n",
    "        print(\" wrong set pin try again \")\n",
    "\n",
    "\n",
    "if enter == 2:\n",
    "    withdraw = int(input(\"withdraw:   \"))\n",
    "    if withdraw < 99:\n",
    "        #for withdraw in [100,200,500]:\n",
    "            print(\" availble only 100,200,500\")\n",
    "    elif 99 < withdraw:\n",
    "        avilable_balance = balance - withdraw\n",
    "        if avilable_balance < 0:\n",
    "            print(\"balance negative not withdrow\")\n",
    "        else:\n",
    "            print(\" successfully withdraw\", withdraw)\n",
    "            print(\" available balance\", avilable_balance)\n",
    "\n",
    "if enter == 3:\n",
    "    \n",
    "    deposite = int(input(\"deposite:    \"))\n",
    "    if enter == 3:\n",
    "        total = balance + deposite\n",
    "        print(\"credit\",deposite)\n",
    "        print(\"total balance\", total)\n",
    "    else:\n",
    "         print(\"network issue\")\n",
    "\n",
    "if enter == 4:\n",
    "    print(\"balance\", balance)\n",
    "\n",
    "\n",
    "if enter == 5:\n",
    "    print(exit,\"Thanku\\n Digital INDIA\")\n",
    "\n"
   ]
  },
  {
   "cell_type": "code",
   "execution_count": null,
   "id": "780ce6ab",
   "metadata": {
    "colab": {
     "background_save": true,
     "base_uri": "https://localhost:8080/"
    },
    "id": "780ce6ab",
    "outputId": "bb1e6303-0622-46d0-a931-38d1beda96cd"
   },
   "outputs": [
    {
     "name": "stdout",
     "output_type": "stream",
     "text": [
      "Invalid email\n"
     ]
    }
   ],
   "source": [
    "import re\n",
    "\n",
    "email = input(\"Enter email: \")\n",
    "pattern = r'^[a-zA-Z0-9]+@[a-zA-Z]+\\.[a-zA-Z]+$'\n",
    "if re.match(pattern, email):\n",
    "    print(\"Valid email\")\n",
    "else:\n",
    "    print(\"Invalid email\")\n",
    "    try_again_email = input(\"Enter email again: \")\n",
    "    if re.match(pattern, try_again_email):\n",
    "        print(\"Valid\")\n",
    "    else:\n",
    "        print(\"Invalid\")\n",
    "\n",
    "\n",
    "\n",
    "password = input(\"Enter password: \")\n",
    "pattern_ = r\"^(?=.*[a-z])(?=.*[A-Z])(?=.*[$/@])(?=.*[0-9]).{8,}$\"\n",
    "if re.match(pattern_, password):\n",
    "    print(\"Valid password\")\n",
    "else:\n",
    "    print(\"Invalid password\")\n",
    "    try_again_password = input(\"Enter password again: \")\n",
    "    if re.match(pattern_, try_again_password):\n",
    "        print(\"Valid\")\n",
    "    else:\n",
    "        print(\"Invalid\")\n",
    "\n",
    "\n",
    "\n",
    "if email and password:\n",
    "    print(\"WELCOME\")\n",
    "else:\n",
    "    print(\"try agaim\")\n",
    "\n"
   ]
  },
  {
   "cell_type": "code",
   "execution_count": null,
   "id": "e7a5b5fb",
   "metadata": {
    "id": "e7a5b5fb",
    "outputId": "9c921276-9c6e-48be-f50b-6c72d25eef5a"
   },
   "outputs": [
    {
     "name": "stdout",
     "output_type": "stream",
     "text": [
      "Enter email: gsfdgsafd@54gmail.com\n"
     ]
    }
   ],
   "source": [
    "import re\n",
    "email = input(\"Enter email: \")\n",
    "\n",
    "if re.match(r'^[a-zA-Z0-9._%+-]+@[a-zA-Z0-9.-]+\\.[a-zA-Z]{2,}$', email):\n",
    "    pass\n",
    "else:\n",
    "    print(\"Invalid email\")\n",
    "    print(\"try again\")\n"
   ]
  },
  {
   "cell_type": "code",
   "execution_count": null,
   "id": "479affba",
   "metadata": {
    "id": "479affba",
    "outputId": "5da3d13d-69c4-450b-eef2-99fcb9330df6"
   },
   "outputs": [
    {
     "name": "stdout",
     "output_type": "stream",
     "text": [
      "enter email   sagar#gmail.com\n",
      "enter right email   = missing @\n",
      "enter email   sagar@gmail.com\n",
      "finall right id\n",
      "enter password1234\n",
      "incorrect  password\n",
      "password1234\n",
      "right password\n"
     ]
    }
   ],
   "source": [
    "# email = sagarabhang10000@gmail.com300\n",
    "# password = 1234\n",
    "email = input(\"enter email   \")\n",
    "if re.match('[a-z]*[0-9]*[@.]+[a-z]*', email):\n",
    "if \"@\" in email:\n",
    "    pass\n",
    "else:\n",
    "    print(\"enter right email   = missing @\")\n",
    "    email = input(\"enter email   \")\n",
    "    if \"@\" in email:\n",
    "        print(\"finall right id\")\n",
    "    else:\n",
    "        (\"incorrect, try to correct input id \")\n",
    "password = input(\"enter password\")\n",
    "\n",
    "if email == \"sagarabhang93@gmail.com\"  and password == \"1234\":\n",
    "    print(\"welcome\")\n",
    "else:\n",
    "    print(\"incorrect  password\")\n",
    "    password = input(\"password\")\n",
    "    if \"1234\" in password:\n",
    "        print(\"right password\")\n",
    "    else:\n",
    "        print(\"incorrecct\")"
   ]
  },
  {
   "cell_type": "code",
   "execution_count": null,
   "id": "7c8a5593",
   "metadata": {
    "id": "7c8a5593"
   },
   "outputs": [],
   "source": [
    "sector = str(input(\"enter the sector:  \"))\n",
    "actual_invest = float(input(\"enter actual_invest:  \"))\n",
    "percentage = float(input(\"enter the  percentage      \"))\n",
    "\n",
    "if sector == 'automobile':\n",
    "    total_invest = actual_invest * percentage\n",
    "    benefit = actual_invest + (total_invest)\n",
    "    print('Today benefit amount:', total_invest)\n",
    "    print('Total amount:', benefit  )\n",
    "\n",
    "elif sector == 'telecom':\n",
    "    total_invest = actual_invest * percentage\n",
    "    benefit = actual_invest + (total_invest )\n",
    "    print('Today benefit amount:', total_invest)\n",
    "    print('Total amount:', benefit  )\n",
    "\n",
    "elif sector == 'insurance':\n",
    "    total_invest = actual_invest * percentage\n",
    "    benefit = actual_invest + (total_invest )\n",
    "    print('Today benefit amount:', total_invest)\n",
    "    print('Total amount:', benefit  )\n",
    "\n",
    "elif sector == 'banking':\n",
    "    total_invest = actual_invest * percentage\n",
    "    benefit = actual_invest + (total_invest )\n",
    "    print('Today benefit amount:', total_invest)\n",
    "    print('Total amount:', benefit  )\n",
    "\n",
    "elif sector == 'medical':\n",
    "    total_invest = actual_invest * percentage\n",
    "    benefit = actual_invest + (total_invest )\n",
    "    print('Today benefit amount:', total_invest)\n",
    "    print('Total amount:', benefit  )\n",
    "\n",
    "else:\n",
    "    print(\" automobile, telecom, insurance, banking,medical isme  invest kro tumne galat sector me invest kiya he , isliye aapko paise nahi mile , sorry\")\n"
   ]
  },
  {
   "cell_type": "code",
   "execution_count": 50,
   "id": "8610ce6d",
   "metadata": {},
   "outputs": [],
   "source": [
    "x = input(\"enter the number\")\n",
    "sing = input (\"enter the sign\")\n",
    "y = input(\"enter the number\")\n",
    "\n"
   ]
  },
  {
   "cell_type": "code",
   "execution_count": null,
   "id": "37deddd2",
   "metadata": {
    "id": "37deddd2",
    "outputId": "f3052bdb-9001-47e2-ee4d-cf9355e12d68"
   },
   "outputs": [
    {
     "name": "stdout",
     "output_type": "stream",
     "text": [
      "enter the sector:   TELECOM\n",
      "enter actual_invest:   6543\n",
      "enter the  percentage       54\n"
     ]
    },
    {
     "name": "stdout",
     "output_type": "stream",
     "text": [
      " automobile, telecom, insurance, banking,medical isme  invest kro tumne galat sector me invest kiya he , isliye aapko paise nahi mile , sorry\n"
     ]
    }
   ],
   "source": [
    "sector = str(input(\"enter the sector:  \"))\n",
    "actual_invest = float(input(\"enter actual_invest:  \"))\n",
    "percentage = float(input(\"enter the  percentage      \"))\n",
    "\n",
    "if sector == 'automobile':\n",
    "    total_invest = actual_invest * percentage\n",
    "    benefit = actual_invest + (total_invest)\n",
    "    commision = (benefit + benefit * 0.02) - benefit\n",
    "    final_amount_credit = benefit - commision\n",
    "    print('Today benefit amount:', total_invest)\n",
    "    print('Total amount:', benefit  )\n",
    "    print(\"commision:\", commision)\n",
    "    print(\"final amount credit\", final_amount_credit)\n",
    "\n",
    "elif sector == 'telecom':\n",
    "    total_invest = actual_invest * percentage\n",
    "    benefit = actual_invest + (total_invest )\n",
    "    commision = (benefit + benefit * 0.02) - benefit\n",
    "    final_amount_credit = benefit - commision\n",
    "    print('Today benefit amount:', total_invest)\n",
    "    print('Total amount:', benefit  )\n",
    "    print(\"commision:\", commision)\n",
    "    print(\"final amount credit\", final_amount_credit)\n",
    "\n",
    "elif sector == 'insurance':\n",
    "    total_invest = actual_invest * percentage\n",
    "    benefit = actual_invest + (total_invest )\n",
    "    commision = (benefit + benefit * 0.02) - benefit\n",
    "    final_amount_credit = benefit - commision\n",
    "    print('Today benefit amount:', total_invest)\n",
    "    print('Total amount:', benefit  )\n",
    "    print(\"commision:\", commision)\n",
    "    print(\"final amount credit\", final_amount_credit)\n",
    "\n",
    "elif sector == 'banking':\n",
    "    total_invest = actual_invest * percentage\n",
    "    benefit = actual_invest + (total_invest )\n",
    "    commision = (benefit + benefit * 0.02) - benefit\n",
    "    final_amount_credit = benefit - commision\n",
    "    print('Today benefit amount:', total_invest)\n",
    "    print('Total amount:', benefit  )\n",
    "    print(\"commision:\", commision)\n",
    "    print(\"final amount credit\", final_amount_credit)\n",
    "\n",
    "elif sector == 'medical':\n",
    "    total_invest = actual_invest * percentage\n",
    "    benefit = actual_invest + (total_invest )\n",
    "    commision = (benefit + benefit * 0.02) - benefit\n",
    "    final_amount_credit = benefit - commision\n",
    "    print('Today benefit amount:', total_invest)\n",
    "    print('Total amount:', benefit  )\n",
    "    print(\"commision:\", commision)\n",
    "    print(\"final amount credit\", final_amount_credit)\n",
    "\n",
    "else:\n",
    "    print(\" automobile, telecom, insurance, banking,medical isme  invest kro tumne galat sector me invest kiya he , isliye aapko paise nahi mile , sorry\")\n"
   ]
  },
  {
   "cell_type": "markdown",
   "id": "befa7fd1",
   "metadata": {
    "id": "befa7fd1"
   },
   "source": [
    "# grade through increase monthly salary\n"
   ]
  },
  {
   "cell_type": "code",
   "execution_count": null,
   "id": "cbcf5a13",
   "metadata": {
    "id": "cbcf5a13",
    "outputId": "334fada0-1f37-4d74-edc7-ea5d5ad231c4"
   },
   "outputs": [
    {
     "name": "stdout",
     "output_type": "stream",
     "text": [
      "enter the grade : C\n",
      "enter the salary100000\n",
      "salary monthly: 120000.0\n"
     ]
    }
   ],
   "source": [
    "grade = input(\"enter the grade : \")\n",
    "salary = float(input(\"enter the salary\"))\n",
    "if grade == 'A':\n",
    "    increase = salary * 0.5\n",
    "    print(\"salary monthly :\", increase + salary)\n",
    "elif grade == 'B':\n",
    "    increase = salary * 0.3\n",
    "    print(\"salary monthly :\", increase + salary)\n",
    "elif grade ==\"C\":\n",
    "    increase = salary * 0.2\n",
    "    print(\"salary monthly:\", increase + salary)\n",
    "elif grade ==\"D\":\n",
    "    increase =salary *0.1\n",
    "    print(\"salary monthly\", increase +salary)\n",
    "\n",
    "else:\n",
    "    print(\" no increment\")"
   ]
  },
  {
   "cell_type": "code",
   "execution_count": null,
   "id": "19176bba",
   "metadata": {
    "id": "19176bba",
    "outputId": "01a23e44-886c-4ef4-d1d2-acf2d1fd0e74"
   },
   "outputs": [
    {
     "name": "stdout",
     "output_type": "stream",
     "text": [
      "enter the number  22\n",
      "enter sing  /\n",
      "enter the number  0\n",
      " its o is not divided\n"
     ]
    }
   ],
   "source": [
    "# calculator\n",
    "num_1 = float(input(\"enter the number  \"))\n",
    "sing = input(\"enter sing  \")\n",
    "num_2 = float(input(\"enter the number  \"))\n",
    "\n",
    "if sing == \"+\":\n",
    "    print(\" answer\", num_1 + num_2)\n",
    "elif sing == \"-\":\n",
    "    print(\" answer\", num_1 - num_2)\n",
    "elif sing == \"*\":\n",
    "    print(\" answer\", num_1 * num_2)\n",
    "elif sing == \"/\":\n",
    "    if num_2 != 0:\n",
    "        print(\" answer\", num_1 / num_2)\n",
    "    else:\n",
    "        print(\" its o is not divided\")\n",
    "else:\n",
    "    print(\" wrong\")"
   ]
  },
  {
   "cell_type": "code",
   "execution_count": null,
   "id": "b3daf49a",
   "metadata": {
    "id": "b3daf49a",
    "outputId": "4c843fee-4172-48be-9746-0d7102582ddd"
   },
   "outputs": [
    {
     "ename": "SyntaxError",
     "evalue": "invalid syntax. Perhaps you forgot a comma? (1356456340.py, line 5)",
     "output_type": "error",
     "traceback": [
      "\u001b[1;36m  Cell \u001b[1;32mIn[4], line 5\u001b[1;36m\u001b[0m\n\u001b[1;33m    print(\"new_salary =\" current_salary * 50%)\u001b[0m\n\u001b[1;37m          ^\u001b[0m\n\u001b[1;31mSyntaxError\u001b[0m\u001b[1;31m:\u001b[0m invalid syntax. Perhaps you forgot a comma?\n"
     ]
    }
   ],
   "source": [
    "grade = input(\"Enter the employee's grade (A, B, C, or D) : \")\n",
    "current_salary = input(\"Enter the current salary : \")\n",
    "\n",
    "if grade == 'A':\n",
    "    print(\"new_salary =\" current_salary * 50%)\n",
    "elif grade == 'B':\n",
    "    print(\"new_salary =\" current_salary * 30%)\n",
    "elif grade == 'C':\n",
    "    print(\"new_salary =\" current_salary * 20%)\n",
    "elif grade == 'D':\n",
    "    print(\"new_salary =\" current_salary * 10%)\n",
    "else:\n",
    "    print(\"Invalid grade entered\")"
   ]
  },
  {
   "cell_type": "markdown",
   "id": "5eef41e2",
   "metadata": {
    "id": "5eef41e2"
   },
   "source": [
    "password = input(\"password\")\n",
    "if \"1234\" in password:\n",
    "    print(\"right password\")\n",
    "else:\n",
    "    print(\"incorrecct\")"
   ]
  },
  {
   "cell_type": "code",
   "execution_count": null,
   "id": "d90234af",
   "metadata": {
    "id": "d90234af",
    "outputId": "2f070e37-7d74-4efe-94f0-64c7c2233bdb"
   },
   "outputs": [
    {
     "name": "stdout",
     "output_type": "stream",
     "text": [
      "enter email@\n"
     ]
    }
   ],
   "source": [
    "# email = input(\"enter email\")\n",
    "# if \"@\" in email:\n",
    "#     pass\n",
    "# else:\n",
    "#     print(\"imncorrect id, missing  @\")\n",
    "#     email = input(\"again enter email\")\n",
    "# password = input(\"password \")\n",
    "# if \"1234\" in password:\n",
    "#     print(\"right password\")\n",
    "# else:\n",
    "#     print(\"incorrecct\")\n",
    "\n",
    "email = input(\"enter email\")\n",
    "if \"@\" in email:\n",
    "     pass\n",
    "else:\n",
    "    print(\"imncorrect id, missing  @\")\n",
    "    email = input(\"password\")\n",
    "    if email ==\"sagarabhang93@gmail.com\":\n",
    "        print(\"finaly right password\")\n",
    "if email == \"sagarabhang93@gmail.com\" and password == \"1234\":\n",
    "    print(\"welcome\")\n",
    "elif email == \"sagarabhang93@gmail.com\" and password !=\"1234\":\n",
    "    print(\"password wrong\")\n",
    "    password = input(\"password\")\n",
    "    if password ==\"1234\":\n",
    "        print(\"finaly right password\")\n",
    "else:\n",
    "    (\" incorrect id  and password\")"
   ]
  },
  {
   "cell_type": "code",
   "execution_count": null,
   "id": "006111dd",
   "metadata": {
    "id": "006111dd",
    "outputId": "e78e751f-e68b-442e-c29b-5897ea07b11e"
   },
   "outputs": [
    {
     "name": "stdout",
     "output_type": "stream",
     "text": [
      "enter email@\n",
      "password122\n",
      "incorrecct\n",
      "password1234\n"
     ]
    }
   ],
   "source": [
    "email = input(\"enter email\")\n",
    "if \"@\" in email:\n",
    "    pass\n",
    "else:\n",
    "    print(\"imncorrect id, missing  @\")\n",
    "    email = input(\"enter email\")\n",
    "password = input(\"password\")\n",
    "if \"1234\" in password:\n",
    "    print(\"right password\")\n",
    "else:\n",
    "    print(\"incorrecct\")\n",
    "    password = input(\"password\")\n",
    "if email == \"sagarabhang93@gmail.com\" and password == \"1234\":\n",
    "    print(\"welcome\")\n"
   ]
  },
  {
   "cell_type": "markdown",
   "id": "a1b8bef5",
   "metadata": {
    "id": "a1b8bef5"
   },
   "source": [
    "# loops - two type\n",
    "# while loop  =  not know how many loop run\n",
    "# for loop  = already know loop how many type run (if we want to execute some action for every element present in some sequence (it may be string or collection) then we should go for for loop)\n",
    "# itrative = if we want to execute a group of statements multiple times then use we should go for iterative statments\n"
   ]
  },
  {
   "cell_type": "code",
   "execution_count": null,
   "id": "d5464e9d",
   "metadata": {
    "id": "d5464e9d"
   },
   "outputs": [],
   "source": [
    "#while loop means itrection control block  START, CONDITION, INCREMENT/DECREMENT\n",
    "# while loop sentence\n",
    "# while  condition:\n",
    "#  code"
   ]
  },
  {
   "cell_type": "code",
   "execution_count": null,
   "id": "649d3c4c",
   "metadata": {
    "id": "649d3c4c",
    "outputId": "9226ece7-0e64-4a1a-a972-11c797ec4ab3"
   },
   "outputs": [
    {
     "name": "stdout",
     "output_type": "stream",
     "text": [
      "1\n",
      "2\n",
      "3\n",
      "4\n",
      "5\n",
      "6\n",
      "7\n",
      "8\n",
      "9\n",
      "10\n",
      "11\n"
     ]
    }
   ],
   "source": [
    "i = 1\n",
    "while i<= 10:\n",
    "    print(i)\n",
    "    i = i+1   # increment\n",
    "\n",
    "print(i)"
   ]
  },
  {
   "cell_type": "code",
   "execution_count": 52,
   "id": "fc0b66d1",
   "metadata": {},
   "outputs": [
    {
     "name": "stdout",
     "output_type": "stream",
     "text": [
      "1\n",
      "2\n",
      "3\n",
      "4\n",
      "5\n",
      "6\n",
      "7\n",
      "8\n",
      "9\n",
      "10\n",
      "11\n",
      "12\n",
      "13\n",
      "14\n",
      "15\n",
      "16\n",
      "17\n",
      "18\n",
      "19\n",
      "20\n",
      "21\n",
      "22\n",
      "23\n",
      "24\n",
      "25\n",
      "26\n",
      "27\n",
      "28\n",
      "29\n",
      "30\n",
      "31\n",
      "32\n",
      "33\n",
      "34\n",
      "35\n",
      "36\n",
      "37\n",
      "38\n",
      "39\n",
      "40\n",
      "41\n",
      "42\n",
      "43\n",
      "44\n",
      "45\n",
      "46\n",
      "47\n",
      "48\n",
      "49\n",
      "50\n",
      "51\n",
      "52\n",
      "53\n",
      "54\n",
      "55\n",
      "56\n",
      "57\n",
      "58\n",
      "59\n",
      "60\n",
      "61\n",
      "62\n",
      "63\n",
      "64\n",
      "65\n",
      "66\n",
      "67\n",
      "68\n",
      "69\n",
      "70\n",
      "71\n",
      "72\n",
      "73\n",
      "74\n",
      "75\n",
      "76\n",
      "77\n",
      "78\n",
      "79\n",
      "80\n",
      "81\n",
      "82\n",
      "83\n",
      "84\n",
      "85\n",
      "86\n",
      "87\n",
      "88\n",
      "89\n",
      "90\n",
      "91\n",
      "92\n",
      "93\n",
      "94\n",
      "95\n",
      "96\n",
      "97\n",
      "98\n",
      "99\n",
      "100\n"
     ]
    }
   ],
   "source": [
    "i = 1\n",
    "while i<=100:\n",
    "    print(i)\n",
    "    i = i+1"
   ]
  },
  {
   "cell_type": "code",
   "execution_count": null,
   "id": "d854a97f",
   "metadata": {
    "id": "d854a97f",
    "outputId": "f3c60497-2f45-4c88-aa58-2271388ae6f8"
   },
   "outputs": [
    {
     "name": "stdout",
     "output_type": "stream",
     "text": [
      "10\n",
      "9\n",
      "8\n",
      "7\n",
      "6\n",
      "5\n",
      "4\n",
      "3\n",
      "2\n",
      "1\n",
      "0\n"
     ]
    }
   ],
   "source": [
    "i=10  # start\n",
    "while i >= 1:   # condition\n",
    "    print(i)\n",
    "    i= i-1  # decrement\n",
    "\n",
    "print(0)"
   ]
  },
  {
   "cell_type": "code",
   "execution_count": null,
   "id": "b2524c2f",
   "metadata": {
    "id": "b2524c2f",
    "outputId": "5db6223f-3f0d-471c-95c8-01fdd08d8ecb"
   },
   "outputs": [
    {
     "name": "stdout",
     "output_type": "stream",
     "text": [
      "enter the number 3\n"
     ]
    },
    {
     "name": "stdout",
     "output_type": "stream",
     "text": [
      "3\n",
      "6\n",
      "9\n",
      "12\n",
      "15\n",
      "18\n",
      "21\n",
      "24\n",
      "27\n",
      "30\n"
     ]
    }
   ],
   "source": [
    "number = int(input(\"enter the number\"))\n",
    "\n",
    "i=1   # i varible iniction value 1\n",
    "while i<11:\n",
    "    print(number * i)\n",
    "    # print(number, \"*\", \"i\", \"=\", number * i)\n",
    "    i+=1"
   ]
  },
  {
   "cell_type": "markdown",
   "id": "10c49be8",
   "metadata": {},
   "source": [
    "# break = we can use break statement inside loops to break loop execution based on some condition\n"
   ]
  },
  {
   "cell_type": "code",
   "execution_count": 13,
   "id": "7bc7274b",
   "metadata": {},
   "outputs": [
    {
     "name": "stdout",
     "output_type": "stream",
     "text": [
      "0\n",
      "1\n",
      "2\n",
      "3\n",
      "4\n",
      "5\n",
      "6\n",
      "plz  break\n"
     ]
    }
   ],
   "source": [
    "for i in range(10):\n",
    "    if i == 7:\n",
    "        print(\"plz  break\")\n",
    "        break\n",
    "\n",
    "    print(i)"
   ]
  },
  {
   "cell_type": "code",
   "execution_count": 15,
   "id": "b95e2d81",
   "metadata": {},
   "outputs": [
    {
     "name": "stdout",
     "output_type": "stream",
     "text": [
      "10\n",
      "20\n"
     ]
    }
   ],
   "source": [
    "cat = [10,20,600,60,70]\n",
    "for item in cat:\n",
    "    if item == 600:\n",
    "        break\n",
    "    print(item)"
   ]
  },
  {
   "cell_type": "markdown",
   "id": "8cf955ae",
   "metadata": {},
   "source": [
    "# continue = we can use continue statement to skip current iteration and continue next iteration"
   ]
  },
  {
   "cell_type": "code",
   "execution_count": 17,
   "id": "05f14b9a",
   "metadata": {},
   "outputs": [
    {
     "name": "stdout",
     "output_type": "stream",
     "text": [
      "1\n",
      "3\n",
      "5\n",
      "7\n",
      "9\n"
     ]
    }
   ],
   "source": [
    "for i in range (10):\n",
    "    if i%2 ==0:\n",
    "        continue\n",
    "    print(i)"
   ]
  },
  {
   "cell_type": "code",
   "execution_count": 19,
   "id": "228b7c3d",
   "metadata": {},
   "outputs": [
    {
     "name": "stdout",
     "output_type": "stream",
     "text": [
      "10\n",
      "20\n",
      "60\n",
      "70\n"
     ]
    }
   ],
   "source": [
    "cat = [10,20,600,60,70]\n",
    "for i in cat:\n",
    "    if i == 600:\n",
    "        continue\n",
    "    print(i)"
   ]
  },
  {
   "cell_type": "markdown",
   "id": "5ae75600",
   "metadata": {},
   "source": [
    "# loops with else block\n"
   ]
  },
  {
   "cell_type": "code",
   "execution_count": 41,
   "id": "59cc8f62",
   "metadata": {},
   "outputs": [
    {
     "name": "stdout",
     "output_type": "stream",
     "text": [
      "10\n",
      "20\n",
      "not process\n"
     ]
    }
   ],
   "source": [
    "cat = [10,20,600,6000,70]\n",
    "for i in cat:\n",
    "    if i >= 600:\n",
    "        print(\"not process\")\n",
    "        break\n",
    "    print (i)\n",
    "        \n",
    "else:\n",
    "    print(\"all item cuccesfully \")\n"
   ]
  },
  {
   "cell_type": "markdown",
   "id": "8387e1cb",
   "metadata": {},
   "source": [
    "# pass = its empy block with pass keyword"
   ]
  },
  {
   "cell_type": "code",
   "execution_count": 42,
   "id": "d85132f0",
   "metadata": {},
   "outputs": [
    {
     "name": "stdout",
     "output_type": "stream",
     "text": [
      "0\n",
      "2\n",
      "4\n",
      "6\n",
      "8\n"
     ]
    }
   ],
   "source": [
    "for i in range(10):\n",
    "    if i % 2 ==0:\n",
    "        print(i)\n",
    "    else:\n",
    "        pass"
   ]
  },
  {
   "cell_type": "code",
   "execution_count": null,
   "id": "0bb5b321",
   "metadata": {
    "id": "0bb5b321",
    "outputId": "9cdfcd68-4656-4483-d75f-1e8ed909bd4f"
   },
   "outputs": [
    {
     "data": {
      "text/plain": [
       "28"
      ]
     },
     "execution_count": 1,
     "metadata": {},
     "output_type": "execute_result"
    }
   ],
   "source": [
    "# guessing game\n",
    "import random\n",
    "random.randint(1,100)"
   ]
  },
  {
   "cell_type": "code",
   "execution_count": 55,
   "id": "4dfb9428",
   "metadata": {},
   "outputs": [
    {
     "data": {
      "text/plain": [
       "83"
      ]
     },
     "execution_count": 55,
     "metadata": {},
     "output_type": "execute_result"
    }
   ],
   "source": [
    "import random \n",
    "random.randint(1,100)"
   ]
  },
  {
   "cell_type": "code",
   "execution_count": null,
   "id": "0f611a01",
   "metadata": {
    "id": "0f611a01",
    "outputId": "a15b4330-79cc-4815-e4c0-e2711e1ca58b"
   },
   "outputs": [
    {
     "name": "stdout",
     "output_type": "stream",
     "text": [
      "enter the number3\n",
      "guess is higher\n",
      "enter the number2\n",
      "guess is higher\n",
      "enter the number5\n",
      "guess is lower\n",
      "enter the number1\n",
      "guess is higher\n",
      "enter the number2\n",
      "guess is higher\n",
      "enter the number2\n",
      "guess is higher\n",
      "enter the number3\n",
      "guess is higher\n",
      "enter the number4\n",
      "right number\n",
      "8 attemts\n"
     ]
    }
   ],
   "source": [
    "import random\n",
    "jackpot = random.randint(1,5)\n",
    "\n",
    "guess = int(input(\"enter the number\"))\n",
    "counter = 1\n",
    "\n",
    "while guess != jackpot:\n",
    "    if guess < jackpot:\n",
    "        print(\"guess is higher\")\n",
    "    else:\n",
    "        print(\"guess is lower\")\n",
    "    guess = int(input(\"enter the number\"))\n",
    "    counter+=1\n",
    "\n",
    "print(\"right number\")\n",
    "print(counter, \"attemts\")"
   ]
  },
  {
   "cell_type": "markdown",
   "id": "2c3b9f64",
   "metadata": {
    "id": "2c3b9f64"
   },
   "source": [
    "# for loop"
   ]
  },
  {
   "cell_type": "code",
   "execution_count": null,
   "id": "2624eab2",
   "metadata": {
    "id": "2624eab2",
    "outputId": "713894ca-0582-4e7a-f504-2326902fd5c5"
   },
   "outputs": [
    {
     "data": {
      "text/plain": [
       "range(1, 11)"
      ]
     },
     "execution_count": 2,
     "metadata": {},
     "output_type": "execute_result"
    }
   ],
   "source": [
    "# range function\n",
    "range(1,11)"
   ]
  },
  {
   "cell_type": "code",
   "execution_count": 57,
   "id": "d2d359e1",
   "metadata": {
    "id": "d2d359e1",
    "outputId": "50d8e8ab-6468-4746-a393-824cac2d92db"
   },
   "outputs": [
    {
     "data": {
      "text/plain": [
       "[1, 2, 3, 4, 5, 6, 7, 8, 9, 10, 11, 12, 13, 14, 15, 16, 17, 18, 19, 20]"
      ]
     },
     "execution_count": 57,
     "metadata": {},
     "output_type": "execute_result"
    }
   ],
   "source": [
    "# show the range number\n",
    "list(range(1,21))"
   ]
  },
  {
   "cell_type": "code",
   "execution_count": null,
   "id": "cc918185",
   "metadata": {
    "id": "cc918185",
    "outputId": "0fe01fdb-0c43-43ea-fc48-9b0e19292468"
   },
   "outputs": [
    {
     "data": {
      "text/plain": [
       "[1, 2, 3, 4, 5, 6, 7, 8, 9, 10, 11, 12, 13, 14, 15, 16, 17, 18, 19, 20]"
      ]
     },
     "execution_count": 4,
     "metadata": {},
     "output_type": "execute_result"
    }
   ],
   "source": [
    "import numpy as np\n",
    "from numpy import arange\n",
    "ll = list(arange(1,21))\n",
    "ll"
   ]
  },
  {
   "cell_type": "code",
   "execution_count": null,
   "id": "fb2b08be",
   "metadata": {
    "id": "fb2b08be",
    "outputId": "74511139-7c0d-43d2-e2ec-480a4da1610f"
   },
   "outputs": [
    {
     "name": "stdout",
     "output_type": "stream",
     "text": [
      "[0.  0.5 1.  1.5 2.  2.5 3.  3.5 4.  4.5 5.  5.5 6.  6.5 7.  7.5 8.  8.5\n",
      " 9.  9.5]\n"
     ]
    }
   ],
   "source": [
    "import numpy as np\n",
    "\n",
    "# Generating an array of float numbers from 0 to 10 (exclusive) with a step of 0.5\n",
    "my_arange = np.arange(0, 10, 0.5)\n",
    "print(my_arange)\n"
   ]
  },
  {
   "cell_type": "code",
   "execution_count": null,
   "id": "4ee532ca",
   "metadata": {
    "id": "4ee532ca",
    "outputId": "8f963f6b-cf2f-47a2-bc1a-b166b5d7b535"
   },
   "outputs": [
    {
     "data": {
      "text/plain": [
       "[3, 6, 9, 12, 15, 18, 21, 24, 27, 30]"
      ]
     },
     "execution_count": 6,
     "metadata": {},
     "output_type": "execute_result"
    }
   ],
   "source": [
    "# step, 3 means steps\n",
    "list(range(3,31,3))"
   ]
  },
  {
   "cell_type": "code",
   "execution_count": null,
   "id": "052a15a9",
   "metadata": {
    "id": "052a15a9",
    "outputId": "8091ce32-cbb4-4b90-ae20-94c58c35b02c"
   },
   "outputs": [
    {
     "data": {
      "text/plain": [
       "[10, 9, 8, 7, 6, 5, 4, 3, 2, 1]"
      ]
     },
     "execution_count": 6,
     "metadata": {},
     "output_type": "execute_result"
    }
   ],
   "source": [
    "list(range(10,0,-1))  # reverce range"
   ]
  },
  {
   "cell_type": "code",
   "execution_count": null,
   "id": "4f0ab36b",
   "metadata": {
    "id": "4f0ab36b",
    "outputId": "9071d320-45cd-4c96-c5c6-4bbad6a572f9"
   },
   "outputs": [
    {
     "data": {
      "text/plain": [
       "'ram'"
      ]
     },
     "execution_count": 8,
     "metadata": {},
     "output_type": "execute_result"
    }
   ],
   "source": [
    "# sequence\n",
    "# string\n",
    "\"ram\""
   ]
  },
  {
   "cell_type": "code",
   "execution_count": null,
   "id": "f4f48d25",
   "metadata": {
    "id": "f4f48d25",
    "outputId": "c6a30d45-bb40-4492-e943-6882cf30cd3e"
   },
   "outputs": [
    {
     "data": {
      "text/plain": [
       "['ram', 'seeta']"
      ]
     },
     "execution_count": 9,
     "metadata": {},
     "output_type": "execute_result"
    }
   ],
   "source": [
    "[\"ram\",\"seeta\"]"
   ]
  },
  {
   "cell_type": "code",
   "execution_count": null,
   "id": "74f807af",
   "metadata": {
    "id": "74f807af",
    "outputId": "3a8ff91d-ca1e-40d4-dfc7-99510883b2c1"
   },
   "outputs": [
    {
     "name": "stdout",
     "output_type": "stream",
     "text": [
      "1\n",
      "2\n",
      "3\n",
      "4\n",
      "5\n",
      "6\n",
      "7\n",
      "8\n",
      "9\n",
      "10\n"
     ]
    }
   ],
   "source": [
    "for i in range(1,11):\n",
    "    print(i)"
   ]
  },
  {
   "cell_type": "code",
   "execution_count": null,
   "id": "183c1fdf",
   "metadata": {
    "id": "183c1fdf",
    "outputId": "e8f10a71-ef6c-471f-93dd-7a81bfde7420"
   },
   "outputs": [
    {
     "name": "stdout",
     "output_type": "stream",
     "text": [
      "0\n",
      "2\n",
      "4\n",
      "6\n",
      "8\n",
      "10\n"
     ]
    }
   ],
   "source": [
    "for i in range(0,11,2):\n",
    "    print(i)"
   ]
  },
  {
   "cell_type": "code",
   "execution_count": null,
   "id": "7dfdba29",
   "metadata": {
    "id": "7dfdba29",
    "outputId": "51e8630f-b152-40f6-976e-a71606304c37"
   },
   "outputs": [
    {
     "name": "stdout",
     "output_type": "stream",
     "text": [
      "k\n",
      "o\n",
      "l\n",
      "k\n",
      "a\n",
      "t\n",
      "a\n"
     ]
    }
   ],
   "source": [
    "#sequence\n",
    "for i in \"kolkata\":\n",
    "    print(i)"
   ]
  },
  {
   "cell_type": "code",
   "execution_count": null,
   "id": "7cd5e8cc",
   "metadata": {
    "id": "7cd5e8cc",
    "outputId": "a75a33a7-a235-4f55-ed4d-023c87ff5f9e"
   },
   "outputs": [
    {
     "name": "stdout",
     "output_type": "stream",
     "text": [
      "1\n",
      "2\n",
      "3\n",
      "4\n",
      "5\n"
     ]
    }
   ],
   "source": [
    "for i in (1,2,3,4,5):\n",
    "    print(i)"
   ]
  },
  {
   "cell_type": "markdown",
   "id": "4a5f6bfb",
   "metadata": {
    "id": "4a5f6bfb"
   },
   "source": [
    "# Nested loops"
   ]
  },
  {
   "cell_type": "code",
   "execution_count": null,
   "id": "e7d776d6",
   "metadata": {
    "id": "e7d776d6"
   },
   "outputs": [],
   "source": [
    "# *\n",
    "# **\n",
    "# ***\n",
    "# ****"
   ]
  },
  {
   "cell_type": "code",
   "execution_count": 59,
   "id": "025be57b",
   "metadata": {
    "id": "025be57b",
    "outputId": "09e4f4d3-20e5-4056-f5cc-1d16ff501f3d"
   },
   "outputs": [
    {
     "name": "stdout",
     "output_type": "stream",
     "text": [
      "*\n",
      "**\n",
      "***\n",
      "****\n",
      "*****\n",
      "******\n",
      "*******\n",
      "********\n",
      "*********\n",
      "**********\n",
      "***********\n"
     ]
    }
   ],
   "source": [
    "rows = int(input(\"enter the number of row  \"))\n",
    "\n",
    "for i in range(1,rows+1):\n",
    "    for j in range(0,i):\n",
    "        print(\"*\", end= \"\")\n",
    "    print(\"\")\n"
   ]
  },
  {
   "cell_type": "code",
   "execution_count": 62,
   "id": "41ed70a1",
   "metadata": {},
   "outputs": [
    {
     "name": "stdout",
     "output_type": "stream",
     "text": [
      "%\n",
      "%%\n",
      "%%%\n",
      "%%%%\n",
      "%%%%%\n",
      "%%%%%%\n",
      "%%%%%%%\n",
      "%%%%%%%%\n",
      "%%%%%%%%%\n",
      "%%%%%%%%%%\n"
     ]
    }
   ],
   "source": [
    "for i in range (1, 11):\n",
    "    for j in range(0, i):\n",
    "        print(\"%\", end = \"\")\n",
    "    print(\"\")"
   ]
  },
  {
   "cell_type": "code",
   "execution_count": null,
   "id": "9d42b08c-2fa9-4439-90b5-15436ffefcca",
   "metadata": {
    "id": "9d42b08c-2fa9-4439-90b5-15436ffefcca",
    "outputId": "fddc575a-d2f9-4c13-ecde-f0e0792b7892"
   },
   "outputs": [
    {
     "name": "stdout",
     "output_type": "stream",
     "text": [
      "*\n",
      "**\n",
      "***\n",
      "****\n",
      "*****\n",
      "******\n"
     ]
    }
   ],
   "source": [
    "\n",
    "for i in range (1,7):\n",
    "    for j in range (0,i):\n",
    "        print(\"*\", end= \"\")\n",
    "    print(\"\")"
   ]
  },
  {
   "cell_type": "code",
   "execution_count": null,
   "id": "afb1ba51-e1bd-41a8-8af6-5d220dacb7c3",
   "metadata": {
    "id": "afb1ba51-e1bd-41a8-8af6-5d220dacb7c3"
   },
   "outputs": [],
   "source": [
    "*******\n",
    " ******\n",
    "  *****\n",
    "   ****"
   ]
  },
  {
   "cell_type": "code",
   "execution_count": null,
   "id": "33f95431-ac40-4dab-aab6-a3cbc5311a6e",
   "metadata": {
    "id": "33f95431-ac40-4dab-aab6-a3cbc5311a6e",
    "outputId": "84c8bf04-6287-4f59-b43f-c8d0a003a67c"
   },
   "outputs": [
    {
     "name": "stdout",
     "output_type": "stream",
     "text": [
      "      *      *      *      *      *      *1\n",
      "     *     *     *     *     *1\n",
      "    *    *    *    *1\n",
      "   *   *   *1\n",
      "  *  *1\n",
      " *1\n",
      "1\n"
     ]
    }
   ],
   "source": [
    "for i in range (7,0,-1):\n",
    "    for j in range (i-1,0,-1):\n",
    "        print((i-1)*\" \", end= \"*\")\n",
    "    print(\"\")"
   ]
  },
  {
   "cell_type": "markdown",
   "id": "7ca76633",
   "metadata": {
    "id": "7ca76633"
   },
   "source": [
    "\"\"# break, continue, pass"
   ]
  },
  {
   "cell_type": "code",
   "execution_count": null,
   "id": "e67261a7",
   "metadata": {
    "id": "e67261a7",
    "outputId": "52432dac-5036-4aed-f32a-5ded4405f1db"
   },
   "outputs": [
    {
     "name": "stdout",
     "output_type": "stream",
     "text": [
      "1\n",
      "2\n",
      "3\n",
      "4\n",
      "5\n",
      "6\n",
      "7\n"
     ]
    }
   ],
   "source": [
    "# break\n",
    "i=1\n",
    "for i in range(1,15):\n",
    "    if i==8:\n",
    "        break\n",
    "    print(i)"
   ]
  },
  {
   "cell_type": "code",
   "execution_count": null,
   "id": "7f04f1f4",
   "metadata": {
    "id": "7f04f1f4",
    "outputId": "67676355-cf8d-41a8-858f-866d9234d763"
   },
   "outputs": [
    {
     "name": "stdout",
     "output_type": "stream",
     "text": [
      "1\n",
      "hello\n",
      "2\n",
      "hello\n",
      "3\n",
      "hello\n",
      "4\n",
      "hello\n",
      "6\n",
      "hello\n",
      "7\n",
      "hello\n",
      "8\n",
      "hello\n",
      "9\n",
      "hello\n",
      "10\n",
      "hello\n"
     ]
    }
   ],
   "source": [
    "# continue\n",
    "for i in range(1,11):\n",
    "    if i == 5:   # continue value skip\n",
    "        continue\n",
    "    print(i)\n",
    "    print(\"hello\")"
   ]
  },
  {
   "cell_type": "code",
   "execution_count": null,
   "id": "5137b7c1",
   "metadata": {
    "id": "5137b7c1"
   },
   "outputs": [],
   "source": [
    "# pass\n",
    "for i in range(1,11):\n",
    "    pass     # current time not avalble logic, its pass"
   ]
  },
  {
   "cell_type": "markdown",
   "id": "59010b9f",
   "metadata": {
    "id": "59010b9f"
   },
   "source": [
    "# built_in_functions"
   ]
  },
  {
   "cell_type": "code",
   "execution_count": null,
   "id": "00a05af4",
   "metadata": {
    "id": "00a05af4"
   },
   "outputs": [],
   "source": [
    "# print\n",
    "# input\n",
    "# type\n",
    "# int etc"
   ]
  },
  {
   "cell_type": "code",
   "execution_count": null,
   "id": "1026c7b4",
   "metadata": {
    "id": "1026c7b4"
   },
   "outputs": [],
   "source": [
    "# absult function"
   ]
  },
  {
   "cell_type": "code",
   "execution_count": null,
   "id": "c4f5ee74",
   "metadata": {
    "id": "c4f5ee74",
    "outputId": "e768f8e6-d802-4eb7-e049-fda1bcf18eb4"
   },
   "outputs": [
    {
     "data": {
      "text/plain": [
       "4"
      ]
     },
     "execution_count": 3,
     "metadata": {},
     "output_type": "execute_result"
    }
   ],
   "source": [
    "abs(4)"
   ]
  },
  {
   "cell_type": "code",
   "execution_count": null,
   "id": "22a68333",
   "metadata": {
    "id": "22a68333",
    "outputId": "29896a7d-ce95-4227-8912-057d220e8914"
   },
   "outputs": [
    {
     "data": {
      "text/plain": [
       "4"
      ]
     },
     "execution_count": 4,
     "metadata": {},
     "output_type": "execute_result"
    }
   ],
   "source": [
    "abs(-4)"
   ]
  },
  {
   "cell_type": "code",
   "execution_count": null,
   "id": "a3822251",
   "metadata": {
    "id": "a3822251",
    "outputId": "4a5f821f-0dd7-4cf5-f7d3-0783a32e1db5"
   },
   "outputs": [
    {
     "data": {
      "text/plain": [
       "0.125"
      ]
     },
     "execution_count": 5,
     "metadata": {},
     "output_type": "execute_result"
    }
   ],
   "source": [
    "# powerr\n",
    "pow(2,-3)"
   ]
  },
  {
   "cell_type": "code",
   "execution_count": null,
   "id": "eccf85f7",
   "metadata": {
    "id": "eccf85f7",
    "outputId": "c3af5cf1-9b5e-4009-aee5-a04d1735eb4f"
   },
   "outputs": [
    {
     "data": {
      "text/plain": [
       "1"
      ]
     },
     "execution_count": 7,
     "metadata": {},
     "output_type": "execute_result"
    }
   ],
   "source": [
    "# min/max\n",
    "min([1,44,66,77])"
   ]
  },
  {
   "cell_type": "code",
   "execution_count": null,
   "id": "c5d70149",
   "metadata": {
    "id": "c5d70149",
    "outputId": "d2354584-7a02-459a-dc02-90e21af660f7"
   },
   "outputs": [
    {
     "data": {
      "text/plain": [
       "77"
      ]
     },
     "execution_count": 8,
     "metadata": {},
     "output_type": "execute_result"
    }
   ],
   "source": [
    "max([1,44,66,77])"
   ]
  },
  {
   "cell_type": "code",
   "execution_count": null,
   "id": "b5b77951",
   "metadata": {
    "id": "b5b77951",
    "outputId": "3e6d1eb3-2e3b-4def-9f24-b1edac6ae12f"
   },
   "outputs": [
    {
     "data": {
      "text/plain": [
       "3"
      ]
     },
     "execution_count": 10,
     "metadata": {},
     "output_type": "execute_result"
    }
   ],
   "source": [
    "# round\n",
    "c = 22/7\n",
    "round(c)"
   ]
  },
  {
   "cell_type": "code",
   "execution_count": null,
   "id": "d7b8cfa6",
   "metadata": {
    "id": "d7b8cfa6",
    "outputId": "071ab6ee-8ab6-4b34-e7af-d79dca3fc6e9"
   },
   "outputs": [
    {
     "data": {
      "text/plain": [
       "(2, 1)"
      ]
     },
     "execution_count": 12,
     "metadata": {},
     "output_type": "execute_result"
    }
   ],
   "source": [
    "# divmod\n",
    "divmod(5,2)"
   ]
  },
  {
   "cell_type": "code",
   "execution_count": null,
   "id": "485674a9",
   "metadata": {
    "id": "485674a9",
    "outputId": "1e9b0dca-031a-4b7e-c9ca-9118e29e9c2e"
   },
   "outputs": [
    {
     "data": {
      "text/plain": [
       "'0x5'"
      ]
     },
     "execution_count": 15,
     "metadata": {},
     "output_type": "execute_result"
    }
   ],
   "source": [
    "# bin/oct/hex\n",
    "bin(4)\n",
    "hex(5)"
   ]
  },
  {
   "cell_type": "code",
   "execution_count": null,
   "id": "20e0a316",
   "metadata": {
    "id": "20e0a316",
    "outputId": "47f53f4e-f18d-4735-f4ea-6ffff1bbcd0d"
   },
   "outputs": [
    {
     "data": {
      "text/plain": [
       "140737311773864"
      ]
     },
     "execution_count": 16,
     "metadata": {},
     "output_type": "execute_result"
    }
   ],
   "source": [
    "#id\n",
    "a =13\n",
    "id(a)"
   ]
  },
  {
   "cell_type": "code",
   "execution_count": null,
   "id": "88580ac4",
   "metadata": {
    "id": "88580ac4",
    "outputId": "784dd1a8-d15a-4d22-e2c4-45fe6b51c4a7"
   },
   "outputs": [
    {
     "data": {
      "text/plain": [
       "99"
      ]
     },
     "execution_count": 17,
     "metadata": {},
     "output_type": "execute_result"
    }
   ],
   "source": [
    "# ord  # as value\n",
    "ord(\"c\")"
   ]
  },
  {
   "cell_type": "code",
   "execution_count": null,
   "id": "23d7b992",
   "metadata": {
    "id": "23d7b992",
    "outputId": "1f45fd4d-e612-4185-b142-59031d07a823"
   },
   "outputs": [
    {
     "data": {
      "text/plain": [
       "71"
      ]
     },
     "execution_count": 18,
     "metadata": {},
     "output_type": "execute_result"
    }
   ],
   "source": [
    "# ord\n",
    "ord(\"G\")"
   ]
  },
  {
   "cell_type": "code",
   "execution_count": null,
   "id": "3f9914fa",
   "metadata": {
    "id": "3f9914fa",
    "outputId": "3a94c142-6880-439f-b853-33c6ec4f3129"
   },
   "outputs": [
    {
     "data": {
      "text/plain": [
       "7"
      ]
     },
     "execution_count": 19,
     "metadata": {},
     "output_type": "execute_result"
    }
   ],
   "source": [
    "# len\n",
    "len(\"kolkata\")"
   ]
  },
  {
   "cell_type": "code",
   "execution_count": null,
   "id": "910a0a78",
   "metadata": {
    "id": "910a0a78",
    "outputId": "35743eac-978c-46fe-fc3c-12f37377f4ee"
   },
   "outputs": [
    {
     "data": {
      "text/plain": [
       "55"
      ]
     },
     "execution_count": 21,
     "metadata": {},
     "output_type": "execute_result"
    }
   ],
   "source": [
    "# sum, sum of ln the list data\n",
    "sum([1,2,3,4,5,6,7,8,9,10])"
   ]
  },
  {
   "cell_type": "code",
   "execution_count": null,
   "id": "8287b4f9",
   "metadata": {
    "id": "8287b4f9",
    "outputId": "6ea1fa9e-7940-4059-d2ed-d7565dea6376"
   },
   "outputs": [
    {
     "name": "stderr",
     "output_type": "stream",
     "text": [
      "IOPub data rate exceeded.\n",
      "The notebook server will temporarily stop sending output\n",
      "to the client in order to avoid crashing it.\n",
      "To change this limit, set the config variable\n",
      "`--NotebookApp.iopub_data_rate_limit`.\n",
      "\n",
      "Current values:\n",
      "NotebookApp.iopub_data_rate_limit=1000000.0 (bytes/sec)\n",
      "NotebookApp.rate_limit_window=3.0 (secs)\n",
      "\n"
     ]
    }
   ],
   "source": [
    "# help\n",
    "help(\"pandas\")"
   ]
  },
  {
   "cell_type": "markdown",
   "id": "4065ca69",
   "metadata": {
    "id": "4065ca69"
   },
   "source": [
    "# built_in_modeles"
   ]
  },
  {
   "cell_type": "code",
   "execution_count": null,
   "id": "a66017fd",
   "metadata": {
    "id": "a66017fd"
   },
   "outputs": [],
   "source": [
    "# consider a module to be the same as a code library\n",
    "# a file containing a set of functions you want to include in your application\n",
    "# math\n",
    "# random\n",
    "# os\n",
    "# time"
   ]
  },
  {
   "cell_type": "code",
   "execution_count": null,
   "id": "2cb9c065",
   "metadata": {
    "id": "2cb9c065"
   },
   "outputs": [],
   "source": [
    "import math"
   ]
  },
  {
   "cell_type": "code",
   "execution_count": null,
   "id": "96b13c68",
   "metadata": {
    "id": "96b13c68",
    "outputId": "9af2d4df-e923-49b6-d11a-eaab8a3afc98"
   },
   "outputs": [
    {
     "data": {
      "text/plain": [
       "3.141592653589793"
      ]
     },
     "execution_count": 26,
     "metadata": {},
     "output_type": "execute_result"
    }
   ],
   "source": [
    "math.pi"
   ]
  },
  {
   "cell_type": "code",
   "execution_count": null,
   "id": "88256de0",
   "metadata": {
    "id": "88256de0",
    "outputId": "0e80597f-3c61-44ab-933b-241a5df820eb"
   },
   "outputs": [
    {
     "data": {
      "text/plain": [
       "2.718281828459045"
      ]
     },
     "execution_count": 27,
     "metadata": {},
     "output_type": "execute_result"
    }
   ],
   "source": [
    "math.e"
   ]
  },
  {
   "cell_type": "code",
   "execution_count": null,
   "id": "ba4166cf",
   "metadata": {
    "id": "ba4166cf",
    "outputId": "25172887-834d-4285-9d0b-5874e522053e"
   },
   "outputs": [
    {
     "data": {
      "text/plain": [
       "120"
      ]
     },
     "execution_count": 28,
     "metadata": {},
     "output_type": "execute_result"
    }
   ],
   "source": [
    "math.factorial(5)"
   ]
  },
  {
   "cell_type": "code",
   "execution_count": null,
   "id": "49c053ad",
   "metadata": {
    "id": "49c053ad",
    "outputId": "9e2757a2-5718-433b-d76c-ff76fe0e0aa2"
   },
   "outputs": [
    {
     "data": {
      "text/plain": [
       "7"
      ]
     },
     "execution_count": 30,
     "metadata": {},
     "output_type": "execute_result"
    }
   ],
   "source": [
    "math.ceil(6.3)"
   ]
  },
  {
   "cell_type": "code",
   "execution_count": null,
   "id": "b2777b5d",
   "metadata": {
    "id": "b2777b5d",
    "outputId": "2005321d-0484-46c3-947e-b68224f70b6a"
   },
   "outputs": [
    {
     "data": {
      "text/plain": [
       "6"
      ]
     },
     "execution_count": 33,
     "metadata": {},
     "output_type": "execute_result"
    }
   ],
   "source": [
    "math.floor(6.9)"
   ]
  },
  {
   "cell_type": "code",
   "execution_count": null,
   "id": "c392d4f1",
   "metadata": {
    "id": "c392d4f1",
    "outputId": "75346d7b-f145-41c0-bc2b-84eaad183dc7"
   },
   "outputs": [
    {
     "data": {
      "text/plain": [
       "2.0"
      ]
     },
     "execution_count": 34,
     "metadata": {},
     "output_type": "execute_result"
    }
   ],
   "source": [
    "math.sqrt(4)"
   ]
  },
  {
   "cell_type": "code",
   "execution_count": null,
   "id": "34a2b615",
   "metadata": {
    "id": "34a2b615",
    "outputId": "c25da1c1-b3d0-453b-ed52-472e637155d1"
   },
   "outputs": [
    {
     "data": {
      "text/plain": [
       "38"
      ]
     },
     "execution_count": 42,
     "metadata": {},
     "output_type": "execute_result"
    }
   ],
   "source": [
    "# random module\n",
    "import random\n",
    "random.randint(1,100)"
   ]
  },
  {
   "cell_type": "code",
   "execution_count": null,
   "id": "04e532ff",
   "metadata": {
    "id": "04e532ff",
    "outputId": "5b2ad474-556c-4e69-9260-9cbfdfe043f4"
   },
   "outputs": [
    {
     "data": {
      "text/plain": [
       "[55, 33, 23, 77, 98, 675]"
      ]
     },
     "execution_count": 46,
     "metadata": {},
     "output_type": "execute_result"
    }
   ],
   "source": [
    "aa=[33,55,77,23,675,98]\n",
    "random.shuffle(aa)   # shuffle pate sarkh pistay\n",
    "aa"
   ]
  },
  {
   "cell_type": "code",
   "execution_count": 64,
   "id": "91c0efb6",
   "metadata": {
    "id": "91c0efb6",
    "outputId": "5f178636-bbb2-4e6a-f2ee-bbbf55354bc4"
   },
   "outputs": [
    {
     "data": {
      "text/plain": [
       "1755262632.7820194"
      ]
     },
     "execution_count": 64,
     "metadata": {},
     "output_type": "execute_result"
    }
   ],
   "source": [
    "# time\n",
    "import time\n",
    "time.time()"
   ]
  },
  {
   "cell_type": "code",
   "execution_count": null,
   "id": "20070eb4",
   "metadata": {
    "id": "20070eb4",
    "outputId": "c9bd4e96-10fc-4320-db18-490db52fb9ff",
    "scrolled": true
   },
   "outputs": [
    {
     "data": {
      "text/plain": [
       "'Sat Oct  5 00:14:37 2024'"
      ]
     },
     "execution_count": 3,
     "metadata": {},
     "output_type": "execute_result"
    }
   ],
   "source": [
    "time.ctime()"
   ]
  },
  {
   "cell_type": "code",
   "execution_count": null,
   "id": "f0c03c01",
   "metadata": {
    "id": "f0c03c01",
    "outputId": "e9739810-3d1e-42bd-8fa2-f2d77ad2e066"
   },
   "outputs": [
    {
     "name": "stdout",
     "output_type": "stream",
     "text": [
      "hello\n",
      "world\n"
     ]
    }
   ],
   "source": [
    "print(\"hello\")\n",
    "time.sleep(5)   # after 5 sec to run world word\n",
    "print(\"world\")"
   ]
  },
  {
   "cell_type": "code",
   "execution_count": 65,
   "id": "c24a35ac",
   "metadata": {
    "id": "c24a35ac",
    "outputId": "436ae2c0-cc02-4a04-9ec5-0abcdf8ea409"
   },
   "outputs": [
    {
     "data": {
      "text/plain": [
       "'d:\\\\Sagar\\\\Basic & Advance python'"
      ]
     },
     "execution_count": 65,
     "metadata": {},
     "output_type": "execute_result"
    }
   ],
   "source": [
    "# os\n",
    "import os\n",
    "os.getcwd()   # file path show"
   ]
  },
  {
   "cell_type": "code",
   "execution_count": null,
   "id": "72d9bf92",
   "metadata": {
    "id": "72d9bf92",
    "outputId": "08e63452-ba3f-4ee9-d97a-60d71bac9ab2"
   },
   "outputs": [
    {
     "data": {
      "text/plain": [
       "['.anaconda',\n",
       " '.android',\n",
       " '.astropy',\n",
       " '.bash_history',\n",
       " '.conda',\n",
       " '.condarc',\n",
       " '.continuum',\n",
       " '.docker',\n",
       " '.idlerc',\n",
       " '.ipynb_checkpoints',\n",
       " '.ipython',\n",
       " '.jupyter',\n",
       " '.keras',\n",
       " '.matplotlib',\n",
       " '.spyder-py3',\n",
       " '.vscode',\n",
       " '3D Objects',\n",
       " 'ansel',\n",
       " 'Api to data frame.ipynb',\n",
       " 'AppData',\n",
       " 'Application Data',\n",
       " 'Basic & Advance Python.ipynb',\n",
       " 'Column TransForm.ipynb',\n",
       " 'Contacts',\n",
       " 'Cookies',\n",
       " 'csv.py.ipynb',\n",
       " 'data analysis.ipynb',\n",
       " 'Documents',\n",
       " 'Downloads',\n",
       " 'eda and preprocessing (1).sql',\n",
       " 'Favorites',\n",
       " 'IntelGraphicsProfiles',\n",
       " 'Jedi',\n",
       " 'Links',\n",
       " 'Local Settings',\n",
       " 'MicrosoftEdgeBackups',\n",
       " 'Music',\n",
       " 'My Documents',\n",
       " 'NetHood',\n",
       " 'NTUSER.DAT',\n",
       " 'ntuser.dat.LOG1',\n",
       " 'ntuser.dat.LOG2',\n",
       " 'NTUSER.DAT{bd5e8245-6a25-11ec-9d4c-a9da8f9ed82a}.TM.blf',\n",
       " 'NTUSER.DAT{bd5e8245-6a25-11ec-9d4c-a9da8f9ed82a}.TMContainer00000000000000000001.regtrans-ms',\n",
       " 'NTUSER.DAT{bd5e8245-6a25-11ec-9d4c-a9da8f9ed82a}.TMContainer00000000000000000002.regtrans-ms',\n",
       " 'ntuser.ini',\n",
       " 'OneDrive',\n",
       " 'pallets eda and preprocessing (1).py',\n",
       " 'pipeline.ipynb',\n",
       " 'PrintHood',\n",
       " 'PycharmProjects',\n",
       " 'Recent',\n",
       " 'Roaming',\n",
       " 'Saved Games',\n",
       " 'Searches',\n",
       " 'SendTo',\n",
       " 'setup.exe',\n",
       " 'Start Menu',\n",
       " 'Templates',\n",
       " 'undstanding data.ipynb',\n",
       " 'Untitled.ipynb',\n",
       " 'Videos']"
      ]
     },
     "execution_count": 53,
     "metadata": {},
     "output_type": "execute_result"
    }
   ],
   "source": [
    "os.listdir()  # file path in other file show in list"
   ]
  },
  {
   "cell_type": "markdown",
   "id": "ec74d5bc",
   "metadata": {
    "id": "ec74d5bc"
   },
   "source": [
    "# **strings**  = any sequence of character with in either single quotes or double quotes is considered as a string"
   ]
  },
  {
   "cell_type": "code",
   "execution_count": null,
   "id": "5643b732",
   "metadata": {
    "id": "5643b732"
   },
   "outputs": [],
   "source": [
    "# string are sequence of characters\n",
    "# in python specifically. string are a sequence of unicode characters.\n",
    "\n",
    "# creating string\n",
    "# accessing string\n",
    "# adding chars to string  , not adding in chara in string\n",
    "# editing string           , string is not edit, string are a immutable data type\n",
    "# deletion string\n",
    "# operation on string\n",
    "# string function"
   ]
  },
  {
   "cell_type": "code",
   "execution_count": null,
   "id": "098127e9",
   "metadata": {
    "id": "098127e9",
    "outputId": "94724f32-d79f-47ce-d5be-351032402e13"
   },
   "outputs": [
    {
     "name": "stdout",
     "output_type": "stream",
     "text": [
      "e\n"
     ]
    }
   ],
   "source": [
    "a = \"Hello, World!\"\n",
    "print(a[1])   # indexing"
   ]
  },
  {
   "cell_type": "code",
   "execution_count": null,
   "id": "83069c49",
   "metadata": {
    "id": "83069c49",
    "outputId": "b36c38c1-81b5-451d-dd69-85912634bc83"
   },
   "outputs": [
    {
     "name": "stdout",
     "output_type": "stream",
     "text": [
      "banana"
     ]
    }
   ],
   "source": [
    "for x in \"banana\":\n",
    "    print(x, end= \"\")"
   ]
  },
  {
   "cell_type": "code",
   "execution_count": null,
   "id": "ca5af015",
   "metadata": {
    "id": "ca5af015",
    "outputId": "913de418-be6d-4e00-ac79-152599e35228"
   },
   "outputs": [
    {
     "name": "stdout",
     "output_type": "stream",
     "text": [
      "True\n"
     ]
    }
   ],
   "source": [
    "txt = \"The best things in life are free!\"\n",
    "print(\"free\" in txt)"
   ]
  },
  {
   "cell_type": "code",
   "execution_count": null,
   "id": "99f8ed31",
   "metadata": {
    "id": "99f8ed31",
    "outputId": "2f27db8b-2f4a-4335-c7d7-d962a1f73079"
   },
   "outputs": [
    {
     "name": "stdout",
     "output_type": "stream",
     "text": [
      "Yes, 'free' is present.\n"
     ]
    }
   ],
   "source": [
    "txt = \"The best things in life are free!\"\n",
    "if \"free\" in txt:\n",
    "  print(\"Yes, 'free' is present.\")"
   ]
  },
  {
   "cell_type": "code",
   "execution_count": null,
   "id": "c9c64783",
   "metadata": {
    "id": "c9c64783",
    "outputId": "d7556e7d-8e83-4799-fba5-73e838ce66d9"
   },
   "outputs": [
    {
     "name": "stdout",
     "output_type": "stream",
     "text": [
      "True\n"
     ]
    }
   ],
   "source": [
    "txt = \"The best things in life are free!\"\n",
    "print(\"expensive\" not in txt)"
   ]
  },
  {
   "cell_type": "code",
   "execution_count": null,
   "id": "8351e1b5",
   "metadata": {
    "id": "8351e1b5",
    "outputId": "e616e091-7722-4197-d3c2-885f23208414"
   },
   "outputs": [
    {
     "name": "stdout",
     "output_type": "stream",
     "text": [
      "No, 'expensive' is NOT present.\n"
     ]
    }
   ],
   "source": [
    "txt = \"The best things in life are free!\"\n",
    "if \"expensive\" not in txt:\n",
    "  print(\"No, 'expensive' is NOT present.\")"
   ]
  },
  {
   "cell_type": "code",
   "execution_count": null,
   "id": "dc7e39ee",
   "metadata": {
    "id": "dc7e39ee",
    "outputId": "fdd9afcc-3be0-421b-cc6e-84f3d5f0deee"
   },
   "outputs": [
    {
     "name": "stdout",
     "output_type": "stream",
     "text": [
      "hellow\n"
     ]
    }
   ],
   "source": [
    "# creating string\n",
    "c= \"hellow\"\n",
    "print(c)"
   ]
  },
  {
   "cell_type": "code",
   "execution_count": null,
   "id": "b1099b43",
   "metadata": {
    "id": "b1099b43",
    "outputId": "d0a29840-3be3-4b39-bc19-10c3874aaeac"
   },
   "outputs": [
    {
     "ename": "TypeError",
     "evalue": "can only concatenate str (not \"int\") to str",
     "output_type": "error",
     "traceback": [
      "\u001b[1;31m---------------------------------------------------------------------------\u001b[0m",
      "\u001b[1;31mTypeError\u001b[0m                                 Traceback (most recent call last)",
      "Cell \u001b[1;32mIn[28], line 2\u001b[0m\n\u001b[0;32m      1\u001b[0m age \u001b[38;5;241m=\u001b[39m \u001b[38;5;241m36\u001b[39m\n\u001b[1;32m----> 2\u001b[0m txt \u001b[38;5;241m=\u001b[39m \u001b[38;5;124m\"\u001b[39m\u001b[38;5;124mMy name is John, I am \u001b[39m\u001b[38;5;124m\"\u001b[39m \u001b[38;5;241m+\u001b[39m age\n\u001b[0;32m      3\u001b[0m \u001b[38;5;28mprint\u001b[39m(txt)\n",
      "\u001b[1;31mTypeError\u001b[0m: can only concatenate str (not \"int\") to str"
     ]
    }
   ],
   "source": [
    "age = 36\n",
    "txt = \"My name is John, I am \" + age   # int and str not add\n",
    "print(txt)"
   ]
  },
  {
   "cell_type": "code",
   "execution_count": null,
   "id": "81f53df0",
   "metadata": {
    "id": "81f53df0",
    "outputId": "79a9e6e3-5d96-4d1d-f8a1-1cd38f8e8cd9"
   },
   "outputs": [
    {
     "name": "stdout",
     "output_type": "stream",
     "text": [
      "My name is John, and I am 36\n"
     ]
    }
   ],
   "source": [
    "age = 36\n",
    "txt = \"My name is John, and I am {}\"\n",
    "print(txt.format(age))"
   ]
  },
  {
   "cell_type": "code",
   "execution_count": 67,
   "id": "dbc32903",
   "metadata": {
    "id": "dbc32903",
    "outputId": "25f5f59f-5b0d-4b78-ded3-ad6b0b2c77f5"
   },
   "outputs": [
    {
     "name": "stdout",
     "output_type": "stream",
     "text": [
      "I want to pay 49.95 dollars for 3 pieces of item 567.\n"
     ]
    }
   ],
   "source": [
    "quantity = 3\n",
    "itemno = 567\n",
    "price = 49.95\n",
    "myorder = \"I want to pay {2} dollars for {0} pieces of item {1}.\"\n",
    "print(myorder.format(quantity, itemno, price))"
   ]
  },
  {
   "cell_type": "code",
   "execution_count": null,
   "id": "90b7a568",
   "metadata": {
    "id": "90b7a568",
    "outputId": "bce5cac6-7d33-4674-b001-4958e856eef7"
   },
   "outputs": [
    {
     "name": "stdout",
     "output_type": "stream",
     "text": [
      "True\n",
      "False\n",
      "False\n"
     ]
    }
   ],
   "source": [
    "print(10 > 9)\n",
    "print(10 == 9)\n",
    "print(10 < 9)\n"
   ]
  },
  {
   "cell_type": "code",
   "execution_count": null,
   "id": "5ddd6411",
   "metadata": {
    "id": "5ddd6411",
    "outputId": "8b617832-5af7-4290-8181-a6ad27f0e022"
   },
   "outputs": [
    {
     "name": "stdout",
     "output_type": "stream",
     "text": [
      "False\n"
     ]
    }
   ],
   "source": [
    "class myclass():\n",
    "  def __len__(self):\n",
    "    return 0\n",
    "\n",
    "myobj = myclass()\n",
    "print(bool(myobj))"
   ]
  },
  {
   "cell_type": "code",
   "execution_count": null,
   "id": "c6b8e81e",
   "metadata": {
    "id": "c6b8e81e",
    "outputId": "a4a046a2-ef8b-4669-e49b-b3ef9e841034"
   },
   "outputs": [
    {
     "name": "stdout",
     "output_type": "stream",
     "text": [
      "YES!\n"
     ]
    }
   ],
   "source": [
    "def myFunction() :\n",
    "    return True\n",
    "\n",
    "if myFunction():\n",
    "    print(\"YES!\")\n",
    "else:\n",
    "    print(\"NO!\")"
   ]
  },
  {
   "cell_type": "code",
   "execution_count": null,
   "id": "c12fcfe0",
   "metadata": {
    "id": "c12fcfe0",
    "outputId": "e24dd0b1-1dde-4c40-e46b-42f48769367b"
   },
   "outputs": [
    {
     "name": "stdout",
     "output_type": "stream",
     "text": [
      " my nane is sagar. i am data scientiest\n"
     ]
    }
   ],
   "source": [
    "cc = \"\"\" my nane is sagar. i am data scientiest\"\"\"  # multiline add\n",
    "print(cc)"
   ]
  },
  {
   "cell_type": "code",
   "execution_count": 69,
   "id": "f9e052a7",
   "metadata": {
    "id": "f9e052a7",
    "outputId": "490f617c-6059-4ebe-af34-df61a87d07fd"
   },
   "outputs": [
    {
     "name": "stdout",
     "output_type": "stream",
     "text": [
      "Hello World\n"
     ]
    }
   ],
   "source": [
    "a = \"Hello\"\n",
    "b = \"World\"\n",
    "c = a + \" \" + b\n",
    "print(c)"
   ]
  },
  {
   "cell_type": "code",
   "execution_count": null,
   "id": "dea835b8",
   "metadata": {
    "id": "dea835b8",
    "outputId": "f21801ef-3a7d-4bdc-e9a3-3e466ae7d24e"
   },
   "outputs": [
    {
     "name": "stdout",
     "output_type": "stream",
     "text": [
      "hello\n"
     ]
    }
   ],
   "source": [
    "# accessing string\n",
    "# concept of indexing\n",
    "\n",
    "# positive indexing\n",
    "ccc = \"hello\"\n",
    "print(ccc)\n"
   ]
  },
  {
   "cell_type": "code",
   "execution_count": null,
   "id": "9006d255",
   "metadata": {
    "id": "9006d255",
    "outputId": "b0975150-4b6e-4cfe-ccb6-6c44b6a3bb0f"
   },
   "outputs": [
    {
     "name": "stdout",
     "output_type": "stream",
     "text": [
      "Hello, World!\n"
     ]
    }
   ],
   "source": [
    "a = \" Hello, World! \"\n",
    "print(a.strip()) # returns \"Hello, World!\""
   ]
  },
  {
   "cell_type": "code",
   "execution_count": null,
   "id": "9b71d25c",
   "metadata": {
    "id": "9b71d25c",
    "outputId": "a4124792-7534-440d-a73d-87eb96c4f672"
   },
   "outputs": [
    {
     "name": "stdout",
     "output_type": "stream",
     "text": [
      "h\n"
     ]
    }
   ],
   "source": [
    "print(ccc[0]) # show the number through character show"
   ]
  },
  {
   "cell_type": "code",
   "execution_count": null,
   "id": "395a8364",
   "metadata": {
    "id": "395a8364",
    "outputId": "885a8c55-72f3-4cc2-9127-77ac3607b4df"
   },
   "outputs": [
    {
     "name": "stdout",
     "output_type": "stream",
     "text": [
      "l\n"
     ]
    }
   ],
   "source": [
    "print(ccc[3])"
   ]
  },
  {
   "cell_type": "code",
   "execution_count": null,
   "id": "02a2e956",
   "metadata": {
    "id": "02a2e956",
    "outputId": "a64204e3-cc2e-482e-afe1-fd50466515ef"
   },
   "outputs": [
    {
     "name": "stdout",
     "output_type": "stream",
     "text": [
      "l\n"
     ]
    }
   ],
   "source": [
    "# # negnative indexing\n",
    "print(ccc[-2])  # backside through number show in chara"
   ]
  },
  {
   "cell_type": "code",
   "execution_count": null,
   "id": "4f9aee05",
   "metadata": {
    "id": "4f9aee05",
    "outputId": "51cb16b6-08fd-4d8d-962d-327651028e66"
   },
   "outputs": [
    {
     "name": "stdout",
     "output_type": "stream",
     "text": [
      "hello\n"
     ]
    }
   ],
   "source": [
    "# slicing\n",
    "bb= \"hello\"\n",
    "print(bb)"
   ]
  },
  {
   "cell_type": "code",
   "execution_count": 15,
   "id": "c7b1c8cc",
   "metadata": {
    "colab": {
     "base_uri": "https://localhost:8080/"
    },
    "executionInfo": {
     "elapsed": 87,
     "status": "ok",
     "timestamp": 1746875819721,
     "user": {
      "displayName": "sagar abhang",
      "userId": "01023003160266096565"
     },
     "user_tz": -330
    },
    "id": "c7b1c8cc",
    "outputId": "d6d389f4-240f-489e-9d2b-19c29773ad2c"
   },
   "outputs": [
    {
     "name": "stdout",
     "output_type": "stream",
     "text": [
      "['Hello World!']\n"
     ]
    }
   ],
   "source": [
    "a = \"Hello World!\"\n",
    "print(a.split(\"+\")) # returns ['Hello', ' World!']"
   ]
  },
  {
   "cell_type": "code",
   "execution_count": null,
   "id": "001e715f",
   "metadata": {
    "id": "001e715f",
    "outputId": "c84c168b-fcef-4d8a-cfab-0f758f849291"
   },
   "outputs": [
    {
     "name": "stdout",
     "output_type": "stream",
     "text": [
      "Jello, World!\n"
     ]
    }
   ],
   "source": [
    "a = \"Hello, World!\"\n",
    "print(a.replace(\"H\", \"J\"))\n"
   ]
  },
  {
   "cell_type": "code",
   "execution_count": null,
   "id": "9e435656-ebaa-48e2-9616-febaa413f5e5",
   "metadata": {
    "id": "9e435656-ebaa-48e2-9616-febaa413f5e5",
    "outputId": "646d9e90-b07b-4da4-d491-c4c1018e12ad"
   },
   "outputs": [
    {
     "name": "stdout",
     "output_type": "stream",
     "text": [
      "hello, World!\n"
     ]
    }
   ],
   "source": [
    "a = \"Hello, World!\"\n",
    "print(a.replace(\"H\", \"h\"))"
   ]
  },
  {
   "cell_type": "markdown",
   "id": "7d0e6237",
   "metadata": {},
   "source": [
    "# by usening index"
   ]
  },
  {
   "cell_type": "code",
   "execution_count": null,
   "id": "f57ad5ab",
   "metadata": {
    "id": "f57ad5ab",
    "outputId": "f0ec7375-4946-4728-ccde-e907b9784022"
   },
   "outputs": [
    {
     "name": "stdout",
     "output_type": "stream",
     "text": [
      "hell\n"
     ]
    }
   ],
   "source": [
    "print(bb[0:4])  # : through multing chara show"
   ]
  },
  {
   "cell_type": "code",
   "execution_count": 16,
   "id": "Sw9IlJXv6gv3",
   "metadata": {
    "colab": {
     "base_uri": "https://localhost:8080/"
    },
    "executionInfo": {
     "elapsed": 11,
     "status": "ok",
     "timestamp": 1746875881547,
     "user": {
      "displayName": "sagar abhang",
      "userId": "01023003160266096565"
     },
     "user_tz": -330
    },
    "id": "Sw9IlJXv6gv3",
    "outputId": "80ddaa88-5dbd-44b4-8407-4c98fab2141c"
   },
   "outputs": [
    {
     "name": "stdout",
     "output_type": "stream",
     "text": [
      "HloWrd\n"
     ]
    }
   ],
   "source": [
    "print(a[0:12:2])  # 2 farkane new word"
   ]
  },
  {
   "cell_type": "code",
   "execution_count": null,
   "id": "c37be29c",
   "metadata": {
    "id": "c37be29c",
    "outputId": "b51feef0-baf6-4096-9274-75a3eef160bb"
   },
   "outputs": [
    {
     "name": "stdout",
     "output_type": "stream",
     "text": [
      "hel\n"
     ]
    }
   ],
   "source": [
    "print(bb[:3])"
   ]
  },
  {
   "cell_type": "code",
   "execution_count": null,
   "id": "c671c6a9",
   "metadata": {
    "id": "c671c6a9",
    "outputId": "1049e039-3f11-432a-abde-176200201274"
   },
   "outputs": [
    {
     "name": "stdout",
     "output_type": "stream",
     "text": [
      "hello\n"
     ]
    }
   ],
   "source": [
    "print(bb[:])"
   ]
  },
  {
   "cell_type": "code",
   "execution_count": null,
   "id": "9279488b",
   "metadata": {
    "id": "9279488b",
    "outputId": "b18f0e6b-0822-4768-e591-df535201f82e"
   },
   "outputs": [
    {
     "name": "stdout",
     "output_type": "stream",
     "text": [
      "hlo\n"
     ]
    }
   ],
   "source": [
    "print(bb[0:5:2])   #  total 2 to 5 chara in 2 skip stepwise sequence"
   ]
  },
  {
   "cell_type": "code",
   "execution_count": null,
   "id": "862e7d05",
   "metadata": {
    "id": "862e7d05",
    "outputId": "7ae9dcdc-ec24-44bd-c446-8d0d8693cc31"
   },
   "outputs": [
    {
     "name": "stdout",
     "output_type": "stream",
     "text": [
      "olh\n"
     ]
    }
   ],
   "source": [
    "print(bb[::-2])  # all chara reverce"
   ]
  },
  {
   "cell_type": "code",
   "execution_count": 44,
   "id": "85e5dc28",
   "metadata": {
    "colab": {
     "base_uri": "https://localhost:8080/",
     "height": 176
    },
    "executionInfo": {
     "elapsed": 143,
     "status": "error",
     "timestamp": 1746876381752,
     "user": {
      "displayName": "sagar abhang",
      "userId": "01023003160266096565"
     },
     "user_tz": -330
    },
    "id": "85e5dc28",
    "outputId": "387755c7-510d-4c1d-a5bc-fca546c6e32b"
   },
   "outputs": [
    {
     "ename": "TypeError",
     "evalue": "'str' object does not support item assignment",
     "output_type": "error",
     "traceback": [
      "\u001b[31m---------------------------------------------------------------------------\u001b[39m",
      "\u001b[31mTypeError\u001b[39m                                 Traceback (most recent call last)",
      "\u001b[36mCell\u001b[39m\u001b[36m \u001b[39m\u001b[32mIn[44]\u001b[39m\u001b[32m, line 4\u001b[39m\n\u001b[32m      1\u001b[39m \u001b[38;5;66;03m# editing and deleting in string\u001b[39;00m\n\u001b[32m      2\u001b[39m \u001b[38;5;66;03m# editing  , # string is not edit, string are  a immutable data type\u001b[39;00m\n\u001b[32m      3\u001b[39m z= \u001b[33m\"\u001b[39m\u001b[33mhello\u001b[39m\u001b[33m\"\u001b[39m\n\u001b[32m----> \u001b[39m\u001b[32m4\u001b[39m \u001b[43mz\u001b[49m\u001b[43m[\u001b[49m\u001b[32;43m0\u001b[39;49m\u001b[43m]\u001b[49m= \u001b[33m\"\u001b[39m\u001b[33mk\u001b[39m\u001b[33m\"\u001b[39m\n",
      "\u001b[31mTypeError\u001b[39m: 'str' object does not support item assignment"
     ]
    }
   ],
   "source": [
    "# editing and deleting in string\n",
    "# editing  , # string is not edit, string are  a immutable data type\n",
    "z= \"hello\"\n",
    "z[0]= \"k\""
   ]
  },
  {
   "cell_type": "code",
   "execution_count": null,
   "id": "55305ca9",
   "metadata": {
    "id": "55305ca9"
   },
   "outputs": [],
   "source": [
    "#  deletion string\n",
    "# all string is delete not special chara delete\n",
    "# del c[3]   not output"
   ]
  },
  {
   "cell_type": "code",
   "execution_count": null,
   "id": "5d92d567",
   "metadata": {
    "id": "5d92d567"
   },
   "outputs": [],
   "source": [
    "# operation on strings\n",
    "# arithmatic operation\n",
    "# relationaloperation\n",
    "# logical operation\n",
    "# loops on string\n",
    "# membership operation"
   ]
  },
  {
   "cell_type": "code",
   "execution_count": 45,
   "id": "bd0feb12",
   "metadata": {
    "id": "bd0feb12",
    "outputId": "bc7949e7-21d8-4664-96fa-6966f770e1d8"
   },
   "outputs": [
    {
     "data": {
      "text/plain": [
       "'goodmorning'"
      ]
     },
     "execution_count": 45,
     "metadata": {},
     "output_type": "execute_result"
    }
   ],
   "source": [
    "# arithmatic operation (+,*)\n",
    "\n",
    "\"good\" + \"morning\"  # + means concagition\n"
   ]
  },
  {
   "cell_type": "code",
   "execution_count": 50,
   "id": "3aa19371",
   "metadata": {
    "id": "3aa19371",
    "outputId": "037e6326-b144-4dda-fade-201b6646de36"
   },
   "outputs": [
    {
     "name": "stdout",
     "output_type": "stream",
     "text": [
      "ram/nram/nram/n\n"
     ]
    }
   ],
   "source": [
    "print (\"ram/n\"*3)"
   ]
  },
  {
   "cell_type": "code",
   "execution_count": null,
   "id": "1057c321",
   "metadata": {
    "id": "1057c321",
    "outputId": "09a93cbd-c064-4c6c-80a1-45bf29f885af"
   },
   "outputs": [
    {
     "data": {
      "text/plain": [
       "True"
      ]
     },
     "execution_count": 99,
     "metadata": {},
     "output_type": "execute_result"
    }
   ],
   "source": [
    "# relationaloperation (<,>,=,!+)\n",
    "\"ram\" ==\"ram\""
   ]
  },
  {
   "cell_type": "code",
   "execution_count": null,
   "id": "654ce051",
   "metadata": {
    "id": "654ce051",
    "outputId": "2702552c-6488-48f9-8931-ca78e5686e91"
   },
   "outputs": [
    {
     "data": {
      "text/plain": [
       "True"
      ]
     },
     "execution_count": 100,
     "metadata": {},
     "output_type": "execute_result"
    }
   ],
   "source": [
    "\"ram\" != \"seeta\""
   ]
  },
  {
   "cell_type": "code",
   "execution_count": null,
   "id": "24efc44b",
   "metadata": {
    "id": "24efc44b",
    "outputId": "7a05d234-7741-4b1a-c70c-cafab9a3e605"
   },
   "outputs": [
    {
     "data": {
      "text/plain": [
       "True"
      ]
     },
     "execution_count": 101,
     "metadata": {},
     "output_type": "execute_result"
    }
   ],
   "source": [
    "\"pune\" > \"mumbai\"  # apla latter sequence throght less, grater denoted"
   ]
  },
  {
   "cell_type": "code",
   "execution_count": null,
   "id": "aab72dce",
   "metadata": {
    "id": "aab72dce",
    "outputId": "520d99a1-58e4-4b14-93ed-a40f70f7982c"
   },
   "outputs": [
    {
     "data": {
      "text/plain": [
       "False"
      ]
     },
     "execution_count": 102,
     "metadata": {},
     "output_type": "execute_result"
    }
   ],
   "source": [
    "\"pune\" < \"mumbai\""
   ]
  },
  {
   "cell_type": "code",
   "execution_count": null,
   "id": "b8fae702",
   "metadata": {
    "id": "b8fae702",
    "outputId": "af27ded8-e984-4609-bf55-46956b11a615"
   },
   "outputs": [
    {
     "data": {
      "text/plain": [
       "False"
      ]
     },
     "execution_count": 104,
     "metadata": {},
     "output_type": "execute_result"
    }
   ],
   "source": [
    "\"P\" >\"P\""
   ]
  },
  {
   "cell_type": "code",
   "execution_count": null,
   "id": "556ab637",
   "metadata": {
    "id": "556ab637",
    "outputId": "108f5872-df7d-4993-afc2-b8452b95e05a"
   },
   "outputs": [
    {
     "data": {
      "text/plain": [
       "'morning'"
      ]
     },
     "execution_count": 105,
     "metadata": {},
     "output_type": "execute_result"
    }
   ],
   "source": [
    "# logical operation\n",
    "\"good\" and \"morning\""
   ]
  },
  {
   "cell_type": "code",
   "execution_count": null,
   "id": "43fc481f",
   "metadata": {
    "id": "43fc481f",
    "outputId": "b9868c51-f82f-4728-ea3e-3edc31733fe9"
   },
   "outputs": [
    {
     "data": {
      "text/plain": [
       "'good'"
      ]
     },
     "execution_count": 111,
     "metadata": {},
     "output_type": "execute_result"
    }
   ],
   "source": [
    "\"good\" or \"morning\""
   ]
  },
  {
   "cell_type": "code",
   "execution_count": null,
   "id": "81d2f88d",
   "metadata": {
    "id": "81d2f88d"
   },
   "outputs": [],
   "source": [
    "# \" \"  False , emapy means false\n",
    "# \"good\" True,  string in true\n"
   ]
  },
  {
   "cell_type": "code",
   "execution_count": 51,
   "id": "2654fe0d",
   "metadata": {
    "id": "2654fe0d",
    "outputId": "13494240-07ef-4f9f-ba8c-a88d601cf139"
   },
   "outputs": [
    {
     "data": {
      "text/plain": [
       "''"
      ]
     },
     "execution_count": 51,
     "metadata": {},
     "output_type": "execute_result"
    }
   ],
   "source": [
    "\"\"  and \" best od luck\""
   ]
  },
  {
   "cell_type": "code",
   "execution_count": 23,
   "id": "oqToInfj8xD0",
   "metadata": {
    "colab": {
     "base_uri": "https://localhost:8080/"
    },
    "executionInfo": {
     "elapsed": 34,
     "status": "ok",
     "timestamp": 1746876645120,
     "user": {
      "displayName": "sagar abhang",
      "userId": "01023003160266096565"
     },
     "user_tz": -330
    },
    "id": "oqToInfj8xD0",
    "outputId": "1baa81d4-cc64-42b7-d1b0-e30ed67d3c95"
   },
   "outputs": [
    {
     "name": "stdout",
     "output_type": "stream",
     "text": [
      " best of luck\n",
      " best of luck\n",
      "           Best of luck          \n"
     ]
    }
   ],
   "source": [
    "str = \" Best of luck\"\n",
    "print(str.capitalize())\n",
    "print(str.casefold())\n",
    "print(str.center(33))"
   ]
  },
  {
   "cell_type": "code",
   "execution_count": null,
   "id": "c3841766",
   "metadata": {
    "id": "c3841766",
    "outputId": "88d4edba-2bcd-4531-d4bd-7401d2514cb4"
   },
   "outputs": [
    {
     "data": {
      "text/plain": [
       "False"
      ]
     },
     "execution_count": 112,
     "metadata": {},
     "output_type": "execute_result"
    }
   ],
   "source": [
    "not \"krishna\""
   ]
  },
  {
   "cell_type": "code",
   "execution_count": null,
   "id": "033f81a4",
   "metadata": {
    "id": "033f81a4",
    "outputId": "07094a6f-a226-4d2b-d7ec-6a12086f051f"
   },
   "outputs": [
    {
     "data": {
      "text/plain": [
       "True"
      ]
     },
     "execution_count": 113,
     "metadata": {},
     "output_type": "execute_result"
    }
   ],
   "source": [
    " not \"\""
   ]
  },
  {
   "cell_type": "code",
   "execution_count": null,
   "id": "a5be8218",
   "metadata": {
    "id": "a5be8218",
    "outputId": "c2dc091a-3928-4296-a8fa-32dfffd7ce4d"
   },
   "outputs": [
    {
     "name": "stdout",
     "output_type": "stream",
     "text": [
      "N\n",
      "A\n",
      "H\n",
      "K\n",
      " \n",
      "E\n",
      "M\n",
      "A\n",
      "N\n",
      " \n",
      "Y\n",
      "M\n"
     ]
    }
   ],
   "source": [
    "# string itretion sring\n",
    " # each letter seprayte\n",
    "w = 'MY NAME KHAN'\n",
    "t = len(w)\n",
    "\n",
    "for a in range (t-1,-1,-1):   # reverse string start,stop,step\n",
    "    print(w[a])\n",
    "\n",
    "#"
   ]
  },
  {
   "cell_type": "code",
   "execution_count": null,
   "id": "f7d5928d",
   "metadata": {
    "id": "f7d5928d",
    "outputId": "7c6f5008-730b-43b9-cbf7-70c1050d3051"
   },
   "outputs": [
    {
     "name": "stdout",
     "output_type": "stream",
     "text": [
      "N\n",
      "A\n",
      "H\n",
      "K\n",
      " \n",
      "E\n",
      "M\n",
      "A\n",
      "N\n",
      " \n",
      "Y\n",
      "M\n"
     ]
    }
   ],
   "source": [
    "# reverse string\n",
    "w = 'MY NAME KHAN'\n",
    "w2 = w[::-1]\n",
    "for i in w2:\n",
    "    print(i)"
   ]
  },
  {
   "cell_type": "code",
   "execution_count": null,
   "id": "c01413a8-14e9-4ba8-82b1-5f0e52140088",
   "metadata": {
    "id": "c01413a8-14e9-4ba8-82b1-5f0e52140088",
    "outputId": "92ddde39-55a8-4675-b47f-e7d9f3ae8515"
   },
   "outputs": [
    {
     "name": "stdout",
     "output_type": "stream",
     "text": [
      "N\n",
      "A\n",
      "H\n",
      "K\n",
      " \n",
      "E\n",
      "M\n",
      "A\n",
      "N\n",
      " \n",
      "Y\n",
      "M\n"
     ]
    }
   ],
   "source": [
    "w = 'MY NAME KHAN'\n",
    "vv = list(w)\n",
    "ee = vv[::-1]\n",
    "for i in ee:\n",
    "    print(i)"
   ]
  },
  {
   "cell_type": "code",
   "execution_count": null,
   "id": "826d7bc2",
   "metadata": {
    "id": "826d7bc2"
   },
   "outputs": [],
   "source": [
    "# loops on string"
   ]
  },
  {
   "cell_type": "code",
   "execution_count": null,
   "id": "bb8d2869",
   "metadata": {
    "id": "bb8d2869",
    "outputId": "51184d04-c933-4757-9008-81b5ef1b68e1"
   },
   "outputs": [
    {
     "name": "stdout",
     "output_type": "stream",
     "text": [
      "2\n",
      "3\n",
      "4\n",
      "5\n",
      "6\n",
      "7\n",
      "8\n",
      "9\n",
      "10\n"
     ]
    }
   ],
   "source": [
    "for a in range(2,11,1):\n",
    "    print(a)"
   ]
  },
  {
   "cell_type": "code",
   "execution_count": null,
   "id": "e551da50",
   "metadata": {
    "id": "e551da50",
    "outputId": "4ee51cd4-d3aa-4f2e-aa5b-ccf8e4b3b6b9"
   },
   "outputs": [
    {
     "name": "stdout",
     "output_type": "stream",
     "text": [
      "v\n",
      "i\n",
      "r\n",
      "a\n",
      "t\n",
      " \n",
      "k\n",
      "o\n",
      "h\n",
      "a\n",
      "l\n",
      "i\n"
     ]
    }
   ],
   "source": [
    "v = \"virat kohali\"\n",
    "for i in v:\n",
    "    print(i)"
   ]
  },
  {
   "cell_type": "code",
   "execution_count": null,
   "id": "76d5b9bb",
   "metadata": {
    "id": "76d5b9bb",
    "outputId": "b8fffb06-6191-4fc4-ada3-b643f83470ea"
   },
   "outputs": [
    {
     "name": "stdout",
     "output_type": "stream",
     "text": [
      "r\n",
      "t\n",
      "k\n"
     ]
    }
   ],
   "source": [
    "v = \"virat kohali\"\n",
    "for i in v[2:8:2]:\n",
    "    print(i)"
   ]
  },
  {
   "cell_type": "code",
   "execution_count": null,
   "id": "faaf466d",
   "metadata": {
    "id": "faaf466d",
    "outputId": "ccb969e9-6747-4a77-a59b-71624d8780c6"
   },
   "outputs": [
    {
     "name": "stdout",
     "output_type": "stream",
     "text": [
      "i\n",
      "l\n",
      "a\n",
      "h\n",
      "o\n",
      "k\n",
      " \n",
      "t\n",
      "a\n",
      "r\n",
      "i\n",
      "v\n"
     ]
    }
   ],
   "source": [
    "v = \"virat kohali\"\n",
    "for i in v[::-1]:   # reverse sentence\n",
    "    print(i)"
   ]
  },
  {
   "cell_type": "code",
   "execution_count": null,
   "id": "16aaa04a",
   "metadata": {
    "id": "16aaa04a",
    "outputId": "117daf3b-922a-45c8-8625-58fa3e401a48"
   },
   "outputs": [
    {
     "data": {
      "text/plain": [
       "True"
      ]
     },
     "execution_count": 117,
     "metadata": {},
     "output_type": "execute_result"
    }
   ],
   "source": [
    "# membership operation\n",
    "v = \"virat kohali\"\n",
    "\"kohali\" in v"
   ]
  },
  {
   "cell_type": "code",
   "execution_count": null,
   "id": "7c700085",
   "metadata": {
    "id": "7c700085",
    "outputId": "4650f954-425e-44c6-fef0-da30d4a6f273"
   },
   "outputs": [
    {
     "data": {
      "text/plain": [
       "False"
      ]
     },
     "execution_count": 118,
     "metadata": {},
     "output_type": "execute_result"
    }
   ],
   "source": [
    "\"dhoniu\" in v"
   ]
  },
  {
   "cell_type": "code",
   "execution_count": null,
   "id": "b4d2c0d2",
   "metadata": {
    "id": "b4d2c0d2",
    "outputId": "f825b1ea-4a35-42bc-e580-1279e2274c11"
   },
   "outputs": [
    {
     "data": {
      "text/plain": [
       "True"
      ]
     },
     "execution_count": 119,
     "metadata": {},
     "output_type": "execute_result"
    }
   ],
   "source": [
    "\"dhoniu\" not in v"
   ]
  },
  {
   "cell_type": "markdown",
   "id": "7529747c",
   "metadata": {
    "id": "7529747c"
   },
   "source": [
    "# strings in python"
   ]
  },
  {
   "cell_type": "code",
   "execution_count": null,
   "id": "47c47e43",
   "metadata": {
    "id": "47c47e43"
   },
   "outputs": [],
   "source": [
    "# common function\n",
    "# len\n",
    "# max\n",
    "# min\n",
    "#sorted\n",
    "# lower\n",
    "# upper\n",
    "# title\n",
    "# capitallize"
   ]
  },
  {
   "cell_type": "code",
   "execution_count": null,
   "id": "9a828e93",
   "metadata": {
    "id": "9a828e93",
    "outputId": "9dc58ead-7265-4bd3-f1d3-f694bf741b7a"
   },
   "outputs": [
    {
     "data": {
      "text/plain": [
       "6"
      ]
     },
     "execution_count": 9,
     "metadata": {},
     "output_type": "execute_result"
    }
   ],
   "source": [
    "#len\n",
    "a = \"mumbai\"\n",
    "len(a)"
   ]
  },
  {
   "cell_type": "code",
   "execution_count": null,
   "id": "d3dec130",
   "metadata": {
    "id": "d3dec130",
    "outputId": "be2fae3b-e5b2-4624-f2e7-47a96df6fff0"
   },
   "outputs": [
    {
     "data": {
      "text/plain": [
       "'u'"
      ]
     },
     "execution_count": 10,
     "metadata": {},
     "output_type": "execute_result"
    }
   ],
   "source": [
    "max(a)"
   ]
  },
  {
   "cell_type": "code",
   "execution_count": null,
   "id": "e78f645d",
   "metadata": {
    "id": "e78f645d",
    "outputId": "c5436b46-e0d0-43cd-8447-bd6bd80b3ede"
   },
   "outputs": [
    {
     "data": {
      "text/plain": [
       "'a'"
      ]
     },
     "execution_count": 11,
     "metadata": {},
     "output_type": "execute_result"
    }
   ],
   "source": [
    "min(a)"
   ]
  },
  {
   "cell_type": "code",
   "execution_count": null,
   "id": "6680eb6a",
   "metadata": {
    "id": "6680eb6a",
    "outputId": "11895b0a-0323-4f9d-8b65-f8474415f9a0"
   },
   "outputs": [
    {
     "data": {
      "text/plain": [
       "['a', 'b', 'i', 'm', 'm', 'u']"
      ]
     },
     "execution_count": 12,
     "metadata": {},
     "output_type": "execute_result"
    }
   ],
   "source": [
    "sorted(a)  # asending format show"
   ]
  },
  {
   "cell_type": "code",
   "execution_count": null,
   "id": "3c2fed43",
   "metadata": {
    "id": "3c2fed43",
    "outputId": "1cf7e491-6438-437d-e972-91801a4795fe"
   },
   "outputs": [
    {
     "data": {
      "text/plain": [
       "['u', 'm', 'm', 'i', 'b', 'a']"
      ]
     },
     "execution_count": 15,
     "metadata": {},
     "output_type": "execute_result"
    }
   ],
   "source": [
    "sorted(a,reverse=True)  # decsending format"
   ]
  },
  {
   "cell_type": "code",
   "execution_count": null,
   "id": "1895e976",
   "metadata": {
    "id": "1895e976"
   },
   "outputs": [],
   "source": [
    "# special string function\n",
    "# capitalize\n",
    "# title\n",
    "# upper\n",
    "# lower\n",
    "# swapcase"
   ]
  },
  {
   "cell_type": "code",
   "execution_count": null,
   "id": "03051c57",
   "metadata": {
    "id": "03051c57",
    "outputId": "e11e6f96-d529-4133-a7b3-f19d6947a07b"
   },
   "outputs": [
    {
     "data": {
      "text/plain": [
       "'Sagar sopan abhang'"
      ]
     },
     "execution_count": 12,
     "metadata": {},
     "output_type": "execute_result"
    }
   ],
   "source": [
    "# capitalize, # first letter convert  capital latter\n",
    "vv =\"sagar sopan abhang\"\n",
    "vv.capitalize()"
   ]
  },
  {
   "cell_type": "code",
   "execution_count": null,
   "id": "54ffba2d",
   "metadata": {
    "id": "54ffba2d",
    "outputId": "829f51f5-ff03-4018-a59b-b4debba79d1e"
   },
   "outputs": [
    {
     "data": {
      "text/plain": [
       "'Sagar Sopan Abhang'"
      ]
     },
     "execution_count": 13,
     "metadata": {},
     "output_type": "execute_result"
    }
   ],
   "source": [
    "# title\n",
    "vv.title()  # sentence in each word in first letter capital"
   ]
  },
  {
   "cell_type": "code",
   "execution_count": null,
   "id": "b664ad06",
   "metadata": {
    "id": "b664ad06",
    "outputId": "8dcee795-815b-4714-8f0a-6c62ed6c6ef6"
   },
   "outputs": [
    {
     "data": {
      "text/plain": [
       "'SAGAR SOPAN ABHANG'"
      ]
     },
     "execution_count": 14,
     "metadata": {},
     "output_type": "execute_result"
    }
   ],
   "source": [
    "# upper   # sentence in each capital\n",
    "vv.upper()"
   ]
  },
  {
   "cell_type": "code",
   "execution_count": null,
   "id": "73088879",
   "metadata": {
    "id": "73088879",
    "outputId": "ae9ec23a-16e2-4f57-ebd5-d459b209da8f"
   },
   "outputs": [
    {
     "data": {
      "text/plain": [
       "'sagar sopan abhang'"
      ]
     },
     "execution_count": 15,
     "metadata": {},
     "output_type": "execute_result"
    }
   ],
   "source": [
    "# lower    # sentence in each word small letter\n",
    "vv.lower()"
   ]
  },
  {
   "cell_type": "code",
   "execution_count": null,
   "id": "72249395",
   "metadata": {
    "id": "72249395",
    "outputId": "09a15c59-f8e9-4e03-ad74-7d05a07a8e11"
   },
   "outputs": [
    {
     "data": {
      "text/plain": [
       "' saGAr SOpaN ABhanG'"
      ]
     },
     "execution_count": 17,
     "metadata": {},
     "output_type": "execute_result"
    }
   ],
   "source": [
    "# swapcase    # lower letter convert capital\n",
    "              # upper letter convert lower\n",
    "hh = \" SAgaR soPAn abHANg\"\n",
    "hh.swapcase()"
   ]
  },
  {
   "cell_type": "markdown",
   "id": "6a5dc2dc",
   "metadata": {
    "id": "6a5dc2dc"
   },
   "source": [
    "# string imp FUNCTION"
   ]
  },
  {
   "cell_type": "code",
   "execution_count": null,
   "id": "9460cb3c",
   "metadata": {
    "id": "9460cb3c",
    "outputId": "cba8a5fc-47ab-4231-8bbb-95497d07bab1"
   },
   "outputs": [
    {
     "data": {
      "text/plain": [
       "2"
      ]
     },
     "execution_count": 21,
     "metadata": {},
     "output_type": "execute_result"
    }
   ],
   "source": [
    "# count function\n",
    "bb =\"sagar sopan abhang\"\n",
    "bb.count(\"s\")              # show the how many time sentence in word count"
   ]
  },
  {
   "cell_type": "code",
   "execution_count": null,
   "id": "d8afb6a9",
   "metadata": {
    "id": "d8afb6a9",
    "outputId": "72c603a1-4182-48a2-b629-2e1b9cc3df08"
   },
   "outputs": [
    {
     "data": {
      "text/plain": [
       "2"
      ]
     },
     "execution_count": 22,
     "metadata": {},
     "output_type": "execute_result"
    }
   ],
   "source": [
    "bb.count(\"an\")"
   ]
  },
  {
   "cell_type": "code",
   "execution_count": null,
   "id": "7c366aa4",
   "metadata": {
    "id": "7c366aa4",
    "outputId": "209c7493-692e-4f78-e02c-c58867587196"
   },
   "outputs": [
    {
     "data": {
      "text/plain": [
       "10"
      ]
     },
     "execution_count": 25,
     "metadata": {},
     "output_type": "execute_result"
    }
   ],
   "source": [
    "# find/index  both is same work\n",
    "# find\n",
    "vv =\"sagar sopan abhang\"\n",
    "vv.find(\"n\")    # show the character number in sentence, sequency count"
   ]
  },
  {
   "cell_type": "code",
   "execution_count": null,
   "id": "ab5857ed",
   "metadata": {
    "id": "ab5857ed",
    "outputId": "9511ee38-f12e-4c51-9932-811f195a8433"
   },
   "outputs": [
    {
     "data": {
      "text/plain": [
       "-1"
      ]
     },
     "execution_count": 26,
     "metadata": {},
     "output_type": "execute_result"
    }
   ],
   "source": [
    "vv =\"sagar sopan abhang\"\n",
    "vv.find(\"z\")    # output is -1 means output character not in sentence"
   ]
  },
  {
   "cell_type": "code",
   "execution_count": null,
   "id": "0da3e4dd",
   "metadata": {
    "id": "0da3e4dd",
    "outputId": "ffce8c71-c2e2-4cb0-b2b1-fbd84255b20c"
   },
   "outputs": [
    {
     "data": {
      "text/plain": [
       "8"
      ]
     },
     "execution_count": 28,
     "metadata": {},
     "output_type": "execute_result"
    }
   ],
   "source": [
    "# index\n",
    "vv =\"sagar sopan abhang\"\n",
    "vv.index(\"p\")                # show the caracter number in sentence, sequency count                           # output is -1 means output character not in sentence but index out is error not in sentence character"
   ]
  },
  {
   "cell_type": "code",
   "execution_count": null,
   "id": "3a628fb9",
   "metadata": {
    "id": "3a628fb9",
    "outputId": "6109b773-efe9-40d5-ef0a-902172de14fe"
   },
   "outputs": [
    {
     "data": {
      "text/plain": [
       "True"
      ]
     },
     "execution_count": 30,
     "metadata": {},
     "output_type": "execute_result"
    }
   ],
   "source": [
    "# endswith/startswith\n",
    "# endswith\n",
    "vv =\"sagar sopan abhang\"\n",
    "vv.endswith(\"ang\")          #  the sentence in any character in last letters look to output is true\n"
   ]
  },
  {
   "cell_type": "code",
   "execution_count": null,
   "id": "2380b3fb",
   "metadata": {
    "id": "2380b3fb",
    "outputId": "04e35838-6177-4e10-d15d-4755c876ffba"
   },
   "outputs": [
    {
     "data": {
      "text/plain": [
       "False"
      ]
     },
     "execution_count": 31,
     "metadata": {},
     "output_type": "execute_result"
    }
   ],
   "source": [
    "vv =\"sagar sopan abhang\"\n",
    "vv.endswith(\"cis\")       # the sentence in last letter not show to output is False"
   ]
  },
  {
   "cell_type": "code",
   "execution_count": null,
   "id": "5f5e235f",
   "metadata": {
    "id": "5f5e235f",
    "outputId": "b3d97837-6a0d-421b-cd33-4e08b6ab04ab"
   },
   "outputs": [
    {
     "data": {
      "text/plain": [
       "True"
      ]
     },
     "execution_count": 33,
     "metadata": {},
     "output_type": "execute_result"
    }
   ],
   "source": [
    "# startswith\n",
    "ss =\"sagar sopan abhang\"\n",
    "ss.startswith(\"sa\")         # the sentence in any character in first letters look to output is true"
   ]
  },
  {
   "cell_type": "code",
   "execution_count": null,
   "id": "8e7f9ae7",
   "metadata": {
    "id": "8e7f9ae7",
    "outputId": "fc3a1996-f1f7-4e72-fb94-069ad7e0ce74"
   },
   "outputs": [
    {
     "data": {
      "text/plain": [
       "False"
      ]
     },
     "execution_count": 34,
     "metadata": {},
     "output_type": "execute_result"
    }
   ],
   "source": [
    "ss =\"sagar sopan abhang\"\n",
    "ss.startswith(\"gg\")       # the sentence in first letter not show to output is False"
   ]
  },
  {
   "cell_type": "code",
   "execution_count": null,
   "id": "8c215092",
   "metadata": {
    "id": "8c215092",
    "outputId": "0c8e2e78-1975-4ef7-c0bb-2ca43d2a9414"
   },
   "outputs": [
    {
     "data": {
      "text/plain": [
       "'sagar sopan abhang. . as data scientiest'"
      ]
     },
     "execution_count": 35,
     "metadata": {},
     "output_type": "execute_result"
    }
   ],
   "source": [
    "# format    # {} in fil the format words\n",
    "\"sagar {} abhang. . as {} scientiest\". format(\"sopan\",\"data\")"
   ]
  },
  {
   "cell_type": "code",
   "execution_count": null,
   "id": "b1846553",
   "metadata": {
    "id": "b1846553",
    "outputId": "275a9d1b-92ee-4fd9-a2cf-46aad034220d"
   },
   "outputs": [
    {
     "data": {
      "text/plain": [
       "'sagar sopan abhang. . as data scientiest'"
      ]
     },
     "execution_count": 8,
     "metadata": {},
     "output_type": "execute_result"
    }
   ],
   "source": [
    "\"sagar {0} abhang. . as {1} scientiest\". format(\"sopan\",\"data\")\n",
    "         # {1},[0] in the fill format sequence word decside from {1} number position"
   ]
  },
  {
   "cell_type": "code",
   "execution_count": null,
   "id": "6bd26c72",
   "metadata": {
    "id": "6bd26c72",
    "outputId": "0c38aa6a-8c7f-42bd-f495-ca31dcaab86f"
   },
   "outputs": [
    {
     "data": {
      "text/plain": [
       "'sagar sopan abhang. . as data scientiest'"
      ]
     },
     "execution_count": 37,
     "metadata": {},
     "output_type": "execute_result"
    }
   ],
   "source": [
    "\"sagar {name} abhang. . as {cource} scientiest\". format(name = \"sopan\", cource = \"data\")\n",
    "                # {name} fill format in varible in data fill {} varible name"
   ]
  },
  {
   "cell_type": "code",
   "execution_count": null,
   "id": "52bdd391",
   "metadata": {
    "id": "52bdd391",
    "outputId": "3366914d-6806-4b5f-deb6-c9a72cce6196"
   },
   "outputs": [
    {
     "data": {
      "text/plain": [
       "True"
      ]
     },
     "execution_count": 39,
     "metadata": {},
     "output_type": "execute_result"
    }
   ],
   "source": [
    "# isalnum / isalpha / isdecimal / isdigit/ isidentifier\n",
    "# isalnum   # mix al num\n",
    "\"dhoni07\".isalnum()   # in accept  word otherwise number out put True but special character output False"
   ]
  },
  {
   "cell_type": "code",
   "execution_count": null,
   "id": "6a59036c",
   "metadata": {
    "id": "6a59036c",
    "outputId": "2bf55fe2-b40d-471a-b575-5d0d4f2271c1"
   },
   "outputs": [
    {
     "data": {
      "text/plain": [
       "False"
      ]
     },
     "execution_count": 40,
     "metadata": {},
     "output_type": "execute_result"
    }
   ],
   "source": [
    "\"dhoni07#\".isalnum()   # special character output False"
   ]
  },
  {
   "cell_type": "code",
   "execution_count": null,
   "id": "cb5ce5c8",
   "metadata": {
    "id": "cb5ce5c8",
    "outputId": "5d2a3609-b8ad-47e4-9a45-f0f5c75328c5"
   },
   "outputs": [
    {
     "data": {
      "text/plain": [
       "True"
      ]
     },
     "execution_count": 41,
     "metadata": {},
     "output_type": "execute_result"
    }
   ],
   "source": [
    "# isalpha\n",
    "\"sagar\".isalpha()  # all character is alpha"
   ]
  },
  {
   "cell_type": "code",
   "execution_count": null,
   "id": "fdb12e46",
   "metadata": {
    "id": "fdb12e46",
    "outputId": "b3bb12a4-44e5-4052-cf28-023daf560784"
   },
   "outputs": [
    {
     "data": {
      "text/plain": [
       "True"
      ]
     },
     "execution_count": 45,
     "metadata": {},
     "output_type": "execute_result"
    }
   ],
   "source": [
    " # isdecimal\n",
    "\"33\".isdecimal()  # only decimal accept"
   ]
  },
  {
   "cell_type": "code",
   "execution_count": null,
   "id": "df92d04d",
   "metadata": {
    "id": "df92d04d",
    "outputId": "2c239f67-a3c2-49d3-d5ea-3713045d7f56"
   },
   "outputs": [
    {
     "data": {
      "text/plain": [
       "True"
      ]
     },
     "execution_count": 48,
     "metadata": {},
     "output_type": "execute_result"
    }
   ],
   "source": [
    "# isdigit\n",
    "\"29\".isdigit()  # only single digit show not 20.9"
   ]
  },
  {
   "cell_type": "code",
   "execution_count": null,
   "id": "6e43fb5a",
   "metadata": {
    "id": "6e43fb5a",
    "outputId": "f6497409-ccd9-4f06-e680-40bd3f6c4c95"
   },
   "outputs": [
    {
     "data": {
      "text/plain": [
       "False"
      ]
     },
     "execution_count": 49,
     "metadata": {},
     "output_type": "execute_result"
    }
   ],
   "source": [
    "# isidentifier in not accept space output fase\n",
    "\"hellow word\".isidentifier()"
   ]
  },
  {
   "cell_type": "code",
   "execution_count": null,
   "id": "2d5b5b66",
   "metadata": {
    "id": "2d5b5b66",
    "outputId": "e283422e-4963-4b4c-8d30-020104272f66"
   },
   "outputs": [
    {
     "data": {
      "text/plain": [
       "True"
      ]
     },
     "execution_count": 50,
     "metadata": {},
     "output_type": "execute_result"
    }
   ],
   "source": [
    "\"hellow_word\".isidentifier()"
   ]
  },
  {
   "cell_type": "code",
   "execution_count": null,
   "id": "c2c9e26c",
   "metadata": {
    "id": "c2c9e26c",
    "outputId": "0b7b9c3d-0f0f-4f90-d7ee-0f32cf53aa80"
   },
   "outputs": [
    {
     "data": {
      "text/plain": [
       "['who', 'is', 'pm', 'in', 'india']"
      ]
     },
     "execution_count": 11,
     "metadata": {},
     "output_type": "execute_result"
    }
   ],
   "source": [
    "# split\n",
    "\"who is pm in india\".split(  )   # sentence is convert list, each word  decisde from split() or split(\" \")  mean space\n",
    "                               #  split(\"pm\") means pm word in sentence skip and this place is \",\" show in output list"
   ]
  },
  {
   "cell_type": "code",
   "execution_count": 3,
   "id": "902331f5",
   "metadata": {
    "id": "902331f5",
    "outputId": "bed8cea0-3be1-4ba3-fa0c-2809ba0a6274"
   },
   "outputs": [
    {
     "data": {
      "text/plain": [
       "'who + is + pm + in + india'"
      ]
     },
     "execution_count": 3,
     "metadata": {},
     "output_type": "execute_result"
    }
   ],
   "source": [
    "aa = ['who', 'is', 'pm', 'in', 'india']\n",
    "\" + \".join(aa)"
   ]
  },
  {
   "cell_type": "code",
   "execution_count": null,
   "id": "b0e0cdaf",
   "metadata": {
    "id": "b0e0cdaf",
    "outputId": "c61cb7e4-e42f-4973-ad4e-f6b3a5446b26"
   },
   "outputs": [
    {
     "data": {
      "text/plain": [
       "['who is ', ' in india']"
      ]
     },
     "execution_count": 53,
     "metadata": {},
     "output_type": "execute_result"
    }
   ],
   "source": [
    "\"who is pm in india\".split(\"pm\")"
   ]
  },
  {
   "cell_type": "code",
   "execution_count": null,
   "id": "a4c7e1bf",
   "metadata": {
    "id": "a4c7e1bf",
    "outputId": "3edcfade-1fce-42e2-8296-71c8dbe82c18"
   },
   "outputs": [
    {
     "data": {
      "text/plain": [
       "['', 'is pm in india']"
      ]
     },
     "execution_count": 9,
     "metadata": {},
     "output_type": "execute_result"
    }
   ],
   "source": [
    "\"who is pm in india\".split(\"who\")"
   ]
  },
  {
   "cell_type": "code",
   "execution_count": null,
   "id": "10327a69",
   "metadata": {
    "id": "10327a69",
    "outputId": "712cf73e-39be-4e38-86fa-b761657fbf75"
   },
   "outputs": [
    {
     "data": {
      "text/plain": [
       "'who is pm in india'"
      ]
     },
     "execution_count": 16,
     "metadata": {},
     "output_type": "execute_result"
    }
   ],
   "source": [
    "# join  , # list convert in string, # sentence join each words , special words, ie.\" \" space through join\n",
    "\" \".join(['who', 'is', 'pm', 'in', 'india'])\n"
   ]
  },
  {
   "cell_type": "code",
   "execution_count": null,
   "id": "3cabe72a",
   "metadata": {
    "id": "3cabe72a",
    "outputId": "57853e3a-05ba-44db-cda5-7ea3161ff04a"
   },
   "outputs": [
    {
     "data": {
      "text/plain": [
       "'who + is + pm + in + india'"
      ]
     },
     "execution_count": 62,
     "metadata": {},
     "output_type": "execute_result"
    }
   ],
   "source": [
    "\" + \".join(['who', 'is', 'pm', 'in', 'india'])  # \"+\" + throgh list in all word join"
   ]
  },
  {
   "cell_type": "code",
   "execution_count": null,
   "id": "6739c28e",
   "metadata": {
    "id": "6739c28e",
    "outputId": "4a092f59-80cf-491d-fecd-c097a5cc94d8"
   },
   "outputs": [
    {
     "data": {
      "text/plain": [
       "'my name is Sagar'"
      ]
     },
     "execution_count": 63,
     "metadata": {},
     "output_type": "execute_result"
    }
   ],
   "source": [
    "# replace\n",
    "\"my name is khan\". replace(\"khan\",\"Sagar\") # replace"
   ]
  },
  {
   "cell_type": "code",
   "execution_count": 4,
   "id": "f4b5cc6a",
   "metadata": {},
   "outputs": [
    {
     "data": {
      "text/plain": [
       "'my name is laxman'"
      ]
     },
     "execution_count": 4,
     "metadata": {},
     "output_type": "execute_result"
    }
   ],
   "source": [
    "\"my name is ram\".replace(\"ram\", \"laxman\")"
   ]
  },
  {
   "cell_type": "code",
   "execution_count": null,
   "id": "99104407",
   "metadata": {
    "id": "99104407",
    "outputId": "1bb1dc4b-378c-4eb8-b8cd-a6e4df0af5fb"
   },
   "outputs": [
    {
     "data": {
      "text/plain": [
       "'                         sagar                          '"
      ]
     },
     "execution_count": 65,
     "metadata": {},
     "output_type": "execute_result"
    }
   ],
   "source": [
    "# strip,     # \"\" string space convert nornal space, first and last space remove\n",
    "ss = \"                         sagar                          \"\n",
    "ss"
   ]
  },
  {
   "cell_type": "code",
   "execution_count": null,
   "id": "432dc0a3",
   "metadata": {
    "id": "432dc0a3",
    "outputId": "854f5320-be49-4512-afcd-cef1fc12ef9b"
   },
   "outputs": [
    {
     "data": {
      "text/plain": [
       "'sagar'"
      ]
     },
     "execution_count": 66,
     "metadata": {},
     "output_type": "execute_result"
    }
   ],
   "source": [
    "ss.strip()"
   ]
  },
  {
   "cell_type": "code",
   "execution_count": null,
   "id": "56f9e695-a614-465a-93c9-29cd3ee9b643",
   "metadata": {
    "id": "56f9e695-a614-465a-93c9-29cd3ee9b643",
    "outputId": "d95b8469-2fb0-4c41-dfe8-f319631fb9ff"
   },
   "outputs": [
    {
     "name": "stdout",
     "output_type": "stream",
     "text": [
      "The 3rd highest value is: 55\n"
     ]
    }
   ],
   "source": [
    "# Sample list of values\n",
    "values = [23, 45, 67, 12, 89, 55, 38]\n",
    "\n",
    "# Sort the list in descending order and get the 3rd highest value\n",
    "sorted_values = sorted(values, reverse=True)\n",
    "third_highest = sorted_values[2]  # Index 2 gives the 3rd highest\n",
    "\n",
    "print(\"The 3rd highest value is:\", third_highest)\n"
   ]
  },
  {
   "cell_type": "code",
   "execution_count": null,
   "id": "6f3b936c",
   "metadata": {},
   "outputs": [
    {
     "name": "stdout",
     "output_type": "stream",
     "text": [
      "rraevjia\n"
     ]
    }
   ],
   "source": [
    "# input s1 = \"ravi\",\n",
    "#       s2  = \"reja\"\n",
    "# output = rraevjia\n",
    "\n",
    "s1 = input (\"enter the string\")\n",
    "s2 = input (\"enter the string\")\n",
    "\n",
    "output = \"\"\n",
    "i, j = 0,0\n",
    "\n",
    "while i<len(s1) or j<len(s2):\n",
    "    if i<len (s1):\n",
    "        output = output +s1[i]\n",
    "        i+=1\n",
    "    if j<len (s2):\n",
    "        output = output +s2[j]\n",
    "        j+=1\n",
    "print(output)\n",
    "\n",
    "        "
   ]
  },
  {
   "cell_type": "code",
   "execution_count": null,
   "id": "22f4e3e5",
   "metadata": {},
   "outputs": [],
   "source": [
    "# input s1 = \"ravi\",\n",
    "#       s2  = \"reja\"\n",
    "# output = rraevjia\n",
    "\n",
    "s1 = \"ravi\"\n",
    "s2  = \"reja\"\n",
    "\n",
    "i = 0\n",
    "j = 0\n",
    "output = \"\"\n",
    "\n",
    "while i < len(s1) or j < len(s2):\n",
    "    if i < len(s1):\n",
    "        output = output + s1[i]\n",
    "        i = i +1\n",
    "    if j < len(s2):\n",
    "         output = output + s2[j]\n",
    "         j = j+1"
   ]
  },
  {
   "cell_type": "code",
   "execution_count": 63,
   "id": "643b0df1",
   "metadata": {},
   "outputs": [
    {
     "name": "stdout",
     "output_type": "stream",
     "text": [
      "FGHJKL666678\n"
     ]
    }
   ],
   "source": [
    "# input = B4A1D3\n",
    "# OUTPUT = ABD134\n",
    "\n",
    "\n",
    "s = input(\"enter the some string\")\n",
    "s1=s2=output = \"\"\n",
    "\n",
    "for x in s:\n",
    "    if x.isalpha():\n",
    "        s1 = s1+x\n",
    "    else:\n",
    "        s2 = s2+x\n",
    "for x in sorted(s1):\n",
    "    output = output + x\n",
    "for x in sorted (s2):\n",
    "    output = output + x\n",
    "print(output)"
   ]
  },
  {
   "cell_type": "code",
   "execution_count": 62,
   "id": "21091a4c",
   "metadata": {},
   "outputs": [
    {
     "name": "stdout",
     "output_type": "stream",
     "text": [
      "DFGHJS34567\n"
     ]
    }
   ],
   "source": [
    "s = input(\"Enter some string: \")\n",
    "s1 = s2 = output = \"\"\n",
    "\n",
    "# Iterate over the input string, not s1\n",
    "for x in s:\n",
    "    if x.isalpha():\n",
    "        s1 = s1 + x\n",
    "    else:\n",
    "        s2 = s2 + x\n",
    "\n",
    "for x in sorted(s1):\n",
    "    output = output + x\n",
    "for x in sorted(s2):\n",
    "    output = output + x\n",
    "\n",
    "print(output)\n"
   ]
  },
  {
   "cell_type": "code",
   "execution_count": null,
   "id": "2387104e",
   "metadata": {},
   "outputs": [
    {
     "name": "stdout",
     "output_type": "stream",
     "text": [
      "s\n",
      "ss\n",
      "ssf\n",
      "ssffff\n",
      "ssffffh\n",
      "ssffffhhhhhh\n"
     ]
    }
   ],
   "source": [
    "# input = a4b3c2\n",
    "# output = aaaabbbcc\n",
    "\n",
    "\n",
    "s = input(\"enter the some string\")\n",
    "s1=s2=output = \"\"\n",
    "\n",
    "for x in s:\n",
    "    if x.isalpha():\n",
    "        output = output + x\n",
    "        pri = x\n",
    "    else:\n",
    "        output = output + pri * (int(x)-1)\n",
    "    print(output)\n",
    "\n",
    "    "
   ]
  },
  {
   "cell_type": "code",
   "execution_count": 76,
   "id": "46031a81",
   "metadata": {},
   "outputs": [
    {
     "name": "stdout",
     "output_type": "stream",
     "text": [
      "['s', 'a', 'g', 'r', ' ']\n"
     ]
    }
   ],
   "source": [
    "aa = input (\"enter the some string\")\n",
    "bb = []\n",
    "\n",
    "for x in aa:\n",
    "    if x not in bb:\n",
    "        bb.append(x)\n",
    "        #output =\"\".join(bb)\n",
    "print(bb)"
   ]
  },
  {
   "cell_type": "markdown",
   "id": "3a9297ed",
   "metadata": {
    "id": "3a9297ed"
   },
   "source": [
    "# LIST data structure, datatyoe"
   ]
  },
  {
   "cell_type": "code",
   "execution_count": null,
   "id": "92208365",
   "metadata": {
    "id": "92208365"
   },
   "outputs": [],
   "source": [
    "# list in python mutable\n",
    "# what is a list = dtatype, store the data in list\n",
    "# list vs array = # array homogenous, int datatype so array in all int but list diff data type accept in list.\n",
    "                  # array much faster but gain t,he time list. # list is programmer friendly.\n",
    "                  # array much faster but gain the time list. # list is programmer friendly.\n",
    "# create =  # l=[1,2,\"sagar\"],hogenious and hetrogenis accept\n",
    "# multi-dim list = # 2D_list = [1,2,3[4,5]], 3D_list = [[[1,2,3,4],[5,6],[7,3]]]\n",
    "# access =\n",
    "# edit\n",
    "# add\n",
    "# delete\n",
    "# operation\n",
    "#function"
   ]
  },
  {
   "cell_type": "code",
   "execution_count": 89,
   "id": "b733bfbf",
   "metadata": {
    "id": "b733bfbf",
    "outputId": "88b8cfcb-f7f4-4ebd-9a03-e5fef46c09ab"
   },
   "outputs": [
    {
     "name": "stdout",
     "output_type": "stream",
     "text": [
      "<class 'list'>\n"
     ]
    }
   ],
   "source": [
    "l1 =[1,2,3,4,5]\n",
    "l1\n",
    "print(type(l1))"
   ]
  },
  {
   "cell_type": "code",
   "execution_count": null,
   "id": "8b9ec20c",
   "metadata": {
    "id": "8b9ec20c",
    "outputId": "c0cc3c71-3673-409b-b202-8dffb623104b"
   },
   "outputs": [
    {
     "data": {
      "text/plain": [
       "['hello', 4, 5, True, 11]"
      ]
     },
     "execution_count": 2,
     "metadata": {},
     "output_type": "execute_result"
    }
   ],
   "source": [
    "l2 = [\"hello\",4,5,True,5+6]\n",
    "l2"
   ]
  },
  {
   "cell_type": "code",
   "execution_count": null,
   "id": "761252e1",
   "metadata": {
    "id": "761252e1",
    "outputId": "fd0f4df4-8698-4b37-9048-3689f75ff866"
   },
   "outputs": [
    {
     "data": {
      "text/plain": [
       "[1, 2, 3, 4, [4, 3]]"
      ]
     },
     "execution_count": 4,
     "metadata": {},
     "output_type": "execute_result"
    }
   ],
   "source": [
    "# multiline\n",
    "d2_list = [1,2,3,4,[4,3]]\n",
    "d2_list"
   ]
  },
  {
   "cell_type": "code",
   "execution_count": null,
   "id": "7b816666",
   "metadata": {
    "id": "7b816666",
    "outputId": "9a430625-523e-40df-e4e7-48b2233b3fbf"
   },
   "outputs": [
    {
     "data": {
      "text/plain": [
       "[[1, 2, 3, 4], [4, 3], [2, 98]]"
      ]
     },
     "execution_count": 6,
     "metadata": {},
     "output_type": "execute_result"
    }
   ],
   "source": [
    "d3_list = [[1,2,3,4],[4,3],[2,98]]\n",
    "d3_list"
   ]
  },
  {
   "cell_type": "code",
   "execution_count": 96,
   "id": "b38c4029",
   "metadata": {},
   "outputs": [
    {
     "name": "stdout",
     "output_type": "stream",
     "text": [
      "['my', 'name', 'is', 'khan']\n",
      "<class 'list'>\n"
     ]
    }
   ],
   "source": [
    "s = \"my name is khan\"\n",
    "\n",
    "l = s.split()\n",
    "\n",
    "list_= list(l)\n",
    "\n",
    "print(list_)\n",
    "print(type(list_))\n"
   ]
  },
  {
   "cell_type": "code",
   "execution_count": null,
   "id": "23b555d7",
   "metadata": {
    "id": "23b555d7",
    "outputId": "907db6b4-2019-4016-ef97-22c51779a037"
   },
   "outputs": [
    {
     "data": {
      "text/plain": [
       "[1, 2, 3, 4, 4, 3, 2, 98]"
      ]
     },
     "execution_count": 7,
     "metadata": {},
     "output_type": "execute_result"
    }
   ],
   "source": [
    "d3_list = [[1,2,3,4],[4,3],[2,98]]\n",
    "df=[]\n",
    "for subset in d3_list:\n",
    "    for element in subset:\n",
    "        df.append(element)\n",
    "df"
   ]
  },
  {
   "cell_type": "code",
   "execution_count": null,
   "id": "bd8d6898",
   "metadata": {
    "id": "bd8d6898",
    "outputId": "154e2803-1de6-43cb-cd84-6b7da20e8793"
   },
   "outputs": [
    {
     "data": {
      "text/plain": [
       "list['sagar']"
      ]
     },
     "execution_count": 8,
     "metadata": {},
     "output_type": "execute_result"
    }
   ],
   "source": [
    "list[\"sagar\"]\n"
   ]
  },
  {
   "cell_type": "code",
   "execution_count": null,
   "id": "de533327-0691-4a8a-a3d5-ae9c3480dc1f",
   "metadata": {
    "id": "de533327-0691-4a8a-a3d5-ae9c3480dc1f",
    "outputId": "8fb33ce7-7018-47c1-eb11-d314af196f20"
   },
   "outputs": [
    {
     "data": {
      "text/plain": [
       "4"
      ]
     },
     "execution_count": 18,
     "metadata": {},
     "output_type": "execute_result"
    }
   ],
   "source": [
    "d3_list = [[1,2,3,4],[[4,3],[2,98]]]\n",
    "vv = d3_list[1][0][0]\n",
    "vv"
   ]
  },
  {
   "cell_type": "code",
   "execution_count": null,
   "id": "984ae434",
   "metadata": {
    "id": "984ae434",
    "outputId": "aaa708ec-0cd9-417b-81fe-d69e1ec52f2c"
   },
   "outputs": [
    {
     "name": "stdout",
     "output_type": "stream",
     "text": [
      "[1, 2, 3, 4, 5000, 6, 7, 8]\n"
     ]
    }
   ],
   "source": [
    "# access\n",
    "l =[1,2,3,4,5,6,7,8]\n",
    "l[4]=5000\n",
    "print(l)\n"
   ]
  },
  {
   "cell_type": "code",
   "execution_count": 103,
   "id": "7d751c90",
   "metadata": {},
   "outputs": [
    {
     "name": "stdout",
     "output_type": "stream",
     "text": [
      "1\n",
      "2\n",
      "3\n",
      "4\n",
      "5\n",
      "6\n",
      "7\n",
      "8\n"
     ]
    }
   ],
   "source": [
    "l =[1,2,3,4,5,6,7,8]\n",
    "i = 0\n",
    "while i<len(l):\n",
    "  print(l[i])\n",
    "  i = i+1"
   ]
  },
  {
   "cell_type": "code",
   "execution_count": 105,
   "id": "3556901d",
   "metadata": {},
   "outputs": [
    {
     "name": "stdout",
     "output_type": "stream",
     "text": [
      "2\n",
      "4\n",
      "6\n",
      "8\n"
     ]
    }
   ],
   "source": [
    "list = [1, 2, 3, 4, 5, 6, 7, 8]\n",
    "\n",
    "for i in list:\n",
    "    if i % 2 == 0:\n",
    "        print(i)"
   ]
  },
  {
   "cell_type": "code",
   "execution_count": 112,
   "id": "d49e2be7",
   "metadata": {},
   "outputs": [
    {
     "name": "stdout",
     "output_type": "stream",
     "text": [
      "2\n",
      "4\n",
      "6\n",
      "8\n"
     ]
    }
   ],
   "source": [
    "list =[1,2,3,4,5,6,7,8]\n",
    "\n",
    "for i in list:\n",
    "    if i % 2 == 0:\n",
    "        print(i)\n",
    "#print(len(i))"
   ]
  },
  {
   "cell_type": "code",
   "execution_count": 113,
   "id": "cf2b9ee6",
   "metadata": {},
   "outputs": [
    {
     "name": "stdout",
     "output_type": "stream",
     "text": [
      "1\n"
     ]
    }
   ],
   "source": [
    "print(list.count(6))"
   ]
  },
  {
   "cell_type": "code",
   "execution_count": 109,
   "id": "3ee80cbc",
   "metadata": {
    "id": "3ee80cbc",
    "outputId": "ac4576bf-962e-4fbd-8246-37ed1002139f"
   },
   "outputs": [
    {
     "data": {
      "text/plain": [
       "(4, 6)"
      ]
     },
     "execution_count": 109,
     "metadata": {},
     "output_type": "execute_result"
    }
   ],
   "source": [
    "(l[3],l[5])  # 3, 5 no call"
   ]
  },
  {
   "cell_type": "code",
   "execution_count": null,
   "id": "c4eae1b8",
   "metadata": {
    "id": "c4eae1b8",
    "outputId": "e2070c89-642c-44e6-dddd-54b4f4be0605"
   },
   "outputs": [
    {
     "data": {
      "text/plain": [
       "[1, 2, 3, 4]"
      ]
     },
     "execution_count": 36,
     "metadata": {},
     "output_type": "execute_result"
    }
   ],
   "source": [
    "l[0:4]# 0 to 4 call"
   ]
  },
  {
   "cell_type": "code",
   "execution_count": null,
   "id": "41a8a715",
   "metadata": {
    "id": "41a8a715",
    "outputId": "47ca886d-ccd7-4c39-be94-dd3893299c61"
   },
   "outputs": [
    {
     "data": {
      "text/plain": [
       "[1, 3, 5, 7]"
      ]
     },
     "execution_count": 37,
     "metadata": {},
     "output_type": "execute_result"
    }
   ],
   "source": [
    "l[0::2] # 0 all row but step in 2"
   ]
  },
  {
   "cell_type": "code",
   "execution_count": null,
   "id": "c7723674",
   "metadata": {
    "id": "c7723674",
    "outputId": "5ae29891-63ed-4eb3-afd5-8245db5a9c00"
   },
   "outputs": [
    {
     "data": {
      "text/plain": [
       "1"
      ]
     },
     "execution_count": 10,
     "metadata": {},
     "output_type": "execute_result"
    }
   ],
   "source": [
    "l[0]"
   ]
  },
  {
   "cell_type": "code",
   "execution_count": null,
   "id": "f456ffa3",
   "metadata": {
    "id": "f456ffa3",
    "outputId": "8d99afc5-dfe9-4da8-c1ff-7f2a81e04ecd"
   },
   "outputs": [
    {
     "data": {
      "text/plain": [
       "8"
      ]
     },
     "execution_count": 11,
     "metadata": {},
     "output_type": "execute_result"
    }
   ],
   "source": [
    "l[-1]"
   ]
  },
  {
   "cell_type": "code",
   "execution_count": null,
   "id": "b5831a47",
   "metadata": {
    "id": "b5831a47",
    "outputId": "5619fb47-6223-4a29-ca79-589209fc0ea2"
   },
   "outputs": [
    {
     "data": {
      "text/plain": [
       "[8, 7, 6, 5, 4, 3, 2, 1]"
      ]
     },
     "execution_count": 12,
     "metadata": {},
     "output_type": "execute_result"
    }
   ],
   "source": [
    "l[::-1]  # reverce direction"
   ]
  },
  {
   "cell_type": "code",
   "execution_count": null,
   "id": "24a937d0",
   "metadata": {
    "id": "24a937d0",
    "outputId": "7019b499-c2c5-4782-ac7e-d73eee12dc90"
   },
   "outputs": [
    {
     "data": {
      "text/plain": [
       "[1, 2, 3, 4, [4, 3]]"
      ]
     },
     "execution_count": 13,
     "metadata": {},
     "output_type": "execute_result"
    }
   ],
   "source": [
    "# list in list extract\n",
    "d2_list = [1,2,3,4,[4,3]]\n",
    "d2_list"
   ]
  },
  {
   "cell_type": "code",
   "execution_count": null,
   "id": "b7046118",
   "metadata": {
    "id": "b7046118",
    "outputId": "b9943481-ce5d-4fed-a210-40a23c82a0f1"
   },
   "outputs": [
    {
     "data": {
      "text/plain": [
       "[4, 3]"
      ]
     },
     "execution_count": 15,
     "metadata": {},
     "output_type": "execute_result"
    }
   ],
   "source": [
    "l=d2_list[-1]\n",
    "l"
   ]
  },
  {
   "cell_type": "code",
   "execution_count": null,
   "id": "cf19bbfb",
   "metadata": {
    "id": "cf19bbfb",
    "outputId": "e1215a5c-c4e9-45a6-cf29-68a8233d0f17"
   },
   "outputs": [
    {
     "data": {
      "text/plain": [
       "4"
      ]
     },
     "execution_count": 16,
     "metadata": {},
     "output_type": "execute_result"
    }
   ],
   "source": [
    "l[0]"
   ]
  },
  {
   "cell_type": "code",
   "execution_count": null,
   "id": "5afae034",
   "metadata": {
    "id": "5afae034",
    "outputId": "f66613e8-458a-48e7-b3af-e2c91ed25314"
   },
   "outputs": [
    {
     "data": {
      "text/plain": [
       "[4, 3]"
      ]
     },
     "execution_count": 18,
     "metadata": {},
     "output_type": "execute_result"
    }
   ],
   "source": [
    "d3_list = [[1,2,3,4],[4,3],[2,98]]\n",
    "bb = d3_list[-2]\n",
    "bb"
   ]
  },
  {
   "cell_type": "code",
   "execution_count": null,
   "id": "86f79a02",
   "metadata": {
    "id": "86f79a02",
    "outputId": "42d7b7e0-2117-4dec-8523-7977b9f7210d"
   },
   "outputs": [
    {
     "data": {
      "text/plain": [
       "4"
      ]
     },
     "execution_count": 17,
     "metadata": {},
     "output_type": "execute_result"
    }
   ],
   "source": [
    "d3_list = [[1,2,3,4],[4,3],[2,98]]\n",
    "aa=d3_list[-2]\n",
    "bb = aa[0]\n",
    "bb"
   ]
  },
  {
   "cell_type": "code",
   "execution_count": null,
   "id": "717bbfc7",
   "metadata": {
    "id": "717bbfc7",
    "outputId": "e9161bec-58cb-4d89-e4aa-4d38aa92e808"
   },
   "outputs": [
    {
     "data": {
      "text/plain": [
       "4"
      ]
     },
     "execution_count": 19,
     "metadata": {},
     "output_type": "execute_result"
    }
   ],
   "source": [
    "bb[0]"
   ]
  },
  {
   "cell_type": "code",
   "execution_count": null,
   "id": "f574c6fb",
   "metadata": {
    "id": "f574c6fb",
    "outputId": "ae50c7bb-8ece-4950-fa50-ab8fdc23642c"
   },
   "outputs": [
    {
     "data": {
      "text/plain": [
       "[100, 2, 3, 4, 5, 6, 7, 8]"
      ]
     },
     "execution_count": 18,
     "metadata": {},
     "output_type": "execute_result"
    }
   ],
   "source": [
    "# edit\n",
    "# replacement\n",
    "ll =[1,2,3,4,5,6,7,8]\n",
    "ll[0]=100\n",
    "ll"
   ]
  },
  {
   "cell_type": "code",
   "execution_count": null,
   "id": "21b7849e",
   "metadata": {
    "id": "21b7849e",
    "outputId": "9c7741a1-cf6e-4d66-e3dd-d40d227d8e69"
   },
   "outputs": [
    {
     "data": {
      "text/plain": [
       "[100, 2, 3, 4, 5, 6, 7, 500]"
      ]
     },
     "execution_count": 19,
     "metadata": {},
     "output_type": "execute_result"
    }
   ],
   "source": [
    "ll[-1]=500\n",
    "ll"
   ]
  },
  {
   "cell_type": "code",
   "execution_count": null,
   "id": "b857825d",
   "metadata": {
    "id": "b857825d"
   },
   "outputs": [],
   "source": [
    "# how to add new items in list\n",
    "# apend\n",
    "# extend\n",
    "# insert"
   ]
  },
  {
   "cell_type": "code",
   "execution_count": null,
   "id": "b9a6fdc4",
   "metadata": {
    "id": "b9a6fdc4",
    "outputId": "cae10e86-cbaa-4119-f7e1-d849f1bc4e8e"
   },
   "outputs": [
    {
     "data": {
      "text/plain": [
       "[100, 200, 300, 400, 500, 1000, 'hello']"
      ]
     },
     "execution_count": 9,
     "metadata": {},
     "output_type": "execute_result"
    }
   ],
   "source": [
    "# append -last content               # one value or woard add use append\n",
    "l = [100,200,300,400,500]\n",
    "l.append(1000)\n",
    "l.append(\"hello\")\n",
    "l"
   ]
  },
  {
   "cell_type": "code",
   "execution_count": null,
   "id": "254084fe",
   "metadata": {
    "id": "254084fe",
    "outputId": "b588a491-0767-4fca-d784-0a97a046dd36"
   },
   "outputs": [
    {
     "data": {
      "text/plain": [
       "[100,\n",
       " 200,\n",
       " 300,\n",
       " 400,\n",
       " 500,\n",
       " 1000,\n",
       " 'hello',\n",
       " 2000,\n",
       " 3000,\n",
       " 4000,\n",
       " 5000,\n",
       " 'ram',\n",
       " 'seeta',\n",
       " 'ramayan']"
      ]
     },
     "execution_count": 10,
     "metadata": {},
     "output_type": "execute_result"
    }
   ],
   "source": [
    "# extend   -add last content       # multiple add value or word use extend\n",
    "l.extend([2000,3000,4000,5000,\"ram\",\"seeta\",\"ramayan\"])\n",
    "l"
   ]
  },
  {
   "cell_type": "code",
   "execution_count": null,
   "id": "015d0e8e",
   "metadata": {
    "id": "015d0e8e",
    "outputId": "e716475a-c3bb-4db7-8855-08586d196f46"
   },
   "outputs": [
    {
     "data": {
      "text/plain": [
       "[100, 2, 3, 4, 5, 6, 7, 500, [400, 800]]"
      ]
     },
     "execution_count": 20,
     "metadata": {},
     "output_type": "execute_result"
    }
   ],
   "source": [
    "ll.append([400,800])\n",
    "ll"
   ]
  },
  {
   "cell_type": "code",
   "execution_count": null,
   "id": "e609c566",
   "metadata": {
    "id": "e609c566",
    "outputId": "69bc4e9e-9a07-4104-f7cb-eb48c650c9ef"
   },
   "outputs": [
    {
     "data": {
      "text/plain": [
       "[100, 2, 3, 4, 5, 6, 7, 500, [400, 800], 'pune']"
      ]
     },
     "execution_count": 21,
     "metadata": {},
     "output_type": "execute_result"
    }
   ],
   "source": [
    "ll.append(\"pune\")\n",
    "ll"
   ]
  },
  {
   "cell_type": "code",
   "execution_count": null,
   "id": "cd37af9f",
   "metadata": {
    "id": "cd37af9f",
    "outputId": "16582842-fd75-4a8d-a8c1-389aace67f63"
   },
   "outputs": [
    {
     "data": {
      "text/plain": [
       "[100,\n",
       " 200,\n",
       " 300,\n",
       " 400,\n",
       " 500,\n",
       " 1000,\n",
       " 'hello',\n",
       " 2000,\n",
       " 3000,\n",
       " 4000,\n",
       " 5000,\n",
       " 'ram',\n",
       " 'seeta',\n",
       " 'ramayan',\n",
       " [400, 800],\n",
       " 'pune',\n",
       " 'g',\n",
       " 'o',\n",
       " 'v',\n",
       " 'a']"
      ]
     },
     "execution_count": 13,
     "metadata": {},
     "output_type": "execute_result"
    }
   ],
   "source": [
    "l.extend(\"gova\")\n",
    "l"
   ]
  },
  {
   "cell_type": "code",
   "execution_count": null,
   "id": "aa447b6a",
   "metadata": {
    "id": "aa447b6a",
    "outputId": "fcf432f6-5e5f-4c05-888f-4d20107520f5"
   },
   "outputs": [
    {
     "data": {
      "text/plain": [
       "[100,\n",
       " 'world',\n",
       " 200,\n",
       " 300,\n",
       " 400,\n",
       " 500,\n",
       " 1000,\n",
       " 'hello',\n",
       " 2000,\n",
       " 3000,\n",
       " 4000,\n",
       " 5000,\n",
       " 'ram',\n",
       " 'seeta',\n",
       " 'ramayan',\n",
       " [400, 800],\n",
       " 'pune',\n",
       " 'g',\n",
       " 'o',\n",
       " 'v',\n",
       " 'a']"
      ]
     },
     "execution_count": 14,
     "metadata": {},
     "output_type": "execute_result"
    }
   ],
   "source": [
    "# insert ,  # use in list internal position add i.e.chara,number etc\n",
    "l.insert(1,\"world\")\n",
    "l"
   ]
  },
  {
   "cell_type": "code",
   "execution_count": null,
   "id": "63bdf154",
   "metadata": {
    "id": "63bdf154",
    "outputId": "8cffc2a4-ac0e-4860-d91a-0f3d4f91b26e"
   },
   "outputs": [
    {
     "name": "stdout",
     "output_type": "stream",
     "text": [
      "banana\n"
     ]
    }
   ],
   "source": [
    "thislist = [\"apple\", \"banana\", \"cherry\"]\n",
    "print(thislist[1])\n"
   ]
  },
  {
   "cell_type": "code",
   "execution_count": null,
   "id": "80387f3a",
   "metadata": {
    "id": "80387f3a",
    "outputId": "f5e6a5d6-91ca-4579-821f-0ab45f9acc86"
   },
   "outputs": [
    {
     "name": "stdout",
     "output_type": "stream",
     "text": [
      "cherry\n"
     ]
    }
   ],
   "source": [
    "thislist = [\"apple\", \"banana\", \"cherry\"]\n",
    "print(thislist[-1])"
   ]
  },
  {
   "cell_type": "code",
   "execution_count": null,
   "id": "4c3eee50",
   "metadata": {
    "id": "4c3eee50"
   },
   "outputs": [],
   "source": [
    "# delete in list chara\n",
    "# del\n",
    "# remove\n",
    "# clear\n",
    "# pop"
   ]
  },
  {
   "cell_type": "code",
   "execution_count": null,
   "id": "22318621",
   "metadata": {
    "id": "22318621",
    "scrolled": true
   },
   "outputs": [],
   "source": [
    "# del\n",
    "l2=[\"a\",\"b\",33,77,3]\n",
    "del l2\n"
   ]
  },
  {
   "cell_type": "code",
   "execution_count": null,
   "id": "b74fc96f",
   "metadata": {
    "id": "b74fc96f",
    "outputId": "d420ecd2-7104-45bb-854a-07ee6081fc0a"
   },
   "outputs": [
    {
     "data": {
      "text/plain": [
       "['world',\n",
       " 200,\n",
       " 300,\n",
       " 400,\n",
       " 500,\n",
       " 1000,\n",
       " 'hello',\n",
       " 2000,\n",
       " 3000,\n",
       " 4000,\n",
       " 5000,\n",
       " 'ram',\n",
       " 'seeta',\n",
       " 'ramayan',\n",
       " [400, 800],\n",
       " 'pune']"
      ]
     },
     "execution_count": 2,
     "metadata": {},
     "output_type": "execute_result"
    }
   ],
   "source": [
    "ll=[100,\n",
    " 'world',\n",
    " 200,\n",
    " 300,\n",
    " 400,\n",
    " 500,\n",
    " 1000,\n",
    " 'hello',\n",
    " 2000,\n",
    " 3000,\n",
    " 4000,\n",
    " 5000,\n",
    " 'ram',\n",
    " 'seeta',\n",
    " 'ramayan',\n",
    " [400, 800],\n",
    " 'pune']\n",
    "del ll[0]   # remove specific positon chara,num\n",
    "ll"
   ]
  },
  {
   "cell_type": "code",
   "execution_count": null,
   "id": "4ae435eb",
   "metadata": {
    "id": "4ae435eb",
    "outputId": "2c9b8775-b84b-4476-f0db-8e57ab696bc5"
   },
   "outputs": [
    {
     "data": {
      "text/plain": [
       "['world',\n",
       " 200,\n",
       " 300,\n",
       " 400,\n",
       " 500,\n",
       " 1000,\n",
       " 'hello',\n",
       " 2000,\n",
       " 3000,\n",
       " 4000,\n",
       " 5000,\n",
       " 'ram',\n",
       " 'seeta',\n",
       " 'ramayan',\n",
       " 'pune']"
      ]
     },
     "execution_count": 3,
     "metadata": {},
     "output_type": "execute_result"
    }
   ],
   "source": [
    "del ll[-2]  # reverse in dilete\n",
    "ll"
   ]
  },
  {
   "cell_type": "code",
   "execution_count": null,
   "id": "c381971a",
   "metadata": {
    "id": "c381971a",
    "outputId": "47dc60f9-add7-45ba-bbfb-827ff6136b0c"
   },
   "outputs": [
    {
     "data": {
      "text/plain": [
       "['world',\n",
       " 200,\n",
       " 300,\n",
       " 400,\n",
       " 500,\n",
       " 1000,\n",
       " 2000,\n",
       " 3000,\n",
       " 4000,\n",
       " 5000,\n",
       " 'ram',\n",
       " 'seeta',\n",
       " 'ramayan',\n",
       " 'pune']"
      ]
     },
     "execution_count": 8,
     "metadata": {},
     "output_type": "execute_result"
    }
   ],
   "source": [
    "# remove\n",
    "ll.remove(\"hello\") # remove - direct name use\n",
    "ll"
   ]
  },
  {
   "cell_type": "code",
   "execution_count": null,
   "id": "7717c4fd",
   "metadata": {
    "id": "7717c4fd",
    "outputId": "4eae5d11-c714-4578-9175-0f6a154e0973"
   },
   "outputs": [
    {
     "data": {
      "text/plain": [
       "['world', 200, 300, 400, 500, 1000, 2000, 3000, 4000, 5000, 'ram', 'seeta']"
      ]
     },
     "execution_count": 10,
     "metadata": {},
     "output_type": "execute_result"
    }
   ],
   "source": [
    "# pop last chara delete\n",
    "ll.pop()\n",
    "ll"
   ]
  },
  {
   "cell_type": "code",
   "execution_count": null,
   "id": "bf8b6a7e",
   "metadata": {
    "id": "bf8b6a7e",
    "outputId": "c567d571-ab8e-4b7e-f69e-6350eea1dd12"
   },
   "outputs": [
    {
     "data": {
      "text/plain": [
       "[]"
      ]
     },
     "execution_count": 12,
     "metadata": {},
     "output_type": "execute_result"
    }
   ],
   "source": [
    "# clear  , # not delete direct emapy\n",
    "ll.clear()\n",
    "ll"
   ]
  },
  {
   "cell_type": "code",
   "execution_count": null,
   "id": "b7c1016e",
   "metadata": {
    "id": "b7c1016e",
    "outputId": "42e546b2-02ac-4f26-baf9-3de83e599f4d"
   },
   "outputs": [
    {
     "data": {
      "text/plain": [
       "[1, 2, 3, 4, 11, 22, 33, 44]"
      ]
     },
     "execution_count": 13,
     "metadata": {},
     "output_type": "execute_result"
    }
   ],
   "source": [
    "# operation in data\n",
    "# concadition\n",
    "l1 = [1,2,3,4]\n",
    "l2 = [11,22,33,44]\n",
    "l1 + l2"
   ]
  },
  {
   "cell_type": "code",
   "execution_count": null,
   "id": "34c2ecc0",
   "metadata": {
    "id": "34c2ecc0",
    "outputId": "7f1334b9-93e2-45c6-9bc1-ee8f1ae687e8"
   },
   "outputs": [
    {
     "data": {
      "text/plain": [
       "[1, 2, 3, 4, 1, 2, 3, 4, 1, 2, 3, 4]"
      ]
     },
     "execution_count": 15,
     "metadata": {},
     "output_type": "execute_result"
    }
   ],
   "source": [
    "# multiplication\n",
    "l1 * 3"
   ]
  },
  {
   "cell_type": "code",
   "execution_count": null,
   "id": "8ddfe79f",
   "metadata": {
    "id": "8ddfe79f",
    "outputId": "d4865388-2db1-4e42-ea1b-4a5f75b8a772"
   },
   "outputs": [
    {
     "name": "stdout",
     "output_type": "stream",
     "text": [
      "1\n",
      "2\n",
      "3\n",
      "4\n"
     ]
    }
   ],
   "source": [
    "# loop\n",
    "for i in l1:\n",
    "    print(i)"
   ]
  },
  {
   "cell_type": "code",
   "execution_count": null,
   "id": "201bff9f",
   "metadata": {
    "id": "201bff9f",
    "outputId": "85b30d7e-3a82-4786-bd2e-7b60dba942df"
   },
   "outputs": [
    {
     "data": {
      "text/plain": [
       "True"
      ]
     },
     "execution_count": 17,
     "metadata": {},
     "output_type": "execute_result"
    }
   ],
   "source": [
    "4 in l1   # 4 present in l1"
   ]
  },
  {
   "cell_type": "code",
   "execution_count": null,
   "id": "0eed6bd5",
   "metadata": {
    "id": "0eed6bd5",
    "outputId": "08582785-222e-4e26-ef88-31e604100ab4"
   },
   "outputs": [
    {
     "name": "stdout",
     "output_type": "stream",
     "text": [
      "Yes, 'apple' is in the fruits list\n"
     ]
    }
   ],
   "source": [
    "thislist = [\"apple\", \"banana\", \"cherry\"]\n",
    "if \"apple\" in thislist:\n",
    "  print(\"Yes, 'apple' is in the fruits list\")"
   ]
  },
  {
   "cell_type": "code",
   "execution_count": null,
   "id": "e3c037b8",
   "metadata": {
    "id": "e3c037b8",
    "outputId": "b736a852-aed6-45b0-cf21-e6d928077488"
   },
   "outputs": [
    {
     "name": "stdout",
     "output_type": "stream",
     "text": [
      "['apple', 'blackcurrant', 'cherry']\n"
     ]
    }
   ],
   "source": [
    "thislist = [\"apple\", \"banana\", \"cherry\"]\n",
    "thislist[1] = \"blackcurrant\"\n",
    "print(thislist)"
   ]
  },
  {
   "cell_type": "code",
   "execution_count": null,
   "id": "4b9a318b",
   "metadata": {
    "id": "4b9a318b",
    "outputId": "414cf5d1-f5d0-4ee8-8d83-da0e97dc89c0"
   },
   "outputs": [
    {
     "name": "stdout",
     "output_type": "stream",
     "text": [
      "['apple', 'blackcurrant', 'watermelon', 'orange', 'kiwi', 'mango']\n"
     ]
    }
   ],
   "source": [
    "thislist = [\"apple\", \"banana\", \"cherry\", \"orange\", \"kiwi\", \"mango\"]\n",
    "thislist[1:3] = [\"blackcurrant\", \"watermelon\"]\n",
    "print(thislist)"
   ]
  },
  {
   "cell_type": "code",
   "execution_count": null,
   "id": "ce8780c1",
   "metadata": {
    "id": "ce8780c1",
    "outputId": "73828729-421e-4aab-e080-d1dea95bcdcc"
   },
   "outputs": [
    {
     "name": "stdout",
     "output_type": "stream",
     "text": [
      "['apple', 'blackcurrant', 'watermelon', 'cherry']\n"
     ]
    }
   ],
   "source": [
    "thislist = [\"apple\", \"banana\", \"cherry\"]\n",
    "thislist[1:2] = [\"blackcurrant\", \"watermelon\"]\n",
    "print(thislist)"
   ]
  },
  {
   "cell_type": "code",
   "execution_count": null,
   "id": "a96a4a8a",
   "metadata": {
    "id": "a96a4a8a",
    "outputId": "4a23f8d5-2e9a-448b-adce-2666c2b3c0c5"
   },
   "outputs": [
    {
     "name": "stdout",
     "output_type": "stream",
     "text": [
      "['apple', 'watermelon']\n"
     ]
    }
   ],
   "source": [
    "thislist = [\"apple\", \"banana\", \"cherry\"]\n",
    "thislist[1:3] = [\"watermelon\"]\n",
    "print(thislist)"
   ]
  },
  {
   "cell_type": "code",
   "execution_count": null,
   "id": "fe33156c",
   "metadata": {
    "id": "fe33156c",
    "outputId": "b98445df-51bf-4362-d747-abf7005d70a0"
   },
   "outputs": [
    {
     "name": "stdout",
     "output_type": "stream",
     "text": [
      "['apple', 'banana', 'watermelon', 'cherry']\n"
     ]
    }
   ],
   "source": [
    "thislist = [\"apple\", \"banana\", \"cherry\"]\n",
    "thislist.insert(2, \"watermelon\")\n",
    "print(thislist)"
   ]
  },
  {
   "cell_type": "code",
   "execution_count": null,
   "id": "5cc20d3d",
   "metadata": {
    "id": "5cc20d3d",
    "outputId": "9a09869f-18be-4cc9-d834-d2aa9a91b1bc"
   },
   "outputs": [
    {
     "name": "stdout",
     "output_type": "stream",
     "text": [
      "['apple', 'banana', 'cherry', 'kiwi', 'orange']\n"
     ]
    }
   ],
   "source": [
    "thislist = [\"apple\", \"banana\", \"cherry\"]\n",
    "thistuple = (\"kiwi\", \"orange\")\n",
    "thislist.extend(thistuple)\n",
    "print(thislist)"
   ]
  },
  {
   "cell_type": "code",
   "execution_count": null,
   "id": "96572b8e",
   "metadata": {
    "id": "96572b8e",
    "outputId": "5c9a1eeb-83fb-4d99-c125-ef84f1d5b19c"
   },
   "outputs": [
    {
     "name": "stdout",
     "output_type": "stream",
     "text": [
      "apple\n",
      "banana\n",
      "cherry\n"
     ]
    }
   ],
   "source": [
    "thislist = [\"apple\", \"banana\", \"cherry\"]\n",
    "for x in thislist:\n",
    "  print(x)"
   ]
  },
  {
   "cell_type": "code",
   "execution_count": null,
   "id": "751cda9e",
   "metadata": {
    "id": "751cda9e",
    "outputId": "0d57bbb0-7baf-4b08-cd74-bec07c5624ff"
   },
   "outputs": [
    {
     "name": "stdout",
     "output_type": "stream",
     "text": [
      "apple\n",
      "banana\n",
      "cherry\n"
     ]
    }
   ],
   "source": [
    "thislist = [\"apple\", \"banana\", \"cherry\"]\n",
    "for i in range(len(thislist)):\n",
    "  print(thislist[i])"
   ]
  },
  {
   "cell_type": "code",
   "execution_count": null,
   "id": "6b1c2641",
   "metadata": {
    "id": "6b1c2641",
    "outputId": "b565335a-efc4-448f-9a18-0f3878e417b2"
   },
   "outputs": [
    {
     "name": "stdout",
     "output_type": "stream",
     "text": [
      "apple\n",
      "banana\n",
      "cherry\n"
     ]
    }
   ],
   "source": [
    "thislist = [\"apple\", \"banana\", \"cherry\"]\n",
    "i = 0\n",
    "while i < len(thislist):\n",
    "  print(thislist[i])\n",
    "  i = i + 1"
   ]
  },
  {
   "cell_type": "code",
   "execution_count": null,
   "id": "b9e1926b",
   "metadata": {
    "id": "b9e1926b",
    "outputId": "15ea3c3e-8d44-4b1e-c779-16b4be16a901"
   },
   "outputs": [
    {
     "name": "stdout",
     "output_type": "stream",
     "text": [
      "['apple', 'banana', 'mango']\n"
     ]
    }
   ],
   "source": [
    "fruits = [\"apple\", \"banana\", \"cherry\", \"kiwi\", \"mango\"]\n",
    "newlist = []\n",
    "\n",
    "for x in fruits:\n",
    "  if \"a\" in x:\n",
    "    newlist.append(x)\n",
    "\n",
    "print(newlist)"
   ]
  },
  {
   "cell_type": "code",
   "execution_count": null,
   "id": "a7eb210b",
   "metadata": {
    "id": "a7eb210b",
    "outputId": "1b7b268e-d850-4f6f-f399-f06426f4c7d0"
   },
   "outputs": [
    {
     "name": "stdout",
     "output_type": "stream",
     "text": [
      "['pineapple', 'orange', 'mango', 'kiwi', 'banana']\n"
     ]
    }
   ],
   "source": [
    "thislist = [\"orange\", \"mango\", \"kiwi\", \"pineapple\", \"banana\"]\n",
    "thislist.sort(reverse = True)\n",
    "print(thislist)"
   ]
  },
  {
   "cell_type": "code",
   "execution_count": null,
   "id": "cc819317",
   "metadata": {
    "id": "cc819317",
    "outputId": "2fc96de1-142f-41a7-e877-9da4d27258bb"
   },
   "outputs": [
    {
     "name": "stdout",
     "output_type": "stream",
     "text": [
      "['apple', 'banana', 'cherry']\n"
     ]
    }
   ],
   "source": [
    "thislist = [\"apple\", \"banana\", \"cherry\"]\n",
    "mylist = thislist.copy()\n",
    "print(mylist)\n"
   ]
  },
  {
   "cell_type": "code",
   "execution_count": null,
   "id": "bf28ca17",
   "metadata": {
    "id": "bf28ca17",
    "outputId": "a56f8481-fdec-4d83-b46e-fedfdc96f791"
   },
   "outputs": [
    {
     "name": "stdout",
     "output_type": "stream",
     "text": [
      "['a', 'b', 'c', 1, 2, 3]\n"
     ]
    }
   ],
   "source": [
    "list1 = [\"a\", \"b\" , \"c\"]\n",
    "list2 = [1, 2, 3]\n",
    "\n",
    "for x in list2:\n",
    "    list1.append(x)\n",
    "\n",
    "print(list1)\n"
   ]
  },
  {
   "cell_type": "code",
   "execution_count": null,
   "id": "873a9380",
   "metadata": {
    "id": "873a9380",
    "outputId": "a4ee5f01-7f5b-45f7-f622-bd6be1c3406d"
   },
   "outputs": [
    {
     "name": "stdout",
     "output_type": "stream",
     "text": [
      "['a', 'b', 'c', 1, 2, 3]\n"
     ]
    }
   ],
   "source": [
    "list1 = [\"a\", \"b\" , \"c\"]\n",
    "list2 = [1, 2, 3]\n",
    "\n",
    "list1.extend(list2)\n",
    "print(list1)"
   ]
  },
  {
   "cell_type": "code",
   "execution_count": null,
   "id": "d2bf11fb",
   "metadata": {
    "id": "d2bf11fb",
    "outputId": "30601545-f1cc-40cf-dcd5-575d2961299d"
   },
   "outputs": [
    {
     "data": {
      "text/plain": [
       "9"
      ]
     },
     "execution_count": 18,
     "metadata": {},
     "output_type": "execute_result"
    }
   ],
   "source": [
    "# function in list\n",
    "aa = [11,22,33,44,55,66,77,88,99]\n",
    "len(aa)"
   ]
  },
  {
   "cell_type": "code",
   "execution_count": null,
   "id": "0884cd26",
   "metadata": {
    "id": "0884cd26",
    "outputId": "cdc02479-1f99-45cc-9b7f-c6e2d123a91a"
   },
   "outputs": [
    {
     "data": {
      "text/plain": [
       "11"
      ]
     },
     "execution_count": 19,
     "metadata": {},
     "output_type": "execute_result"
    }
   ],
   "source": [
    "min(aa)"
   ]
  },
  {
   "cell_type": "code",
   "execution_count": null,
   "id": "388243a2",
   "metadata": {
    "id": "388243a2",
    "outputId": "5b1162c4-c133-41e8-c4db-b4fc320ef110"
   },
   "outputs": [
    {
     "data": {
      "text/plain": [
       "99"
      ]
     },
     "execution_count": 20,
     "metadata": {},
     "output_type": "execute_result"
    }
   ],
   "source": [
    "max(aa)"
   ]
  },
  {
   "cell_type": "code",
   "execution_count": null,
   "id": "9b2a218b",
   "metadata": {
    "id": "9b2a218b",
    "outputId": "8bae0ec3-a19d-4c09-9f92-5cdbdbf1decd"
   },
   "outputs": [
    {
     "data": {
      "text/plain": [
       "[11, 22, 33, 44, 55, 66, 77, 88, 99]"
      ]
     },
     "execution_count": 25,
     "metadata": {},
     "output_type": "execute_result"
    }
   ],
   "source": [
    "sorted(aa)  # temprary operation"
   ]
  },
  {
   "cell_type": "code",
   "execution_count": null,
   "id": "2e87fc0a",
   "metadata": {
    "id": "2e87fc0a",
    "outputId": "449f8a7c-056e-476b-b82b-6933b2063479"
   },
   "outputs": [
    {
     "data": {
      "text/plain": [
       "[99, 88, 77, 66, 55, 44, 33, 22, 11]"
      ]
     },
     "execution_count": 26,
     "metadata": {},
     "output_type": "execute_result"
    }
   ],
   "source": [
    "sorted(aa, reverse=True)"
   ]
  },
  {
   "cell_type": "code",
   "execution_count": null,
   "id": "8dc50a67",
   "metadata": {
    "id": "8dc50a67",
    "outputId": "9659ee6c-d576-4f4b-8ffa-eea437e4ba17"
   },
   "outputs": [
    {
     "data": {
      "text/plain": [
       "[11, 22, 33, 44, 55, 66, 77, 88, 99]"
      ]
     },
     "execution_count": 29,
     "metadata": {},
     "output_type": "execute_result"
    }
   ],
   "source": [
    "aa.sort()  #  perment change\n",
    "aa"
   ]
  },
  {
   "cell_type": "code",
   "execution_count": 136,
   "id": "3eee2f82",
   "metadata": {
    "id": "3eee2f82",
    "outputId": "47dd8df7-7a6a-4ed2-cbef-ea095fbccf47"
   },
   "outputs": [
    {
     "data": {
      "text/plain": [
       "100"
      ]
     },
     "execution_count": 136,
     "metadata": {},
     "output_type": "execute_result"
    }
   ],
   "source": [
    "aa.sort(reverse=True)\n",
    "aa[2]"
   ]
  },
  {
   "cell_type": "code",
   "execution_count": 120,
   "id": "8fa63d48",
   "metadata": {
    "id": "8fa63d48",
    "outputId": "3483de23-5426-49e5-aba1-0883f755c5ec"
   },
   "outputs": [
    {
     "name": "stdout",
     "output_type": "stream",
     "text": [
      "[2, 5, 23, 44, 66, 77, 90, 100, 455, 897]\n",
      "[897, 455, 100, 90, 77, 66, 44, 23, 5, 2]\n",
      "1\n"
     ]
    }
   ],
   "source": [
    "# finding highest second number\n",
    "list = [100,44,66,897,455,90,2,5,23,77]\n",
    "aa = sorted(list)\n",
    "print(aa)\n",
    "aa.reverse()\n",
    "print(aa)\n",
    "aa[1:2]\n",
    "print(list.index(44))\n"
   ]
  },
  {
   "cell_type": "code",
   "execution_count": null,
   "id": "770638d2",
   "metadata": {
    "id": "770638d2",
    "outputId": "ee68ddf0-60a9-4156-c83f-ea78c0af89ec"
   },
   "outputs": [
    {
     "data": {
      "text/plain": [
       "[99, 88, 77, 66, 55, 44, 33, 22, 11]"
      ]
     },
     "execution_count": 24,
     "metadata": {},
     "output_type": "execute_result"
    }
   ],
   "source": [
    "aa[::-1]"
   ]
  },
  {
   "cell_type": "code",
   "execution_count": null,
   "id": "0a7d34d2",
   "metadata": {
    "id": "0a7d34d2",
    "outputId": "c9290d5e-fae0-4e73-c07a-a15de79d2423"
   },
   "outputs": [
    {
     "data": {
      "text/plain": [
       "5"
      ]
     },
     "execution_count": 37,
     "metadata": {},
     "output_type": "execute_result"
    }
   ],
   "source": [
    "aa.index(44)  # chara throgh show position number"
   ]
  },
  {
   "cell_type": "code",
   "execution_count": 128,
   "id": "05373252",
   "metadata": {},
   "outputs": [
    {
     "name": "stdout",
     "output_type": "stream",
     "text": [
      "[22, 44, 66, 88, 100]\n"
     ]
    }
   ],
   "source": [
    "list = []\n",
    "aa = [11,22,33,44,55,66,77,88,99,100]\n",
    "\n",
    "for i in aa:\n",
    "    if i % 2==0:\n",
    "        list.append(i)\n",
    "print(list)"
   ]
  },
  {
   "cell_type": "code",
   "execution_count": 129,
   "id": "557fd652",
   "metadata": {},
   "outputs": [
    {
     "data": {
      "text/plain": [
       "[22, 44, 66, 600000, 88, 100]"
      ]
     },
     "execution_count": 129,
     "metadata": {},
     "output_type": "execute_result"
    }
   ],
   "source": [
    "list.insert(3,600000)\n",
    "list"
   ]
  },
  {
   "cell_type": "code",
   "execution_count": 125,
   "id": "8a769d77",
   "metadata": {
    "id": "8a769d77",
    "outputId": "ba1cc57c-6b43-4a50-c4b6-adc4573f2d7d"
   },
   "outputs": [
    {
     "data": {
      "text/plain": [
       "'Hellow How Are You'"
      ]
     },
     "execution_count": 125,
     "metadata": {},
     "output_type": "execute_result"
    }
   ],
   "source": [
    "bb = \"hellow how are you\".title()  # start woard convert capital\n",
    "bb"
   ]
  },
  {
   "cell_type": "code",
   "execution_count": 126,
   "id": "6209c819",
   "metadata": {
    "id": "6209c819",
    "outputId": "00f131f1-c14c-42e6-fef7-8893b9f050d2"
   },
   "outputs": [
    {
     "data": {
      "text/plain": [
       "['hellow', 'how', 'are', 'you']"
      ]
     },
     "execution_count": 126,
     "metadata": {},
     "output_type": "execute_result"
    }
   ],
   "source": [
    "bb = \"hellow how are you\"\n",
    "bb.split()"
   ]
  },
  {
   "cell_type": "code",
   "execution_count": 127,
   "id": "d974d72a",
   "metadata": {
    "id": "d974d72a",
    "outputId": "e9a073b7-1e64-458d-e615-9ec086cc19da"
   },
   "outputs": [
    {
     "name": "stdout",
     "output_type": "stream",
     "text": [
      "H\n",
      "E\n",
      "L\n",
      "L\n",
      "O\n",
      "W\n",
      " \n",
      "H\n",
      "O\n",
      "W\n",
      " \n",
      "A\n",
      "R\n",
      "E\n",
      " \n",
      "Y\n",
      "O\n",
      "U\n",
      "['H', 'E', 'L', 'L', 'O', 'W', ' ', 'H', 'O', 'W', ' ', 'A', 'R', 'E', ' ', 'Y', 'O', 'U']\n",
      "HELLOW HOW ARE YOU\n"
     ]
    }
   ],
   "source": [
    "k=[]\n",
    "for i in bb:\n",
    "    print(i.capitalize())\n",
    "    k.append(i.capitalize())\n",
    "print(k)\n",
    "print(\"\".join(k))"
   ]
  },
  {
   "cell_type": "code",
   "execution_count": null,
   "id": "480871c9",
   "metadata": {
    "id": "480871c9"
   },
   "outputs": [],
   "source": [
    "k=[]"
   ]
  },
  {
   "cell_type": "code",
   "execution_count": null,
   "id": "2af75d2f",
   "metadata": {
    "id": "2af75d2f",
    "outputId": "bbd65ad7-385d-41dd-8b54-fb6c738f183c"
   },
   "outputs": [
    {
     "name": "stdout",
     "output_type": "stream",
     "text": [
      "sagar\n"
     ]
    }
   ],
   "source": [
    "df = \"sagar@gmail.com\"\n",
    "print(df[:df.find(\"@\")])"
   ]
  },
  {
   "cell_type": "code",
   "execution_count": 135,
   "id": "ccbe42b6",
   "metadata": {
    "id": "ccbe42b6",
    "outputId": "a6f425b6-705a-4acf-d42b-ad270a1d21ff"
   },
   "outputs": [
    {
     "name": "stdout",
     "output_type": "stream",
     "text": [
      "sachintendulkar455\n"
     ]
    }
   ],
   "source": [
    "df = \"sachintendulkar455@gmail.com\"\n",
    "#print(df[:df.find(\"@\")])\n",
    "print(df[:df.find(\"@\")])"
   ]
  },
  {
   "cell_type": "code",
   "execution_count": null,
   "id": "051dfbca",
   "metadata": {
    "id": "051dfbca",
    "outputId": "0dc9fdc9-a9c7-42bd-c405-e6a984b65dee"
   },
   "outputs": [
    {
     "name": "stdout",
     "output_type": "stream",
     "text": [
      "enter email   sdsad234@gmail.in\n",
      "sdsad234\n"
     ]
    }
   ],
   "source": [
    "#df = \"sagarabhang@gmail.com\"\n",
    "# @ before show\n",
    "df = input(\"enter email   \")\n",
    "print(df[:df.index(\"@\")])"
   ]
  },
  {
   "cell_type": "code",
   "execution_count": null,
   "id": "7263f2e4",
   "metadata": {
    "id": "7263f2e4",
    "outputId": "d7955eba-2643-4f96-b755-e0b44dd97e50"
   },
   "outputs": [
    {
     "name": "stdout",
     "output_type": "stream",
     "text": [
      "[1, 2, 3, 4, 5, 6, 7, 9, 0]\n"
     ]
    }
   ],
   "source": [
    "# remove the dublicate in list\n",
    "a=[1,2,3,4,5,6,6,6,3,7,9,4,0,2,1,5]\n",
    "bb = []\n",
    "\n",
    "for i in a:\n",
    "    if i not in bb:\n",
    "        bb.append(i)\n",
    "print(bb)"
   ]
  },
  {
   "cell_type": "code",
   "execution_count": null,
   "id": "fbbc4a5f",
   "metadata": {
    "id": "fbbc4a5f",
    "outputId": "bc0a2873-be0d-4c9f-85e8-b58211f8ddf0"
   },
   "outputs": [
    {
     "data": {
      "text/plain": [
       "[1, 2, 3, 4, 5, 6, 7, 9, 0]"
      ]
     },
     "execution_count": 63,
     "metadata": {},
     "output_type": "execute_result"
    }
   ],
   "source": [
    "a=[1,2,3,4,5,6,6,6,3,7,9,4,0,2,1,5]\n",
    "b = []\n",
    "\n",
    "for i in a:\n",
    "    if i not in b:\n",
    "        b.append(i)\n",
    "b"
   ]
  },
  {
   "cell_type": "code",
   "execution_count": null,
   "id": "489c3ccc-626c-4656-adf1-8b1b61d53b19",
   "metadata": {
    "id": "489c3ccc-626c-4656-adf1-8b1b61d53b19",
    "outputId": "27818654-f857-4e79-d17b-e8e4a0453bb1"
   },
   "outputs": [
    {
     "name": "stdout",
     "output_type": "stream",
     "text": [
      "{1: 9}\n"
     ]
    }
   ],
   "source": [
    "a=[1,1,1,1,1,1,2,2,2,2,2,3,3,3,3,4,4,4,5,5,6]\n",
    "b=[2,4,6,9]\n",
    "c={}\n",
    "for i ,j in zip(a,b):\n",
    "    c[i] = j\n",
    "print(c)\n"
   ]
  },
  {
   "cell_type": "code",
   "execution_count": null,
   "id": "8bf98a71-383e-4ea8-89cb-22afa8e26b67",
   "metadata": {
    "id": "8bf98a71-383e-4ea8-89cb-22afa8e26b67",
    "outputId": "ace8d87d-ef2d-454c-8489-82dcad4e6b45"
   },
   "outputs": [
    {
     "name": "stdout",
     "output_type": "stream",
     "text": [
      "{1: 9}\n"
     ]
    }
   ],
   "source": [
    "a = [1, 1, 1, 1, 1, 1, 2, 2, 2, 2, 2, 3, 3, 3, 3, 4, 4, 4, 5, 5, 6]\n",
    "b = [2, 4, 6, 9]\n",
    "c = {}\n",
    "\n",
    "for i, j in zip(a, b):\n",
    "    c.update({i:j})\n",
    "print(c)\n"
   ]
  },
  {
   "cell_type": "markdown",
   "id": "6710b8ff",
   "metadata": {
    "id": "6710b8ff"
   },
   "source": [
    "# Tuples\n"
   ]
  },
  {
   "cell_type": "raw",
   "id": "67f1f88d",
   "metadata": {
    "id": "67f1f88d"
   },
   "source": [
    "# tuples\n",
    "# create\n",
    "# access\n",
    "# edit\n",
    "# add\n",
    "# delete\n",
    "# opration\n",
    "# functions"
   ]
  },
  {
   "cell_type": "code",
   "execution_count": null,
   "id": "3fc27c0b",
   "metadata": {
    "id": "3fc27c0b"
   },
   "outputs": [],
   "source": [
    "# List is a collection which is ordered and changeable. Allows duplicate members.\n",
    "# Tuple is a collection which is ordered and unchangeable. Allows duplicate members.\n",
    "# Set is a collection which is unordered, unchangeable*, and unindexed. No duplicate members.\n",
    "# Dictionary is a collection which is ordered** and changeable. No duplicate members."
   ]
  },
  {
   "cell_type": "code",
   "execution_count": null,
   "id": "5014fccc",
   "metadata": {
    "id": "5014fccc",
    "outputId": "5ede0aa8-db2a-4643-cd2e-2790f6813239"
   },
   "outputs": [
    {
     "data": {
      "text/plain": [
       "()"
      ]
     },
     "execution_count": 2,
     "metadata": {},
     "output_type": "execute_result"
    }
   ],
   "source": [
    "# create\n",
    "t1 = ()\n",
    "t1"
   ]
  },
  {
   "cell_type": "code",
   "execution_count": null,
   "id": "91ce6eb4",
   "metadata": {
    "id": "91ce6eb4",
    "outputId": "f4e7865e-ad15-4377-8cad-fe9eae7f163d"
   },
   "outputs": [
    {
     "data": {
      "text/plain": [
       "(1, 2, 'sam')"
      ]
     },
     "execution_count": 3,
     "metadata": {},
     "output_type": "execute_result"
    }
   ],
   "source": [
    "t1 =(1,2,\"sam\")\n",
    "t1"
   ]
  },
  {
   "cell_type": "code",
   "execution_count": null,
   "id": "a8ac4897",
   "metadata": {
    "id": "a8ac4897",
    "outputId": "c7922d82-a89e-439c-9b60-7d42844515db"
   },
   "outputs": [
    {
     "data": {
      "text/plain": [
       "(1, 2, 3, 4, ('ram', 'sham'))"
      ]
     },
     "execution_count": 11,
     "metadata": {},
     "output_type": "execute_result"
    }
   ],
   "source": [
    "t1 = (1,2,3,4,(\"ram\",\"sham\"))\n",
    "t1"
   ]
  },
  {
   "cell_type": "code",
   "execution_count": null,
   "id": "5fb1797e",
   "metadata": {
    "id": "5fb1797e",
    "outputId": "3d3c12e3-c226-40b1-9e06-073fd1943510"
   },
   "outputs": [
    {
     "data": {
      "text/plain": [
       "tuple"
      ]
     },
     "execution_count": 12,
     "metadata": {},
     "output_type": "execute_result"
    }
   ],
   "source": [
    "type(t1)"
   ]
  },
  {
   "cell_type": "code",
   "execution_count": null,
   "id": "aa53fac8",
   "metadata": {
    "id": "aa53fac8",
    "outputId": "d0608c12-dcae-4bb5-9f57-98ff9d95e9cf"
   },
   "outputs": [
    {
     "data": {
      "text/plain": [
       "3"
      ]
     },
     "execution_count": 13,
     "metadata": {},
     "output_type": "execute_result"
    }
   ],
   "source": [
    "t1 = (3)\n",
    "t1   # NOT TUPLES"
   ]
  },
  {
   "cell_type": "code",
   "execution_count": null,
   "id": "d912b5b1",
   "metadata": {
    "id": "d912b5b1",
    "outputId": "0bf12cbd-3101-46d8-ca4c-434bacb0eac4"
   },
   "outputs": [
    {
     "data": {
      "text/plain": [
       "int"
      ]
     },
     "execution_count": 14,
     "metadata": {},
     "output_type": "execute_result"
    }
   ],
   "source": [
    "type(t1)"
   ]
  },
  {
   "cell_type": "code",
   "execution_count": null,
   "id": "92b88bc4",
   "metadata": {
    "id": "92b88bc4",
    "outputId": "25cf95c7-0db9-42f5-e4a5-52a87f738f77"
   },
   "outputs": [
    {
     "data": {
      "text/plain": [
       "'hello'"
      ]
     },
     "execution_count": 15,
     "metadata": {},
     "output_type": "execute_result"
    }
   ],
   "source": [
    "t1 = (\"hello\")\n",
    "t1"
   ]
  },
  {
   "cell_type": "code",
   "execution_count": null,
   "id": "948c4583",
   "metadata": {
    "id": "948c4583",
    "outputId": "30878ef1-13b5-493a-9e4e-da386f694f5b"
   },
   "outputs": [
    {
     "data": {
      "text/plain": [
       "str"
      ]
     },
     "execution_count": 16,
     "metadata": {},
     "output_type": "execute_result"
    }
   ],
   "source": [
    "type(t1)"
   ]
  },
  {
   "cell_type": "code",
   "execution_count": null,
   "id": "c257a9b6",
   "metadata": {
    "id": "c257a9b6",
    "outputId": "a2d0851f-5ca3-4ed6-c9f5-15602f407368"
   },
   "outputs": [
    {
     "data": {
      "text/plain": [
       "('h', 'e', 'l', 'l', 'o')"
      ]
     },
     "execution_count": 17,
     "metadata": {},
     "output_type": "execute_result"
    }
   ],
   "source": [
    "tuple(t1)  # convert to tuple"
   ]
  },
  {
   "cell_type": "code",
   "execution_count": null,
   "id": "4e5f53ab",
   "metadata": {
    "id": "4e5f53ab",
    "outputId": "ddd23d3d-11d4-4311-84d0-8d8c9b0681b1"
   },
   "outputs": [
    {
     "data": {
      "text/plain": [
       "[1, 2, 3, 4, 5, 66]"
      ]
     },
     "execution_count": 22,
     "metadata": {},
     "output_type": "execute_result"
    }
   ],
   "source": [
    "list = [1,2,3,4,5,66]\n",
    "list"
   ]
  },
  {
   "cell_type": "code",
   "execution_count": null,
   "id": "bc2be826",
   "metadata": {
    "id": "bc2be826",
    "outputId": "3caa48e9-6201-445b-f7bf-3f0ee3e5b374"
   },
   "outputs": [
    {
     "data": {
      "text/plain": [
       "list"
      ]
     },
     "execution_count": 23,
     "metadata": {},
     "output_type": "execute_result"
    }
   ],
   "source": [
    "type(list)"
   ]
  },
  {
   "cell_type": "code",
   "execution_count": null,
   "id": "a1d1db72",
   "metadata": {
    "id": "a1d1db72",
    "outputId": "c6d3f664-7c85-4091-c6fc-29e33339c799"
   },
   "outputs": [
    {
     "data": {
      "text/plain": [
       "(1, 2, 3, 4, 5, 66)"
      ]
     },
     "execution_count": 24,
     "metadata": {},
     "output_type": "execute_result"
    }
   ],
   "source": [
    "tuple(list)     # list to convert tuple"
   ]
  },
  {
   "cell_type": "code",
   "execution_count": null,
   "id": "42436f3f",
   "metadata": {
    "id": "42436f3f",
    "outputId": "45caebc1-d31f-4b5f-ff5c-fbb4dc0ef5a0"
   },
   "outputs": [
    {
     "data": {
      "text/plain": [
       "(1, 2, 3, 4, 5, 6, 7)"
      ]
     },
     "execution_count": 26,
     "metadata": {},
     "output_type": "execute_result"
    }
   ],
   "source": [
    "# access\n",
    "t2 = (1,2,3,4,5,6,7)\n",
    "t2"
   ]
  },
  {
   "cell_type": "code",
   "execution_count": null,
   "id": "b59f7b61",
   "metadata": {
    "id": "b59f7b61",
    "outputId": "ddfaa1f7-ee0e-486e-c380-7ffa94c266dd"
   },
   "outputs": [
    {
     "data": {
      "text/plain": [
       "1"
      ]
     },
     "execution_count": 27,
     "metadata": {},
     "output_type": "execute_result"
    }
   ],
   "source": [
    "t2[0]"
   ]
  },
  {
   "cell_type": "code",
   "execution_count": null,
   "id": "8cd5db95",
   "metadata": {
    "id": "8cd5db95",
    "outputId": "7a206ebe-6687-4b79-b6d8-370fe9c26c3b"
   },
   "outputs": [
    {
     "data": {
      "text/plain": [
       "7"
      ]
     },
     "execution_count": 28,
     "metadata": {},
     "output_type": "execute_result"
    }
   ],
   "source": [
    "t2[-1]"
   ]
  },
  {
   "cell_type": "code",
   "execution_count": null,
   "id": "fff4d5a7",
   "metadata": {
    "id": "fff4d5a7",
    "outputId": "128c7415-cee8-4620-8590-bc255b7d17e6"
   },
   "outputs": [
    {
     "data": {
      "text/plain": [
       "(7, 6, 5, 4, 3, 2, 1)"
      ]
     },
     "execution_count": 29,
     "metadata": {},
     "output_type": "execute_result"
    }
   ],
   "source": [
    "t2[::-1]"
   ]
  },
  {
   "cell_type": "code",
   "execution_count": null,
   "id": "9b4c1ed0",
   "metadata": {
    "id": "9b4c1ed0",
    "outputId": "892117e0-5b90-4b95-dcf4-bfe3de3efdf2"
   },
   "outputs": [
    {
     "data": {
      "text/plain": [
       "5"
      ]
     },
     "execution_count": 30,
     "metadata": {},
     "output_type": "execute_result"
    }
   ],
   "source": [
    "t2[4]"
   ]
  },
  {
   "cell_type": "code",
   "execution_count": null,
   "id": "d070fd13",
   "metadata": {
    "id": "d070fd13",
    "outputId": "643de4b4-f309-4af0-822a-aff213390c72"
   },
   "outputs": [
    {
     "data": {
      "text/plain": [
       "88"
      ]
     },
     "execution_count": 31,
     "metadata": {},
     "output_type": "execute_result"
    }
   ],
   "source": [
    "t2 = (1,2,3,4,5,6,7,(44,66,88))\n",
    "t2[-1][2]  # tuple in las tuple in 2 chara"
   ]
  },
  {
   "cell_type": "code",
   "execution_count": null,
   "id": "75eef471",
   "metadata": {
    "id": "75eef471",
    "outputId": "7694ed9a-43e9-40e5-a836-d85edbb54dc5"
   },
   "outputs": [
    {
     "name": "stdout",
     "output_type": "stream",
     "text": [
      "('cherry', 'orange', 'kiwi')\n"
     ]
    }
   ],
   "source": [
    "thistuple = (\"apple\", \"banana\", \"cherry\", \"orange\", \"kiwi\", \"melon\", \"mango\")\n",
    "print(thistuple[2:5])"
   ]
  },
  {
   "cell_type": "code",
   "execution_count": null,
   "id": "3dd3c121",
   "metadata": {
    "id": "3dd3c121",
    "outputId": "986ef27d-055f-4c7b-d95b-c851ea5125df"
   },
   "outputs": [
    {
     "name": "stdout",
     "output_type": "stream",
     "text": [
      "('apple', 'banana', 'cherry', 'orange')\n"
     ]
    }
   ],
   "source": [
    "thistuple = (\"apple\", \"banana\", \"cherry\", \"orange\", \"kiwi\", \"melon\", \"mango\")\n",
    "print(thistuple[:4])"
   ]
  },
  {
   "cell_type": "code",
   "execution_count": null,
   "id": "6d43231a",
   "metadata": {
    "id": "6d43231a",
    "outputId": "935ef2a0-b1cb-4bd1-a61e-51ec6aabbd9b"
   },
   "outputs": [
    {
     "name": "stdout",
     "output_type": "stream",
     "text": [
      "('cherry', 'orange', 'kiwi', 'melon', 'mango')\n"
     ]
    }
   ],
   "source": [
    "thistuple = (\"apple\", \"banana\", \"cherry\", \"orange\", \"kiwi\", \"melon\", \"mango\")\n",
    "print(thistuple[2:])"
   ]
  },
  {
   "cell_type": "code",
   "execution_count": null,
   "id": "8a45c51d",
   "metadata": {
    "id": "8a45c51d",
    "outputId": "2ed9f184-123d-413d-e15b-7552d4383c02"
   },
   "outputs": [
    {
     "name": "stdout",
     "output_type": "stream",
     "text": [
      "('orange', 'kiwi', 'melon')\n"
     ]
    }
   ],
   "source": [
    "thistuple = (\"apple\", \"banana\", \"cherry\", \"orange\", \"kiwi\", \"melon\", \"mango\")\n",
    "print(thistuple[-4:-1])"
   ]
  },
  {
   "cell_type": "code",
   "execution_count": null,
   "id": "0ed4b7cf",
   "metadata": {
    "id": "0ed4b7cf",
    "outputId": "eabd1208-8d80-4cb9-9d8c-83426b0c74a2"
   },
   "outputs": [
    {
     "name": "stdout",
     "output_type": "stream",
     "text": [
      "Yes, 'apple' is in the fruits tuple\n"
     ]
    }
   ],
   "source": [
    "thistuple = (\"apple\", \"banana\", \"cherry\")\n",
    "if \"apple\" in thistuple:\n",
    "  print(\"Yes, 'apple' is in the fruits tuple\")"
   ]
  },
  {
   "cell_type": "code",
   "execution_count": null,
   "id": "d6e4f607",
   "metadata": {
    "id": "d6e4f607",
    "outputId": "5675b903-d750-4c5a-a78b-dd5f2ebbcd47"
   },
   "outputs": [
    {
     "name": "stdout",
     "output_type": "stream",
     "text": [
      "('apple', 'kiwi', 'cherry')\n"
     ]
    }
   ],
   "source": [
    "x = (\"apple\", \"banana\", \"cherry\")\n",
    "y = list(x) # tuble convert in list\n",
    "y[1] = \"kiwi\"\n",
    "x = tuple(y)\n",
    "\n",
    "print(x)"
   ]
  },
  {
   "cell_type": "code",
   "execution_count": null,
   "id": "fc5438f6",
   "metadata": {
    "id": "fc5438f6"
   },
   "outputs": [],
   "source": [
    "thistuple = (\"apple\", \"banana\", \"cherry\")\n",
    "y = list(thistuple)\n",
    "y.append(\"orange\")\n",
    "thistuple = tuple(y)\n",
    "print(thistuple)"
   ]
  },
  {
   "cell_type": "code",
   "execution_count": null,
   "id": "b0a8be0f",
   "metadata": {
    "id": "b0a8be0f",
    "outputId": "ca58684f-7edf-4ba2-bad6-738552448077"
   },
   "outputs": [
    {
     "name": "stdout",
     "output_type": "stream",
     "text": [
      "('apple', 'banana', 'cherry', 'orange')\n"
     ]
    }
   ],
   "source": [
    "thistuple = (\"apple\", \"banana\", \"cherry\")\n",
    "y = (\"orange\",)\n",
    "thistuple += y\n",
    "\n",
    "print(thistuple)"
   ]
  },
  {
   "cell_type": "code",
   "execution_count": null,
   "id": "9d2eaedb",
   "metadata": {
    "id": "9d2eaedb",
    "outputId": "489899a9-1ac1-4274-99cf-23693d31e748"
   },
   "outputs": [
    {
     "name": "stdout",
     "output_type": "stream",
     "text": [
      "apple\n",
      "banana\n",
      "cherry\n"
     ]
    }
   ],
   "source": [
    "fruits = (\"apple\", \"banana\", \"cherry\")\n",
    "\n",
    "(green, yellow, red) = fruits\n",
    "\n",
    "print(green)\n",
    "print(yellow)\n",
    "print(red)"
   ]
  },
  {
   "cell_type": "code",
   "execution_count": null,
   "id": "70801ca7",
   "metadata": {
    "id": "70801ca7",
    "outputId": "426791b7-e647-4370-a0cc-0d7b304cc9ea"
   },
   "outputs": [
    {
     "name": "stdout",
     "output_type": "stream",
     "text": [
      "apple\n",
      "banana\n",
      "['cherry', 'strawberry', 'raspberry']\n"
     ]
    }
   ],
   "source": [
    "fruits = (\"apple\", \"banana\", \"cherry\", \"strawberry\", \"raspberry\")\n",
    "\n",
    "(green, yellow, *red) = fruits\n",
    "\n",
    "print(green)\n",
    "print(yellow)\n",
    "print(red)"
   ]
  },
  {
   "cell_type": "code",
   "execution_count": null,
   "id": "d9bc48e4",
   "metadata": {
    "id": "d9bc48e4",
    "outputId": "2559c68a-8229-456d-c968-2d7ca109e787"
   },
   "outputs": [
    {
     "name": "stdout",
     "output_type": "stream",
     "text": [
      "apple\n",
      "banana\n",
      "cherry\n"
     ]
    }
   ],
   "source": [
    "thistuple = (\"apple\", \"banana\", \"cherry\")\n",
    "i = 0\n",
    "while i < len(thistuple):\n",
    "  print(thistuple[i])\n",
    "  i = i + 1"
   ]
  },
  {
   "cell_type": "code",
   "execution_count": null,
   "id": "b1e67b73",
   "metadata": {
    "id": "b1e67b73",
    "outputId": "948a8ee1-6bc8-4f06-ea3d-024a42410fee"
   },
   "outputs": [
    {
     "name": "stdout",
     "output_type": "stream",
     "text": [
      "('apple', 'banana', 'cherry', 'apple', 'banana', 'cherry')\n"
     ]
    }
   ],
   "source": [
    "fruits = (\"apple\", \"banana\", \"cherry\")\n",
    "mytuple = fruits * 2\n",
    "\n",
    "print(mytuple)\n"
   ]
  },
  {
   "cell_type": "code",
   "execution_count": null,
   "id": "d19cac45",
   "metadata": {
    "id": "d19cac45"
   },
   "outputs": [],
   "source": [
    "# edit\n",
    "# add\n",
    "# delete\n",
    "# tuples just like string are immutable, not work  edit,add , delete"
   ]
  },
  {
   "cell_type": "code",
   "execution_count": null,
   "id": "9447dfa3",
   "metadata": {
    "id": "9447dfa3",
    "outputId": "fb5ce749-e9fe-4291-de7d-47a22c259983"
   },
   "outputs": [
    {
     "name": "stdout",
     "output_type": "stream",
     "text": [
      "1\n",
      "2\n",
      "3\n",
      "4\n",
      "5\n",
      "6\n",
      "7\n",
      "(44, 66, 88)\n"
     ]
    }
   ],
   "source": [
    "# opration\n",
    "t2 = (1,2,3,4,5,6,7,(44,66,88))\n",
    "for i in t2:\n",
    "    print(i)"
   ]
  },
  {
   "cell_type": "code",
   "execution_count": null,
   "id": "1acb3915",
   "metadata": {
    "id": "1acb3915",
    "outputId": "ca79db6c-ff89-486c-cd65-8fb37035e302"
   },
   "outputs": [
    {
     "data": {
      "text/plain": [
       "(1,\n",
       " 2,\n",
       " 3,\n",
       " 4,\n",
       " 5,\n",
       " 6,\n",
       " 7,\n",
       " (44, 66, 88),\n",
       " 1,\n",
       " 2,\n",
       " 3,\n",
       " 4,\n",
       " 5,\n",
       " 6,\n",
       " 7,\n",
       " (44, 66, 88),\n",
       " 1,\n",
       " 2,\n",
       " 3,\n",
       " 4,\n",
       " 5,\n",
       " 6,\n",
       " 7,\n",
       " (44, 66, 88))"
      ]
     },
     "execution_count": 36,
     "metadata": {},
     "output_type": "execute_result"
    }
   ],
   "source": [
    "t2 * 3"
   ]
  },
  {
   "cell_type": "code",
   "execution_count": null,
   "id": "56536abb",
   "metadata": {
    "id": "56536abb",
    "outputId": "7e42b951-42e7-4eac-8008-82691bcf2711"
   },
   "outputs": [
    {
     "data": {
      "text/plain": [
       "(1, 2, 3, 4, 5, 6, 7, (44, 66, 88), 33, 66, 1000)"
      ]
     },
     "execution_count": 41,
     "metadata": {},
     "output_type": "execute_result"
    }
   ],
   "source": [
    "rr = t2 + (33,66,1000)\n",
    "rr"
   ]
  },
  {
   "cell_type": "code",
   "execution_count": null,
   "id": "ba56b016",
   "metadata": {
    "id": "ba56b016",
    "outputId": "f2e566e6-3120-4521-9230-24f234454595"
   },
   "outputs": [
    {
     "data": {
      "text/plain": [
       "False"
      ]
     },
     "execution_count": 42,
     "metadata": {},
     "output_type": "execute_result"
    }
   ],
   "source": [
    "100 in rr"
   ]
  },
  {
   "cell_type": "code",
   "execution_count": null,
   "id": "30653554",
   "metadata": {
    "id": "30653554",
    "outputId": "8b928b67-1ce4-43c9-ade6-414fad7399c8"
   },
   "outputs": [
    {
     "data": {
      "text/plain": [
       "True"
      ]
     },
     "execution_count": 43,
     "metadata": {},
     "output_type": "execute_result"
    }
   ],
   "source": [
    "1000 in rr"
   ]
  },
  {
   "cell_type": "code",
   "execution_count": null,
   "id": "adb085e6",
   "metadata": {
    "id": "adb085e6"
   },
   "outputs": [],
   "source": [
    "# functions\n",
    "# tuples is only read functionality and not write functionality"
   ]
  },
  {
   "cell_type": "code",
   "execution_count": null,
   "id": "354fcaf3",
   "metadata": {
    "id": "354fcaf3",
    "outputId": "49c9cdfe-2895-4e2f-873f-7e5a25593a76"
   },
   "outputs": [
    {
     "data": {
      "text/plain": [
       "(1, 4, 5, 6, 7, 88, 9954, 333454, 5, 334545, 2)"
      ]
     },
     "execution_count": 53,
     "metadata": {},
     "output_type": "execute_result"
    }
   ],
   "source": [
    "qq = (1,4,5,6,7,88,9954,333454,5,334545,2)\n",
    "qq"
   ]
  },
  {
   "cell_type": "code",
   "execution_count": null,
   "id": "deb2b6df",
   "metadata": {
    "id": "deb2b6df",
    "outputId": "c0bf6dad-32b0-4e28-da59-959ea3d7b42d"
   },
   "outputs": [
    {
     "data": {
      "text/plain": [
       "11"
      ]
     },
     "execution_count": 54,
     "metadata": {},
     "output_type": "execute_result"
    }
   ],
   "source": [
    "len(qq)"
   ]
  },
  {
   "cell_type": "code",
   "execution_count": null,
   "id": "2f65c0fe",
   "metadata": {
    "id": "2f65c0fe",
    "outputId": "519c7fbe-f86f-4289-9c19-8321486cd2ca"
   },
   "outputs": [
    {
     "data": {
      "text/plain": [
       "1"
      ]
     },
     "execution_count": 55,
     "metadata": {},
     "output_type": "execute_result"
    }
   ],
   "source": [
    "min(qq)"
   ]
  },
  {
   "cell_type": "code",
   "execution_count": null,
   "id": "54a6cb55",
   "metadata": {
    "id": "54a6cb55",
    "outputId": "9de95ebf-2fcf-4a83-ef15-44306cb7e7da"
   },
   "outputs": [
    {
     "data": {
      "text/plain": [
       "334545"
      ]
     },
     "execution_count": 56,
     "metadata": {},
     "output_type": "execute_result"
    }
   ],
   "source": [
    "max(qq)"
   ]
  },
  {
   "cell_type": "code",
   "execution_count": null,
   "id": "a5a9fab8",
   "metadata": {
    "id": "a5a9fab8",
    "outputId": "7b4f7419-8abf-4fce-cbd4-ceb7542e2eb3"
   },
   "outputs": [
    {
     "data": {
      "text/plain": [
       "678071"
      ]
     },
     "execution_count": 58,
     "metadata": {},
     "output_type": "execute_result"
    }
   ],
   "source": [
    "sum(qq)"
   ]
  },
  {
   "cell_type": "code",
   "execution_count": null,
   "id": "98a93166",
   "metadata": {
    "id": "98a93166",
    "outputId": "2157ced2-3f14-4446-ffb0-f4fa2e66d16d"
   },
   "outputs": [
    {
     "data": {
      "text/plain": [
       "[1, 2, 4, 5, 5, 6, 7, 88, 9954, 333454, 334545]"
      ]
     },
     "execution_count": 59,
     "metadata": {},
     "output_type": "execute_result"
    }
   ],
   "source": [
    "sorted(qq)"
   ]
  },
  {
   "cell_type": "code",
   "execution_count": null,
   "id": "5bd57923",
   "metadata": {
    "id": "5bd57923",
    "outputId": "3aa5512e-6865-4e6e-a9a7-4442cbb27b16"
   },
   "outputs": [
    {
     "data": {
      "text/plain": [
       "[334545, 333454, 9954, 88, 7, 6, 5, 5, 4, 2, 1]"
      ]
     },
     "execution_count": 63,
     "metadata": {},
     "output_type": "execute_result"
    }
   ],
   "source": [
    "sorted(qq,reverse = True)"
   ]
  },
  {
   "cell_type": "markdown",
   "id": "034127c8",
   "metadata": {
    "id": "034127c8"
   },
   "source": [
    "# SET"
   ]
  },
  {
   "cell_type": "code",
   "execution_count": null,
   "id": "30e918e3",
   "metadata": {
    "id": "30e918e3"
   },
   "outputs": [],
   "source": [
    "#SET\n",
    "# set not allov duplicate\n",
    "# set have no indexing/ slicing\n",
    "# set itself is a mutable data type"
   ]
  },
  {
   "cell_type": "code",
   "execution_count": null,
   "id": "81de1f8c",
   "metadata": {
    "id": "81de1f8c",
    "outputId": "f36f8bfe-7788-4223-d539-9376c59b853a"
   },
   "outputs": [
    {
     "data": {
      "text/plain": [
       "{}"
      ]
     },
     "execution_count": 70,
     "metadata": {},
     "output_type": "execute_result"
    }
   ],
   "source": [
    "s1 ={}\n",
    "s1"
   ]
  },
  {
   "cell_type": "code",
   "execution_count": null,
   "id": "5df3bd6f",
   "metadata": {
    "id": "5df3bd6f",
    "outputId": "16e2fae2-5f4c-4eb9-e4fb-ac1c346d6ef4"
   },
   "outputs": [
    {
     "data": {
      "text/plain": [
       "dict"
      ]
     },
     "execution_count": 71,
     "metadata": {},
     "output_type": "execute_result"
    }
   ],
   "source": [
    "type(s1)"
   ]
  },
  {
   "cell_type": "code",
   "execution_count": null,
   "id": "87e43e3b",
   "metadata": {
    "id": "87e43e3b",
    "outputId": "8198541b-d67a-428c-f7c8-ef43331bc71a"
   },
   "outputs": [
    {
     "data": {
      "text/plain": [
       "set()"
      ]
     },
     "execution_count": 72,
     "metadata": {},
     "output_type": "execute_result"
    }
   ],
   "source": [
    "a = set()\n",
    "a"
   ]
  },
  {
   "cell_type": "code",
   "execution_count": null,
   "id": "1b6ba11f",
   "metadata": {
    "id": "1b6ba11f",
    "outputId": "96444c83-928b-46d2-eeb3-5b6db24aeae1"
   },
   "outputs": [
    {
     "data": {
      "text/plain": [
       "set"
      ]
     },
     "execution_count": 73,
     "metadata": {},
     "output_type": "execute_result"
    }
   ],
   "source": [
    "type(a)"
   ]
  },
  {
   "cell_type": "code",
   "execution_count": 137,
   "id": "e65b812a",
   "metadata": {
    "id": "e65b812a",
    "outputId": "9e4a7c8f-c7c1-4d4a-c1d6-331551048a79"
   },
   "outputs": [
    {
     "data": {
      "text/plain": [
       "{11, 'hello'}"
      ]
     },
     "execution_count": 137,
     "metadata": {},
     "output_type": "execute_result"
    }
   ],
   "source": [
    "s1 = {\"hello\",11,11}  # not dublicate sutable, numerical 1st refrece index\n",
    "s1"
   ]
  },
  {
   "cell_type": "code",
   "execution_count": 138,
   "id": "e4bcf14e",
   "metadata": {
    "id": "e4bcf14e",
    "outputId": "d262adf9-5a7a-4b27-cc60-1aee78465d69"
   },
   "outputs": [
    {
     "ename": "TypeError",
     "evalue": "unhashable type: 'list'",
     "output_type": "error",
     "traceback": [
      "\u001b[31m---------------------------------------------------------------------------\u001b[39m",
      "\u001b[31mTypeError\u001b[39m                                 Traceback (most recent call last)",
      "\u001b[36mCell\u001b[39m\u001b[36m \u001b[39m\u001b[32mIn[138]\u001b[39m\u001b[32m, line 1\u001b[39m\n\u001b[32m----> \u001b[39m\u001b[32m1\u001b[39m s1 = {[\u001b[32m11\u001b[39m,\u001b[32m22\u001b[39m,\u001b[32m33\u001b[39m],\u001b[33m\"\u001b[39m\u001b[33mhello\u001b[39m\u001b[33m\"\u001b[39m,\u001b[32m11\u001b[39m,\u001b[32m11\u001b[39m}  \u001b[38;5;66;03m# not help to list\u001b[39;00m\n\u001b[32m      2\u001b[39m s1\n",
      "\u001b[31mTypeError\u001b[39m: unhashable type: 'list'"
     ]
    }
   ],
   "source": [
    "s1 = {[11,22,33],\"hello\",11,11}  # not help to list\n",
    "s1"
   ]
  },
  {
   "cell_type": "code",
   "execution_count": null,
   "id": "e7bfec7c",
   "metadata": {
    "id": "e7bfec7c",
    "outputId": "c9823790-c72a-419a-9863-0c4767760bf0"
   },
   "outputs": [
    {
     "data": {
      "text/plain": [
       "{11, 'hello'}"
      ]
     },
     "execution_count": 76,
     "metadata": {},
     "output_type": "execute_result"
    }
   ],
   "source": [
    "# hashing use to indexing find\n",
    "s1"
   ]
  },
  {
   "cell_type": "code",
   "execution_count": null,
   "id": "7ef77edc",
   "metadata": {
    "id": "7ef77edc",
    "outputId": "6432189b-5315-4da7-ddfd-c09da4654a9a"
   },
   "outputs": [
    {
     "data": {
      "text/plain": [
       "3050001700832"
      ]
     },
     "execution_count": 77,
     "metadata": {},
     "output_type": "execute_result"
    }
   ],
   "source": [
    "id(s1)"
   ]
  },
  {
   "cell_type": "code",
   "execution_count": null,
   "id": "7d381dce",
   "metadata": {
    "id": "7d381dce",
    "outputId": "f566f5ae-3ee3-437d-ea18-3e79ec73bf04"
   },
   "outputs": [
    {
     "data": {
      "text/plain": [
       "[11, 'hello']"
      ]
     },
     "execution_count": 78,
     "metadata": {},
     "output_type": "execute_result"
    }
   ],
   "source": [
    "s11 = list(s1)\n",
    "s11"
   ]
  },
  {
   "cell_type": "code",
   "execution_count": null,
   "id": "f7a753a2",
   "metadata": {
    "id": "f7a753a2",
    "outputId": "88059b9e-25c6-48ea-8046-4974e6fd4ee0"
   },
   "outputs": [
    {
     "data": {
      "text/plain": [
       "[100, 'hello']"
      ]
     },
     "execution_count": 79,
     "metadata": {},
     "output_type": "execute_result"
    }
   ],
   "source": [
    "s11[0]=100  # edit the set but id is change , so not perfect edit\n",
    "s11"
   ]
  },
  {
   "cell_type": "code",
   "execution_count": null,
   "id": "ebc60c7f",
   "metadata": {
    "id": "ebc60c7f",
    "outputId": "f118fc4e-2071-4d09-b00d-c7bb18842573"
   },
   "outputs": [
    {
     "data": {
      "text/plain": [
       "3050005399872"
      ]
     },
     "execution_count": 80,
     "metadata": {},
     "output_type": "execute_result"
    }
   ],
   "source": [
    "id(s11)"
   ]
  },
  {
   "cell_type": "code",
   "execution_count": null,
   "id": "7a7c0b2d",
   "metadata": {
    "id": "7a7c0b2d",
    "outputId": "d9de016e-28ac-4525-c726-942700e088b6"
   },
   "outputs": [
    {
     "data": {
      "text/plain": [
       "{11, 22, 33, 44, 55, 66, 77, 88}"
      ]
     },
     "execution_count": 81,
     "metadata": {},
     "output_type": "execute_result"
    }
   ],
   "source": [
    "# add\n",
    "s3 = {11,22,33,44,55,66,77,88}\n",
    "s3"
   ]
  },
  {
   "cell_type": "code",
   "execution_count": null,
   "id": "883c25aa",
   "metadata": {
    "id": "883c25aa",
    "outputId": "df7c1acf-c632-48de-9ebb-7bc966f92ebf"
   },
   "outputs": [
    {
     "data": {
      "text/plain": [
       "3050004741280"
      ]
     },
     "execution_count": 82,
     "metadata": {},
     "output_type": "execute_result"
    }
   ],
   "source": [
    "id(s3)"
   ]
  },
  {
   "cell_type": "code",
   "execution_count": null,
   "id": "e4e47c78",
   "metadata": {
    "id": "e4e47c78",
    "outputId": "149010b9-c3ed-474e-faef-b4767a4201e2"
   },
   "outputs": [
    {
     "data": {
      "text/plain": [
       "{11, 22, 33, 44, 55, 66, 77, 88, 1000}"
      ]
     },
     "execution_count": 83,
     "metadata": {},
     "output_type": "execute_result"
    }
   ],
   "source": [
    "s3.add(1000)  # adding time id same\n",
    "s3"
   ]
  },
  {
   "cell_type": "code",
   "execution_count": null,
   "id": "4bbe1390",
   "metadata": {
    "id": "4bbe1390",
    "outputId": "ff006a0a-be84-43e6-adf5-fd2a8b013ab2"
   },
   "outputs": [
    {
     "data": {
      "text/plain": [
       "3050004741280"
      ]
     },
     "execution_count": 84,
     "metadata": {},
     "output_type": "execute_result"
    }
   ],
   "source": [
    "id(s3)"
   ]
  },
  {
   "cell_type": "code",
   "execution_count": null,
   "id": "f4f9336b",
   "metadata": {
    "id": "f4f9336b",
    "outputId": "c585ed7e-9191-455c-9565-c3667776a3f7"
   },
   "outputs": [
    {
     "name": "stdout",
     "output_type": "stream",
     "text": [
      "{'apple', 'orange', 'cherry', 'banana'}\n"
     ]
    }
   ],
   "source": [
    "thisset = {\"apple\", \"banana\", \"cherry\"}\n",
    "\n",
    "thisset.add(\"orange\")\n",
    "\n",
    "print(thisset)"
   ]
  },
  {
   "cell_type": "code",
   "execution_count": null,
   "id": "35985be1",
   "metadata": {
    "id": "35985be1",
    "outputId": "7c1e78b3-39ca-4948-fac5-8209e419dad9"
   },
   "outputs": [
    {
     "name": "stdout",
     "output_type": "stream",
     "text": [
      "{'papaya', 'mango', 'banana', 'apple', 'pineapple', 'cherry'}\n"
     ]
    }
   ],
   "source": [
    "thisset = {\"apple\", \"banana\", \"cherry\"}\n",
    "tropical = {\"pineapple\", \"mango\", \"papaya\"}\n",
    "\n",
    "thisset.update(tropical)\n",
    "\n",
    "print(thisset)\n"
   ]
  },
  {
   "cell_type": "code",
   "execution_count": null,
   "id": "24ee9c7f",
   "metadata": {
    "id": "24ee9c7f",
    "outputId": "ccc67fdf-b3f9-4d12-dc2d-7f33bbf7c977"
   },
   "outputs": [
    {
     "name": "stdout",
     "output_type": "stream",
     "text": [
      "{'banana', 'apple', 'cherry', 'kiwi', 'orange'}\n"
     ]
    }
   ],
   "source": [
    "thisset = {\"apple\", \"banana\", \"cherry\"}\n",
    "mylist = [\"kiwi\", \"orange\"]\n",
    "\n",
    "thisset.update(mylist)\n",
    "\n",
    "print(thisset)"
   ]
  },
  {
   "cell_type": "code",
   "execution_count": null,
   "id": "19065fc8",
   "metadata": {
    "id": "19065fc8",
    "outputId": "6dd00d2c-69c6-45f9-8731-2d603a13a0e2"
   },
   "outputs": [
    {
     "name": "stdout",
     "output_type": "stream",
     "text": [
      "apple\n",
      "{'cherry', 'banana'}\n"
     ]
    }
   ],
   "source": [
    "thisset = {\"apple\", \"banana\", \"cherry\"}\n",
    "\n",
    "x = thisset.pop()\n",
    "\n",
    "print(x)\n",
    "\n",
    "print(thisset)"
   ]
  },
  {
   "cell_type": "code",
   "execution_count": null,
   "id": "5f47c722",
   "metadata": {
    "id": "5f47c722",
    "outputId": "835d5fb4-8f29-4270-bac9-e22b610d457e"
   },
   "outputs": [
    {
     "name": "stdout",
     "output_type": "stream",
     "text": [
      "{'apple'}\n"
     ]
    }
   ],
   "source": [
    "x = {\"apple\", \"banana\", \"cherry\"}\n",
    "y = {\"google\", \"microsoft\", \"apple\"}\n",
    "\n",
    "x.intersection_update(y)\n",
    "\n",
    "print(x)\n"
   ]
  },
  {
   "cell_type": "code",
   "execution_count": null,
   "id": "d8093dfa",
   "metadata": {
    "id": "d8093dfa",
    "outputId": "1c8efdb6-741d-4ab8-9918-92b1c0f99ad1"
   },
   "outputs": [
    {
     "name": "stdout",
     "output_type": "stream",
     "text": [
      "{'apple'}\n"
     ]
    }
   ],
   "source": [
    "x = {\"apple\", \"banana\", \"cherry\"}\n",
    "y = {\"google\", \"microsoft\", \"apple\"}\n",
    "\n",
    "z = x.intersection(y)\n",
    "\n",
    "print(z)"
   ]
  },
  {
   "cell_type": "code",
   "execution_count": null,
   "id": "1b4bbcaf",
   "metadata": {
    "id": "1b4bbcaf"
   },
   "outputs": [],
   "source": [
    "# set in delete\n",
    "# del\n",
    "# remove\n",
    "# pop"
   ]
  },
  {
   "cell_type": "code",
   "execution_count": null,
   "id": "a1402f21",
   "metadata": {
    "id": "a1402f21",
    "outputId": "adb51012-9b2b-4de9-b87f-290ad3f54fa0"
   },
   "outputs": [
    {
     "data": {
      "text/plain": [
       "{11, 'hello'}"
      ]
     },
     "execution_count": 86,
     "metadata": {},
     "output_type": "execute_result"
    }
   ],
   "source": [
    "s1"
   ]
  },
  {
   "cell_type": "code",
   "execution_count": null,
   "id": "3a325625",
   "metadata": {
    "id": "3a325625",
    "outputId": "1043b244-9d37-4513-eafe-b88ddaac76c5"
   },
   "outputs": [
    {
     "ename": "NameError",
     "evalue": "name 'dels1' is not defined",
     "output_type": "error",
     "traceback": [
      "\u001b[1;31m---------------------------------------------------------------------------\u001b[0m",
      "\u001b[1;31mNameError\u001b[0m                                 Traceback (most recent call last)",
      "Cell \u001b[1;32mIn[87], line 1\u001b[0m\n\u001b[1;32m----> 1\u001b[0m dels1   \u001b[38;5;66;03m# set is not delete\u001b[39;00m\n\u001b[0;32m      2\u001b[0m s1\n",
      "\u001b[1;31mNameError\u001b[0m: name 'dels1' is not defined"
     ]
    }
   ],
   "source": [
    "dels1   # set is not delete\n",
    "s1"
   ]
  },
  {
   "cell_type": "code",
   "execution_count": null,
   "id": "a36d0471",
   "metadata": {
    "id": "a36d0471",
    "outputId": "34c510ca-5ec3-4716-a9ae-4b690bac639e"
   },
   "outputs": [
    {
     "data": {
      "text/plain": [
       "{11, 22, 33, 44, 55, 66, 77, 88, 1000}"
      ]
     },
     "execution_count": 88,
     "metadata": {},
     "output_type": "execute_result"
    }
   ],
   "source": [
    "# remove, any chara remove\n",
    "s3"
   ]
  },
  {
   "cell_type": "code",
   "execution_count": null,
   "id": "c82c3472",
   "metadata": {
    "id": "c82c3472",
    "outputId": "9550b8e6-0879-463a-fd06-7d2ed60c3513"
   },
   "outputs": [
    {
     "data": {
      "text/plain": [
       "{11, 22, 33, 44, 66, 77, 88, 1000}"
      ]
     },
     "execution_count": 89,
     "metadata": {},
     "output_type": "execute_result"
    }
   ],
   "source": [
    "s3.remove(55)  # id is same not change\n",
    "s3"
   ]
  },
  {
   "cell_type": "code",
   "execution_count": null,
   "id": "c9448e69",
   "metadata": {
    "id": "c9448e69",
    "outputId": "711f67ed-a20c-4cec-df5b-bcb4826c0886"
   },
   "outputs": [
    {
     "data": {
      "text/plain": [
       "{11, 22, 33, 44, 66, 77, 88, 1000}"
      ]
     },
     "execution_count": 90,
     "metadata": {},
     "output_type": "execute_result"
    }
   ],
   "source": [
    "# pop  # randomly remove in pop\n",
    "s3"
   ]
  },
  {
   "cell_type": "code",
   "execution_count": 142,
   "id": "fe8857ef",
   "metadata": {
    "id": "fe8857ef",
    "outputId": "7a82d97b-58ba-4aa2-b3eb-be50f858b27c"
   },
   "outputs": [
    {
     "ename": "NameError",
     "evalue": "name 's3' is not defined",
     "output_type": "error",
     "traceback": [
      "\u001b[31m---------------------------------------------------------------------------\u001b[39m",
      "\u001b[31mNameError\u001b[39m                                 Traceback (most recent call last)",
      "\u001b[36mCell\u001b[39m\u001b[36m \u001b[39m\u001b[32mIn[142]\u001b[39m\u001b[32m, line 1\u001b[39m\n\u001b[32m----> \u001b[39m\u001b[32m1\u001b[39m \u001b[43ms3\u001b[49m.pop()\n",
      "\u001b[31mNameError\u001b[39m: name 's3' is not defined"
     ]
    }
   ],
   "source": [
    "s3.pop()\n"
   ]
  },
  {
   "cell_type": "code",
   "execution_count": null,
   "id": "b39f37c7",
   "metadata": {
    "id": "b39f37c7"
   },
   "outputs": [],
   "source": [
    "# set in operation not work(+,*,-)"
   ]
  },
  {
   "cell_type": "code",
   "execution_count": null,
   "id": "87b2db10",
   "metadata": {
    "id": "87b2db10",
    "outputId": "62db960b-e5e5-4268-b5c9-2f8b17023def"
   },
   "outputs": [
    {
     "data": {
      "text/plain": [
       "{11, 22, 44, 66, 77, 88, 1000}"
      ]
     },
     "execution_count": 93,
     "metadata": {},
     "output_type": "execute_result"
    }
   ],
   "source": [
    "s3"
   ]
  },
  {
   "cell_type": "code",
   "execution_count": null,
   "id": "4435ea90",
   "metadata": {
    "id": "4435ea90",
    "outputId": "183535f0-d006-4a9f-d5f3-7267229e3943"
   },
   "outputs": [
    {
     "name": "stdout",
     "output_type": "stream",
     "text": [
      "66\n",
      "1000\n",
      "11\n",
      "44\n",
      "77\n",
      "22\n",
      "88\n"
     ]
    }
   ],
   "source": [
    "#loop\n",
    "for i in s3:\n",
    "    print(i)"
   ]
  },
  {
   "cell_type": "code",
   "execution_count": null,
   "id": "e8ed909d",
   "metadata": {
    "id": "e8ed909d",
    "outputId": "16d183e5-d3c9-49a7-a126-13e164b831b7"
   },
   "outputs": [
    {
     "data": {
      "text/plain": [
       "True"
      ]
     },
     "execution_count": 95,
     "metadata": {},
     "output_type": "execute_result"
    }
   ],
   "source": [
    "77 in s3"
   ]
  },
  {
   "cell_type": "code",
   "execution_count": null,
   "id": "9b4800eb",
   "metadata": {
    "id": "9b4800eb",
    "outputId": "1d7e7f50-4d87-4374-8c66-365383193e3e"
   },
   "outputs": [
    {
     "data": {
      "text/plain": [
       "{11, 22, 44, 66, 77, 88, 1000}"
      ]
     },
     "execution_count": 96,
     "metadata": {},
     "output_type": "execute_result"
    }
   ],
   "source": [
    "# function\n",
    "#length\n",
    "s3"
   ]
  },
  {
   "cell_type": "code",
   "execution_count": null,
   "id": "c699b0ae",
   "metadata": {
    "id": "c699b0ae",
    "outputId": "2b997c06-c197-41d1-c369-b767f4a1e2d6"
   },
   "outputs": [
    {
     "data": {
      "text/plain": [
       "11"
      ]
     },
     "execution_count": 97,
     "metadata": {},
     "output_type": "execute_result"
    }
   ],
   "source": [
    "min(s3)"
   ]
  },
  {
   "cell_type": "code",
   "execution_count": null,
   "id": "92c77abe",
   "metadata": {
    "id": "92c77abe",
    "outputId": "649068b1-db04-47cb-c174-41c054e3f729"
   },
   "outputs": [
    {
     "data": {
      "text/plain": [
       "1000"
      ]
     },
     "execution_count": 98,
     "metadata": {},
     "output_type": "execute_result"
    }
   ],
   "source": [
    "max(s3)"
   ]
  },
  {
   "cell_type": "code",
   "execution_count": null,
   "id": "6362d80a",
   "metadata": {
    "id": "6362d80a",
    "outputId": "185a8646-a6a7-4253-c57c-f088be909232"
   },
   "outputs": [
    {
     "data": {
      "text/plain": [
       "1308"
      ]
     },
     "execution_count": 99,
     "metadata": {},
     "output_type": "execute_result"
    }
   ],
   "source": [
    "sum(s3)"
   ]
  },
  {
   "cell_type": "code",
   "execution_count": null,
   "id": "0dc01118",
   "metadata": {
    "id": "0dc01118",
    "outputId": "b5fd61bc-30ad-4f98-f9dd-169a5d1525c7"
   },
   "outputs": [
    {
     "data": {
      "text/plain": [
       "[11, 22, 44, 66, 77, 88, 1000]"
      ]
     },
     "execution_count": 100,
     "metadata": {},
     "output_type": "execute_result"
    }
   ],
   "source": [
    "sorted(s3)"
   ]
  },
  {
   "cell_type": "code",
   "execution_count": null,
   "id": "a1f38b0b",
   "metadata": {
    "id": "a1f38b0b",
    "outputId": "9c5c51cf-af25-4125-e349-69bcd9eff4cb"
   },
   "outputs": [
    {
     "data": {
      "text/plain": [
       "[1000, 88, 77, 66, 44, 22, 11]"
      ]
     },
     "execution_count": 101,
     "metadata": {},
     "output_type": "execute_result"
    }
   ],
   "source": [
    "sorted(s3,reverse =True)"
   ]
  },
  {
   "cell_type": "code",
   "execution_count": null,
   "id": "de3a83e9",
   "metadata": {
    "id": "de3a83e9"
   },
   "outputs": [],
   "source": [
    "# s33= list(s3)\n",
    "# s33"
   ]
  },
  {
   "cell_type": "code",
   "execution_count": null,
   "id": "49677125",
   "metadata": {
    "id": "49677125",
    "outputId": "64823a8f-1592-46d0-8cbc-760b35e7dedf"
   },
   "outputs": [
    {
     "data": {
      "text/plain": [
       "[88, 22, 77, 44, 11, 1000, 66]"
      ]
     },
     "execution_count": 115,
     "metadata": {},
     "output_type": "execute_result"
    }
   ],
   "source": [
    "s33[::-1]  # reverse"
   ]
  },
  {
   "cell_type": "code",
   "execution_count": null,
   "id": "2f3885b3",
   "metadata": {
    "id": "2f3885b3",
    "outputId": "27b478c5-dcc3-4db2-9674-5f96483764c2"
   },
   "outputs": [
    {
     "data": {
      "text/plain": [
       "{11, 22, 44, 66, 77, 88, 1000}"
      ]
     },
     "execution_count": 121,
     "metadata": {},
     "output_type": "execute_result"
    }
   ],
   "source": [
    "s3.union(s3)  # unic numbers sequenc"
   ]
  },
  {
   "cell_type": "code",
   "execution_count": null,
   "id": "4f47de36",
   "metadata": {
    "id": "4f47de36",
    "outputId": "b344f547-95ef-420e-b9cf-799097449b98"
   },
   "outputs": [
    {
     "data": {
      "text/plain": [
       "{11, 22, 44, 66, 77, 88, 1000}"
      ]
     },
     "execution_count": 122,
     "metadata": {},
     "output_type": "execute_result"
    }
   ],
   "source": [
    "s3.intersection(s3)  # both in same chara"
   ]
  },
  {
   "cell_type": "code",
   "execution_count": null,
   "id": "96f4b7e8",
   "metadata": {
    "id": "96f4b7e8"
   },
   "outputs": [],
   "source": [
    "s1={11,44,777,333,999}"
   ]
  },
  {
   "cell_type": "code",
   "execution_count": null,
   "id": "570179eb",
   "metadata": {
    "id": "570179eb",
    "outputId": "ad264617-61fb-4a93-88bf-9977fffb1a69"
   },
   "outputs": [
    {
     "data": {
      "text/plain": [
       "{333, 777, 999}"
      ]
     },
     "execution_count": 124,
     "metadata": {},
     "output_type": "execute_result"
    }
   ],
   "source": [
    "s1.difference(s3)  # not both in same chara"
   ]
  },
  {
   "cell_type": "code",
   "execution_count": null,
   "id": "c12268dc",
   "metadata": {
    "id": "c12268dc",
    "outputId": "85526ce6-035d-474b-9eb4-9e0ac8b9532d"
   },
   "outputs": [
    {
     "data": {
      "text/plain": [
       "{22, 66, 77, 88, 1000}"
      ]
     },
     "execution_count": 125,
     "metadata": {},
     "output_type": "execute_result"
    }
   ],
   "source": [
    "s3.difference(s1)"
   ]
  },
  {
   "cell_type": "code",
   "execution_count": null,
   "id": "3fc5e72d",
   "metadata": {
    "id": "3fc5e72d",
    "outputId": "6b9647d7-e836-40b9-e12b-587a57f45680"
   },
   "outputs": [
    {
     "data": {
      "text/plain": [
       "{22, 66, 77, 88, 333, 777, 999, 1000}"
      ]
     },
     "execution_count": 128,
     "metadata": {},
     "output_type": "execute_result"
    }
   ],
   "source": [
    "s3.symmetric_difference(s1)"
   ]
  },
  {
   "cell_type": "code",
   "execution_count": null,
   "id": "282c5a7f",
   "metadata": {
    "id": "282c5a7f",
    "outputId": "1edfeaf6-e1bf-4d8b-cede-14221051ce03"
   },
   "outputs": [
    {
     "data": {
      "text/plain": [
       "False"
      ]
     },
     "execution_count": 129,
     "metadata": {},
     "output_type": "execute_result"
    }
   ],
   "source": [
    "s1.isdisjoint(s3)  # commen =false , not comman unice = True"
   ]
  },
  {
   "cell_type": "code",
   "execution_count": null,
   "id": "b9d676d6",
   "metadata": {
    "id": "b9d676d6",
    "outputId": "e6485fa5-f91f-4b81-bcbd-78f178c9f764"
   },
   "outputs": [
    {
     "data": {
      "text/plain": [
       "False"
      ]
     },
     "execution_count": 131,
     "metadata": {},
     "output_type": "execute_result"
    }
   ],
   "source": [
    "s1.issubset(s3)"
   ]
  },
  {
   "cell_type": "code",
   "execution_count": null,
   "id": "d42df5a6",
   "metadata": {
    "id": "d42df5a6",
    "outputId": "1d9311a1-b346-4f64-eccc-24ed48ff6ad4"
   },
   "outputs": [
    {
     "data": {
      "text/plain": [
       "False"
      ]
     },
     "execution_count": 132,
     "metadata": {},
     "output_type": "execute_result"
    }
   ],
   "source": [
    "s1.issuperset(s3)"
   ]
  },
  {
   "cell_type": "code",
   "execution_count": null,
   "id": "cb090a52",
   "metadata": {
    "id": "cb090a52",
    "outputId": "95e9c127-d235-4b61-acc8-c208d9baeae2"
   },
   "outputs": [
    {
     "data": {
      "text/plain": [
       "set()"
      ]
     },
     "execution_count": 134,
     "metadata": {},
     "output_type": "execute_result"
    }
   ],
   "source": [
    "s1.clear()\n",
    "s1    # eampy set"
   ]
  },
  {
   "cell_type": "markdown",
   "id": "d107c266",
   "metadata": {
    "id": "d107c266"
   },
   "source": [
    "# Dictionary"
   ]
  },
  {
   "cell_type": "code",
   "execution_count": null,
   "id": "64769280",
   "metadata": {
    "id": "64769280"
   },
   "outputs": [],
   "source": [
    "# dictionary has no indexing\n",
    "# dictionary is a mutable\n",
    "# key immutable (not edit), # values they can be mutable(edit)\n",
    "# key should be unique\n",
    "\n",
    "# mutable (edit) = list / sets / dictionary\n",
    "# immutable (not edit) = string / tupels / int / float / boolen / complex"
   ]
  },
  {
   "cell_type": "code",
   "execution_count": null,
   "id": "25ea2b39",
   "metadata": {
    "id": "25ea2b39"
   },
   "outputs": [],
   "source": [
    "# {\"ram\":22}\n",
    "  # ram - key,   # 22 - values"
   ]
  },
  {
   "cell_type": "code",
   "execution_count": null,
   "id": "32a52315",
   "metadata": {
    "id": "32a52315",
    "outputId": "f147b9fc-27bf-43d1-ecc4-3fe74d2af46b"
   },
   "outputs": [
    {
     "data": {
      "text/plain": [
       "{}"
      ]
     },
     "execution_count": 135,
     "metadata": {},
     "output_type": "execute_result"
    }
   ],
   "source": [
    "d = {}\n",
    "d"
   ]
  },
  {
   "cell_type": "code",
   "execution_count": null,
   "id": "0f8ca49d",
   "metadata": {
    "id": "0f8ca49d",
    "outputId": "d21095e6-e54d-4acf-eee8-48860aeb584d"
   },
   "outputs": [
    {
     "data": {
      "text/plain": [
       "{'sachin': 10, 'dhoni': 7, 'kohali': 18}"
      ]
     },
     "execution_count": 136,
     "metadata": {},
     "output_type": "execute_result"
    }
   ],
   "source": [
    "d = {\"sachin\":10,\"dhoni\":7,\"kohali\":18}\n",
    "d"
   ]
  },
  {
   "cell_type": "code",
   "execution_count": null,
   "id": "c473544b",
   "metadata": {
    "id": "c473544b",
    "outputId": "37dd970d-e958-4477-800f-130a2bf288d1"
   },
   "outputs": [
    {
     "data": {
      "text/plain": [
       "{'name': 'ramayan'}"
      ]
     },
     "execution_count": 139,
     "metadata": {},
     "output_type": "execute_result"
    }
   ],
   "source": [
    "# key immutable (not edit), # values they can be mutable(edit)\n",
    "# d = {[1,2,3]:\"sam\"}  3 not run key in takeing number not run\n",
    "d = {\"name\":\"mahabhart\", \"name\": \"ramayan\"}  # not duble key show only first key show\n",
    "d"
   ]
  },
  {
   "cell_type": "code",
   "execution_count": null,
   "id": "cc4a5908",
   "metadata": {
    "id": "cc4a5908",
    "outputId": "1bd7a365-8209-40e7-8885-c3898d6432b0"
   },
   "outputs": [
    {
     "data": {
      "text/plain": [
       "{'name': 'sunny', 'country': 'USA', 'ratting': {'aa': 78, 'bb': 76, 'cc': 55}}"
      ]
     },
     "execution_count": 141,
     "metadata": {},
     "output_type": "execute_result"
    }
   ],
   "source": [
    "dd = {\"name\":\"sunny\", \"country\":\"USA\", \"ratting\":{\"aa\":78, \"bb\":76, \"cc\":55}}\n",
    "dd"
   ]
  },
  {
   "cell_type": "code",
   "execution_count": null,
   "id": "cd69b5bf",
   "metadata": {
    "id": "cd69b5bf",
    "outputId": "7181566b-cd02-4e8a-da18-a6510834179b"
   },
   "outputs": [
    {
     "data": {
      "text/plain": [
       "{'sachin': 10, 'dhoni': 7, 'kohali': 18}"
      ]
     },
     "execution_count": 143,
     "metadata": {},
     "output_type": "execute_result"
    }
   ],
   "source": [
    "# access iterms from a dict\n",
    "cc= {\"sachin\":10,\"dhoni\":7,\"kohali\":18}\n",
    "cc  # cc[0]  not indexing"
   ]
  },
  {
   "cell_type": "code",
   "execution_count": null,
   "id": "b0a06cf2",
   "metadata": {
    "id": "b0a06cf2",
    "outputId": "d5e2d1b5-58b7-4348-d670-d46f88c44085"
   },
   "outputs": [
    {
     "data": {
      "text/plain": [
       "7"
      ]
     },
     "execution_count": 147,
     "metadata": {},
     "output_type": "execute_result"
    }
   ],
   "source": [
    "#  not indexing , just solution indexing\n",
    "# access\n",
    "cc[\"dhoni\"]   # only value show"
   ]
  },
  {
   "cell_type": "code",
   "execution_count": null,
   "id": "14cecc1f",
   "metadata": {
    "id": "14cecc1f",
    "outputId": "70248056-3116-4b9c-cf69-713e61021184"
   },
   "outputs": [
    {
     "data": {
      "text/plain": [
       "76"
      ]
     },
     "execution_count": 148,
     "metadata": {},
     "output_type": "execute_result"
    }
   ],
   "source": [
    "# 2D dictionary in bb value, access\n",
    "dd = {\"name\":\"sunny\", \"country\":\"USA\", \"ratting\":{\"aa\":78, \"bb\":76, \"cc\":55}}\n",
    "dd[\"ratting\"][\"bb\"]  # ratting key in other key bb in value show"
   ]
  },
  {
   "cell_type": "code",
   "execution_count": null,
   "id": "8dc979d7",
   "metadata": {
    "id": "8dc979d7",
    "outputId": "db427147-f714-4975-a4ea-c6c6e44695c9"
   },
   "outputs": [
    {
     "data": {
      "text/plain": [
       "{'name': 'deoal', 'country': 'USA', 'ratting': {'aa': 78, 'bb': 76, 'cc': 55}}"
      ]
     },
     "execution_count": 149,
     "metadata": {},
     "output_type": "execute_result"
    }
   ],
   "source": [
    "# edit is value\n",
    "dd = {\"name\":\"sunny\", \"country\":\"USA\", \"ratting\":{\"aa\":78, \"bb\":76, \"cc\":55}}\n",
    "dd[\"name\"]= \"deoal\"  # value change\n",
    "dd   # dd.get(name) not use reasion not work 2D,3D."
   ]
  },
  {
   "cell_type": "code",
   "execution_count": null,
   "id": "03846321",
   "metadata": {
    "id": "03846321",
    "outputId": "bca5e9f0-3a65-4fc8-a0e3-e0842e2c5b17"
   },
   "outputs": [
    {
     "data": {
      "text/plain": [
       "{'name': 'deoal', 'country': 'USA', 'ratting': {'aa': 78, 'bb': 100, 'cc': 55}}"
      ]
     },
     "execution_count": 150,
     "metadata": {},
     "output_type": "execute_result"
    }
   ],
   "source": [
    "dd[\"ratting\"][\"bb\"]=100\n",
    "dd"
   ]
  },
  {
   "cell_type": "code",
   "execution_count": null,
   "id": "340a1d17",
   "metadata": {
    "id": "340a1d17",
    "outputId": "c316f519-8f4a-47a7-8d86-7108f9d34de3"
   },
   "outputs": [
    {
     "data": {
      "text/plain": [
       "{'sachin': 10, 'dhoni': 7, 'kohali': 18, 'rohit': 45}"
      ]
     },
     "execution_count": 152,
     "metadata": {},
     "output_type": "execute_result"
    }
   ],
   "source": [
    "# new key & value add\n",
    "aa= {\"sachin\":10,\"dhoni\":7,\"kohali\":18}\n",
    "aa[\"rohit\"]= 45\n",
    "aa"
   ]
  },
  {
   "cell_type": "code",
   "execution_count": null,
   "id": "9f84414b",
   "metadata": {
    "id": "9f84414b",
    "outputId": "b92cd866-a252-4d00-8bcb-ea44b8ee0b7d"
   },
   "outputs": [
    {
     "data": {
      "text/plain": [
       "{'name': 'sunny',\n",
       " 'country': 'USA',\n",
       " 'ratting': {'aa': 78, 'bb': 76, 'cc': 55, 'dd': 36}}"
      ]
     },
     "execution_count": 173,
     "metadata": {},
     "output_type": "execute_result"
    }
   ],
   "source": [
    "dd = {\"name\":\"sunny\", \"country\":\"USA\", \"ratting\":{\"aa\":78, \"bb\":76, \"cc\":55}}\n",
    "dd[\"ratting\"][\"dd\"]=36  # 2D in add new key and value\n",
    "dd"
   ]
  },
  {
   "cell_type": "code",
   "execution_count": null,
   "id": "920ef2c9",
   "metadata": {
    "id": "920ef2c9",
    "outputId": "a4ffedf5-0d5c-4ef4-c8b9-d2f29c9f38bb"
   },
   "outputs": [
    {
     "name": "stdout",
     "output_type": "stream",
     "text": [
      "Ford\n"
     ]
    }
   ],
   "source": [
    "thisdict = {\n",
    "  \"brand\": \"Ford\",\n",
    "  \"model\": \"Mustang\",\n",
    "  \"year\": 1964\n",
    "}\n",
    "print(thisdict[\"brand\"])"
   ]
  },
  {
   "cell_type": "code",
   "execution_count": null,
   "id": "d622b87e-2a8a-4f7a-a545-5d5cd18b4e47",
   "metadata": {
    "id": "d622b87e-2a8a-4f7a-a545-5d5cd18b4e47",
    "outputId": "c17a967c-7bfb-42e1-d1fc-fd29eb482a98"
   },
   "outputs": [
    {
     "name": "stdout",
     "output_type": "stream",
     "text": [
      "{'a': 1, 'b': 2, 'c': 3, 'd': 4}\n"
     ]
    }
   ],
   "source": [
    "# Define two dictionaries\n",
    "dict1 = {'a': 1, 'b': 2}\n",
    "dict2 = {'c': 3, 'd': 4}\n",
    "\n",
    "# Merge dict2 into dict1\n",
    "dict1.update(dict2)\n",
    "\n",
    "print(dict1)\n"
   ]
  },
  {
   "cell_type": "code",
   "execution_count": null,
   "id": "593dfeed",
   "metadata": {
    "id": "593dfeed"
   },
   "outputs": [],
   "source": [
    "thisdict = {\n",
    "  \"brand\": \"Ford\",\n",
    "  \"electric\": False,\n",
    "  \"year\": 1964,\n",
    "  \"colors\": [\"red\", \"white\", \"blue\"]\n",
    "}"
   ]
  },
  {
   "cell_type": "code",
   "execution_count": null,
   "id": "2b345090",
   "metadata": {
    "id": "2b345090"
   },
   "outputs": [],
   "source": []
  },
  {
   "cell_type": "code",
   "execution_count": null,
   "id": "a723aa71",
   "metadata": {
    "id": "a723aa71"
   },
   "outputs": [],
   "source": [
    "# delete\n",
    "#del dd  # total dd is delete"
   ]
  },
  {
   "cell_type": "code",
   "execution_count": null,
   "id": "f2d4c9fd",
   "metadata": {
    "id": "f2d4c9fd",
    "outputId": "83191342-76fb-408e-de4d-5fc6bbadfd4e"
   },
   "outputs": [
    {
     "data": {
      "text/plain": [
       "{'sachin': 10, 'kohali': 18}"
      ]
     },
     "execution_count": 175,
     "metadata": {},
     "output_type": "execute_result"
    }
   ],
   "source": [
    "# specific key delete\n",
    "aa= {\"sachin\":10,\"dhoni\":7,\"kohali\":18}\n",
    "del aa[\"dhoni\"]\n",
    "aa"
   ]
  },
  {
   "cell_type": "code",
   "execution_count": null,
   "id": "bb3d3eec",
   "metadata": {
    "id": "bb3d3eec",
    "outputId": "69ec60bc-6d44-46a0-ade9-5787985fe6bd"
   },
   "outputs": [
    {
     "name": "stdout",
     "output_type": "stream",
     "text": [
      "dict_keys(['brand', 'model', 'year'])\n",
      "dict_keys(['brand', 'model', 'year', 'color'])\n"
     ]
    }
   ],
   "source": [
    "car = {\n",
    "\"brand\": \"Ford\",\n",
    "\"model\": \"Mustang\",\n",
    "\"year\": 1964\n",
    "}\n",
    "\n",
    "x = car.keys()\n",
    "\n",
    "print(x) #before the change\n",
    "\n",
    "car[\"color\"] = \"white\"\n",
    "\n",
    "print(x) #after the change"
   ]
  },
  {
   "cell_type": "code",
   "execution_count": null,
   "id": "15936704",
   "metadata": {
    "id": "15936704",
    "outputId": "5ccfdb1f-87a6-430f-e91c-557dceeead91"
   },
   "outputs": [
    {
     "name": "stdout",
     "output_type": "stream",
     "text": [
      "dict_values(['Ford', 'Mustang', 1964])\n",
      "dict_values(['Ford', 'Mustang', 2020])\n"
     ]
    }
   ],
   "source": [
    "car = {\n",
    "\"brand\": \"Ford\",\n",
    "\"model\": \"Mustang\",\n",
    "\"year\": 1964\n",
    "}\n",
    "\n",
    "x = car.values()\n",
    "\n",
    "print(x) #before the change\n",
    "\n",
    "car[\"year\"] = 2020\n",
    "\n",
    "print(x) #after the change"
   ]
  },
  {
   "cell_type": "code",
   "execution_count": null,
   "id": "896739ac",
   "metadata": {
    "id": "896739ac",
    "outputId": "119cb5ed-8593-423b-b643-03867395e296"
   },
   "outputs": [
    {
     "name": "stdout",
     "output_type": "stream",
     "text": [
      "{'brand': 'Ford', 'model': 'Mustang', 'year': 2020}\n"
     ]
    }
   ],
   "source": [
    "thisdict = {\n",
    "  \"brand\": \"Ford\",\n",
    "  \"model\": \"Mustang\",\n",
    "  \"year\": 1964\n",
    "}\n",
    "thisdict.update({\"year\": 2020})\n",
    "\n",
    "print(thisdict)\n"
   ]
  },
  {
   "cell_type": "code",
   "execution_count": null,
   "id": "c39f7014",
   "metadata": {
    "id": "c39f7014",
    "outputId": "cf4187cb-a9ef-4fe8-cff3-c57e0acc76a8"
   },
   "outputs": [
    {
     "name": "stdout",
     "output_type": "stream",
     "text": [
      "{'brand': 'Ford', 'model': 'Mustang', 'year': 1964, 'color': 'red'}\n"
     ]
    }
   ],
   "source": [
    "thisdict = {\n",
    "  \"brand\": \"Ford\",\n",
    "  \"model\": \"Mustang\",\n",
    "  \"year\": 1964\n",
    "}\n",
    "thisdict[\"color\"] = \"red\"\n",
    "print(thisdict)"
   ]
  },
  {
   "cell_type": "code",
   "execution_count": null,
   "id": "eb75eaec",
   "metadata": {
    "id": "eb75eaec",
    "outputId": "97c01219-ace1-4517-d32b-37999ff9d48d"
   },
   "outputs": [
    {
     "name": "stdout",
     "output_type": "stream",
     "text": [
      "{'child1': {'name': 'Emil', 'year': 2004}, 'child2': {'name': 'Tobias', 'year': 2007}, 'child3': {'name': 'Linus', 'year': 2011}}\n"
     ]
    }
   ],
   "source": [
    "child1 = {\n",
    "  \"name\" : \"Emil\",\n",
    "  \"year\" : 2004\n",
    "}\n",
    "child2 = {\n",
    "  \"name\" : \"Tobias\",\n",
    "  \"year\" : 2007\n",
    "}\n",
    "child3 = {\n",
    "  \"name\" : \"Linus\",\n",
    "  \"year\" : 2011\n",
    "}\n",
    "\n",
    "myfamily = {\n",
    "  \"child1\" : child1,\n",
    "  \"child2\" : child2,\n",
    "  \"child3\" : child3\n",
    "}\n",
    "print(myfamily)"
   ]
  },
  {
   "cell_type": "code",
   "execution_count": null,
   "id": "9a5171fb",
   "metadata": {
    "id": "9a5171fb"
   },
   "outputs": [],
   "source": []
  },
  {
   "cell_type": "code",
   "execution_count": null,
   "id": "d391f9d0",
   "metadata": {
    "id": "d391f9d0"
   },
   "outputs": [],
   "source": []
  },
  {
   "cell_type": "code",
   "execution_count": null,
   "id": "b05b2c3d",
   "metadata": {
    "id": "b05b2c3d"
   },
   "outputs": [],
   "source": []
  },
  {
   "cell_type": "code",
   "execution_count": null,
   "id": "6acab1f9",
   "metadata": {
    "id": "6acab1f9",
    "outputId": "b0be0142-38b1-494d-cb38-a7745590d537"
   },
   "outputs": [
    {
     "data": {
      "text/plain": [
       "{}"
      ]
     },
     "execution_count": 176,
     "metadata": {},
     "output_type": "execute_result"
    }
   ],
   "source": [
    "# clear\n",
    "aa.clear()\n",
    "aa   # eamy dictionary"
   ]
  },
  {
   "cell_type": "code",
   "execution_count": null,
   "id": "d7d189ac",
   "metadata": {
    "id": "d7d189ac"
   },
   "outputs": [],
   "source": [
    "# oprection , not concadition (+,-,*,/ not work)"
   ]
  },
  {
   "cell_type": "code",
   "execution_count": null,
   "id": "da912ac3",
   "metadata": {
    "id": "da912ac3",
    "outputId": "45364b54-6a97-49bf-b689-cae6fb9bb4f3"
   },
   "outputs": [
    {
     "name": "stdout",
     "output_type": "stream",
     "text": [
      "name\n",
      "country\n",
      "ratting\n"
     ]
    }
   ],
   "source": [
    "for i in dd:\n",
    "    print(i)   # only key show"
   ]
  },
  {
   "cell_type": "code",
   "execution_count": null,
   "id": "74dd4481",
   "metadata": {
    "id": "74dd4481",
    "outputId": "b237c54f-761c-4c71-b235-192e21c80693"
   },
   "outputs": [
    {
     "name": "stdout",
     "output_type": "stream",
     "text": [
      "name sunny\n",
      "country USA\n",
      "ratting {'aa': 78, 'bb': 76, 'cc': 55, 'dd': 36}\n"
     ]
    }
   ],
   "source": [
    "for i in dd:\n",
    "    print(i,dd[i])   # both key & value show"
   ]
  },
  {
   "cell_type": "code",
   "execution_count": null,
   "id": "9afe7d5d",
   "metadata": {
    "id": "9afe7d5d",
    "outputId": "f30fa510-45d1-4c5c-de58-164a61b69365"
   },
   "outputs": [
    {
     "data": {
      "text/plain": [
       "False"
      ]
     },
     "execution_count": 182,
     "metadata": {},
     "output_type": "execute_result"
    }
   ],
   "source": [
    "\"USA\" in dd  # membership in but key check assume"
   ]
  },
  {
   "cell_type": "code",
   "execution_count": null,
   "id": "845e8b63",
   "metadata": {
    "id": "845e8b63",
    "outputId": "fe61fd7f-9719-4fc9-e2d3-1b74dc072a46"
   },
   "outputs": [
    {
     "data": {
      "text/plain": [
       "True"
      ]
     },
     "execution_count": 183,
     "metadata": {},
     "output_type": "execute_result"
    }
   ],
   "source": [
    "\"country\" in dd"
   ]
  },
  {
   "cell_type": "code",
   "execution_count": null,
   "id": "e3d4287d",
   "metadata": {
    "id": "e3d4287d",
    "outputId": "4033a084-0a60-4417-b2a2-b97c77414ebd"
   },
   "outputs": [
    {
     "data": {
      "text/plain": [
       "3"
      ]
     },
     "execution_count": 184,
     "metadata": {},
     "output_type": "execute_result"
    }
   ],
   "source": [
    "# function\n",
    "len(dd)"
   ]
  },
  {
   "cell_type": "code",
   "execution_count": null,
   "id": "3ce88840",
   "metadata": {
    "id": "3ce88840",
    "outputId": "f6a23597-b791-4a91-cdf7-ed261b042620"
   },
   "outputs": [
    {
     "data": {
      "text/plain": [
       "'country'"
      ]
     },
     "execution_count": 185,
     "metadata": {},
     "output_type": "execute_result"
    }
   ],
   "source": [
    "min(dd)"
   ]
  },
  {
   "cell_type": "code",
   "execution_count": null,
   "id": "154be2d9",
   "metadata": {
    "id": "154be2d9",
    "outputId": "8b6d6f88-aeb4-4df0-cb5a-0d43146b0185"
   },
   "outputs": [
    {
     "data": {
      "text/plain": [
       "'ratting'"
      ]
     },
     "execution_count": 186,
     "metadata": {},
     "output_type": "execute_result"
    }
   ],
   "source": [
    "max(dd)"
   ]
  },
  {
   "cell_type": "code",
   "execution_count": null,
   "id": "2a33fbca",
   "metadata": {
    "id": "2a33fbca",
    "outputId": "87f7a82a-c467-4874-ef83-a8c1cde983ae"
   },
   "outputs": [
    {
     "data": {
      "text/plain": [
       "['country', 'name', 'ratting']"
      ]
     },
     "execution_count": 187,
     "metadata": {},
     "output_type": "execute_result"
    }
   ],
   "source": [
    "sorted(dd)"
   ]
  },
  {
   "cell_type": "code",
   "execution_count": null,
   "id": "05ad322a",
   "metadata": {
    "id": "05ad322a",
    "outputId": "2ed4795a-4708-40f2-cd68-438d55650619"
   },
   "outputs": [
    {
     "data": {
      "text/plain": [
       "['ratting', 'name', 'country']"
      ]
     },
     "execution_count": 188,
     "metadata": {},
     "output_type": "execute_result"
    }
   ],
   "source": [
    "sorted(dd, reverse =True)"
   ]
  },
  {
   "cell_type": "code",
   "execution_count": null,
   "id": "226d9ddd",
   "metadata": {
    "id": "226d9ddd",
    "outputId": "019ff22e-bd0c-442f-e848-0f518b7d63cf"
   },
   "outputs": [
    {
     "data": {
      "text/plain": [
       "dict_keys(['name', 'country', 'ratting'])"
      ]
     },
     "execution_count": 190,
     "metadata": {},
     "output_type": "execute_result"
    }
   ],
   "source": [
    "dd.keys()  # show the list of key"
   ]
  },
  {
   "cell_type": "code",
   "execution_count": null,
   "id": "a95b0bdd",
   "metadata": {
    "id": "a95b0bdd",
    "outputId": "f69bb33c-ca9f-4be9-8280-2a5e2bf4c2d0"
   },
   "outputs": [
    {
     "data": {
      "text/plain": [
       "dict_values(['sunny', 'USA', {'aa': 78, 'bb': 76, 'cc': 55, 'dd': 36}])"
      ]
     },
     "execution_count": 191,
     "metadata": {},
     "output_type": "execute_result"
    }
   ],
   "source": [
    "dd.values()  #show list of values"
   ]
  },
  {
   "cell_type": "markdown",
   "id": "d0ff25e4",
   "metadata": {
    "id": "d0ff25e4"
   },
   "source": [
    "# Function"
   ]
  },
  {
   "cell_type": "code",
   "execution_count": null,
   "id": "3fd80459",
   "metadata": {
    "id": "3fd80459"
   },
   "outputs": [],
   "source": [
    "# abtraction\n",
    "# decomposition"
   ]
  },
  {
   "cell_type": "code",
   "execution_count": null,
   "id": "b28ae7e6",
   "metadata": {
    "id": "b28ae7e6"
   },
   "outputs": [],
   "source": [
    "# components of a function\n",
    "# def is_even(i):\n",
    "# def = defind, #is_even = valid identifier,not use spectioal character.\n",
    "# (I) = argument,  # : (colom)\n",
    "# function in body work  x=i % 2 == 0\n",
    "# return X ( all body in x)\n",
    "# is_even(7) = call the function, function provide input ,to run function  otherwise not run"
   ]
  },
  {
   "cell_type": "code",
   "execution_count": 150,
   "id": "bac66039",
   "metadata": {},
   "outputs": [
    {
     "name": "stdout",
     "output_type": "stream",
     "text": [
      "hello good morning\n"
     ]
    }
   ],
   "source": [
    "def wish():\n",
    "    print(\"hello good morning\")\n",
    "wish()"
   ]
  },
  {
   "cell_type": "code",
   "execution_count": 151,
   "id": "7e56c1d0",
   "metadata": {},
   "outputs": [
    {
     "name": "stdout",
     "output_type": "stream",
     "text": [
      "hello durva good morning sir\n",
      "hello ravi good morning sir\n"
     ]
    }
   ],
   "source": [
    "def wish(name):\n",
    "    print(\"hello\",name,\"good morning sir\")\n",
    "wish(\"durva\")\n",
    "wish(\"ravi\")"
   ]
  },
  {
   "cell_type": "code",
   "execution_count": 155,
   "id": "8c9e0fda",
   "metadata": {},
   "outputs": [
    {
     "name": "stdout",
     "output_type": "stream",
     "text": [
      "the square of 4 is 16\n",
      "the square of 50 is 2500\n"
     ]
    }
   ],
   "source": [
    "def squarelt(number):\n",
    "    print(\"the square of\", number, \"is\", number * number)\n",
    "\n",
    "squarelt(4)\n",
    "squarelt(50)"
   ]
  },
  {
   "cell_type": "markdown",
   "id": "eb4bd1d7",
   "metadata": {},
   "source": [
    "# return statement = function can take input as parameters and executes business logic, and returns output to the caller with return statement."
   ]
  },
  {
   "cell_type": "code",
   "execution_count": 158,
   "id": "15cfd56f",
   "metadata": {},
   "outputs": [
    {
     "name": "stdout",
     "output_type": "stream",
     "text": [
      "the sum is 30\n",
      "the sum is 300\n"
     ]
    }
   ],
   "source": [
    "def add(x,y):\n",
    "    return x+y\n",
    "result  = add (10,20)\n",
    "print (\"the sum is\", result)\n",
    "print (\"the sum is\", add(100,200))"
   ]
  },
  {
   "cell_type": "code",
   "execution_count": 159,
   "id": "a5d177de",
   "metadata": {},
   "outputs": [
    {
     "data": {
      "text/plain": [
       "'even'"
      ]
     },
     "execution_count": 159,
     "metadata": {},
     "output_type": "execute_result"
    }
   ],
   "source": [
    "def is_even(num):  # this parameter function\n",
    "    \"\"\" finding the odd and even number\"\"\"\n",
    "    if num % 2 == 0:\n",
    "        return \"even\"\n",
    "    else:\n",
    "        return \"odd\"\n",
    "is_even(100)"
   ]
  },
  {
   "cell_type": "code",
   "execution_count": 144,
   "id": "6945843f",
   "metadata": {
    "id": "6945843f",
    "outputId": "da4defe5-f5b4-442f-8404-82986054880a"
   },
   "outputs": [
    {
     "name": "stdout",
     "output_type": "stream",
     "text": [
      "odd\n",
      "even\n",
      "odd\n",
      "even\n",
      "odd\n",
      "even\n",
      "odd\n",
      "even\n",
      "odd\n",
      "even\n",
      " finding the odd and even number\n"
     ]
    },
    {
     "data": {
      "text/plain": [
       "\"type(object) -> the object's type\\ntype(name, bases, dict, **kwds) -> a new type\""
      ]
     },
     "execution_count": 144,
     "metadata": {},
     "output_type": "execute_result"
    }
   ],
   "source": [
    "def is_even(num):  # this parameter function\n",
    "    \"\"\" finding the odd and even number\"\"\"\n",
    "    if num % 2 == 0:\n",
    "        return \"even\"\n",
    "    else:\n",
    "        return \"odd\"\n",
    "\n",
    "\n",
    "for i in range(1,11):\n",
    "        print(is_even(i))\n",
    "\n",
    "\n",
    "     # doccumucation\n",
    "print(is_even.__doc__)\n",
    "print.__doc__    # only print doc\n",
    "type.__doc__"
   ]
  },
  {
   "cell_type": "code",
   "execution_count": null,
   "id": "6fd14b9e",
   "metadata": {
    "id": "6fd14b9e",
    "outputId": "a000b745-97fd-4113-8d09-7922271518e8"
   },
   "outputs": [
    {
     "ename": "TypeError",
     "evalue": "'tuple' object is not callable",
     "output_type": "error",
     "traceback": [
      "\u001b[31m---------------------------------------------------------------------------\u001b[39m",
      "\u001b[31mTypeError\u001b[39m                                 Traceback (most recent call last)",
      "\u001b[36mCell\u001b[39m\u001b[36m \u001b[39m\u001b[32mIn[165]\u001b[39m\u001b[32m, line 1\u001b[39m\n\u001b[32m----> \u001b[39m\u001b[32m1\u001b[39m num = \u001b[38;5;28mint\u001b[39m(\u001b[38;5;28;43minput\u001b[39;49m\u001b[43m(\u001b[49m\u001b[33;43m\"\u001b[39;49m\u001b[33;43menter the number\u001b[39;49m\u001b[33;43m\"\u001b[39;49m\u001b[43m)\u001b[49m)\n\u001b[32m      2\u001b[39m \u001b[38;5;28;01mdef\u001b[39;00m\u001b[38;5;250m \u001b[39m\u001b[34mabc\u001b[39m(num):\n\u001b[32m      3\u001b[39m     \u001b[38;5;28;01mif\u001b[39;00m num % \u001b[32m2\u001b[39m == \u001b[32m0\u001b[39m:\n",
      "\u001b[31mTypeError\u001b[39m: 'tuple' object is not callable"
     ]
    }
   ],
   "source": [
    "num = int(input(\"enter the number\"))\n",
    "def abc(num):\n",
    "    if num % 2 == 0:\n",
    "        return \"even\"\n",
    "    else:\n",
    "        return \"odd\"\n",
    "print(abc(num))"
   ]
  },
  {
   "cell_type": "code",
   "execution_count": 163,
   "id": "0b73542b",
   "metadata": {},
   "outputs": [
    {
     "data": {
      "text/plain": [
       "(130, 70, 3.3333333333333335, 3000)"
      ]
     },
     "execution_count": 163,
     "metadata": {},
     "output_type": "execute_result"
    }
   ],
   "source": [
    "def calc(a,b):\n",
    "    sum = a+b\n",
    "    sub = a-b\n",
    "    div = a/b\n",
    "    mul = a*b\n",
    "    return sum,sub,div,mul\n",
    "calc(100,30)"
   ]
  },
  {
   "cell_type": "code",
   "execution_count": 166,
   "id": "f24df2d7",
   "metadata": {},
   "outputs": [
    {
     "name": "stdout",
     "output_type": "stream",
     "text": [
      "hello sagar abhang\n"
     ]
    }
   ],
   "source": [
    "def wish(name, msg):\n",
    "    print(\"hello\", name, msg)\n",
    "wish(name = \"sagar\", msg =\"abhang\")"
   ]
  },
  {
   "cell_type": "code",
   "execution_count": 169,
   "id": "6347cb29",
   "metadata": {},
   "outputs": [
    {
     "name": "stdout",
     "output_type": "stream",
     "text": [
      "hello sagar good morning\n",
      "hello guest good morning\n"
     ]
    }
   ],
   "source": [
    "# Default Arguments\n",
    "\n",
    "def wish(name=\"guest\"):\n",
    "    print(\"hello\", name, \"good morning\")\n",
    "wish(\"sagar\")\n",
    "wish()"
   ]
  },
  {
   "cell_type": "code",
   "execution_count": null,
   "id": "be2dad6a",
   "metadata": {},
   "outputs": [
    {
     "ename": "SyntaxError",
     "evalue": "expected '(' (3563525967.py, line 1)",
     "output_type": "error",
     "traceback": [
      "  \u001b[36mCell\u001b[39m\u001b[36m \u001b[39m\u001b[32mIn[170]\u001b[39m\u001b[32m, line 1\u001b[39m\n\u001b[31m    \u001b[39m\u001b[31mdef sum*(n):\u001b[39m\n           ^\n\u001b[31mSyntaxError\u001b[39m\u001b[31m:\u001b[39m expected '('\n"
     ]
    }
   ],
   "source": [
    "def sum(*n):\n"
   ]
  },
  {
   "cell_type": "code",
   "execution_count": null,
   "id": "c77a3792",
   "metadata": {
    "id": "c77a3792",
    "outputId": "35dbac44-e36d-4b02-bbda-23d3039f2ff3"
   },
   "outputs": [
    {
     "ename": "ModuleNotFoundError",
     "evalue": "No module named 'func_demo'",
     "output_type": "error",
     "traceback": [
      "\u001b[1;31m---------------------------------------------------------------------------\u001b[0m",
      "\u001b[1;31mModuleNotFoundError\u001b[0m                       Traceback (most recent call last)",
      "Cell \u001b[1;32mIn[2], line 3\u001b[0m\n\u001b[0;32m      1\u001b[0m \u001b[38;5;66;03m# any function use any other filr in to call\u001b[39;00m\n\u001b[0;32m      2\u001b[0m \u001b[38;5;28;01mimport\u001b[39;00m \u001b[38;5;21;01mrandom\u001b[39;00m\n\u001b[1;32m----> 3\u001b[0m \u001b[38;5;28;01mimport\u001b[39;00m \u001b[38;5;21;01mfunc_demo\u001b[39;00m  \u001b[38;5;66;03m# func_defo - its file name\u001b[39;00m\n\u001b[0;32m      4\u001b[0m func_demo\u001b[38;5;241m.\u001b[39mis_even(\u001b[38;5;241m34\u001b[39m)\n",
      "\u001b[1;31mModuleNotFoundError\u001b[0m: No module named 'func_demo'"
     ]
    }
   ],
   "source": [
    "# any function use any other filr in to call\n",
    "import random\n",
    "import func_demo  # func_defo - its file name\n",
    "func_demo.is_even(34)  # this argument function"
   ]
  },
  {
   "cell_type": "code",
   "execution_count": null,
   "id": "f0b8361c",
   "metadata": {
    "id": "f0b8361c"
   },
   "outputs": [],
   "source": [
    "# PARAMETER Vs ARGUMENTS\n",
    "# 1 default arguments\n",
    "# 2 positional arguments\n",
    "# 3 keyword arguments\n",
    "# 4 arbitarary arguments\n",
    "\n",
    "def search(database = \"fb-main\", table = \"user\")\n"
   ]
  },
  {
   "cell_type": "code",
   "execution_count": 145,
   "id": "b0a1fc53",
   "metadata": {
    "id": "b0a1fc53",
    "outputId": "2afc514d-2683-40fd-f891-05f91859f6e7"
   },
   "outputs": [
    {
     "name": "stdout",
     "output_type": "stream",
     "text": [
      "3125\n"
     ]
    }
   ],
   "source": [
    "def power(a,b):\n",
    "    return a**b\n",
    "print(power(5,5))  # this argument function"
   ]
  },
  {
   "cell_type": "code",
   "execution_count": 148,
   "id": "c5a01ea8",
   "metadata": {
    "id": "c5a01ea8",
    "outputId": "d7536d0d-2f88-47f9-9fd9-cf7653799d9d"
   },
   "outputs": [
    {
     "ename": "TypeError",
     "evalue": "'tuple' object is not callable",
     "output_type": "error",
     "traceback": [
      "\u001b[31m---------------------------------------------------------------------------\u001b[39m",
      "\u001b[31mTypeError\u001b[39m                                 Traceback (most recent call last)",
      "\u001b[36mCell\u001b[39m\u001b[36m \u001b[39m\u001b[32mIn[148]\u001b[39m\u001b[32m, line 1\u001b[39m\n\u001b[32m----> \u001b[39m\u001b[32m1\u001b[39m a = \u001b[38;5;28mint\u001b[39m(\u001b[38;5;28;43minput\u001b[39;49m\u001b[43m(\u001b[49m\u001b[33;43m\"\u001b[39;49m\u001b[33;43menter the number   \u001b[39;49m\u001b[33;43m\"\u001b[39;49m\u001b[43m)\u001b[49m)\n\u001b[32m      2\u001b[39m b = \u001b[38;5;28mint\u001b[39m(\u001b[38;5;28minput\u001b[39m(\u001b[33m\"\u001b[39m\u001b[33menter the number   \u001b[39m\u001b[33m\"\u001b[39m))\n\u001b[32m      3\u001b[39m \u001b[38;5;28;01mdef\u001b[39;00m\u001b[38;5;250m \u001b[39m\u001b[34mpower\u001b[39m(a,b): \u001b[38;5;66;03m# positional argument\u001b[39;00m\n",
      "\u001b[31mTypeError\u001b[39m: 'tuple' object is not callable"
     ]
    }
   ],
   "source": [
    "a = int(input(\"enter the number   \"))\n",
    "b = int(input(\"enter the number   \"))\n",
    "def power(a,b): # positional argument\n",
    "    return a**b\n",
    "print(power(a,b))"
   ]
  },
  {
   "cell_type": "code",
   "execution_count": 149,
   "id": "2e0eaa00",
   "metadata": {
    "id": "2e0eaa00",
    "outputId": "a7ca3e59-6603-4334-a8b1-df4ad2191ec1"
   },
   "outputs": [
    {
     "ename": "TypeError",
     "evalue": "'tuple' object is not callable",
     "output_type": "error",
     "traceback": [
      "\u001b[31m---------------------------------------------------------------------------\u001b[39m",
      "\u001b[31mTypeError\u001b[39m                                 Traceback (most recent call last)",
      "\u001b[36mCell\u001b[39m\u001b[36m \u001b[39m\u001b[32mIn[149]\u001b[39m\u001b[32m, line 1\u001b[39m\n\u001b[32m----> \u001b[39m\u001b[32m1\u001b[39m a = \u001b[38;5;28mint\u001b[39m(\u001b[38;5;28;43minput\u001b[39;49m\u001b[43m(\u001b[49m\u001b[33;43m\"\u001b[39;49m\u001b[33;43menter the number\u001b[39;49m\u001b[33;43m\"\u001b[39;49m\u001b[43m)\u001b[49m)\n\u001b[32m      2\u001b[39m b = \u001b[38;5;28mint\u001b[39m(\u001b[38;5;28minput\u001b[39m(\u001b[33m\"\u001b[39m\u001b[33menter the number\u001b[39m\u001b[33m\"\u001b[39m))\n\u001b[32m      4\u001b[39m \u001b[38;5;28;01mdef\u001b[39;00m\u001b[38;5;250m \u001b[39m\u001b[34mbbb\u001b[39m(b=\u001b[32m31\u001b[39m,a = \u001b[32m4\u001b[39m):  \u001b[38;5;66;03m# keypoint argument\u001b[39;00m\n",
      "\u001b[31mTypeError\u001b[39m: 'tuple' object is not callable"
     ]
    }
   ],
   "source": [
    "a = int(input(\"enter the number\"))\n",
    "b = int(input(\"enter the number\"))\n",
    "\n",
    "def bbb(b=31,a = 4):  # keypoint argument\n",
    "    return b**a\n",
    "print(bbb(b,a))"
   ]
  },
  {
   "cell_type": "code",
   "execution_count": null,
   "id": "348762b1",
   "metadata": {
    "id": "348762b1",
    "outputId": "94018e98-d621-4d9e-8819-f149bf1cbf6d"
   },
   "outputs": [
    {
     "name": "stdout",
     "output_type": "stream",
     "text": [
      "1\n",
      "None\n",
      "2\n",
      "None\n",
      "24\n",
      "None\n",
      "6000000\n",
      "None\n"
     ]
    }
   ],
   "source": [
    "def flexi(* number):\n",
    "    product = 1\n",
    "    for i in number:\n",
    "        product = product*i\n",
    "    print(product)\n",
    "print(flexi(1))\n",
    "print(flexi(1,2))\n",
    "print(flexi(1,2,3,4))\n",
    "print(flexi(1,100,200,300))"
   ]
  },
  {
   "cell_type": "code",
   "execution_count": null,
   "id": "7f59c632",
   "metadata": {
    "id": "7f59c632",
    "outputId": "dbaed557-e4a4-4c80-a2b4-f1a813b63874"
   },
   "outputs": [
    {
     "name": "stdout",
     "output_type": "stream",
     "text": [
      "2\n",
      "5\n"
     ]
    }
   ],
   "source": [
    "# local varible\n",
    "def f(y):\n",
    "    x = 1\n",
    "    x += 1\n",
    "    print(x)\n",
    "x = 5\n",
    "f(x)\n",
    "print(x)"
   ]
  },
  {
   "cell_type": "code",
   "execution_count": null,
   "id": "11f3b4ad",
   "metadata": {
    "id": "11f3b4ad",
    "outputId": "632a6733-55a5-43e0-fca2-52ad98f76bd1"
   },
   "outputs": [
    {
     "name": "stdout",
     "output_type": "stream",
     "text": [
      "5\n",
      "6\n",
      "5\n"
     ]
    }
   ],
   "source": [
    "# globale varible try to print\n",
    "def g(y):\n",
    "    print(x)\n",
    "    print(x+1)\n",
    "x =5\n",
    "g(x)\n",
    "print(x)"
   ]
  },
  {
   "cell_type": "code",
   "execution_count": null,
   "id": "08500f96",
   "metadata": {
    "id": "08500f96",
    "outputId": "d545ec68-8697-4ce4-f508-9f88c4d2b009"
   },
   "outputs": [
    {
     "name": "stdout",
     "output_type": "stream",
     "text": [
      "6\n"
     ]
    }
   ],
   "source": [
    "def h(y):\n",
    "    global x\n",
    "    x += 1\n",
    "x =5\n",
    "h(x)\n",
    "print (x)"
   ]
  },
  {
   "cell_type": "code",
   "execution_count": null,
   "id": "3d2e05ae",
   "metadata": {
    "id": "3d2e05ae",
    "outputId": "779d79e4-9d31-4ff8-961a-fbff64726c2e"
   },
   "outputs": [
    {
     "name": "stdout",
     "output_type": "stream",
     "text": [
      "inside f\n",
      "inside g\n"
     ]
    }
   ],
   "source": [
    " # nexted function\n",
    "def f():\n",
    "    print(\"inside f\")\n",
    "    def g():\n",
    "        print(\"inside g\")\n",
    "    g()\n",
    "f()"
   ]
  },
  {
   "cell_type": "code",
   "execution_count": null,
   "id": "1fbeaea0",
   "metadata": {
    "id": "1fbeaea0",
    "outputId": "87dee1ae-1e30-4744-9dd9-dacbe7256d4e"
   },
   "outputs": [
    {
     "name": "stdout",
     "output_type": "stream",
     "text": [
      "16\n"
     ]
    }
   ],
   "source": [
    "# everything in python an object\n",
    "# ie function\n",
    "def f(num):\n",
    "    return num ** 2\n",
    "print(f(4))"
   ]
  },
  {
   "cell_type": "code",
   "execution_count": null,
   "id": "7ef02141",
   "metadata": {
    "id": "7ef02141",
    "outputId": "fa3b6f10-8ebb-46a4-b487-6256e1e5b140"
   },
   "outputs": [
    {
     "name": "stdout",
     "output_type": "stream",
     "text": [
      "64\n"
     ]
    }
   ],
   "source": [
    "x=f\n",
    "print(x(8))"
   ]
  },
  {
   "cell_type": "code",
   "execution_count": null,
   "id": "3a1a6954",
   "metadata": {
    "id": "3a1a6954",
    "outputId": "e87cbabb-1deb-42af-96f0-455894dc499c"
   },
   "outputs": [
    {
     "data": {
      "text/plain": [
       "function"
      ]
     },
     "execution_count": 21,
     "metadata": {},
     "output_type": "execute_result"
    }
   ],
   "source": [
    "# function is datatype behevior\n",
    "# del function\n",
    "type(x)\n"
   ]
  },
  {
   "cell_type": "code",
   "execution_count": null,
   "id": "4ff286e5",
   "metadata": {
    "id": "4ff286e5",
    "outputId": "1e2cf631-5e2f-4c1b-ad7c-38360879bbd1"
   },
   "outputs": [
    {
     "data": {
      "text/plain": [
       "[1, 2, 3, 4, 5, 6, 7, 8, 9, <function __main__.f(num)>]"
      ]
     },
     "execution_count": 22,
     "metadata": {},
     "output_type": "execute_result"
    }
   ],
   "source": [
    "# list in function\n",
    "list=[1,2,3,4,5,6,7,8,9,x]\n",
    "list"
   ]
  },
  {
   "cell_type": "code",
   "execution_count": null,
   "id": "21c6468f",
   "metadata": {
    "id": "21c6468f",
    "outputId": "6be6e1dc-3a3a-4f94-975f-d6eec9727366"
   },
   "outputs": [
    {
     "data": {
      "text/plain": [
       "144"
      ]
     },
     "execution_count": 25,
     "metadata": {},
     "output_type": "execute_result"
    }
   ],
   "source": [
    "# use function\n",
    "list[-1](12)"
   ]
  },
  {
   "cell_type": "markdown",
   "id": "6fca9c80",
   "metadata": {
    "id": "6fca9c80"
   },
   "source": [
    "# Recursion"
   ]
  },
  {
   "cell_type": "code",
   "execution_count": null,
   "id": "7d3a6dde",
   "metadata": {
    "id": "7d3a6dde",
    "outputId": "257234b7-a94b-45ca-8f1f-f1d27e7d011b"
   },
   "outputs": [
    {
     "name": "stdout",
     "output_type": "stream",
     "text": [
      "9\n"
     ]
    }
   ],
   "source": [
    "# iterative vs recurrsion\n",
    "def multiple(a,b):\n",
    "    result = 0\n",
    "    for i in range(b):\n",
    "        result = result + a\n",
    "    print(result)\n",
    "multiple(3,3)"
   ]
  },
  {
   "cell_type": "code",
   "execution_count": null,
   "id": "1bb359d9",
   "metadata": {
    "id": "1bb359d9",
    "outputId": "ba79779d-d46e-4d6e-c413-705f3612efaf"
   },
   "outputs": [
    {
     "name": "stdout",
     "output_type": "stream",
     "text": [
      "30\n"
     ]
    }
   ],
   "source": [
    "def mul(a,b):\n",
    "    if b==1:\n",
    "        return a\n",
    "    else:\n",
    "        return a+mul(a,b-1)\n",
    "print(mul(5,6))"
   ]
  },
  {
   "cell_type": "code",
   "execution_count": null,
   "id": "57b9baaf",
   "metadata": {
    "id": "57b9baaf",
    "outputId": "db46cb9a-0ecf-4a44-befd-43df6b6cccb9"
   },
   "outputs": [
    {
     "name": "stdout",
     "output_type": "stream",
     "text": [
      "120\n"
     ]
    }
   ],
   "source": [
    "# factorel\n",
    "def fac(num):\n",
    "    if num==1:\n",
    "        return 1\n",
    "    else:   # 5! = 5*4!\n",
    "        return num*fac(num-1)\n",
    "print(fac(5))"
   ]
  },
  {
   "cell_type": "code",
   "execution_count": null,
   "id": "544ec094",
   "metadata": {
    "id": "544ec094",
    "outputId": "334cc2b5-9a31-4725-88a3-99d63b743fdf"
   },
   "outputs": [
    {
     "name": "stdout",
     "output_type": "stream",
     "text": [
      "not a palin\n",
      "not a palin\n",
      "not a palin\n"
     ]
    }
   ],
   "source": [
    "# palindrome  , first and last character same\n",
    "def palin(text):\n",
    "    if len(text) <= 1:\n",
    "        print(\"palindrome\")\n",
    "    else:\n",
    "        if text[0] == text[-1]:\n",
    "            return palin(text[1:-1])\n",
    "        else:\n",
    "            print(\"not a palin\")\n",
    "palin(\"mdam\")\n",
    "palin(\"pradeep\")\n",
    "palin(\"class\")\n",
    "\n"
   ]
  },
  {
   "cell_type": "code",
   "execution_count": null,
   "id": "5e0d80bb",
   "metadata": {
    "id": "5e0d80bb",
    "outputId": "acc02ee8-3893-4af0-b9cb-0728571b502a"
   },
   "outputs": [
    {
     "name": "stdout",
     "output_type": "stream",
     "text": [
      "\"maddam\" is a palindrome.\n"
     ]
    }
   ],
   "source": [
    "def palin(text):\n",
    "    if len(text) <= 1:\n",
    "        return True\n",
    "    else:\n",
    "        if text[0] == text[-1]:\n",
    "            return palin(text[1:-1])\n",
    "        else:\n",
    "            return False\n",
    "\n",
    "text = \"maddam\"\n",
    "if palin(text):\n",
    "    print(f'\"{text}\" is a palindrome.')\n",
    "else:\n",
    "    print(f'\"{text}\" is not a palindrome.')\n"
   ]
  },
  {
   "cell_type": "code",
   "execution_count": null,
   "id": "272ffef8",
   "metadata": {
    "id": "272ffef8",
    "outputId": "ec9ffa3e-0826-488e-80d7-83b70ff2d3fe"
   },
   "outputs": [
    {
     "name": "stdout",
     "output_type": "stream",
     "text": [
      "75025\n"
     ]
    }
   ],
   "source": [
    " # problem, two line one 1,2,3,4\n",
    "    # second line 0,1,2,3\n",
    "def fib(mm):\n",
    "    if mm==0 or mm==1:\n",
    "        return 1\n",
    "    else:\n",
    "        return fib(mm-1) + fib(mm-2)\n",
    "print(fib(24))"
   ]
  },
  {
   "cell_type": "markdown",
   "id": "73a7a1d8",
   "metadata": {},
   "source": [
    "# Lambda dunction"
   ]
  },
  {
   "cell_type": "code",
   "execution_count": null,
   "id": "8dd3d0d4",
   "metadata": {
    "id": "8dd3d0d4",
    "outputId": "ff7bb5af-8eb1-49c8-d4f9-e09d5c1e7841"
   },
   "outputs": [
    {
     "data": {
      "text/plain": [
       "81"
      ]
     },
     "execution_count": 28,
     "metadata": {},
     "output_type": "execute_result"
    }
   ],
   "source": [
    "# Lambda Function\n",
    "# lambda has no return value\n",
    "# lambda is retuen function\n",
    "# lambda is create one line code\n",
    "# not used for code reusability\n",
    "# labda is no name\n",
    "# why use ? alog with higher order function , higher order help to one other input\n",
    "x = lambda x: x**2\n",
    "x(9)"
   ]
  },
  {
   "cell_type": "code",
   "execution_count": null,
   "id": "a18806b8",
   "metadata": {
    "id": "a18806b8",
    "outputId": "8079f9e0-a367-4755-d0ba-dd742bf6f315"
   },
   "outputs": [
    {
     "data": {
      "text/plain": [
       "10"
      ]
     },
     "execution_count": 29,
     "metadata": {},
     "output_type": "execute_result"
    }
   ],
   "source": [
    "a = lambda x,y: x+y\n",
    "a(4,6)"
   ]
  },
  {
   "cell_type": "code",
   "execution_count": null,
   "id": "a3708afc",
   "metadata": {
    "id": "a3708afc",
    "outputId": "31f5614b-d6bb-4f5b-dcac-d57e5cc24799"
   },
   "outputs": [
    {
     "data": {
      "text/plain": [
       "function"
      ]
     },
     "execution_count": 30,
     "metadata": {},
     "output_type": "execute_result"
    }
   ],
   "source": [
    "type(a)"
   ]
  },
  {
   "cell_type": "code",
   "execution_count": null,
   "id": "f9f77c8d",
   "metadata": {
    "id": "f9f77c8d",
    "outputId": "a5a32c42-a6b8-4361-856f-7c30167f7782"
   },
   "outputs": [
    {
     "data": {
      "text/plain": [
       "True"
      ]
     },
     "execution_count": 32,
     "metadata": {},
     "output_type": "execute_result"
    }
   ],
   "source": [
    "# check  first latter a\n",
    "b = lambda x: x[0] == \"a\"\n",
    "b(\"apple\")"
   ]
  },
  {
   "cell_type": "code",
   "execution_count": null,
   "id": "503d2290",
   "metadata": {
    "id": "503d2290",
    "outputId": "1f844940-1a67-431b-a5fc-02c745d20ced"
   },
   "outputs": [
    {
     "data": {
      "text/plain": [
       "False"
      ]
     },
     "execution_count": 33,
     "metadata": {},
     "output_type": "execute_result"
    }
   ],
   "source": [
    "b(\"cat\")"
   ]
  },
  {
   "cell_type": "code",
   "execution_count": null,
   "id": "92bb9538",
   "metadata": {
    "id": "92bb9538",
    "outputId": "e3510e2f-9346-450a-a4bc-0617d6fc31f7"
   },
   "outputs": [
    {
     "data": {
      "text/plain": [
       "'even'"
      ]
     },
     "execution_count": 36,
     "metadata": {},
     "output_type": "execute_result"
    }
   ],
   "source": [
    "# check even\n",
    "b = lambda x :\"even\" if x % 2 ==0 else \"odd\"\n",
    "b(4)"
   ]
  },
  {
   "cell_type": "code",
   "execution_count": null,
   "id": "6572ed5d",
   "metadata": {
    "id": "6572ed5d",
    "outputId": "ad1a7810-6f55-4130-8df2-be66454460b9"
   },
   "outputs": [
    {
     "name": "stdout",
     "output_type": "stream",
     "text": [
      "62\n",
      "62\n",
      "33\n"
     ]
    }
   ],
   "source": [
    "# higher prder function in lambda\n",
    "def return_sum(fun,l):\n",
    "    result = 0\n",
    "    for i in l:\n",
    "        if fun(i):\n",
    "            result = result+i\n",
    "    return result\n",
    "l= [11,14,15,16,17,18,19]\n",
    "x = lambda x: x%2\n",
    "y = lambda x: x%2 != 0\n",
    "z = lambda x: x%3 == 0\n",
    "\n",
    "print(return_sum(x,l))\n",
    "print(return_sum(y,l))\n",
    "print(return_sum(z,l))\n"
   ]
  },
  {
   "cell_type": "markdown",
   "id": "b4b73a77",
   "metadata": {
    "id": "b4b73a77"
   },
   "source": [
    "# map\n",
    "# filter\n",
    "# reduce"
   ]
  },
  {
   "cell_type": "code",
   "execution_count": null,
   "id": "2cfe2910",
   "metadata": {
    "id": "2cfe2910",
    "outputId": "1416daa7-e196-40e7-c1d5-9c81e0a7232e"
   },
   "outputs": [
    {
     "data": {
      "text/plain": [
       "[1, 2, 3, 4, 5, 6, 7, 8, 9, 10]"
      ]
     },
     "execution_count": 36,
     "metadata": {},
     "output_type": "execute_result"
    }
   ],
   "source": [
    "# map  # lamnbda function in each character duble\n",
    "# map means each element work, ie each element double\n",
    "list_ = [1,2,3,4,5,6,7,8,9,10]\n",
    "list_"
   ]
  },
  {
   "cell_type": "code",
   "execution_count": null,
   "id": "58bcd855",
   "metadata": {
    "id": "58bcd855",
    "outputId": "e823ea4d-ba2d-4a36-a1e1-a14c8d389400"
   },
   "outputs": [
    {
     "data": {
      "text/plain": [
       "<map at 0x25447cca440>"
      ]
     },
     "execution_count": 26,
     "metadata": {},
     "output_type": "execute_result"
    }
   ],
   "source": [
    "map(lambda x: x*2,list_)\n",
    "# not show"
   ]
  },
  {
   "cell_type": "code",
   "execution_count": null,
   "id": "492ee595",
   "metadata": {
    "id": "492ee595",
    "outputId": "7d5accd7-f380-4ab9-8000-63d04dbf129b"
   },
   "outputs": [
    {
     "data": {
      "text/plain": [
       "{2, 4, 6, 8, 10, 12, 14, 16, 18, 20}"
      ]
     },
     "execution_count": 34,
     "metadata": {},
     "output_type": "execute_result"
    }
   ],
   "source": [
    "doubled_list = set(map(lambda x: x*2, list_))\n",
    "doubled_list\n",
    " # set is use output show in set data type through show"
   ]
  },
  {
   "cell_type": "code",
   "execution_count": null,
   "id": "1e38c611",
   "metadata": {
    "id": "1e38c611",
    "outputId": "98c0ead4-449f-407f-be42-2ad4006fcf11"
   },
   "outputs": [
    {
     "data": {
      "text/plain": [
       "(False, True, False, True, False, True, False, True, False, True)"
      ]
     },
     "execution_count": 39,
     "metadata": {},
     "output_type": "execute_result"
    }
   ],
   "source": [
    "# check the true false is even and odd number\n",
    "tuple(map(lambda x: x % 2==0, list_))"
   ]
  },
  {
   "cell_type": "code",
   "execution_count": null,
   "id": "63c7bb6c",
   "metadata": {
    "id": "63c7bb6c",
    "outputId": "c8933a67-d5fa-4685-8485-549e3dd3784f"
   },
   "outputs": [
    {
     "data": {
      "text/plain": [
       "(7, 8, 9, 10)"
      ]
     },
     "execution_count": 43,
     "metadata": {},
     "output_type": "execute_result"
    }
   ],
   "source": [
    "# filter ,applying condiction ex. a>b\n",
    "# filter means filter in the each condition\n",
    "l = (1,2,3,4,5,6,7,8,9,10)\n",
    "tuple(filter(lambda x: x>6,l))"
   ]
  },
  {
   "cell_type": "code",
   "execution_count": null,
   "id": "461de5b5",
   "metadata": {
    "id": "461de5b5",
    "outputId": "77c71089-ee5d-440d-fc1e-99e32dc327d0"
   },
   "outputs": [
    {
     "data": {
      "text/plain": [
       "55"
      ]
     },
     "execution_count": 50,
     "metadata": {},
     "output_type": "execute_result"
    }
   ],
   "source": [
    "# reduce\n",
    "# list in reduce list mean all sum\n",
    "import functools\n",
    "ll = [1,2,3,4,5,6,7,8,9,10]\n",
    "aa=functools.reduce(lambda x,y: x+y,ll)\n",
    "aa"
   ]
  },
  {
   "cell_type": "code",
   "execution_count": null,
   "id": "6c983ea8",
   "metadata": {
    "id": "6c983ea8",
    "outputId": "a04a8fc1-9609-464c-f57b-1e53f8608e98"
   },
   "outputs": [
    {
     "data": {
      "text/plain": [
       "[1, 2, 3, 4, 5, 6, 7, 8, 9, 10]"
      ]
     },
     "execution_count": 51,
     "metadata": {},
     "output_type": "execute_result"
    }
   ],
   "source": [
    "ll"
   ]
  },
  {
   "cell_type": "code",
   "execution_count": null,
   "id": "7c87e513",
   "metadata": {
    "id": "7c87e513",
    "outputId": "42abe6d9-ae3c-49cf-cf04-e1f98df66a97"
   },
   "outputs": [
    {
     "data": {
      "text/plain": [
       "1"
      ]
     },
     "execution_count": 52,
     "metadata": {},
     "output_type": "execute_result"
    }
   ],
   "source": [
    "functools.reduce(lambda x,y: x if x<y else y, ll)"
   ]
  },
  {
   "cell_type": "code",
   "execution_count": null,
   "id": "acd0bd42",
   "metadata": {
    "id": "acd0bd42",
    "outputId": "4e1eba64-6771-408e-8f17-a03b72eb0f9b"
   },
   "outputs": [
    {
     "data": {
      "text/plain": [
       "[1, 2, 3, 4, 5, 6, 7, 8, 9, 10]"
      ]
     },
     "execution_count": 53,
     "metadata": {},
     "output_type": "execute_result"
    }
   ],
   "source": [
    "# lambdaa function in\n",
    "# list comprehension\n",
    "ll"
   ]
  },
  {
   "cell_type": "code",
   "execution_count": null,
   "id": "1a9883cb",
   "metadata": {
    "id": "1a9883cb",
    "outputId": "6dbcf39d-f7bf-4a1f-90ec-b2fd72b35099"
   },
   "outputs": [
    {
     "data": {
      "text/plain": [
       "[2, 4, 6, 8, 10, 12, 14, 16, 18, 20]"
      ]
     },
     "execution_count": 57,
     "metadata": {},
     "output_type": "execute_result"
    }
   ],
   "source": [
    "l1 =[item * 2 for item in ll]\n",
    "l1"
   ]
  },
  {
   "cell_type": "code",
   "execution_count": null,
   "id": "6499e88a",
   "metadata": {
    "id": "6499e88a",
    "outputId": "414730f6-eac2-4e99-883c-102e7dba8399"
   },
   "outputs": [
    {
     "data": {
      "text/plain": [
       "[0, 1, 4, 9, 16, 25, 36, 49, 64, 81]"
      ]
     },
     "execution_count": 76,
     "metadata": {},
     "output_type": "execute_result"
    }
   ],
   "source": [
    "l2 =[i**2 for i in range(10)]\n",
    "l2"
   ]
  },
  {
   "cell_type": "code",
   "execution_count": 3,
   "id": "cd00dbc4",
   "metadata": {},
   "outputs": [
    {
     "ename": "IndentationError",
     "evalue": "expected an indented block after 'try' statement on line 1 (3182653488.py, line 2)",
     "output_type": "error",
     "traceback": [
      "  \u001b[36mCell\u001b[39m\u001b[36m \u001b[39m\u001b[32mIn[3]\u001b[39m\u001b[32m, line 2\u001b[39m\n\u001b[31m    \u001b[39m\u001b[31mimport logging\u001b[39m\n    ^\n\u001b[31mIndentationError\u001b[39m\u001b[31m:\u001b[39m expected an indented block after 'try' statement on line 1\n"
     ]
    }
   ],
   "source": [
    "try:\n",
    "import logging\n",
    "\n",
    "logging.basicConfig(level=logging.ERROR)\n",
    "\n",
    "    x = 1 / 0\n",
    "except Exception as e:\n",
    "    logging.error(\"Exception occurred\", exc_info=True)\n"
   ]
  },
  {
   "cell_type": "code",
   "execution_count": null,
   "id": "672de117",
   "metadata": {
    "id": "672de117",
    "outputId": "60a087a1-f505-4168-cb0a-491fce2c1453"
   },
   "outputs": [
    {
     "data": {
      "text/plain": [
       "[1, 9, 25, 49, 81]"
      ]
     },
     "execution_count": 77,
     "metadata": {},
     "output_type": "execute_result"
    }
   ],
   "source": [
    "l2 =[i**2 for i in range(10) if i % 2 != 0]\n",
    "l2"
   ]
  },
  {
   "cell_type": "code",
   "execution_count": null,
   "id": "094342df",
   "metadata": {
    "id": "094342df",
    "outputId": "ecc95821-c378-479f-fc84-30cf9cf7d467"
   },
   "outputs": [
    {
     "data": {
      "text/plain": [
       "{1: 1, 2: 4, 3: 9, 4: 16, 5: 25, 6: 36, 7: 49, 8: 64, 9: 81, 10: 100}"
      ]
     },
     "execution_count": 81,
     "metadata": {},
     "output_type": "execute_result"
    }
   ],
   "source": [
    "# Dictionary comprehension\n",
    "# list to convert dictionary value is square\n",
    "ll=[1, 2, 3, 4, 5, 6, 7, 8, 9, 10]\n",
    "dist = {item:item**2 for item in ll}  # list in all chara\n",
    "dist"
   ]
  },
  {
   "cell_type": "code",
   "execution_count": 6,
   "id": "0f56c5e8",
   "metadata": {
    "id": "0f56c5e8",
    "outputId": "598790a9-4562-45b4-ffed-b363813c7467"
   },
   "outputs": [
    {
     "data": {
      "text/plain": [
       "{2: 4, 4: 16, 6: 36, 8: 64, 10: 100}"
      ]
     },
     "execution_count": 6,
     "metadata": {},
     "output_type": "execute_result"
    }
   ],
   "source": [
    "# list to convert dictionary value is square\n",
    "ll=[1, 2, 3, 4, 5, 6, 7, 8, 9, 10]\n",
    "dist = {item:item**2 for item in ll if item % 2==0}  # list in all chara\n",
    "dist"
   ]
  },
  {
   "cell_type": "markdown",
   "id": "582212f1",
   "metadata": {
    "id": "582212f1"
   },
   "source": [
    "# type of error\n",
    "# a syntaxerror\n",
    "# b typeerror\n",
    "# c  nameerror\n",
    "# d indexerror\n",
    "# e keyerror\n",
    "# f valuerror\n",
    "# e filenotfounderror / modulenotFOUNDERROR\n",
    "# g attributeerror\n",
    "# m memoryerror"
   ]
  },
  {
   "cell_type": "markdown",
   "id": "7abe4078",
   "metadata": {},
   "source": [
    "# Decorators function = decorators is function can take a function as argument and extend its functionality and returns modified function with extended functionality"
   ]
  },
  {
   "cell_type": "markdown",
   "id": "a0b7ffea",
   "metadata": {},
   "source": []
  },
  {
   "cell_type": "markdown",
   "id": "a3cdf036",
   "metadata": {},
   "source": [
    "# its function thats anather function as  argument and return a function"
   ]
  },
  {
   "cell_type": "code",
   "execution_count": 8,
   "id": "fd905af8",
   "metadata": {},
   "outputs": [
    {
     "name": "stdout",
     "output_type": "stream",
     "text": [
      "11\n"
     ]
    }
   ],
   "source": [
    "# nested function \n",
    "def outer(x):\n",
    "    def inner(y):\n",
    "        return x + y\n",
    "    return inner\n",
    "\n",
    "add_five = outer(5)\n",
    "result = add_five(6)\n",
    "print(result)  # prints 11\n",
    "\n",
    "# Output: 11"
   ]
  },
  {
   "cell_type": "code",
   "execution_count": 9,
   "id": "4567da56",
   "metadata": {},
   "outputs": [
    {
     "name": "stdout",
     "output_type": "stream",
     "text": [
      "10\n"
     ]
    }
   ],
   "source": [
    "# pass function are arguments\n",
    "def add(x, y):\n",
    "    return x + y\n",
    "\n",
    "def calculate(func, x, y):\n",
    "    return func(x, y)\n",
    "\n",
    "result = calculate(add, 4, 6)\n",
    "print(result)  # prints 10"
   ]
  },
  {
   "cell_type": "code",
   "execution_count": 10,
   "id": "cd43a039",
   "metadata": {},
   "outputs": [],
   "source": [
    "# python decorder functipon\n",
    "def make_pretty(func):\n",
    "    def inner():\n",
    "        print(\"I got decorated\")\n",
    "        func()\n",
    "    return inner\n",
    "\n",
    "\n",
    "def ordinary():\n",
    "    print(\"I am ordinary\")\n",
    "\n",
    "# Output: I am ordinary"
   ]
  },
  {
   "cell_type": "code",
   "execution_count": 11,
   "id": "7ef79459",
   "metadata": {},
   "outputs": [
    {
     "name": "stdout",
     "output_type": "stream",
     "text": [
      "I got decorated\n",
      "I am ordinary\n"
     ]
    }
   ],
   "source": [
    "def make_pretty(func):\n",
    "    # define the inner function \n",
    "    def inner():\n",
    "        # add some additional behavior to decorated function\n",
    "        print(\"I got decorated\")\n",
    "\n",
    "        # call original function\n",
    "        func()\n",
    "    # return the inner function\n",
    "    return inner\n",
    "\n",
    "# define ordinary function\n",
    "def ordinary():\n",
    "    print(\"I am ordinary\")\n",
    "    \n",
    "# decorate the ordinary function\n",
    "decorated_func = make_pretty(ordinary)\n",
    "\n",
    "# call the decorated function\n",
    "decorated_func()"
   ]
  },
  {
   "cell_type": "code",
   "execution_count": 12,
   "id": "7d1c3dce",
   "metadata": {},
   "outputs": [
    {
     "name": "stdout",
     "output_type": "stream",
     "text": [
      "I got decorated\n",
      "I am ordinary\n"
     ]
    }
   ],
   "source": [
    "def make_pretty(func):\n",
    "\n",
    "    def inner():\n",
    "        print(\"I got decorated\")\n",
    "        func()\n",
    "    return inner\n",
    "\n",
    "@make_pretty\n",
    "def ordinary():\n",
    "    print(\"I am ordinary\")\n",
    "\n",
    "ordinary()  "
   ]
  },
  {
   "cell_type": "code",
   "execution_count": 13,
   "id": "0890bccc",
   "metadata": {},
   "outputs": [
    {
     "name": "stdout",
     "output_type": "stream",
     "text": [
      "I am going to divide 2 and 5\n",
      "0.4\n",
      "I am going to divide 2 and 0\n",
      "Whoops! cannot divide\n"
     ]
    }
   ],
   "source": [
    "def smart_divide(func):\n",
    "    def inner(a, b):\n",
    "        print(\"I am going to divide\", a, \"and\", b)\n",
    "        if b == 0:\n",
    "            print(\"Whoops! cannot divide\")\n",
    "            return\n",
    "\n",
    "        return func(a, b)\n",
    "    return inner\n",
    "\n",
    "@smart_divide\n",
    "def divide(a, b):\n",
    "    print(a/b)\n",
    "\n",
    "divide(2,5)\n",
    "\n",
    "divide(2,0)"
   ]
  },
  {
   "cell_type": "code",
   "execution_count": 14,
   "id": "63ce2b51",
   "metadata": {},
   "outputs": [
    {
     "name": "stdout",
     "output_type": "stream",
     "text": [
      "hello sagar how are you\n",
      "hello good night\n"
     ]
    }
   ],
   "source": [
    "def decoder(func):\n",
    "    def inner(name):\n",
    "        if name ==\"sagar\":\n",
    "            print(\"hello sagar how are you\")\n",
    "        else:\n",
    "            func(\"name\")\n",
    "    return inner\n",
    "\n",
    "@decoder\n",
    "def wish(name):\n",
    "    print(\"hello good night\")\n",
    "\n",
    "wish(\"sagar\")\n",
    "wish(\"ram\")"
   ]
  },
  {
   "cell_type": "code",
   "execution_count": 22,
   "id": "03437e68",
   "metadata": {},
   "outputs": [
    {
     "name": "stdout",
     "output_type": "stream",
     "text": [
      "good morning\n",
      "hello would\n",
      "thanku for using this function\n",
      "good morning\n",
      "3\n",
      "thanku for using this function\n"
     ]
    }
   ],
   "source": [
    "def greet(fx):\n",
    "    def mfx(*args, **kwargs):  # any argumrnt by use *args, **kwargs\n",
    "        print(\"good morning\")\n",
    "        fx(*args, **kwargs)\n",
    "        print(\"thanku for using this function\")\n",
    "    return mfx\n",
    "\n",
    "@greet\n",
    "def hello():\n",
    "    print(\"hello would\")\n",
    "\n",
    "@greet\n",
    "def add(a,b):\n",
    "    print(a+b)\n",
    "\n",
    "hello()\n",
    "add(1,2)"
   ]
  },
  {
   "cell_type": "markdown",
   "id": "d9034cf5",
   "metadata": {},
   "source": [
    "# generators = generator is a function which is responsible to generate a sequnce of value.\n",
    "\n",
    "# we can write generator function just like ordinary function, but it uses yield keyword to return values."
   ]
  },
  {
   "cell_type": "code",
   "execution_count": null,
   "id": "aeaf097b",
   "metadata": {},
   "outputs": [
    {
     "name": "stdout",
     "output_type": "stream",
     "text": [
      "0\n",
      "1\n",
      "2\n",
      "3\n",
      "4\n",
      "5\n",
      "6\n",
      "7\n"
     ]
    }
   ],
   "source": [
    "def my_genrator():\n",
    "    for i in range (10):\n",
    "        yield i    # yield i at time one one iterator\n",
    "gen = my_genrator()\n",
    "print(next(gen))\n",
    "print(next(gen))\n",
    "print(next(gen))\n",
    "print(next(gen))\n",
    "print(next(gen))\n",
    "print(next(gen))\n",
    "print(next(gen))\n",
    "print(next(gen))"
   ]
  },
  {
   "cell_type": "code",
   "execution_count": 21,
   "id": "ca85022f",
   "metadata": {},
   "outputs": [
    {
     "name": "stdout",
     "output_type": "stream",
     "text": [
      "8\n",
      "9\n"
     ]
    }
   ],
   "source": [
    "for j in gen:\n",
    "    print(j)"
   ]
  },
  {
   "cell_type": "markdown",
   "id": "eaf077a3",
   "metadata": {},
   "source": [
    "# try exception"
   ]
  },
  {
   "cell_type": "code",
   "execution_count": 23,
   "id": "d27cc908",
   "metadata": {},
   "outputs": [
    {
     "name": "stdout",
     "output_type": "stream",
     "text": [
      "Cannot divide by zero\n"
     ]
    }
   ],
   "source": [
    "try:\n",
    "    x = 10 / 0\n",
    "except ZeroDivisionError:\n",
    "    print(\"Cannot divide by zero\")\n"
   ]
  },
  {
   "cell_type": "code",
   "execution_count": 24,
   "id": "b4124156",
   "metadata": {},
   "outputs": [
    {
     "name": "stdout",
     "output_type": "stream",
     "text": [
      "ValueError: Invalid conversion\n"
     ]
    }
   ],
   "source": [
    "try:\n",
    "    a = int(\"hello\")\n",
    "    b = 10 / 0\n",
    "except ValueError:\n",
    "    print(\"ValueError: Invalid conversion\")\n",
    "except ZeroDivisionError:\n",
    "    print(\"ZeroDivisionError: Division by zero\")\n"
   ]
  },
  {
   "cell_type": "code",
   "execution_count": 25,
   "id": "ca8acd5f",
   "metadata": {},
   "outputs": [
    {
     "name": "stdout",
     "output_type": "stream",
     "text": [
      "An error occurred: name 'undefined_variable' is not defined\n"
     ]
    }
   ],
   "source": [
    "try:\n",
    "    print(undefined_variable)\n",
    "except Exception as e:\n",
    "    print(\"An error occurred:\", e)\n"
   ]
  },
  {
   "cell_type": "code",
   "execution_count": 26,
   "id": "93277908",
   "metadata": {},
   "outputs": [
    {
     "name": "stdout",
     "output_type": "stream",
     "text": [
      "No errors, result is: 5.0\n",
      "This will always execute\n"
     ]
    }
   ],
   "source": [
    "try:\n",
    "    result = 10 / 2\n",
    "except ZeroDivisionError:\n",
    "    print(\"Division by zero\")\n",
    "else:\n",
    "    print(\"No errors, result is:\", result)\n",
    "finally:\n",
    "    print(\"This will always execute\")\n"
   ]
  },
  {
   "cell_type": "code",
   "execution_count": 27,
   "id": "e0fadc8f",
   "metadata": {},
   "outputs": [],
   "source": [
    "while True:\n",
    "    try:\n",
    "        num = int(input(\"Enter an integer: \"))\n",
    "        break\n",
    "    except ValueError:\n",
    "        print(\"That's not an integer. Try again.\")\n"
   ]
  },
  {
   "cell_type": "code",
   "execution_count": 28,
   "id": "299e317d",
   "metadata": {},
   "outputs": [],
   "source": [
    "try:\n",
    "    age = int(input(\"Enter your age: \"))\n",
    "    if age < 0:\n",
    "        raise ValueError(\"Age cannot be negative\")\n",
    "except ValueError as e:\n",
    "    print(\"Error:\", e)\n"
   ]
  },
  {
   "cell_type": "code",
   "execution_count": 29,
   "id": "99ae9688",
   "metadata": {},
   "outputs": [
    {
     "name": "stdout",
     "output_type": "stream",
     "text": [
      "Caught custom error: Something went wrong!\n"
     ]
    }
   ],
   "source": [
    "class CustomError(Exception):\n",
    "    pass\n",
    "\n",
    "try:\n",
    "    raise CustomError(\"Something went wrong!\")\n",
    "except CustomError as ce:\n",
    "    print(\"Caught custom error:\", ce)\n"
   ]
  },
  {
   "cell_type": "code",
   "execution_count": 30,
   "id": "aa2f0b43",
   "metadata": {},
   "outputs": [
    {
     "name": "stdout",
     "output_type": "stream",
     "text": [
      "Handled in inner block\n",
      "Handled in outer block\n"
     ]
    }
   ],
   "source": [
    "try:\n",
    "    try:\n",
    "        result = 10 / 0\n",
    "    except ZeroDivisionError:\n",
    "        print(\"Handled in inner block\")\n",
    "        raise  # Re-raises the exception to outer block\n",
    "except ZeroDivisionError:\n",
    "    print(\"Handled in outer block\")\n"
   ]
  },
  {
   "cell_type": "code",
   "execution_count": 31,
   "id": "16be805a",
   "metadata": {},
   "outputs": [
    {
     "name": "stdout",
     "output_type": "stream",
     "text": [
      "Acquiring resource\n",
      "Using resource\n",
      "Releasing resource\n",
      "Caught ZeroDivisionError inside context\n"
     ]
    }
   ],
   "source": [
    "from contextlib import contextmanager\n",
    "\n",
    "@contextmanager\n",
    "def managed_resource():\n",
    "    try:\n",
    "        print(\"Acquiring resource\")\n",
    "        yield\n",
    "    finally:\n",
    "        print(\"Releasing resource\")\n",
    "\n",
    "try:\n",
    "    with managed_resource():\n",
    "        print(\"Using resource\")\n",
    "        1 / 0\n",
    "except ZeroDivisionError:\n",
    "    print(\"Caught ZeroDivisionError inside context\")\n"
   ]
  },
  {
   "cell_type": "markdown",
   "id": "cc6c8923",
   "metadata": {
    "id": "cc6c8923"
   },
   "source": [
    "# OOPs : object oriented programming"
   ]
  },
  {
   "cell_type": "code",
   "execution_count": null,
   "id": "53f2db1b",
   "metadata": {
    "id": "53f2db1b"
   },
   "outputs": [],
   "source": [
    "# inheritance\n",
    "# oops in create personal dtabase\n",
    "# oops -  object orient program\n",
    "# class\n",
    "# object\n",
    "# polymorphism\n",
    "# encapsulation\n",
    "# abstraction"
   ]
  },
  {
   "cell_type": "markdown",
   "id": "7a0c63e5",
   "metadata": {},
   "source": [
    "# class = \n",
    "⚽ In Python every thing is an object. To create objects we required some Model or Plan or Blue \n",
    "print, which is nothing but class.\n",
    "⚽ We can write a class to represent properties (attributes) and actions (behaviour) of object.\n",
    "⚽ Properties can be represented by variables\n",
    "⚽ Actions can be represented by Methods.\n",
    "⚽ Hence class contains both variables and methods.\n"
   ]
  },
  {
   "cell_type": "markdown",
   "id": "efc5a9f9",
   "metadata": {},
   "source": []
  },
  {
   "cell_type": "markdown",
   "id": "ea2f09c9",
   "metadata": {},
   "source": [
    "# Basic Class and Object\n",
    " problrem create car class with attributes (variables) like brand and model.then create an instance (fill up fom) of this class"
   ]
  },
  {
   "cell_type": "markdown",
   "id": "0cd5cec2",
   "metadata": {},
   "source": [
    "# inheritance "
   ]
  },
  {
   "cell_type": "code",
   "execution_count": null,
   "id": "a7960037",
   "metadata": {},
   "outputs": [
    {
     "name": "stdout",
     "output_type": "stream",
     "text": [
      "Toyota\n",
      "Corolla\n",
      "Toyota Corolla\n",
      "safari\n",
      "moedl s\n",
      "tesla moedl s\n"
     ]
    }
   ],
   "source": [
    "class Car:\n",
    "    def __init__(self, brand, model):\n",
    "        self.brand = brand\n",
    "        self.model = model\n",
    "    \n",
    "    def full_name(self):  # class method and self (create finallity)\n",
    "        return f\"{self.brand} {self.model}\"\n",
    "\n",
    "#inhererance\n",
    "class ElectriCar(Car):\n",
    "    def __init__(self, brand,model,battery_size): \n",
    "        super().__init__(brand, model)  # super(uper class access in current class)\n",
    "        self.battery_size = battery_size     \n",
    "\n",
    "my_car = Car(\"Toyota\", \"Corolla\")  # object\n",
    "print(my_car.brand)\n",
    "print(my_car.model)\n",
    "print(my_car.full_name())\n",
    "\n",
    "my_new_car = Car(\"tata\", \"safari\")\n",
    "print(my_new_car. model)\n",
    "\n",
    "tesla_car = ElectriCar(\"tesla\", \"moedl s\", \"5443kwh\")\n",
    "print(tesla_car.model)\n",
    "print(tesla_car.full_name())"
   ]
  },
  {
   "cell_type": "markdown",
   "id": "2437d147",
   "metadata": {},
   "source": [
    "# Encapsulation"
   ]
  },
  {
   "cell_type": "markdown",
   "id": "d25f43d5",
   "metadata": {},
   "source": [
    "# # problem the car classes to encapsulation the beand attribute. making it private and provide a getter mettod for it"
   ]
  },
  {
   "cell_type": "code",
   "execution_count": null,
   "id": "108d4c92",
   "metadata": {},
   "outputs": [
    {
     "name": "stdout",
     "output_type": "stream",
     "text": [
      "Corolla\n",
      "Toyota Corolla\n",
      "safari\n",
      "moedl s\n",
      "tesla moedl s\n",
      "tata!\n",
      "tesla!\n"
     ]
    }
   ],
   "source": [
    "class Car:\n",
    "    def __init__(self, brand, model):\n",
    "        self.__brand = brand\n",
    "        self.model = model\n",
    "\n",
    "# encapsulation\n",
    "    def get_brand(self):  # get = getter method # setter\n",
    "        return self.__brand +\"!\" # --brand = means private attribute\n",
    "     \n",
    "    def full_name(self):  # class method and self (create finallity)\n",
    "        return f\"{self.__brand} {self.model}\"\n",
    "\n",
    "#inhererance\n",
    "class ElectriCar(Car):\n",
    "    def __init__(self, brand,model,battery_size): \n",
    "        super().__init__(brand, model)  # super(uper class access in current class)\n",
    "        self.battery_size = battery_size     \n",
    "\n",
    "my_car = Car(\"Toyota\", \"Corolla\")\n",
    "#print(my_car.brand)\n",
    "print(my_car.model)\n",
    "print(my_car.full_name())\n",
    "\n",
    "my_new_car = Car(\"tata\", \"safari\")\n",
    "print(my_new_car. model)\n",
    "\n",
    "tesla_car = ElectriCar(\"tesla\", \"moedls\", \"5443kwh\")\n",
    "print(tesla_car.model)\n",
    "print(tesla_car.full_name())\n",
    "\n",
    "\n",
    "print(my_new_car.get_brand())\n",
    "print(tesla_car.get_brand())"
   ]
  },
  {
   "cell_type": "code",
   "execution_count": null,
   "id": "a03b621d",
   "metadata": {
    "id": "a03b621d"
   },
   "outputs": [],
   "source": [
    "# function vs method\n",
    "# function = it out side , each data type use, ie  df.append(\"man\")\n",
    "# method -  basically specic function inside clall method\n",
    "# len(list), len means function\n",
    "# AA = len(list),  AA = Object\n",
    "# print() \n"
   ]
  },
  {
   "cell_type": "markdown",
   "id": "bda04bff",
   "metadata": {},
   "source": [
    "# Polymorphism = same class but in different behaviour\n",
    "problem- demonstate polymiphism by defining method fuel_type in both car and electricalcar zlasses, but with different behaviour"
   ]
  },
  {
   "cell_type": "code",
   "execution_count": 18,
   "id": "7748cc8c",
   "metadata": {},
   "outputs": [
    {
     "name": "stdout",
     "output_type": "stream",
     "text": [
      "Corolla\n",
      "Toyota Corolla\n",
      "safari\n",
      "moedl s\n",
      "tesla moedl s\n",
      "tesla!\n",
      "Electric Charge\n",
      "tata!\n",
      "Petrol or Disel\n"
     ]
    }
   ],
   "source": [
    "class Car:\n",
    "    def __init__(self, brand, model):\n",
    "        self.__brand = brand\n",
    "        self.model = model\n",
    "\n",
    "# encapsulation\n",
    "    def get_brand(self):  # get = getter method # setter\n",
    "        return self.__brand +\"!\" # --brand = means private attribute\n",
    "     \n",
    "    def full_name(self):  # class method and self (create finallity)\n",
    "        return f\"{self.__brand} {self.model}\"\n",
    "    \n",
    "# polymiphism\n",
    "    def fuel_type(self):\n",
    "        return \"Petrol or Disel\" \n",
    "\n",
    "#inhererance\n",
    "class ElectriCar(Car):\n",
    "    def __init__(self, brand,model,battery_size): \n",
    "        super().__init__(brand, model)  # super(uper class access in current class)\n",
    "        self.battery_size = battery_size   \n",
    "    \n",
    "# polymiphism\n",
    "    def fuel_type(self):\n",
    "        return \"Electric Charge\"  \n",
    "\n",
    "my_car = Car(\"Toyota\", \"Corolla\")\n",
    "#print(my_car.brand)\n",
    "print(my_car.model)\n",
    "print(my_car.full_name())\n",
    "\n",
    "my_new_car = Car(\"tata\", \"safari\")\n",
    "print(my_new_car. model)\n",
    "\n",
    "tesla_car = ElectriCar(\"tesla\", \"moedl s\", \"5443kwh\")\n",
    "print(tesla_car.model)\n",
    "print(tesla_car.full_name())\n",
    "print(tesla_car.get_brand())\n",
    "print(tesla_car.fuel_type())\n",
    "\n",
    "\n",
    "\n",
    "print(my_new_car.get_brand())\n",
    "print(my_new_car.fuel_type())\n"
   ]
  },
  {
   "cell_type": "markdown",
   "id": "65e2ab5f",
   "metadata": {},
   "source": [
    "# class variable\n",
    " proble - add a varible to car that keeps track of the number of cars created"
   ]
  },
  {
   "cell_type": "code",
   "execution_count": 19,
   "id": "928838b6",
   "metadata": {},
   "outputs": [
    {
     "name": "stdout",
     "output_type": "stream",
     "text": [
      "Corolla\n",
      "Toyota Corolla\n",
      "safari\n",
      "moedl s\n",
      "tesla moedl s\n",
      "tesla!\n",
      "Electric Charge\n",
      "tata!\n",
      "Petrol or Disel\n",
      "3\n"
     ]
    }
   ],
   "source": [
    "class Car:\n",
    "    total_car = 0\n",
    "    def __init__(self, brand, model):\n",
    "        self.__brand = brand\n",
    "        self.model = model\n",
    "        Car.total_car += 1\n",
    "\n",
    "# encapsulation\n",
    "    def get_brand(self):  # get = getter method # setter\n",
    "        return self.__brand +\"!\" # --brand = means private attribute\n",
    "     \n",
    "    def full_name(self):  # class method and self (create finallity)\n",
    "        return f\"{self.__brand} {self.model}\"\n",
    "    \n",
    "# polymiphism\n",
    "    def fuel_type(self):\n",
    "        return \"Petrol or Disel\" \n",
    "\n",
    "#inhererance\n",
    "class ElectriCar(Car):\n",
    "    def __init__(self, brand,model,battery_size): \n",
    "        super().__init__(brand, model)  # super(uper class access in current class)\n",
    "        self.battery_size = battery_size   \n",
    "    \n",
    "# polymiphism\n",
    "    def fuel_type(self):\n",
    "        return \"Electric Charge\"  \n",
    "\n",
    "my_car = Car(\"Toyota\", \"Corolla\")\n",
    "#print(my_car.brand)\n",
    "print(my_car.model)\n",
    "print(my_car.full_name())\n",
    "\n",
    "my_new_car = Car(\"tata\", \"safari\")\n",
    "print(my_new_car. model)\n",
    "\n",
    "tesla_car = ElectriCar(\"tesla\", \"moedl s\", \"5443kwh\")\n",
    "print(tesla_car.model)\n",
    "print(tesla_car.full_name())\n",
    "print(tesla_car.get_brand())\n",
    "print(tesla_car.fuel_type())\n",
    "\n",
    "\n",
    "\n",
    "print(my_new_car.get_brand())\n",
    "print(my_new_car.fuel_type())\n",
    "\n",
    "print(Car.total_car)\n"
   ]
  },
  {
   "cell_type": "markdown",
   "id": "5918b6c6",
   "metadata": {},
   "source": [
    "# static method =\n",
    "problem = Add a ststic method to the car class that return a general description of a car"
   ]
  },
  {
   "cell_type": "code",
   "execution_count": null,
   "id": "c48288c0",
   "metadata": {},
   "outputs": [
    {
     "name": "stdout",
     "output_type": "stream",
     "text": [
      "Corolla\n",
      "Toyota Corolla\n",
      "safari\n",
      "moedl s\n",
      "tesla moedl s\n",
      "tesla!\n",
      "Electric Charge\n",
      "tata!\n",
      "Petrol or Disel\n",
      "car are means of transport\n"
     ]
    }
   ],
   "source": [
    "class Car:\n",
    "    def __init__(self, brand, model):\n",
    "        self.__brand = brand\n",
    "        self.model = model\n",
    "\n",
    "# encapsulation\n",
    "    def get_brand(self):  # get = getter method # setter\n",
    "        return self.__brand +\"!\" # --brand = means private attribute\n",
    "     \n",
    "    def full_name(self):  # class method and self (create finallity)\n",
    "        return f\"{self.__brand} {self.model}\"\n",
    "    \n",
    "# polymiphism\n",
    "    def fuel_type(self):\n",
    "        return \"Petrol or Disel\" \n",
    "\n",
    " # static method not access object, so direct class throgh static fuction run \n",
    "    @staticmethod\n",
    "    def general_description():  # decorator use that not use self\n",
    "        return\"car are means of transport\"\n",
    "\n",
    "#inhererance\n",
    "class ElectriCar(Car):\n",
    "    def __init__(self, brand,model,battery_size): \n",
    "        super().__init__(brand, model)  # super(uper class access in current class)\n",
    "        self.battery_size = battery_size   \n",
    "    \n",
    "# polymiphism\n",
    "    def fuel_type(self):\n",
    "        return \"Electric Charge\"  \n",
    "\n",
    "my_car = Car(\"Toyota\", \"Corolla\")\n",
    "#print(my_car.brand)\n",
    "print(my_car.model)\n",
    "print(my_car.full_name())\n",
    "\n",
    "my_new_car = Car(\"tata\", \"safari\")\n",
    "print(my_new_car. model)\n",
    "\n",
    "tesla_car = ElectriCar(\"tesla\", \"moedl s\", \"5443kwh\")\n",
    "print(tesla_car.model)\n",
    "print(tesla_car.full_name())\n",
    "print(tesla_car.get_brand())\n",
    "print(tesla_car.fuel_type())\n",
    "\n",
    "\n",
    "\n",
    "print(my_new_car.get_brand())\n",
    "print(my_new_car.fuel_type())\n",
    "\n",
    "print(Car.general_description())\n"
   ]
  },
  {
   "cell_type": "markdown",
   "id": "da325841",
   "metadata": {},
   "source": [
    "# Property Decorator \n",
    "problem = use a property decorator in the car class make attribute read only"
   ]
  },
  {
   "cell_type": "code",
   "execution_count": 2,
   "id": "29821fbf",
   "metadata": {},
   "outputs": [
    {
     "name": "stdout",
     "output_type": "stream",
     "text": [
      "city\n",
      "Toyota Corolla\n",
      "<bound method Car.model of <__main__.Car object at 0x000002947A5D8750>>\n",
      "<bound method Car.model of <__main__.ElectriCar object at 0x000002947A5D8CD0>>\n",
      "tesla moedl s\n",
      "tesla!\n",
      "Electric Charge\n",
      "tata!\n",
      "Petrol or Disel\n",
      "city\n"
     ]
    }
   ],
   "source": [
    "# do not access object but obejct throgh user only read = use method argument convert private\n",
    "class Car:\n",
    "    def __init__(self, brand, model):\n",
    "        self.__brand = brand\n",
    "        self.__model = model\n",
    "\n",
    "# encapsulation\n",
    "    def get_brand(self):  # get = getter method # setter\n",
    "        return self.__brand +\"!\" # --brand = means private attribute\n",
    "     \n",
    "    def full_name(self):  # class method and self (create finallity)\n",
    "        return f\"{self.__brand} {self.__model}\"\n",
    "    \n",
    "# polymiphism  # at time class in work different bihavihour\n",
    "    def fuel_type(self):\n",
    "        return \"Petrol or Disel\" \n",
    "    \n",
    "    @staticmethod\n",
    "    def general_description():  # decorator use that not use self\n",
    "        return\"car are means of transport\"\n",
    "    \n",
    "    @property    # not access argumrnt but read only not change\n",
    "    def model(self):\n",
    "        return self.__model\n",
    "    \n",
    "    # create method by not access object but object through only read\n",
    "    def model(self): \n",
    "        return self.__model\n",
    "\n",
    "#inhererance\n",
    "class ElectriCar(Car):\n",
    "    def __init__(self, brand,model,battery_size): \n",
    "        super().__init__(brand, model)  # super(uper class access in current class)\n",
    "        self.battery_size = battery_size   \n",
    "    \n",
    "# polymiphism\n",
    "    def fuel_type(self):\n",
    "        return \"Electric Charge\"  \n",
    "\n",
    "my_car = Car(\"Toyota\", \"Corolla\")\n",
    "my_car.model = \"city\"  # Property Decorator \n",
    "Car (\"Tata\", \"Nexon\")\n",
    "#print(my_car.brand)\n",
    "print(my_car.model)\n",
    "print(my_car.full_name())\n",
    "\n",
    "my_new_car = Car(\"tata\", \"safari\")\n",
    "print(my_new_car. model)\n",
    "\n",
    "tesla_car = ElectriCar(\"tesla\", \"moedl s\", \"5443kwh\")\n",
    "print(tesla_car.model)\n",
    "print(tesla_car.full_name())\n",
    "print(tesla_car.get_brand())\n",
    "print(tesla_car.fuel_type())\n",
    "\n",
    "\n",
    "\n",
    "print(my_new_car.get_brand())\n",
    "print(my_new_car.fuel_type())\n",
    "\n",
    "print(my_car.model) #\n"
   ]
  },
  {
   "cell_type": "markdown",
   "id": "32a21fcf",
   "metadata": {},
   "source": [
    "# class inheritance and isinstance function\n",
    "\n",
    "problem- demonsate the use of isinstance () to check if my tesla is an instance of car and electrical car"
   ]
  },
  {
   "cell_type": "code",
   "execution_count": 1,
   "id": "1cde87af",
   "metadata": {},
   "outputs": [
    {
     "name": "stdout",
     "output_type": "stream",
     "text": [
      "city\n",
      "Toyota Corolla\n",
      "<bound method Car.model of <__main__.Car object at 0x0000017CC8020310>>\n",
      "<bound method Car.model of <__main__.ElectriCar object at 0x0000017CC8023590>>\n",
      "tesla moedl s\n",
      "tesla!\n",
      "Electric Charge\n",
      "tata!\n",
      "Petrol or Disel\n",
      "True\n",
      "True\n"
     ]
    }
   ],
   "source": [
    "\n",
    "# do not access object but obejct throgh user only read = use method argument convert private\n",
    "class Car:\n",
    "    def __init__(self, brand, model):\n",
    "        self.__brand = brand\n",
    "        self.__model = model\n",
    "\n",
    "# encapsulation\n",
    "    def get_brand(self):  # get = getter method # setter\n",
    "        return self.__brand +\"!\" # __brand = means private attribute\n",
    "     \n",
    "    def full_name(self):  # class method and self (create finallity)\n",
    "        return f\"{self.__brand} {self.__model}\"\n",
    "    \n",
    "# polymiphism  # at time class in work different bihavihour\n",
    "    def fuel_type(self):\n",
    "        return \"Petrol or Disel\" \n",
    "    \n",
    "    @staticmethod\n",
    "    def general_description():  # decorator use that not use self\n",
    "        return\"car are means of transport\"\n",
    "    \n",
    "    @property    # not access argumrnt but read only not change\n",
    "    def model(self):\n",
    "        return self.__model\n",
    "    \n",
    "    # create method by not access object but object through only read\n",
    "    def model(self): \n",
    "        return self.__model\n",
    "\n",
    "#inhererance\n",
    "class ElectriCar(Car):\n",
    "    def __init__(self, brand,model,battery_size): \n",
    "        super().__init__(brand, model)  # super(uper class access in current class)\n",
    "        self.battery_size = battery_size   \n",
    "    \n",
    "# polymiphism\n",
    "    def fuel_type(self):\n",
    "        return \"Electric Charge\"  \n",
    "\n",
    "my_car = Car(\"Toyota\", \"Corolla\")\n",
    "my_car.model = \"city\"  # Property Decorator \n",
    "Car (\"Tata\", \"Nexon\")\n",
    "#print(my_car.brand)\n",
    "print(my_car.model)\n",
    "print(my_car.full_name())\n",
    "\n",
    "my_new_car = Car(\"tata\", \"safari\")\n",
    "print(my_new_car. model)\n",
    "\n",
    "tesla_car = ElectriCar(\"tesla\", \"moedl s\", \"5443kwh\")\n",
    "print(tesla_car.model)\n",
    "print(tesla_car.full_name())\n",
    "print(tesla_car.get_brand())\n",
    "print(tesla_car.fuel_type())\n",
    "\n",
    "\n",
    "\n",
    "print(my_new_car.get_brand())\n",
    "print(my_new_car.fuel_type())\n",
    "\n",
    "### class uper in current class in use\n",
    "print(isinstance(tesla_car,Car))\n",
    "print(isinstance(tesla_car,ElectriCar))\n"
   ]
  },
  {
   "cell_type": "code",
   "execution_count": null,
   "id": "56552223",
   "metadata": {},
   "outputs": [
    {
     "name": "stdout",
     "output_type": "stream",
     "text": [
      "this is engine\n",
      "this is battery\n"
     ]
    }
   ],
   "source": [
    "\n",
    "# do not access object but obejct throgh user only read = use method argument convert private\n",
    "class Car:\n",
    "    def __init__(self, brand, model):\n",
    "        self.__brand = brand\n",
    "        self.__model = model\n",
    "\n",
    "# encapsulation\n",
    "    def get_brand(self):  # get = getter method # setter\n",
    "        return self.__brand +\"!\" # --brand = means private attribute\n",
    "     \n",
    "    def full_name(self):  # class method and self (create finallity)\n",
    "        return f\"{self.__brand} {self.__model}\"\n",
    "    \n",
    "# polymiphism  # at time class in work different bihavihour\n",
    "    def fuel_type(self):\n",
    "        return \"Petrol or Disel\" \n",
    "    \n",
    "    @staticmethod\n",
    "    def general_description():  # decorator use that not use self\n",
    "        return\"car are means of transport\"\n",
    "    \n",
    "    @property    # not access argumrnt but read only not change\n",
    "    def model(self):\n",
    "        return self.__model\n",
    "    \n",
    "    # create method by not access object but object through only read\n",
    "    def model(self): \n",
    "        return self.__model\n",
    "\n",
    "#inhererance\n",
    "class ElectriCar(Car):\n",
    "    def __init__(self, brand,model,battery_size): \n",
    "        super().__init__(brand, model)  # super(uper class access in current class)\n",
    "        self.battery_size = battery_size   \n",
    "    \n",
    "# polymiphism\n",
    "    def fuel_type(self):\n",
    "        return \"Electric Charge\"  \n",
    "# multiple injirentance\n",
    "class Battery:\n",
    "    def battery_info(self):\n",
    "       return \"this is battery\"\n",
    "\n",
    "class Engine:\n",
    "    def engine_info(self):\n",
    "       return \"this is engine\"\n",
    "\n",
    "class ElwctriCarTwo(Battery, Engine, Car):\n",
    "    pass\n",
    "my_new_tesa = ElwctriCarTwo (\"tesla\", \"models\")\n",
    "\n",
    "print(my_new_tesa.engine_info())\n",
    "print(my_new_tesa.battery_info())"
   ]
  },
  {
   "cell_type": "code",
   "execution_count": null,
   "id": "f21f5f48",
   "metadata": {
    "id": "f21f5f48"
   },
   "outputs": [],
   "source": [
    "# class\n",
    "# data type means class , varible in class means object\n",
    "# class 1] data or property   2] function or behavior\n",
    "# class name is shuld be in pascal case\n",
    "# ie joind words ThiIsPascalCase - each first chara capital\n",
    "# ie joind words thisisPascalCase - frist char small other  first big letter\n",
    "# def name is small letter"
   ]
  },
  {
   "cell_type": "code",
   "execution_count": null,
   "id": "ffaa0b15",
   "metadata": {
    "id": "ffaa0b15",
    "outputId": "9d7fdd10-381c-4e4d-9245-8330d74289e0"
   },
   "outputs": [
    {
     "ename": "SyntaxError",
     "evalue": "incomplete input (66201536.py, line 6)",
     "output_type": "error",
     "traceback": [
      "\u001b[1;36m  Cell \u001b[1;32mIn[84], line 6\u001b[1;36m\u001b[0m\n\u001b[1;33m    # some code\u001b[0m\n\u001b[1;37m               ^\u001b[0m\n\u001b[1;31mSyntaxError\u001b[0m\u001b[1;31m:\u001b[0m incomplete input\n"
     ]
    }
   ],
   "source": [
    "# genral basic structure\n",
    "class Car:\n",
    "    color = \"blue\" # data\n",
    "    model = \"sport\" # data\n",
    "    def calculate_avg_speed(km,time):\n",
    "        # some code"
   ]
  },
  {
   "cell_type": "code",
   "execution_count": null,
   "id": "b75c6f2e",
   "metadata": {
    "id": "b75c6f2e"
   },
   "outputs": [],
   "source": [
    "# object\n",
    "# object is an instance of the class\n",
    "# 1] Car............>wagorR // wagnor= Car()\n",
    "                               # object = wagnor,   class =Car()"
   ]
  },
  {
   "cell_type": "code",
   "execution_count": null,
   "id": "9b7203aa",
   "metadata": {
    "id": "9b7203aa",
    "outputId": "5a612457-b825-4a74-8d48-0b487ae162c1"
   },
   "outputs": [
    {
     "name": "stdout",
     "output_type": "stream",
     "text": [
      " \n",
      "           hello how would you like to proceed?\n",
      "           1. enter 1 to create pin\n",
      "           2. enter 2 to deposit\n",
      "           3. enter 3 to withdraw\n",
      "           4. enter 4 to check balance\n",
      "           5. enter 5 to exit 4\n",
      "check balance\n",
      "<__main__.Atm object at 0x0000022610078990>\n"
     ]
    }
   ],
   "source": [
    "class Atm:\n",
    "        def __init__(self):  # __init__ = constructor is specal method its internal code automatic exicute\n",
    "            self.balance = 0  # programe run time create varible\n",
    "            self.menu()\n",
    "        def menu(self):\n",
    "            user_input = input(\"\"\"\n",
    "            hello how would you like to proceed?\n",
    "            1. enter 1 to create pin\n",
    "            2. enter 2 to deposit\n",
    "            3. enter 3 to withdraw\n",
    "            4. enter 4 to check balance\n",
    "            5. enter 5 to exit \"\"\")\n",
    "            if user_input ==\"1\":\n",
    "                self.create pin()\n",
    "            elif user_input ==\"2\":\n",
    "                print(\"deposit\")\n",
    "            elif user_input ==\"3\":\n",
    "                print(\"withdraw\")\n",
    "            elif user_input ==\"4\":\n",
    "                print(\"check balance\")\n",
    "            elif user_input ==\"5\":\n",
    "                print(\"exit\")\n",
    "            else:\n",
    "                print(\"plz enter the key\")\n",
    "                \n",
    "            def create\n",
    "print(Atm())"
   ]
  },
  {
   "cell_type": "code",
   "execution_count": null,
   "id": "87e4b916",
   "metadata": {
    "id": "87e4b916"
   },
   "outputs": [],
   "source": []
  },
  {
   "cell_type": "code",
   "execution_count": 2,
   "id": "a92d5a84",
   "metadata": {
    "id": "a92d5a84"
   },
   "outputs": [],
   "source": [
    "# \n",
    "import pandas as pd\n"
   ]
  },
  {
   "cell_type": "code",
   "execution_count": 3,
   "id": "8edc4c79",
   "metadata": {},
   "outputs": [
    {
     "name": "stdout",
     "output_type": "stream",
     "text": [
      "a    10\n",
      "b    20\n",
      "c    30\n",
      "d    40\n",
      "dtype: int64\n"
     ]
    }
   ],
   "source": [
    "# (a) Series (1D data)\n",
    "import pandas as pd\n",
    "\n",
    "s = pd.Series([10, 20, 30, 40], index=[\"a\", \"b\", \"c\", \"d\"])\n",
    "print(s)\n"
   ]
  },
  {
   "cell_type": "code",
   "execution_count": 4,
   "id": "77cd51af",
   "metadata": {},
   "outputs": [
    {
     "name": "stdout",
     "output_type": "stream",
     "text": [
      "    Name  Age    City\n",
      "0  Sagar   25    Pune\n",
      "1   Amit   28  Mumbai\n",
      "2   Riya   22   Delhi\n"
     ]
    }
   ],
   "source": [
    "# (b) DataFrame (2D table)\n",
    "data = {\n",
    "    \"Name\": [\"Sagar\", \"Amit\", \"Riya\"],\n",
    "    \"Age\": [25, 28, 22],\n",
    "    \"City\": [\"Pune\", \"Mumbai\", \"Delhi\"]\n",
    "}\n",
    "df = pd.DataFrame(data)\n",
    "print(df)\n"
   ]
  },
  {
   "cell_type": "code",
   "execution_count": 1,
   "id": "34946930",
   "metadata": {},
   "outputs": [
    {
     "ename": "NameError",
     "evalue": "name 'df' is not defined",
     "output_type": "error",
     "traceback": [
      "\u001b[31m---------------------------------------------------------------------------\u001b[39m",
      "\u001b[31mNameError\u001b[39m                                 Traceback (most recent call last)",
      "\u001b[36mCell\u001b[39m\u001b[36m \u001b[39m\u001b[32mIn[1]\u001b[39m\u001b[32m, line 2\u001b[39m\n\u001b[32m      1\u001b[39m \u001b[38;5;66;03m# basic oprection\u001b[39;00m\n\u001b[32m----> \u001b[39m\u001b[32m2\u001b[39m \u001b[38;5;28mprint\u001b[39m(\u001b[43mdf\u001b[49m.head())   \u001b[38;5;66;03m# first 5 rows\u001b[39;00m\n\u001b[32m      3\u001b[39m \u001b[38;5;28mprint\u001b[39m(df.tail())   \u001b[38;5;66;03m# last 5 rows\u001b[39;00m\n\u001b[32m      4\u001b[39m \u001b[38;5;28mprint\u001b[39m(df.shape)    \u001b[38;5;66;03m# (rows, cols)\u001b[39;00m\n",
      "\u001b[31mNameError\u001b[39m: name 'df' is not defined"
     ]
    }
   ],
   "source": [
    "# basic oprection\n",
    "print(df.head())   # first 5 rows\n",
    "print(df.tail())   # last 5 rows\n",
    "print(df.shape)    # (rows, cols)\n",
    "print(df.info())   # datatypes, null values\n",
    "print(df.describe())  # statistics\n"
   ]
  },
  {
   "cell_type": "code",
   "execution_count": 2,
   "id": "639edd5b",
   "metadata": {},
   "outputs": [
    {
     "ename": "NameError",
     "evalue": "name 'df' is not defined",
     "output_type": "error",
     "traceback": [
      "\u001b[31m---------------------------------------------------------------------------\u001b[39m",
      "\u001b[31mNameError\u001b[39m                                 Traceback (most recent call last)",
      "\u001b[36mCell\u001b[39m\u001b[36m \u001b[39m\u001b[32mIn[2]\u001b[39m\u001b[32m, line 2\u001b[39m\n\u001b[32m      1\u001b[39m \u001b[38;5;66;03m# 4. Indexing & Selection\u001b[39;00m\n\u001b[32m----> \u001b[39m\u001b[32m2\u001b[39m \u001b[38;5;28mprint\u001b[39m(\u001b[43mdf\u001b[49m[\u001b[33m\"\u001b[39m\u001b[33mName\u001b[39m\u001b[33m\"\u001b[39m])        \u001b[38;5;66;03m# column\u001b[39;00m\n\u001b[32m      3\u001b[39m \u001b[38;5;28mprint\u001b[39m(df[[\u001b[33m\"\u001b[39m\u001b[33mName\u001b[39m\u001b[33m\"\u001b[39m,\u001b[33m\"\u001b[39m\u001b[33mCity\u001b[39m\u001b[33m\"\u001b[39m]])  \u001b[38;5;66;03m# multiple columns\u001b[39;00m\n\u001b[32m      4\u001b[39m \u001b[38;5;28mprint\u001b[39m(df.iloc[\u001b[32m1\u001b[39m])        \u001b[38;5;66;03m# row by index\u001b[39;00m\n",
      "\u001b[31mNameError\u001b[39m: name 'df' is not defined"
     ]
    }
   ],
   "source": [
    "# 4. Indexing & Selection\n",
    "print(df[\"Name\"])        # column\n",
    "print(df[[\"Name\",\"City\"]])  # multiple columns\n",
    "print(df.iloc[1])        # row by index\n",
    "print(df.loc[1])         # row by label\n",
    "print(df.loc[0,\"City\"])  # Pune"
   ]
  },
  {
   "cell_type": "code",
   "execution_count": 3,
   "id": "0945e075",
   "metadata": {},
   "outputs": [
    {
     "ename": "NameError",
     "evalue": "name 'df' is not defined",
     "output_type": "error",
     "traceback": [
      "\u001b[31m---------------------------------------------------------------------------\u001b[39m",
      "\u001b[31mNameError\u001b[39m                                 Traceback (most recent call last)",
      "\u001b[36mCell\u001b[39m\u001b[36m \u001b[39m\u001b[32mIn[3]\u001b[39m\u001b[32m, line 2\u001b[39m\n\u001b[32m      1\u001b[39m \u001b[38;5;66;03m# Filtering Data\u001b[39;00m\n\u001b[32m----> \u001b[39m\u001b[32m2\u001b[39m \u001b[38;5;28mprint\u001b[39m(\u001b[43mdf\u001b[49m[df[\u001b[33m\"\u001b[39m\u001b[33mAge\u001b[39m\u001b[33m\"\u001b[39m] > \u001b[32m23\u001b[39m])          \u001b[38;5;66;03m# condition\u001b[39;00m\n\u001b[32m      3\u001b[39m \u001b[38;5;28mprint\u001b[39m(df[(df[\u001b[33m\"\u001b[39m\u001b[33mAge\u001b[39m\u001b[33m\"\u001b[39m] > \u001b[32m23\u001b[39m) & (df[\u001b[33m\"\u001b[39m\u001b[33mCity\u001b[39m\u001b[33m\"\u001b[39m]==\u001b[33m\"\u001b[39m\u001b[33mMumbai\u001b[39m\u001b[33m\"\u001b[39m)])\n",
      "\u001b[31mNameError\u001b[39m: name 'df' is not defined"
     ]
    }
   ],
   "source": [
    "# Filtering Data\n",
    "print(df[df[\"Age\"] > 23])          # condition\n",
    "print(df[(df[\"Age\"] > 23) & (df[\"City\"]==\"Mumbai\")])\n"
   ]
  },
  {
   "cell_type": "code",
   "execution_count": 12,
   "id": "2e30a261",
   "metadata": {},
   "outputs": [],
   "source": [
    "# Adding / Updating Columns\n",
    "df[\"Salary\"] = [50000, 60000, 55000]   # new column\n",
    "df[\"Age\"] = df[\"Age\"] + 1              # update column\n"
   ]
  },
  {
   "cell_type": "code",
   "execution_count": 14,
   "id": "21b1fd4b",
   "metadata": {},
   "outputs": [
    {
     "name": "stdout",
     "output_type": "stream",
     "text": [
      "       A      B\n",
      "0  False  False\n",
      "1  False   True\n",
      "2   True  False\n",
      "     A    B\n",
      "0  1.0  4.0\n",
      "     A    B\n",
      "0  1.0  4.0\n",
      "1  2.0  0.0\n",
      "2  0.0  6.0\n",
      "     A    B\n",
      "0  1.0  4.0\n",
      "1  2.0  5.0\n",
      "2  1.5  6.0\n"
     ]
    }
   ],
   "source": [
    "# andling Missing Data\n",
    "df = pd.DataFrame({\n",
    "    \"A\": [1, 2, None],\n",
    "    \"B\": [4, None, 6]\n",
    "})\n",
    "\n",
    "print(df.isnull())      # check null\n",
    "print(df.dropna())      # drop rows with null\n",
    "print(df.fillna(0))     # replace null with 0\n",
    "print(df.fillna(df.mean(numeric_only=True)))  # fill with mean\n"
   ]
  },
  {
   "cell_type": "code",
   "execution_count": 8,
   "id": "77cfd2e7",
   "metadata": {},
   "outputs": [
    {
     "name": "stdout",
     "output_type": "stream",
     "text": [
      "Department\n",
      "HR    42500.0\n",
      "IT    55000.0\n",
      "Name: Salary, dtype: float64\n"
     ]
    }
   ],
   "source": [
    "# GroupBy & Aggregations\n",
    "data = {\n",
    "    \"Department\": [\"IT\",\"IT\",\"HR\",\"HR\"],\n",
    "    \"Salary\": [50000, 60000, 40000, 45000]\n",
    "}\n",
    "df = pd.DataFrame(data)\n",
    "\n",
    "print(df.groupby(\"Department\")[\"Salary\"].mean())\n"
   ]
  },
  {
   "cell_type": "code",
   "execution_count": 9,
   "id": "8f0ab1bc",
   "metadata": {},
   "outputs": [
    {
     "name": "stdout",
     "output_type": "stream",
     "text": [
      "  Department  Salary\n",
      "1         IT   60000\n",
      "0         IT   50000\n",
      "3         HR   45000\n",
      "2         HR   40000\n"
     ]
    }
   ],
   "source": [
    "# Sorting\n",
    "print(df.sort_values(by=\"Salary\", ascending=False))\n"
   ]
  },
  {
   "cell_type": "code",
   "execution_count": 10,
   "id": "0fa0d18c",
   "metadata": {},
   "outputs": [
    {
     "name": "stdout",
     "output_type": "stream",
     "text": [
      "   ID   Name  Salary\n",
      "0   1  Sagar   50000\n",
      "1   2   Amit   60000\n"
     ]
    }
   ],
   "source": [
    "# Merging & Joining\n",
    "df1 = pd.DataFrame({\"ID\":[1,2], \"Name\":[\"Sagar\",\"Amit\"]})\n",
    "df2 = pd.DataFrame({\"ID\":[1,2], \"Salary\":[50000,60000]})\n",
    "\n",
    "merged = pd.merge(df1, df2, on=\"ID\")\n",
    "print(merged)\n"
   ]
  },
  {
   "cell_type": "code",
   "execution_count": 11,
   "id": "782dc7c0",
   "metadata": {},
   "outputs": [
    {
     "name": "stdout",
     "output_type": "stream",
     "text": [
      "Gender        F        M\n",
      "Dept                    \n",
      "HR      42000.0  40000.0\n",
      "IT      55000.0  60000.0\n"
     ]
    }
   ],
   "source": [
    "# Pivot Tables\n",
    "data = {\n",
    "    \"Dept\": [\"IT\",\"IT\",\"HR\",\"HR\"],\n",
    "    \"Gender\": [\"M\",\"F\",\"M\",\"F\"],\n",
    "    \"Salary\": [60000, 55000, 40000, 42000]\n",
    "}\n",
    "df = pd.DataFrame(data)\n",
    "\n",
    "print(pd.pivot_table(df, values=\"Salary\", index=\"Dept\", columns=\"Gender\", aggfunc=\"mean\"))\n"
   ]
  },
  {
   "cell_type": "code",
   "execution_count": 23,
   "id": "b7b3883e",
   "metadata": {},
   "outputs": [],
   "source": [
    "# Apply & Lambda\n",
    "df[\"Bonus\"] = df[\"Salary\"].apply(lambda x: x * 0.1)\n"
   ]
  },
  {
   "cell_type": "code",
   "execution_count": null,
   "id": "b0a8593f",
   "metadata": {},
   "outputs": [],
   "source": []
  }
 ],
 "metadata": {
  "colab": {
   "provenance": []
  },
  "kernelspec": {
   "display_name": "Python 3",
   "language": "python",
   "name": "python3"
  },
  "language_info": {
   "codemirror_mode": {
    "name": "ipython",
    "version": 3
   },
   "file_extension": ".py",
   "mimetype": "text/x-python",
   "name": "python",
   "nbconvert_exporter": "python",
   "pygments_lexer": "ipython3",
   "version": "3.11.9"
  }
 },
 "nbformat": 4,
 "nbformat_minor": 5
}
